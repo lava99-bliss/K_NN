{
  "nbformat": 4,
  "nbformat_minor": 0,
  "metadata": {
    "colab": {
      "provenance": [],
      "authorship_tag": "ABX9TyMujSPckPLcx04GVaoM3ayc",
      "include_colab_link": true
    },
    "kernelspec": {
      "name": "python3",
      "display_name": "Python 3"
    },
    "language_info": {
      "name": "python"
    }
  },
  "cells": [
    {
      "cell_type": "markdown",
      "metadata": {
        "id": "view-in-github",
        "colab_type": "text"
      },
      "source": [
        "<a href=\"https://colab.research.google.com/github/lava99-bliss/AS2019364/blob/main/01_neural_network_regression_with_tensorflow.ipynb\" target=\"_parent\"><img src=\"https://colab.research.google.com/assets/colab-badge.svg\" alt=\"Open In Colab\"/></a>"
      ]
    },
    {
      "cell_type": "markdown",
      "source": [],
      "metadata": {
        "id": "4PbAEGjczdNf"
      }
    },
    {
      "cell_type": "markdown",
      "source": [
        "#Intro to Regression with NN in tensors\n",
        "\n",
        "Regression problem : predicting a neumerical variable based on some other combination of variables."
      ],
      "metadata": {
        "id": "8hPZN0DRzeMW"
      }
    },
    {
      "cell_type": "code",
      "execution_count": 1,
      "metadata": {
        "id": "aEV4E9vLygZt"
      },
      "outputs": [],
      "source": [
        "import tensorflow as tf\n"
      ]
    },
    {
      "cell_type": "markdown",
      "source": [
        "Create data to view and fit"
      ],
      "metadata": {
        "id": "jmJyQ-8Yz1Ju"
      }
    },
    {
      "cell_type": "code",
      "source": [
        "import numpy as np\n",
        "import matplotlib.pyplot as plt\n",
        "\n",
        "#create features\n",
        "X = np.array([-7.0, -4.0, -1.0, 2.0,5.0,8.00,11.0,14.0])\n",
        "\n",
        "#create labels\n",
        "y = np.array([3.0, 6.0, 9.0, 12.0,15.0,18.00,21.0,24.0])\n",
        "\n",
        "#visualize it\n",
        "plt.scatter(X,y)\n",
        "\n",
        "#y==x+10"
      ],
      "metadata": {
        "colab": {
          "base_uri": "https://localhost:8080/",
          "height": 453
        },
        "id": "UULNlP9Mz0Ve",
        "outputId": "b4ee3cd7-3935-4336-d9f1-8e43a453fb7c"
      },
      "execution_count": 2,
      "outputs": [
        {
          "output_type": "execute_result",
          "data": {
            "text/plain": [
              "<matplotlib.collections.PathCollection at 0x7faebc4f0460>"
            ]
          },
          "metadata": {},
          "execution_count": 2
        },
        {
          "output_type": "display_data",
          "data": {
            "text/plain": [
              "<Figure size 640x480 with 1 Axes>"
            ],
            "image/png": "[encoded data removed]"
          },
          "metadata": {}
        }
      ]
    },
    {
      "cell_type": "code",
      "source": [
        "X,y"
      ],
      "metadata": {
        "colab": {
          "base_uri": "https://localhost:8080/"
        },
        "id": "_0_WZ0F9KxqU",
        "outputId": "47ea975e-1c1f-49ab-95c6-7688deee4b56"
      },
      "execution_count": 3,
      "outputs": [
        {
          "output_type": "execute_result",
          "data": {
            "text/plain": [
              "(array([-7., -4., -1.,  2.,  5.,  8., 11., 14.]),\n",
              " array([ 3.,  6.,  9., 12., 15., 18., 21., 24.]))"
            ]
          },
          "metadata": {},
          "execution_count": 3
        }
      ]
    },
    {
      "cell_type": "markdown",
      "source": [
        "#input and output shapes"
      ],
      "metadata": {
        "id": "EYGsteW51Afu"
      }
    },
    {
      "cell_type": "code",
      "source": [
        "#create a demo tensor for housing price\n",
        "\n",
        "house_info =tf.constant([\"bedroom\",\"bathroom\",\"garage\"])\n",
        "house_price =tf.constant([939700])\n",
        "house_info,house_price"
      ],
      "metadata": {
        "colab": {
          "base_uri": "https://localhost:8080/"
        },
        "id": "wbxEGq-fzgke",
        "outputId": "571009b8-073a-49f8-908e-c8590b83c424"
      },
      "execution_count": 4,
      "outputs": [
        {
          "output_type": "execute_result",
          "data": {
            "text/plain": [
              "(<tf.Tensor: shape=(3,), dtype=string, numpy=array([b'bedroom', b'bathroom', b'garage'], dtype=object)>,\n",
              " <tf.Tensor: shape=(1,), dtype=int32, numpy=array([939700], dtype=int32)>)"
            ]
          },
          "metadata": {},
          "execution_count": 4
        }
      ]
    },
    {
      "cell_type": "code",
      "source": [
        "input_shape = X.shape\n",
        "output_shape = y.shape\n",
        "X.shape,y.shape"
      ],
      "metadata": {
        "colab": {
          "base_uri": "https://localhost:8080/"
        },
        "id": "VyisraQP1p_m",
        "outputId": "f66185c6-e85f-4313-d9e2-a2f25df1eef9"
      },
      "execution_count": 5,
      "outputs": [
        {
          "output_type": "execute_result",
          "data": {
            "text/plain": [
              "((8,), (8,))"
            ]
          },
          "metadata": {},
          "execution_count": 5
        }
      ]
    },
    {
      "cell_type": "code",
      "source": [
        "X[0],y[0]"
      ],
      "metadata": {
        "colab": {
          "base_uri": "https://localhost:8080/"
        },
        "id": "jYLqf1n42ADW",
        "outputId": "9934d767-78c8-440c-fc11-8cf57ad04188"
      },
      "execution_count": 6,
      "outputs": [
        {
          "output_type": "execute_result",
          "data": {
            "text/plain": [
              "(-7.0, 3.0)"
            ]
          },
          "metadata": {},
          "execution_count": 6
        }
      ]
    },
    {
      "cell_type": "code",
      "source": [
        "#turn numpy into tensors\n",
        "\n",
        "X= tf.cast(tf.constant(X), dtype=tf.float32)\n",
        "y= tf.cast(tf.constant(y), dtype=tf.float32)\n",
        "X,y"
      ],
      "metadata": {
        "colab": {
          "base_uri": "https://localhost:8080/"
        },
        "id": "F_6YMOeX2mH3",
        "outputId": "fa28a5da-ff0c-4b4d-f92c-5d1576ec2159"
      },
      "execution_count": 7,
      "outputs": [
        {
          "output_type": "execute_result",
          "data": {
            "text/plain": [
              "(<tf.Tensor: shape=(8,), dtype=float32, numpy=array([-7., -4., -1.,  2.,  5.,  8., 11., 14.], dtype=float32)>,\n",
              " <tf.Tensor: shape=(8,), dtype=float32, numpy=array([ 3.,  6.,  9., 12., 15., 18., 21., 24.], dtype=float32)>)"
            ]
          },
          "metadata": {},
          "execution_count": 7
        }
      ]
    },
    {
      "cell_type": "markdown",
      "source": [
        "#Steps in modeling with Tesnsorflow"
      ],
      "metadata": {
        "id": "qa4spvbPxtv8"
      }
    },
    {
      "cell_type": "markdown",
      "source": [
        "\n",
        "1.    Create a model\n",
        "2.    Compile a model\n",
        "3.    Fitting a model\n",
        "\n",
        "\n",
        "\n",
        "\n"
      ],
      "metadata": {
        "id": "6cc5a6Vzx_cN"
      }
    },
    {
      "cell_type": "code",
      "source": [
        "#set random seed\n",
        "tf.random.set_seed(42)\n",
        "\n",
        "# 1.Create a model using the Seqential API\n",
        "#seq- go through the folloing seqentially\n",
        "model = tf.keras.Sequential([\n",
        "    tf.keras.layers.Dense(1) # 1-> take one from input and predict 1 number\n",
        "\n",
        "])\n",
        "\n",
        "#2.compile\n",
        "model.compile(\n",
        "      loss=tf.keras.losses.mae, #mae-mean abs error = mean(abs(y_pred - y_true))\n",
        "      optimizer = tf.keras.optimizers.SGD(), #SDG-stochastic gradient Descent\n",
        "      metrics=[\"mae\"]\n",
        "   )\n",
        "\n",
        "#3.Fitting\n",
        "model.fit(tf.expand_dims(X,axis=-1),y,epochs=5)"
      ],
      "metadata": {
        "colab": {
          "base_uri": "https://localhost:8080/"
        },
        "id": "VOF-75SvyBoc",
        "outputId": "17f6feaa-3f6a-40e6-9230-681eab4f704a"
      },
      "execution_count": 8,
      "outputs": [
        {
          "output_type": "stream",
          "name": "stdout",
          "text": [
            "Epoch 1/5\n",
            "1/1 [==============================] - 1s 640ms/step - loss: 11.1243 - mae: 11.1243\n",
            "Epoch 2/5\n",
            "1/1 [==============================] - 0s 11ms/step - loss: 10.9918 - mae: 10.9918\n",
            "Epoch 3/5\n",
            "1/1 [==============================] - 0s 11ms/step - loss: 10.8593 - mae: 10.8593\n",
            "Epoch 4/5\n",
            "1/1 [==============================] - 0s 11ms/step - loss: 10.7268 - mae: 10.7268\n",
            "Epoch 5/5\n",
            "1/1 [==============================] - 0s 8ms/step - loss: 10.5943 - mae: 10.5943\n"
          ]
        },
        {
          "output_type": "execute_result",
          "data": {
            "text/plain": [
              "<keras.callbacks.History at 0x7faeb82d3e20>"
            ]
          },
          "metadata": {},
          "execution_count": 8
        }
      ]
    },
    {
      "cell_type": "code",
      "source": [
        "X,y"
      ],
      "metadata": {
        "colab": {
          "base_uri": "https://localhost:8080/"
        },
        "id": "cOZqJr4l3MGu",
        "outputId": "3385611e-f91b-4af0-cede-76f5b8a851a2"
      },
      "execution_count": 9,
      "outputs": [
        {
          "output_type": "execute_result",
          "data": {
            "text/plain": [
              "(<tf.Tensor: shape=(8,), dtype=float32, numpy=array([-7., -4., -1.,  2.,  5.,  8., 11., 14.], dtype=float32)>,\n",
              " <tf.Tensor: shape=(8,), dtype=float32, numpy=array([ 3.,  6.,  9., 12., 15., 18., 21., 24.], dtype=float32)>)"
            ]
          },
          "metadata": {},
          "execution_count": 9
        }
      ]
    },
    {
      "cell_type": "code",
      "source": [
        "#CHECK x AND Y\n",
        "X,y"
      ],
      "metadata": {
        "colab": {
          "base_uri": "https://localhost:8080/"
        },
        "id": "FEVlw5lCJVzu",
        "outputId": "91915378-4cb4-4352-a945-0b10293f85ce"
      },
      "execution_count": 10,
      "outputs": [
        {
          "output_type": "execute_result",
          "data": {
            "text/plain": [
              "(<tf.Tensor: shape=(8,), dtype=float32, numpy=array([-7., -4., -1.,  2.,  5.,  8., 11., 14.], dtype=float32)>,\n",
              " <tf.Tensor: shape=(8,), dtype=float32, numpy=array([ 3.,  6.,  9., 12., 15., 18., 21., 24.], dtype=float32)>)"
            ]
          },
          "metadata": {},
          "execution_count": 10
        }
      ]
    },
    {
      "cell_type": "code",
      "source": [
        "#try and make predictions\n",
        "y_pred = model.predict([17.0])\n",
        "y_pred"
      ],
      "metadata": {
        "colab": {
          "base_uri": "https://localhost:8080/"
        },
        "id": "ocivXqqQLWVd",
        "outputId": "f4f19435-cf2c-4462-8338-9a61d01dd09c"
      },
      "execution_count": 11,
      "outputs": [
        {
          "output_type": "stream",
          "name": "stdout",
          "text": [
            "1/1 [==============================] - 0s 94ms/step\n"
          ]
        },
        {
          "output_type": "execute_result",
          "data": {
            "text/plain": [
              "array([[14.563893]], dtype=float32)"
            ]
          },
          "metadata": {},
          "execution_count": 11
        }
      ]
    },
    {
      "cell_type": "markdown",
      "source": [
        "#improve the model (1)"
      ],
      "metadata": {
        "id": "jdDmgaahLeyh"
      }
    },
    {
      "cell_type": "markdown",
      "source": [
        "rebuild our model\n"
      ],
      "metadata": {
        "id": "Ht7MWe6sN-Dm"
      }
    },
    {
      "cell_type": "code",
      "source": [
        "#1. Create the model\n",
        "\n",
        "model = tf.keras.Sequential([\n",
        "    tf.keras.layers.Dense(1)\n",
        "])\n",
        "\n",
        "#2.Compile\n",
        "model.compile(loss=tf.keras.losses.mae,\n",
        "              optimizer = tf.keras.optimizers.SGD(),\n",
        "              metrics=[\"mae\"])\n",
        "\n",
        "#3.Fitting\n",
        "model.fit(tf.expand_dims(X,axis=-1),y,epochs=100)"
      ],
      "metadata": {
        "colab": {
          "base_uri": "https://localhost:8080/"
        },
        "id": "QhEqNfHfDJWp",
        "outputId": "3cc260d7-cc58-4c86-8525-52111b677caf"
      },
      "execution_count": 12,
      "outputs": [
        {
          "output_type": "stream",
          "name": "stdout",
          "text": [
            "Epoch 1/100\n",
            "1/1 [==============================] - 0s 316ms/step - loss: 11.8546 - mae: 11.8546\n",
            "Epoch 2/100\n",
            "1/1 [==============================] - 0s 10ms/step - loss: 11.7221 - mae: 11.7221\n",
            "Epoch 3/100\n",
            "1/1 [==============================] - 0s 8ms/step - loss: 11.5896 - mae: 11.5896\n",
            "Epoch 4/100\n",
            "1/1 [==============================] - 0s 7ms/step - loss: 11.4571 - mae: 11.4571\n",
            "Epoch 5/100\n",
            "1/1 [==============================] - 0s 8ms/step - loss: 11.3246 - mae: 11.3246\n",
            "Epoch 6/100\n",
            "1/1 [==============================] - 0s 11ms/step - loss: 11.1921 - mae: 11.1921\n",
            "Epoch 7/100\n",
            "1/1 [==============================] - 0s 9ms/step - loss: 11.0596 - mae: 11.0596\n",
            "Epoch 8/100\n",
            "1/1 [==============================] - 0s 10ms/step - loss: 10.9271 - mae: 10.9271\n",
            "Epoch 9/100\n",
            "1/1 [==============================] - 0s 8ms/step - loss: 10.7946 - mae: 10.7946\n",
            "Epoch 10/100\n",
            "1/1 [==============================] - 0s 8ms/step - loss: 10.6621 - mae: 10.6621\n",
            "Epoch 11/100\n",
            "1/1 [==============================] - 0s 9ms/step - loss: 10.5296 - mae: 10.5296\n",
            "Epoch 12/100\n",
            "1/1 [==============================] - 0s 8ms/step - loss: 10.3971 - mae: 10.3971\n",
            "Epoch 13/100\n",
            "1/1 [==============================] - 0s 9ms/step - loss: 10.2646 - mae: 10.2646\n",
            "Epoch 14/100\n",
            "1/1 [==============================] - 0s 9ms/step - loss: 10.1321 - mae: 10.1321\n",
            "Epoch 15/100\n",
            "1/1 [==============================] - 0s 8ms/step - loss: 9.9996 - mae: 9.9996\n",
            "Epoch 16/100\n",
            "1/1 [==============================] - 0s 8ms/step - loss: 9.8671 - mae: 9.8671\n",
            "Epoch 17/100\n",
            "1/1 [==============================] - 0s 10ms/step - loss: 9.7346 - mae: 9.7346\n",
            "Epoch 18/100\n",
            "1/1 [==============================] - 0s 9ms/step - loss: 9.6021 - mae: 9.6021\n",
            "Epoch 19/100\n",
            "1/1 [==============================] - 0s 8ms/step - loss: 9.4696 - mae: 9.4696\n",
            "Epoch 20/100\n",
            "1/1 [==============================] - 0s 10ms/step - loss: 9.3371 - mae: 9.3371\n",
            "Epoch 21/100\n",
            "1/1 [==============================] - 0s 13ms/step - loss: 9.2046 - mae: 9.2046\n",
            "Epoch 22/100\n",
            "1/1 [==============================] - 0s 10ms/step - loss: 9.0721 - mae: 9.0721\n",
            "Epoch 23/100\n",
            "1/1 [==============================] - 0s 11ms/step - loss: 8.9396 - mae: 8.9396\n",
            "Epoch 24/100\n",
            "1/1 [==============================] - 0s 9ms/step - loss: 8.8071 - mae: 8.8071\n",
            "Epoch 25/100\n",
            "1/1 [==============================] - 0s 9ms/step - loss: 8.6746 - mae: 8.6746\n",
            "Epoch 26/100\n",
            "1/1 [==============================] - 0s 9ms/step - loss: 8.5421 - mae: 8.5421\n",
            "Epoch 27/100\n",
            "1/1 [==============================] - 0s 9ms/step - loss: 8.4096 - mae: 8.4096\n",
            "Epoch 28/100\n",
            "1/1 [==============================] - 0s 9ms/step - loss: 8.2771 - mae: 8.2771\n",
            "Epoch 29/100\n",
            "1/1 [==============================] - 0s 8ms/step - loss: 8.1446 - mae: 8.1446\n",
            "Epoch 30/100\n",
            "1/1 [==============================] - 0s 8ms/step - loss: 8.0121 - mae: 8.0121\n",
            "Epoch 31/100\n",
            "1/1 [==============================] - 0s 10ms/step - loss: 7.8796 - mae: 7.8796\n",
            "Epoch 32/100\n",
            "1/1 [==============================] - 0s 9ms/step - loss: 7.7471 - mae: 7.7471\n",
            "Epoch 33/100\n",
            "1/1 [==============================] - 0s 8ms/step - loss: 7.6146 - mae: 7.6146\n",
            "Epoch 34/100\n",
            "1/1 [==============================] - 0s 8ms/step - loss: 7.4821 - mae: 7.4821\n",
            "Epoch 35/100\n",
            "1/1 [==============================] - 0s 12ms/step - loss: 7.3496 - mae: 7.3496\n",
            "Epoch 36/100\n",
            "1/1 [==============================] - 0s 10ms/step - loss: 7.2375 - mae: 7.2375\n",
            "Epoch 37/100\n",
            "1/1 [==============================] - 0s 10ms/step - loss: 7.2319 - mae: 7.2319\n",
            "Epoch 38/100\n",
            "1/1 [==============================] - 0s 10ms/step - loss: 7.2262 - mae: 7.2262\n",
            "Epoch 39/100\n",
            "1/1 [==============================] - 0s 9ms/step - loss: 7.2206 - mae: 7.2206\n",
            "Epoch 40/100\n",
            "1/1 [==============================] - 0s 9ms/step - loss: 7.2150 - mae: 7.2150\n",
            "Epoch 41/100\n",
            "1/1 [==============================] - 0s 9ms/step - loss: 7.2094 - mae: 7.2094\n",
            "Epoch 42/100\n",
            "1/1 [==============================] - 0s 10ms/step - loss: 7.2037 - mae: 7.2037\n",
            "Epoch 43/100\n",
            "1/1 [==============================] - 0s 9ms/step - loss: 7.1981 - mae: 7.1981\n",
            "Epoch 44/100\n",
            "1/1 [==============================] - 0s 10ms/step - loss: 7.1925 - mae: 7.1925\n",
            "Epoch 45/100\n",
            "1/1 [==============================] - 0s 12ms/step - loss: 7.1869 - mae: 7.1869\n",
            "Epoch 46/100\n",
            "1/1 [==============================] - 0s 11ms/step - loss: 7.1812 - mae: 7.1812\n",
            "Epoch 47/100\n",
            "1/1 [==============================] - 0s 9ms/step - loss: 7.1756 - mae: 7.1756\n",
            "Epoch 48/100\n",
            "1/1 [==============================] - 0s 9ms/step - loss: 7.1700 - mae: 7.1700\n",
            "Epoch 49/100\n",
            "1/1 [==============================] - 0s 11ms/step - loss: 7.1644 - mae: 7.1644\n",
            "Epoch 50/100\n",
            "1/1 [==============================] - 0s 13ms/step - loss: 7.1588 - mae: 7.1588\n",
            "Epoch 51/100\n",
            "1/1 [==============================] - 0s 10ms/step - loss: 7.1531 - mae: 7.1531\n",
            "Epoch 52/100\n",
            "1/1 [==============================] - 0s 8ms/step - loss: 7.1475 - mae: 7.1475\n",
            "Epoch 53/100\n",
            "1/1 [==============================] - 0s 8ms/step - loss: 7.1419 - mae: 7.1419\n",
            "Epoch 54/100\n",
            "1/1 [==============================] - 0s 9ms/step - loss: 7.1363 - mae: 7.1363\n",
            "Epoch 55/100\n",
            "1/1 [==============================] - 0s 8ms/step - loss: 7.1306 - mae: 7.1306\n",
            "Epoch 56/100\n",
            "1/1 [==============================] - 0s 8ms/step - loss: 7.1250 - mae: 7.1250\n",
            "Epoch 57/100\n",
            "1/1 [==============================] - 0s 8ms/step - loss: 7.1194 - mae: 7.1194\n",
            "Epoch 58/100\n",
            "1/1 [==============================] - 0s 9ms/step - loss: 7.1137 - mae: 7.1137\n",
            "Epoch 59/100\n",
            "1/1 [==============================] - 0s 8ms/step - loss: 7.1081 - mae: 7.1081\n",
            "Epoch 60/100\n",
            "1/1 [==============================] - 0s 9ms/step - loss: 7.1025 - mae: 7.1025\n",
            "Epoch 61/100\n",
            "1/1 [==============================] - 0s 9ms/step - loss: 7.0969 - mae: 7.0969\n",
            "Epoch 62/100\n",
            "1/1 [==============================] - 0s 9ms/step - loss: 7.0913 - mae: 7.0913\n",
            "Epoch 63/100\n",
            "1/1 [==============================] - 0s 9ms/step - loss: 7.0856 - mae: 7.0856\n",
            "Epoch 64/100\n",
            "1/1 [==============================] - 0s 9ms/step - loss: 7.0800 - mae: 7.0800\n",
            "Epoch 65/100\n",
            "1/1 [==============================] - 0s 9ms/step - loss: 7.0744 - mae: 7.0744\n",
            "Epoch 66/100\n",
            "1/1 [==============================] - 0s 9ms/step - loss: 7.0687 - mae: 7.0687\n",
            "Epoch 67/100\n",
            "1/1 [==============================] - 0s 9ms/step - loss: 7.0631 - mae: 7.0631\n",
            "Epoch 68/100\n",
            "1/1 [==============================] - 0s 9ms/step - loss: 7.0575 - mae: 7.0575\n",
            "Epoch 69/100\n",
            "1/1 [==============================] - 0s 13ms/step - loss: 7.0519 - mae: 7.0519\n",
            "Epoch 70/100\n",
            "1/1 [==============================] - 0s 9ms/step - loss: 7.0462 - mae: 7.0462\n",
            "Epoch 71/100\n",
            "1/1 [==============================] - 0s 8ms/step - loss: 7.0406 - mae: 7.0406\n",
            "Epoch 72/100\n",
            "1/1 [==============================] - 0s 9ms/step - loss: 7.0350 - mae: 7.0350\n",
            "Epoch 73/100\n",
            "1/1 [==============================] - 0s 9ms/step - loss: 7.0294 - mae: 7.0294\n",
            "Epoch 74/100\n",
            "1/1 [==============================] - 0s 9ms/step - loss: 7.0238 - mae: 7.0238\n",
            "Epoch 75/100\n",
            "1/1 [==============================] - 0s 9ms/step - loss: 7.0181 - mae: 7.0181\n",
            "Epoch 76/100\n",
            "1/1 [==============================] - 0s 9ms/step - loss: 7.0125 - mae: 7.0125\n",
            "Epoch 77/100\n",
            "1/1 [==============================] - 0s 9ms/step - loss: 7.0069 - mae: 7.0069\n",
            "Epoch 78/100\n",
            "1/1 [==============================] - 0s 9ms/step - loss: 7.0013 - mae: 7.0013\n",
            "Epoch 79/100\n",
            "1/1 [==============================] - 0s 9ms/step - loss: 6.9956 - mae: 6.9956\n",
            "Epoch 80/100\n",
            "1/1 [==============================] - 0s 9ms/step - loss: 6.9900 - mae: 6.9900\n",
            "Epoch 81/100\n",
            "1/1 [==============================] - 0s 8ms/step - loss: 6.9844 - mae: 6.9844\n",
            "Epoch 82/100\n",
            "1/1 [==============================] - 0s 9ms/step - loss: 6.9788 - mae: 6.9788\n",
            "Epoch 83/100\n",
            "1/1 [==============================] - 0s 9ms/step - loss: 6.9731 - mae: 6.9731\n",
            "Epoch 84/100\n",
            "1/1 [==============================] - 0s 9ms/step - loss: 6.9675 - mae: 6.9675\n",
            "Epoch 85/100\n",
            "1/1 [==============================] - 0s 9ms/step - loss: 6.9619 - mae: 6.9619\n",
            "Epoch 86/100\n",
            "1/1 [==============================] - 0s 9ms/step - loss: 6.9563 - mae: 6.9563\n",
            "Epoch 87/100\n",
            "1/1 [==============================] - 0s 9ms/step - loss: 6.9506 - mae: 6.9506\n",
            "Epoch 88/100\n",
            "1/1 [==============================] - 0s 9ms/step - loss: 6.9450 - mae: 6.9450\n",
            "Epoch 89/100\n",
            "1/1 [==============================] - 0s 9ms/step - loss: 6.9394 - mae: 6.9394\n",
            "Epoch 90/100\n",
            "1/1 [==============================] - 0s 9ms/step - loss: 6.9338 - mae: 6.9338\n",
            "Epoch 91/100\n",
            "1/1 [==============================] - 0s 13ms/step - loss: 6.9281 - mae: 6.9281\n",
            "Epoch 92/100\n",
            "1/1 [==============================] - 0s 9ms/step - loss: 6.9225 - mae: 6.9225\n",
            "Epoch 93/100\n",
            "1/1 [==============================] - 0s 10ms/step - loss: 6.9169 - mae: 6.9169\n",
            "Epoch 94/100\n",
            "1/1 [==============================] - 0s 16ms/step - loss: 6.9113 - mae: 6.9113\n",
            "Epoch 95/100\n",
            "1/1 [==============================] - 0s 9ms/step - loss: 6.9056 - mae: 6.9056\n",
            "Epoch 96/100\n",
            "1/1 [==============================] - 0s 9ms/step - loss: 6.9000 - mae: 6.9000\n",
            "Epoch 97/100\n",
            "1/1 [==============================] - 0s 9ms/step - loss: 6.8944 - mae: 6.8944\n",
            "Epoch 98/100\n",
            "1/1 [==============================] - 0s 9ms/step - loss: 6.8888 - mae: 6.8888\n",
            "Epoch 99/100\n",
            "1/1 [==============================] - 0s 9ms/step - loss: 6.8831 - mae: 6.8831\n",
            "Epoch 100/100\n",
            "1/1 [==============================] - 0s 8ms/step - loss: 6.8775 - mae: 6.8775\n"
          ]
        },
        {
          "output_type": "execute_result",
          "data": {
            "text/plain": [
              "<keras.callbacks.History at 0x7faeaa73b610>"
            ]
          },
          "metadata": {},
          "execution_count": 12
        }
      ]
    },
    {
      "cell_type": "code",
      "source": [
        "X,y"
      ],
      "metadata": {
        "colab": {
          "base_uri": "https://localhost:8080/"
        },
        "id": "lgx-tMp_D4_K",
        "outputId": "17cc2f4b-5747-4806-84e6-89727b6f2cc8"
      },
      "execution_count": 13,
      "outputs": [
        {
          "output_type": "execute_result",
          "data": {
            "text/plain": [
              "(<tf.Tensor: shape=(8,), dtype=float32, numpy=array([-7., -4., -1.,  2.,  5.,  8., 11., 14.], dtype=float32)>,\n",
              " <tf.Tensor: shape=(8,), dtype=float32, numpy=array([ 3.,  6.,  9., 12., 15., 18., 21., 24.], dtype=float32)>)"
            ]
          },
          "metadata": {},
          "execution_count": 13
        }
      ]
    },
    {
      "cell_type": "code",
      "source": [
        "model.predict([17])"
      ],
      "metadata": {
        "colab": {
          "base_uri": "https://localhost:8080/"
        },
        "id": "tYnx1La4E3K_",
        "outputId": "fa5012ee-dc56-4777-bb8e-85ace9a9c5df"
      },
      "execution_count": 14,
      "outputs": [
        {
          "output_type": "stream",
          "name": "stdout",
          "text": [
            "1/1 [==============================] - 0s 61ms/step\n"
          ]
        },
        {
          "output_type": "execute_result",
          "data": {
            "text/plain": [
              "array([[29.65465]], dtype=float32)"
            ]
          },
          "metadata": {},
          "execution_count": 14
        }
      ]
    },
    {
      "cell_type": "markdown",
      "source": [
        "#improve the model (2)"
      ],
      "metadata": {
        "id": "BZAQRuZ4FYDX"
      }
    },
    {
      "cell_type": "code",
      "source": [
        "#1. Create the model\n",
        "\n",
        "model = tf.keras.Sequential([\n",
        "    tf.keras.layers.Dense(100, activation=\"relu\"),\n",
        "    tf.keras.layers.Dense(1)\n",
        "])\n",
        "\n",
        "#2.Compile\n",
        "model.compile(loss=tf.keras.losses.mae,\n",
        "              optimizer = tf.keras.optimizers.SGD(),\n",
        "              metrics=[\"mae\"])\n",
        "\n",
        "#3.Fitting\n",
        "model.fit(tf.expand_dims(X,axis=-1),y,epochs=100)"
      ],
      "metadata": {
        "colab": {
          "base_uri": "https://localhost:8080/"
        },
        "id": "_P1xbANIE-vP",
        "outputId": "939ad1cd-1fd8-464f-95c0-2253f9c004a6"
      },
      "execution_count": 15,
      "outputs": [
        {
          "output_type": "stream",
          "name": "stdout",
          "text": [
            "Epoch 1/100\n",
            "1/1 [==============================] - 1s 638ms/step - loss: 13.2866 - mae: 13.2866\n",
            "Epoch 2/100\n",
            "1/1 [==============================] - 0s 12ms/step - loss: 12.7335 - mae: 12.7335\n",
            "Epoch 3/100\n",
            "1/1 [==============================] - 0s 10ms/step - loss: 12.1815 - mae: 12.1815\n",
            "Epoch 4/100\n",
            "1/1 [==============================] - 0s 11ms/step - loss: 11.6376 - mae: 11.6376\n",
            "Epoch 5/100\n",
            "1/1 [==============================] - 0s 10ms/step - loss: 11.0850 - mae: 11.0850\n",
            "Epoch 6/100\n",
            "1/1 [==============================] - 0s 10ms/step - loss: 10.5074 - mae: 10.5074\n",
            "Epoch 7/100\n",
            "1/1 [==============================] - 0s 9ms/step - loss: 9.9048 - mae: 9.9048\n",
            "Epoch 8/100\n",
            "1/1 [==============================] - 0s 9ms/step - loss: 9.2722 - mae: 9.2722\n",
            "Epoch 9/100\n",
            "1/1 [==============================] - 0s 9ms/step - loss: 8.6002 - mae: 8.6002\n",
            "Epoch 10/100\n",
            "1/1 [==============================] - 0s 10ms/step - loss: 7.8935 - mae: 7.8935\n",
            "Epoch 11/100\n",
            "1/1 [==============================] - 0s 9ms/step - loss: 7.1351 - mae: 7.1351\n",
            "Epoch 12/100\n",
            "1/1 [==============================] - 0s 9ms/step - loss: 6.3199 - mae: 6.3199\n",
            "Epoch 13/100\n",
            "1/1 [==============================] - 0s 16ms/step - loss: 5.4428 - mae: 5.4428\n",
            "Epoch 14/100\n",
            "1/1 [==============================] - 0s 12ms/step - loss: 4.4923 - mae: 4.4923\n",
            "Epoch 15/100\n",
            "1/1 [==============================] - 0s 9ms/step - loss: 4.1530 - mae: 4.1530\n",
            "Epoch 16/100\n",
            "1/1 [==============================] - 0s 10ms/step - loss: 4.1743 - mae: 4.1743\n",
            "Epoch 17/100\n",
            "1/1 [==============================] - 0s 9ms/step - loss: 4.0812 - mae: 4.0812\n",
            "Epoch 18/100\n",
            "1/1 [==============================] - 0s 53ms/step - loss: 4.0688 - mae: 4.0688\n",
            "Epoch 19/100\n",
            "1/1 [==============================] - 0s 8ms/step - loss: 4.0089 - mae: 4.0089\n",
            "Epoch 20/100\n",
            "1/1 [==============================] - 0s 11ms/step - loss: 3.9617 - mae: 3.9617\n",
            "Epoch 21/100\n",
            "1/1 [==============================] - 0s 9ms/step - loss: 3.9348 - mae: 3.9348\n",
            "Epoch 22/100\n",
            "1/1 [==============================] - 0s 12ms/step - loss: 3.8922 - mae: 3.8922\n",
            "Epoch 23/100\n",
            "1/1 [==============================] - 0s 9ms/step - loss: 3.9407 - mae: 3.9407\n",
            "Epoch 24/100\n",
            "1/1 [==============================] - 0s 10ms/step - loss: 3.8734 - mae: 3.8734\n",
            "Epoch 25/100\n",
            "1/1 [==============================] - 0s 10ms/step - loss: 3.9406 - mae: 3.9406\n",
            "Epoch 26/100\n",
            "1/1 [==============================] - 0s 9ms/step - loss: 3.8808 - mae: 3.8808\n",
            "Epoch 27/100\n",
            "1/1 [==============================] - 0s 8ms/step - loss: 3.9153 - mae: 3.9153\n",
            "Epoch 28/100\n",
            "1/1 [==============================] - 0s 9ms/step - loss: 3.8883 - mae: 3.8883\n",
            "Epoch 29/100\n",
            "1/1 [==============================] - 0s 8ms/step - loss: 3.8955 - mae: 3.8955\n",
            "Epoch 30/100\n",
            "1/1 [==============================] - 0s 10ms/step - loss: 3.9026 - mae: 3.9026\n",
            "Epoch 31/100\n",
            "1/1 [==============================] - 0s 11ms/step - loss: 3.8703 - mae: 3.8703\n",
            "Epoch 32/100\n",
            "1/1 [==============================] - 0s 10ms/step - loss: 3.9103 - mae: 3.9103\n",
            "Epoch 33/100\n",
            "1/1 [==============================] - 0s 13ms/step - loss: 3.8444 - mae: 3.8444\n",
            "Epoch 34/100\n",
            "1/1 [==============================] - 0s 10ms/step - loss: 3.9182 - mae: 3.9182\n",
            "Epoch 35/100\n",
            "1/1 [==============================] - 0s 10ms/step - loss: 3.8510 - mae: 3.8510\n",
            "Epoch 36/100\n",
            "1/1 [==============================] - 0s 9ms/step - loss: 3.8926 - mae: 3.8926\n",
            "Epoch 37/100\n",
            "1/1 [==============================] - 0s 8ms/step - loss: 3.8611 - mae: 3.8611\n",
            "Epoch 38/100\n",
            "1/1 [==============================] - 0s 10ms/step - loss: 3.8730 - mae: 3.8730\n",
            "Epoch 39/100\n",
            "1/1 [==============================] - 0s 9ms/step - loss: 3.8732 - mae: 3.8732\n",
            "Epoch 40/100\n",
            "1/1 [==============================] - 0s 9ms/step - loss: 3.8470 - mae: 3.8470\n",
            "Epoch 41/100\n",
            "1/1 [==============================] - 0s 10ms/step - loss: 3.8811 - mae: 3.8811\n",
            "Epoch 42/100\n",
            "1/1 [==============================] - 0s 7ms/step - loss: 3.8209 - mae: 3.8209\n",
            "Epoch 43/100\n",
            "1/1 [==============================] - 0s 9ms/step - loss: 3.8891 - mae: 3.8891\n",
            "Epoch 44/100\n",
            "1/1 [==============================] - 0s 10ms/step - loss: 3.8223 - mae: 3.8223\n",
            "Epoch 45/100\n",
            "1/1 [==============================] - 0s 10ms/step - loss: 3.8687 - mae: 3.8687\n",
            "Epoch 46/100\n",
            "1/1 [==============================] - 0s 12ms/step - loss: 3.8359 - mae: 3.8359\n",
            "Epoch 47/100\n",
            "1/1 [==============================] - 0s 10ms/step - loss: 3.8487 - mae: 3.8487\n",
            "Epoch 48/100\n",
            "1/1 [==============================] - 0s 9ms/step - loss: 3.8448 - mae: 3.8448\n",
            "Epoch 49/100\n",
            "1/1 [==============================] - 0s 10ms/step - loss: 3.8225 - mae: 3.8225\n",
            "Epoch 50/100\n",
            "1/1 [==============================] - 0s 9ms/step - loss: 3.8529 - mae: 3.8529\n",
            "Epoch 51/100\n",
            "1/1 [==============================] - 0s 9ms/step - loss: 3.7961 - mae: 3.7961\n",
            "Epoch 52/100\n",
            "1/1 [==============================] - 0s 9ms/step - loss: 3.8612 - mae: 3.8612\n",
            "Epoch 53/100\n",
            "1/1 [==============================] - 0s 8ms/step - loss: 3.7947 - mae: 3.7947\n",
            "Epoch 54/100\n",
            "1/1 [==============================] - 0s 9ms/step - loss: 3.8463 - mae: 3.8463\n",
            "Epoch 55/100\n",
            "1/1 [==============================] - 0s 10ms/step - loss: 3.8094 - mae: 3.8094\n",
            "Epoch 56/100\n",
            "1/1 [==============================] - 0s 11ms/step - loss: 3.8232 - mae: 3.8232\n",
            "Epoch 57/100\n",
            "1/1 [==============================] - 0s 11ms/step - loss: 3.8176 - mae: 3.8176\n",
            "Epoch 58/100\n",
            "1/1 [==============================] - 0s 12ms/step - loss: 3.7967 - mae: 3.7967\n",
            "Epoch 59/100\n",
            "1/1 [==============================] - 0s 11ms/step - loss: 3.8259 - mae: 3.8259\n",
            "Epoch 60/100\n",
            "1/1 [==============================] - 0s 12ms/step - loss: 3.7700 - mae: 3.7700\n",
            "Epoch 61/100\n",
            "1/1 [==============================] - 0s 13ms/step - loss: 3.8343 - mae: 3.8343\n",
            "Epoch 62/100\n",
            "1/1 [==============================] - 0s 11ms/step - loss: 3.7682 - mae: 3.7682\n",
            "Epoch 63/100\n",
            "1/1 [==============================] - 0s 9ms/step - loss: 3.8228 - mae: 3.8228\n",
            "Epoch 64/100\n",
            "1/1 [==============================] - 0s 9ms/step - loss: 3.7831 - mae: 3.7831\n",
            "Epoch 65/100\n",
            "1/1 [==============================] - 0s 14ms/step - loss: 3.7964 - mae: 3.7964\n",
            "Epoch 66/100\n",
            "1/1 [==============================] - 0s 12ms/step - loss: 3.7915 - mae: 3.7915\n",
            "Epoch 67/100\n",
            "1/1 [==============================] - 0s 11ms/step - loss: 3.7696 - mae: 3.7696\n",
            "Epoch 68/100\n",
            "1/1 [==============================] - 0s 9ms/step - loss: 3.8000 - mae: 3.8000\n",
            "Epoch 69/100\n",
            "1/1 [==============================] - 0s 9ms/step - loss: 3.7426 - mae: 3.7426\n",
            "Epoch 70/100\n",
            "1/1 [==============================] - 0s 11ms/step - loss: 3.8086 - mae: 3.8086\n",
            "Epoch 71/100\n",
            "1/1 [==============================] - 0s 12ms/step - loss: 3.7448 - mae: 3.7448\n",
            "Epoch 72/100\n",
            "1/1 [==============================] - 0s 9ms/step - loss: 3.7951 - mae: 3.7951\n",
            "Epoch 73/100\n",
            "1/1 [==============================] - 0s 11ms/step - loss: 3.7578 - mae: 3.7578\n",
            "Epoch 74/100\n",
            "1/1 [==============================] - 0s 12ms/step - loss: 3.7682 - mae: 3.7682\n",
            "Epoch 75/100\n",
            "1/1 [==============================] - 0s 14ms/step - loss: 3.7664 - mae: 3.7664\n",
            "Epoch 76/100\n",
            "1/1 [==============================] - 0s 9ms/step - loss: 3.7411 - mae: 3.7411\n",
            "Epoch 77/100\n",
            "1/1 [==============================] - 0s 14ms/step - loss: 3.7751 - mae: 3.7751\n",
            "Epoch 78/100\n",
            "1/1 [==============================] - 0s 11ms/step - loss: 3.7139 - mae: 3.7139\n",
            "Epoch 79/100\n",
            "1/1 [==============================] - 0s 11ms/step - loss: 3.7839 - mae: 3.7839\n",
            "Epoch 80/100\n",
            "1/1 [==============================] - 0s 12ms/step - loss: 3.7230 - mae: 3.7230\n",
            "Epoch 81/100\n",
            "1/1 [==============================] - 0s 12ms/step - loss: 3.7660 - mae: 3.7660\n",
            "Epoch 82/100\n",
            "1/1 [==============================] - 0s 12ms/step - loss: 3.7335 - mae: 3.7335\n",
            "Epoch 83/100\n",
            "1/1 [==============================] - 0s 10ms/step - loss: 3.7388 - mae: 3.7388\n",
            "Epoch 84/100\n",
            "1/1 [==============================] - 0s 11ms/step - loss: 3.7423 - mae: 3.7423\n",
            "Epoch 85/100\n",
            "1/1 [==============================] - 0s 12ms/step - loss: 3.7113 - mae: 3.7113\n",
            "Epoch 86/100\n",
            "1/1 [==============================] - 0s 11ms/step - loss: 3.7512 - mae: 3.7512\n",
            "Epoch 87/100\n",
            "1/1 [==============================] - 0s 8ms/step - loss: 3.6861 - mae: 3.6861\n",
            "Epoch 88/100\n",
            "1/1 [==============================] - 0s 12ms/step - loss: 3.7584 - mae: 3.7584\n",
            "Epoch 89/100\n",
            "1/1 [==============================] - 0s 12ms/step - loss: 3.7014 - mae: 3.7014\n",
            "Epoch 90/100\n",
            "1/1 [==============================] - 0s 12ms/step - loss: 3.7355 - mae: 3.7355\n",
            "Epoch 91/100\n",
            "1/1 [==============================] - 0s 9ms/step - loss: 3.7103 - mae: 3.7103\n",
            "Epoch 92/100\n",
            "1/1 [==============================] - 0s 10ms/step - loss: 3.7080 - mae: 3.7080\n",
            "Epoch 93/100\n",
            "1/1 [==============================] - 0s 10ms/step - loss: 3.7193 - mae: 3.7193\n",
            "Epoch 94/100\n",
            "1/1 [==============================] - 0s 11ms/step - loss: 3.6802 - mae: 3.6802\n",
            "Epoch 95/100\n",
            "1/1 [==============================] - 0s 11ms/step - loss: 3.7284 - mae: 3.7284\n",
            "Epoch 96/100\n",
            "1/1 [==============================] - 0s 10ms/step - loss: 3.6634 - mae: 3.6634\n",
            "Epoch 97/100\n",
            "1/1 [==============================] - 0s 11ms/step - loss: 3.7294 - mae: 3.7294\n",
            "Epoch 98/100\n",
            "1/1 [==============================] - 0s 9ms/step - loss: 3.6789 - mae: 3.6789\n",
            "Epoch 99/100\n",
            "1/1 [==============================] - 0s 10ms/step - loss: 3.7037 - mae: 3.7037\n",
            "Epoch 100/100\n",
            "1/1 [==============================] - 0s 10ms/step - loss: 3.6880 - mae: 3.6880\n"
          ]
        },
        {
          "output_type": "execute_result",
          "data": {
            "text/plain": [
              "<keras.callbacks.History at 0x7faea75bc400>"
            ]
          },
          "metadata": {},
          "execution_count": 15
        }
      ]
    },
    {
      "cell_type": "code",
      "source": [
        "X,y"
      ],
      "metadata": {
        "colab": {
          "base_uri": "https://localhost:8080/"
        },
        "id": "xew_Sck9FWX3",
        "outputId": "cb271c57-2d92-4eb8-8384-90cd58723124"
      },
      "execution_count": 16,
      "outputs": [
        {
          "output_type": "execute_result",
          "data": {
            "text/plain": [
              "(<tf.Tensor: shape=(8,), dtype=float32, numpy=array([-7., -4., -1.,  2.,  5.,  8., 11., 14.], dtype=float32)>,\n",
              " <tf.Tensor: shape=(8,), dtype=float32, numpy=array([ 3.,  6.,  9., 12., 15., 18., 21., 24.], dtype=float32)>)"
            ]
          },
          "metadata": {},
          "execution_count": 16
        }
      ]
    },
    {
      "cell_type": "code",
      "source": [
        "model.predict([17.0])"
      ],
      "metadata": {
        "colab": {
          "base_uri": "https://localhost:8080/"
        },
        "id": "ad0lRsWtGv_N",
        "outputId": "ae66bb7b-3eff-4f63-d5f3-6b21bb6a4a1c"
      },
      "execution_count": 17,
      "outputs": [
        {
          "output_type": "stream",
          "name": "stdout",
          "text": [
            "1/1 [==============================] - 0s 113ms/step\n"
          ]
        },
        {
          "output_type": "execute_result",
          "data": {
            "text/plain": [
              "array([[31.567656]], dtype=float32)"
            ]
          },
          "metadata": {},
          "execution_count": 17
        }
      ]
    },
    {
      "cell_type": "markdown",
      "source": [
        "#Evaluate the model (Visualization)"
      ],
      "metadata": {
        "id": "eFF4lkQ8XWhx"
      }
    },
    {
      "cell_type": "code",
      "source": [
        "X=tf.range(-100,100,4)"
      ],
      "metadata": {
        "id": "s2sje0vwHTD9"
      },
      "execution_count": 18,
      "outputs": []
    },
    {
      "cell_type": "code",
      "source": [
        "X"
      ],
      "metadata": {
        "colab": {
          "base_uri": "https://localhost:8080/"
        },
        "id": "0L0KKNQEXeJq",
        "outputId": "aa429c54-b494-40df-f2f9-ea09472857e0"
      },
      "execution_count": 19,
      "outputs": [
        {
          "output_type": "execute_result",
          "data": {
            "text/plain": [
              "<tf.Tensor: shape=(50,), dtype=int32, numpy=\n",
              "array([-100,  -96,  -92,  -88,  -84,  -80,  -76,  -72,  -68,  -64,  -60,\n",
              "        -56,  -52,  -48,  -44,  -40,  -36,  -32,  -28,  -24,  -20,  -16,\n",
              "        -12,   -8,   -4,    0,    4,    8,   12,   16,   20,   24,   28,\n",
              "         32,   36,   40,   44,   48,   52,   56,   60,   64,   68,   72,\n",
              "         76,   80,   84,   88,   92,   96], dtype=int32)>"
            ]
          },
          "metadata": {},
          "execution_count": 19
        }
      ]
    },
    {
      "cell_type": "code",
      "source": [
        "y=X+10\n",
        "y"
      ],
      "metadata": {
        "colab": {
          "base_uri": "https://localhost:8080/"
        },
        "id": "Q1tQLgHaXe2N",
        "outputId": "100cc40b-d8dc-4ad0-cbcb-f828457ae9c0"
      },
      "execution_count": 20,
      "outputs": [
        {
          "output_type": "execute_result",
          "data": {
            "text/plain": [
              "<tf.Tensor: shape=(50,), dtype=int32, numpy=\n",
              "array([-90, -86, -82, -78, -74, -70, -66, -62, -58, -54, -50, -46, -42,\n",
              "       -38, -34, -30, -26, -22, -18, -14, -10,  -6,  -2,   2,   6,  10,\n",
              "        14,  18,  22,  26,  30,  34,  38,  42,  46,  50,  54,  58,  62,\n",
              "        66,  70,  74,  78,  82,  86,  90,  94,  98, 102, 106], dtype=int32)>"
            ]
          },
          "metadata": {},
          "execution_count": 20
        }
      ]
    },
    {
      "cell_type": "code",
      "source": [
        "#visualize the data\n",
        "import matplotlib.pyplot as plt\n",
        "plt.scatter(X,y)"
      ],
      "metadata": {
        "colab": {
          "base_uri": "https://localhost:8080/",
          "height": 448
        },
        "id": "9EIwYzSpXhrq",
        "outputId": "79de08f0-ae0e-4827-87a6-542f3f3cd028"
      },
      "execution_count": 21,
      "outputs": [
        {
          "output_type": "execute_result",
          "data": {
            "text/plain": [
              "<matplotlib.collections.PathCollection at 0x7faeab703130>"
            ]
          },
          "metadata": {},
          "execution_count": 21
        },
        {
          "output_type": "display_data",
          "data": {
            "text/plain": [
              "<Figure size 640x480 with 1 Axes>"
            ],
            "image/png": "[encoded data removed]"
          },
          "metadata": {}
        }
      ]
    },
    {
      "cell_type": "markdown",
      "source": [
        "### The 3 sets...\n",
        "\n",
        "* Training set - the model learns from this data\n",
        "*Validation data - model tunes on this data 10-15% from available data\n",
        "*Test data- model get evaluated on this data 10-15% of model total data (some data You havent seen before )"
      ],
      "metadata": {
        "id": "-bp-qAG_YuPp"
      }
    },
    {
      "cell_type": "code",
      "source": [
        "#check how many data we have\n",
        "len(X)"
      ],
      "metadata": {
        "colab": {
          "base_uri": "https://localhost:8080/"
        },
        "id": "4wu5O0EzXt2a",
        "outputId": "1981c7e1-e30e-463e-c388-8989a5ac962e"
      },
      "execution_count": 22,
      "outputs": [
        {
          "output_type": "execute_result",
          "data": {
            "text/plain": [
              "50"
            ]
          },
          "metadata": {},
          "execution_count": 22
        }
      ]
    },
    {
      "cell_type": "code",
      "source": [
        "#spilt data  (80%- train)\n",
        "X_train = X[:40]\n",
        "y_train = y[:40]\n",
        "\n",
        "X_test = X[40:]\n",
        "y_test = y[40:]\n",
        "\n",
        "len(X_train),len(y_train),len(X_test),len(y_test)"
      ],
      "metadata": {
        "colab": {
          "base_uri": "https://localhost:8080/"
        },
        "id": "rYz3s1f9ucFE",
        "outputId": "2abaa07d-8117-4a42-bb73-cfc5a93ff07a"
      },
      "execution_count": 23,
      "outputs": [
        {
          "output_type": "execute_result",
          "data": {
            "text/plain": [
              "(40, 40, 10, 10)"
            ]
          },
          "metadata": {},
          "execution_count": 23
        }
      ]
    },
    {
      "cell_type": "markdown",
      "source": [
        "## Visualize data"
      ],
      "metadata": {
        "id": "0dE7OMWOvDje"
      }
    },
    {
      "cell_type": "code",
      "source": [
        "plt.figure(figsize=(10,10))\n",
        "\n",
        "#plot training data in blue\n",
        "plt.scatter(X_train,y_train,c='b',label=\"Training data\")\n",
        "\n",
        "#plot testing data in red\n",
        "plt.scatter(X_test,y_test,c='r',label=\"Training data\")\n",
        "\n",
        "plt.legend()"
      ],
      "metadata": {
        "colab": {
          "base_uri": "https://localhost:8080/",
          "height": 806
        },
        "id": "jCPUUCCTvIBG",
        "outputId": "9ea9faab-084a-45f9-b9ab-09d91b301910"
      },
      "execution_count": 24,
      "outputs": [
        {
          "output_type": "execute_result",
          "data": {
            "text/plain": [
              "<matplotlib.legend.Legend at 0x7faeab792bf0>"
            ]
          },
          "metadata": {},
          "execution_count": 24
        },
        {
          "output_type": "display_data",
          "data": {
            "text/plain": [
              "<Figure size 1000x1000 with 1 Axes>"
            ],
            "image/png": "[encoded data removed]"
          },
          "metadata": {}
        }
      ]
    },
    {
      "cell_type": "markdown",
      "source": [
        "#Summerize the data"
      ],
      "metadata": {
        "id": "lK6PQ6BRv-xL"
      }
    },
    {
      "cell_type": "code",
      "source": [
        "#1. Create the model\n",
        "\n",
        "model = tf.keras.Sequential([\n",
        "    tf.keras.layers.Dense(10, activation=\"relu\",input_shape=[1],name=\"Inputs\"),\n",
        "     tf.keras.layers.Dense(10, activation=\"relu\",input_shape=[1],name=\"Inputs_1\"),\n",
        "    tf.keras.layers.Dense(1,name=\"Outputs\")\n",
        "])\n",
        "\n",
        "#2.Compile\n",
        "model.compile(loss=tf.keras.losses.mae,\n",
        "              optimizer = tf.keras.optimizers.SGD(),\n",
        "              metrics=[\"mae\"])\n",
        "\n",
        "#3.Fitting\n",
        "model.fit(tf.expand_dims(X,axis=-1),y,epochs=100)"
      ],
      "metadata": {
        "colab": {
          "base_uri": "https://localhost:8080/"
        },
        "id": "39lxjvVk53Sv",
        "outputId": "6f7baff7-bcae-43e0-962d-c54e0f36637b"
      },
      "execution_count": 25,
      "outputs": [
        {
          "output_type": "stream",
          "name": "stdout",
          "text": [
            "Epoch 1/100\n",
            "2/2 [==============================] - 1s 12ms/step - loss: 47.7872 - mae: 47.7872\n",
            "Epoch 2/100\n",
            "2/2 [==============================] - 0s 17ms/step - loss: 33.6583 - mae: 33.6583\n",
            "Epoch 3/100\n",
            "2/2 [==============================] - 0s 18ms/step - loss: 31.6593 - mae: 31.6593\n",
            "Epoch 4/100\n",
            "2/2 [==============================] - 0s 9ms/step - loss: 27.9868 - mae: 27.9868\n",
            "Epoch 5/100\n",
            "2/2 [==============================] - 0s 9ms/step - loss: 19.4246 - mae: 19.4246\n",
            "Epoch 6/100\n",
            "2/2 [==============================] - 0s 11ms/step - loss: 20.9035 - mae: 20.9035\n",
            "Epoch 7/100\n",
            "2/2 [==============================] - 0s 11ms/step - loss: 18.8398 - mae: 18.8398\n",
            "Epoch 8/100\n",
            "2/2 [==============================] - 0s 9ms/step - loss: 22.2789 - mae: 22.2789\n",
            "Epoch 9/100\n",
            "2/2 [==============================] - 0s 7ms/step - loss: 28.4054 - mae: 28.4054\n",
            "Epoch 10/100\n",
            "2/2 [==============================] - 0s 8ms/step - loss: 16.3453 - mae: 16.3453\n",
            "Epoch 11/100\n",
            "2/2 [==============================] - 0s 10ms/step - loss: 20.2397 - mae: 20.2397\n",
            "Epoch 12/100\n",
            "2/2 [==============================] - 0s 9ms/step - loss: 21.8276 - mae: 21.8276\n",
            "Epoch 13/100\n",
            "2/2 [==============================] - 0s 9ms/step - loss: 14.6680 - mae: 14.6680\n",
            "Epoch 14/100\n",
            "2/2 [==============================] - 0s 10ms/step - loss: 9.4701 - mae: 9.4701\n",
            "Epoch 15/100\n",
            "2/2 [==============================] - 0s 11ms/step - loss: 16.3099 - mae: 16.3099\n",
            "Epoch 16/100\n",
            "2/2 [==============================] - 0s 14ms/step - loss: 21.5731 - mae: 21.5731\n",
            "Epoch 17/100\n",
            "2/2 [==============================] - 0s 12ms/step - loss: 13.4353 - mae: 13.4353\n",
            "Epoch 18/100\n",
            "2/2 [==============================] - 0s 9ms/step - loss: 22.5667 - mae: 22.5667\n",
            "Epoch 19/100\n",
            "2/2 [==============================] - 0s 11ms/step - loss: 14.8184 - mae: 14.8184\n",
            "Epoch 20/100\n",
            "2/2 [==============================] - 0s 8ms/step - loss: 7.0201 - mae: 7.0201\n",
            "Epoch 21/100\n",
            "2/2 [==============================] - 0s 11ms/step - loss: 17.9188 - mae: 17.9188\n",
            "Epoch 22/100\n",
            "2/2 [==============================] - 0s 9ms/step - loss: 27.8889 - mae: 27.8889\n",
            "Epoch 23/100\n",
            "2/2 [==============================] - 0s 10ms/step - loss: 19.7667 - mae: 19.7667\n",
            "Epoch 24/100\n",
            "2/2 [==============================] - 0s 11ms/step - loss: 14.6921 - mae: 14.6921\n",
            "Epoch 25/100\n",
            "2/2 [==============================] - 0s 9ms/step - loss: 16.6777 - mae: 16.6777\n",
            "Epoch 26/100\n",
            "2/2 [==============================] - 0s 7ms/step - loss: 17.3506 - mae: 17.3506\n",
            "Epoch 27/100\n",
            "2/2 [==============================] - 0s 7ms/step - loss: 18.5249 - mae: 18.5249\n",
            "Epoch 28/100\n",
            "2/2 [==============================] - 0s 7ms/step - loss: 13.6521 - mae: 13.6521\n",
            "Epoch 29/100\n",
            "2/2 [==============================] - 0s 9ms/step - loss: 26.5389 - mae: 26.5389\n",
            "Epoch 30/100\n",
            "2/2 [==============================] - 0s 10ms/step - loss: 12.8287 - mae: 12.8287\n",
            "Epoch 31/100\n",
            "2/2 [==============================] - 0s 10ms/step - loss: 15.1343 - mae: 15.1343\n",
            "Epoch 32/100\n",
            "2/2 [==============================] - 0s 9ms/step - loss: 21.7554 - mae: 21.7554\n",
            "Epoch 33/100\n",
            "2/2 [==============================] - 0s 10ms/step - loss: 12.8827 - mae: 12.8827\n",
            "Epoch 34/100\n",
            "2/2 [==============================] - 0s 9ms/step - loss: 19.4238 - mae: 19.4238\n",
            "Epoch 35/100\n",
            "2/2 [==============================] - 0s 11ms/step - loss: 17.3241 - mae: 17.3241\n",
            "Epoch 36/100\n",
            "2/2 [==============================] - 0s 9ms/step - loss: 11.5373 - mae: 11.5373\n",
            "Epoch 37/100\n",
            "2/2 [==============================] - 0s 9ms/step - loss: 22.1477 - mae: 22.1477\n",
            "Epoch 38/100\n",
            "2/2 [==============================] - 0s 32ms/step - loss: 14.7553 - mae: 14.7553\n",
            "Epoch 39/100\n",
            "2/2 [==============================] - 0s 9ms/step - loss: 14.5127 - mae: 14.5127\n",
            "Epoch 40/100\n",
            "2/2 [==============================] - 0s 9ms/step - loss: 23.1820 - mae: 23.1820\n",
            "Epoch 41/100\n",
            "2/2 [==============================] - 0s 10ms/step - loss: 21.6122 - mae: 21.6122\n",
            "Epoch 42/100\n",
            "2/2 [==============================] - 0s 10ms/step - loss: 15.1499 - mae: 15.1499\n",
            "Epoch 43/100\n",
            "2/2 [==============================] - 0s 10ms/step - loss: 18.5395 - mae: 18.5395\n",
            "Epoch 44/100\n",
            "2/2 [==============================] - 0s 10ms/step - loss: 16.1022 - mae: 16.1022\n",
            "Epoch 45/100\n",
            "2/2 [==============================] - 0s 14ms/step - loss: 14.0850 - mae: 14.0850\n",
            "Epoch 46/100\n",
            "2/2 [==============================] - 0s 11ms/step - loss: 21.5791 - mae: 21.5791\n",
            "Epoch 47/100\n",
            "2/2 [==============================] - 0s 10ms/step - loss: 16.6902 - mae: 16.6902\n",
            "Epoch 48/100\n",
            "2/2 [==============================] - 0s 14ms/step - loss: 21.1176 - mae: 21.1176\n",
            "Epoch 49/100\n",
            "2/2 [==============================] - 0s 9ms/step - loss: 16.6025 - mae: 16.6025\n",
            "Epoch 50/100\n",
            "2/2 [==============================] - 0s 8ms/step - loss: 20.2081 - mae: 20.2081\n",
            "Epoch 51/100\n",
            "2/2 [==============================] - 0s 9ms/step - loss: 17.5015 - mae: 17.5015\n",
            "Epoch 52/100\n",
            "2/2 [==============================] - 0s 10ms/step - loss: 15.2451 - mae: 15.2451\n",
            "Epoch 53/100\n",
            "2/2 [==============================] - 0s 9ms/step - loss: 15.8450 - mae: 15.8450\n",
            "Epoch 54/100\n",
            "2/2 [==============================] - 0s 9ms/step - loss: 25.2883 - mae: 25.2883\n",
            "Epoch 55/100\n",
            "2/2 [==============================] - 0s 10ms/step - loss: 11.0435 - mae: 11.0435\n",
            "Epoch 56/100\n",
            "2/2 [==============================] - 0s 10ms/step - loss: 21.6967 - mae: 21.6967\n",
            "Epoch 57/100\n",
            "2/2 [==============================] - 0s 9ms/step - loss: 13.1147 - mae: 13.1147\n",
            "Epoch 58/100\n",
            "2/2 [==============================] - 0s 10ms/step - loss: 23.9612 - mae: 23.9612\n",
            "Epoch 59/100\n",
            "2/2 [==============================] - 0s 10ms/step - loss: 15.9029 - mae: 15.9029\n",
            "Epoch 60/100\n",
            "2/2 [==============================] - 0s 10ms/step - loss: 20.4567 - mae: 20.4567\n",
            "Epoch 61/100\n",
            "2/2 [==============================] - 0s 10ms/step - loss: 15.8150 - mae: 15.8150\n",
            "Epoch 62/100\n",
            "2/2 [==============================] - 0s 10ms/step - loss: 22.3693 - mae: 22.3693\n",
            "Epoch 63/100\n",
            "2/2 [==============================] - 0s 10ms/step - loss: 29.9214 - mae: 29.9214\n",
            "Epoch 64/100\n",
            "2/2 [==============================] - 0s 15ms/step - loss: 14.5970 - mae: 14.5970\n",
            "Epoch 65/100\n",
            "2/2 [==============================] - 0s 16ms/step - loss: 16.7229 - mae: 16.7229\n",
            "Epoch 66/100\n",
            "2/2 [==============================] - 0s 8ms/step - loss: 17.7697 - mae: 17.7697\n",
            "Epoch 67/100\n",
            "2/2 [==============================] - 0s 7ms/step - loss: 14.1437 - mae: 14.1437\n",
            "Epoch 68/100\n",
            "2/2 [==============================] - 0s 8ms/step - loss: 15.5974 - mae: 15.5974\n",
            "Epoch 69/100\n",
            "2/2 [==============================] - 0s 11ms/step - loss: 27.1199 - mae: 27.1199\n",
            "Epoch 70/100\n",
            "2/2 [==============================] - 0s 9ms/step - loss: 15.8972 - mae: 15.8972\n",
            "Epoch 71/100\n",
            "2/2 [==============================] - 0s 11ms/step - loss: 24.6273 - mae: 24.6273\n",
            "Epoch 72/100\n",
            "2/2 [==============================] - 0s 7ms/step - loss: 17.5070 - mae: 17.5070\n",
            "Epoch 73/100\n",
            "2/2 [==============================] - 0s 7ms/step - loss: 17.1950 - mae: 17.1950\n",
            "Epoch 74/100\n",
            "2/2 [==============================] - 0s 7ms/step - loss: 7.4604 - mae: 7.4604\n",
            "Epoch 75/100\n",
            "2/2 [==============================] - 0s 9ms/step - loss: 17.6101 - mae: 17.6101\n",
            "Epoch 76/100\n",
            "2/2 [==============================] - 0s 8ms/step - loss: 19.6410 - mae: 19.6410\n",
            "Epoch 77/100\n",
            "2/2 [==============================] - 0s 10ms/step - loss: 15.8820 - mae: 15.8820\n",
            "Epoch 78/100\n",
            "2/2 [==============================] - 0s 8ms/step - loss: 20.4754 - mae: 20.4754\n",
            "Epoch 79/100\n",
            "2/2 [==============================] - 0s 8ms/step - loss: 13.5643 - mae: 13.5643\n",
            "Epoch 80/100\n",
            "2/2 [==============================] - 0s 9ms/step - loss: 21.8038 - mae: 21.8038\n",
            "Epoch 81/100\n",
            "2/2 [==============================] - 0s 8ms/step - loss: 15.8385 - mae: 15.8385\n",
            "Epoch 82/100\n",
            "2/2 [==============================] - 0s 9ms/step - loss: 23.0551 - mae: 23.0551\n",
            "Epoch 83/100\n",
            "2/2 [==============================] - 0s 9ms/step - loss: 14.1342 - mae: 14.1342\n",
            "Epoch 84/100\n",
            "2/2 [==============================] - 0s 10ms/step - loss: 19.9233 - mae: 19.9233\n",
            "Epoch 85/100\n",
            "2/2 [==============================] - 0s 8ms/step - loss: 17.2383 - mae: 17.2383\n",
            "Epoch 86/100\n",
            "2/2 [==============================] - 0s 9ms/step - loss: 19.9894 - mae: 19.9894\n",
            "Epoch 87/100\n",
            "2/2 [==============================] - 0s 9ms/step - loss: 18.0220 - mae: 18.0220\n",
            "Epoch 88/100\n",
            "2/2 [==============================] - 0s 9ms/step - loss: 12.8374 - mae: 12.8374\n",
            "Epoch 89/100\n",
            "2/2 [==============================] - 0s 11ms/step - loss: 14.9483 - mae: 14.9483\n",
            "Epoch 90/100\n",
            "2/2 [==============================] - 0s 9ms/step - loss: 22.3817 - mae: 22.3817\n",
            "Epoch 91/100\n",
            "2/2 [==============================] - 0s 10ms/step - loss: 16.7112 - mae: 16.7112\n",
            "Epoch 92/100\n",
            "2/2 [==============================] - 0s 8ms/step - loss: 17.1513 - mae: 17.1513\n",
            "Epoch 93/100\n",
            "2/2 [==============================] - 0s 8ms/step - loss: 28.1571 - mae: 28.1571\n",
            "Epoch 94/100\n",
            "2/2 [==============================] - 0s 8ms/step - loss: 22.3556 - mae: 22.3556\n",
            "Epoch 95/100\n",
            "2/2 [==============================] - 0s 7ms/step - loss: 12.8070 - mae: 12.8070\n",
            "Epoch 96/100\n",
            "2/2 [==============================] - 0s 9ms/step - loss: 22.5213 - mae: 22.5213\n",
            "Epoch 97/100\n",
            "2/2 [==============================] - 0s 9ms/step - loss: 19.4532 - mae: 19.4532\n",
            "Epoch 98/100\n",
            "2/2 [==============================] - 0s 7ms/step - loss: 23.2776 - mae: 23.2776\n",
            "Epoch 99/100\n",
            "2/2 [==============================] - 0s 7ms/step - loss: 14.5313 - mae: 14.5313\n",
            "Epoch 100/100\n",
            "2/2 [==============================] - 0s 7ms/step - loss: 16.6247 - mae: 16.6247\n"
          ]
        },
        {
          "output_type": "execute_result",
          "data": {
            "text/plain": [
              "<keras.callbacks.History at 0x7faeab2612a0>"
            ]
          },
          "metadata": {},
          "execution_count": 25
        }
      ]
    },
    {
      "cell_type": "code",
      "source": [
        "model.summary()"
      ],
      "metadata": {
        "colab": {
          "base_uri": "https://localhost:8080/"
        },
        "id": "wNQMC-dPGWIk",
        "outputId": "d0d9e3d3-b9e4-4fe5-f193-af3b1aa12307"
      },
      "execution_count": 26,
      "outputs": [
        {
          "output_type": "stream",
          "name": "stdout",
          "text": [
            "Model: \"sequential_3\"\n",
            "_________________________________________________________________\n",
            " Layer (type)                Output Shape              Param #   \n",
            "=================================================================\n",
            " Inputs (Dense)              (None, 10)                20        \n",
            "                                                                 \n",
            " Inputs_1 (Dense)            (None, 10)                110       \n",
            "                                                                 \n",
            " Outputs (Dense)             (None, 1)                 11        \n",
            "                                                                 \n",
            "=================================================================\n",
            "Total params: 141\n",
            "Trainable params: 141\n",
            "Non-trainable params: 0\n",
            "_________________________________________________________________\n"
          ]
        }
      ]
    },
    {
      "cell_type": "code",
      "source": [
        "from tensorflow.keras.utils import plot_model\n",
        "plot_model(model=model,show_shapes=True)"
      ],
      "metadata": {
        "colab": {
          "base_uri": "https://localhost:8080/",
          "height": 422
        },
        "id": "5eSRzqMYGaRa",
        "outputId": "99535b17-d8bc-4dbb-ce01-fcd13fcfb33a"
      },
      "execution_count": 27,
      "outputs": [
        {
          "output_type": "execute_result",
          "data": {
            "image/png": "[encoded data removed]",
            "text/plain": [
              "<IPython.core.display.Image object>"
            ]
          },
          "metadata": {},
          "execution_count": 27
        }
      ]
    },
    {
      "cell_type": "markdown",
      "source": [
        "#visualize model predictions"
      ],
      "metadata": {
        "id": "HKfbzJPFHKDs"
      }
    },
    {
      "cell_type": "code",
      "source": [
        "y_pred = model.predict(X_test)\n",
        "y_pred"
      ],
      "metadata": {
        "colab": {
          "base_uri": "https://localhost:8080/"
        },
        "id": "ZZ9yrrtvH0U_",
        "outputId": "07235675-c68c-4168-e8c8-ae4f13f45b40"
      },
      "execution_count": 28,
      "outputs": [
        {
          "output_type": "stream",
          "name": "stdout",
          "text": [
            "1/1 [==============================] - 0s 100ms/step\n"
          ]
        },
        {
          "output_type": "execute_result",
          "data": {
            "text/plain": [
              "array([[38.28758 ],\n",
              "       [40.792786],\n",
              "       [43.29799 ],\n",
              "       [45.8032  ],\n",
              "       [48.308403],\n",
              "       [50.81361 ],\n",
              "       [53.318813],\n",
              "       [55.824024],\n",
              "       [58.329227],\n",
              "       [60.83443 ]], dtype=float32)"
            ]
          },
          "metadata": {},
          "execution_count": 28
        }
      ]
    },
    {
      "cell_type": "code",
      "source": [
        "y_test"
      ],
      "metadata": {
        "colab": {
          "base_uri": "https://localhost:8080/"
        },
        "id": "qVfYO5AsIMBp",
        "outputId": "d6c3b8a0-2b78-4425-e72b-4e1f4e9afa41"
      },
      "execution_count": 29,
      "outputs": [
        {
          "output_type": "execute_result",
          "data": {
            "text/plain": [
              "<tf.Tensor: shape=(10,), dtype=int32, numpy=array([ 70,  74,  78,  82,  86,  90,  94,  98, 102, 106], dtype=int32)>"
            ]
          },
          "metadata": {},
          "execution_count": 29
        }
      ]
    },
    {
      "cell_type": "code",
      "source": [
        "def plot_predictions(train_data=X_train,\n",
        "                     train_labels=y_train,\n",
        "                     test_data=X_test,\n",
        "                     test_labels=y_test,\n",
        "                     predictions=y_pred):\n",
        "\n",
        "  # Plot training data in blue\n",
        "  plt.scatter(train_data, train_labels, c=\"b\", label=\"Training data\")\n",
        "  # Plot test data in green\n",
        "  plt.scatter(test_data, test_labels, c=\"g\", label=\"Testing data\")\n",
        "  # Plot the predictions in red (predictions were made on the test data)\n",
        "  plt.scatter(test_data, predictions, c=\"r\", label=\"Predictions\")\n",
        "  # Show the legend\n",
        "  plt.legend();\n",
        "\n"
      ],
      "metadata": {
        "id": "8Whe8mmjIPKJ"
      },
      "execution_count": 30,
      "outputs": []
    },
    {
      "cell_type": "code",
      "source": [
        "plot_predictions()"
      ],
      "metadata": {
        "colab": {
          "base_uri": "https://localhost:8080/",
          "height": 430
        },
        "id": "M7GPV3ekJ3-a",
        "outputId": "7fd42ff1-44fa-477f-eedc-09a4e50bd5b0"
      },
      "execution_count": 31,
      "outputs": [
        {
          "output_type": "display_data",
          "data": {
            "text/plain": [
              "<Figure size 640x480 with 1 Axes>"
            ],
            "image/png": "[encoded data removed]"
          },
          "metadata": {}
        }
      ]
    },
    {
      "cell_type": "markdown",
      "source": [
        "#Evaluation using metrics\n"
      ],
      "metadata": {
        "id": "JZojfD1Mk5oU"
      }
    },
    {
      "cell_type": "code",
      "source": [
        "mae_1=model.evaluate(X_test,y_test)\n",
        "mae_1"
      ],
      "metadata": {
        "colab": {
          "base_uri": "https://localhost:8080/"
        },
        "id": "nHLbeoBxmJF7",
        "outputId": "ab3fb00f-f25e-4213-9adc-afb74509abf1"
      },
      "execution_count": 32,
      "outputs": [
        {
          "output_type": "stream",
          "name": "stdout",
          "text": [
            "1/1 [==============================] - 0s 265ms/step - loss: 38.4390 - mae: 38.4390\n"
          ]
        },
        {
          "output_type": "execute_result",
          "data": {
            "text/plain": [
              "[38.43899154663086, 38.43899154663086]"
            ]
          },
          "metadata": {},
          "execution_count": 32
        }
      ]
    },
    {
      "cell_type": "code",
      "source": [
        "#calculate mse\n",
        "mae=tf.metrics.mean_absolute_error(y_test,y_pred)\n",
        "mae"
      ],
      "metadata": {
        "colab": {
          "base_uri": "https://localhost:8080/"
        },
        "id": "66ZwTMVVm1Jz",
        "outputId": "627289c3-85c4-4390-fb6e-e1fb72e1a91a"
      },
      "execution_count": 33,
      "outputs": [
        {
          "output_type": "execute_result",
          "data": {
            "text/plain": [
              "<tf.Tensor: shape=(10,), dtype=float32, numpy=\n",
              "array([49.71242 , 47.207214, 44.70201 , 42.1968  , 39.691597, 37.18639 ,\n",
              "       34.681187, 32.175976, 29.670773, 27.16557 ], dtype=float32)>"
            ]
          },
          "metadata": {},
          "execution_count": 33
        }
      ]
    },
    {
      "cell_type": "code",
      "source": [
        "y_pred"
      ],
      "metadata": {
        "colab": {
          "base_uri": "https://localhost:8080/"
        },
        "id": "M0Yd0vZ3msDt",
        "outputId": "84881a4d-ee06-43f0-cee7-04803c7b96a5"
      },
      "execution_count": 34,
      "outputs": [
        {
          "output_type": "execute_result",
          "data": {
            "text/plain": [
              "array([[38.28758 ],\n",
              "       [40.792786],\n",
              "       [43.29799 ],\n",
              "       [45.8032  ],\n",
              "       [48.308403],\n",
              "       [50.81361 ],\n",
              "       [53.318813],\n",
              "       [55.824024],\n",
              "       [58.329227],\n",
              "       [60.83443 ]], dtype=float32)"
            ]
          },
          "metadata": {},
          "execution_count": 34
        }
      ]
    },
    {
      "cell_type": "code",
      "source": [
        "y_test"
      ],
      "metadata": {
        "colab": {
          "base_uri": "https://localhost:8080/"
        },
        "id": "X-2xV497nCLM",
        "outputId": "fe3026e3-84d5-4ede-a815-85ba8cb88608"
      },
      "execution_count": 35,
      "outputs": [
        {
          "output_type": "execute_result",
          "data": {
            "text/plain": [
              "<tf.Tensor: shape=(10,), dtype=int32, numpy=array([ 70,  74,  78,  82,  86,  90,  94,  98, 102, 106], dtype=int32)>"
            ]
          },
          "metadata": {},
          "execution_count": 35
        }
      ]
    },
    {
      "cell_type": "code",
      "source": [
        "#since this mae is differ from the value given in model.evaluate(X_test,y_test), let's change the y_pred ito tensor\n",
        "\n",
        "tf.constant(y_pred)"
      ],
      "metadata": {
        "colab": {
          "base_uri": "https://localhost:8080/"
        },
        "id": "feSa52I1ojFm",
        "outputId": "dc2f6bf0-1733-4bf4-ccfb-801e75e473b9"
      },
      "execution_count": 36,
      "outputs": [
        {
          "output_type": "execute_result",
          "data": {
            "text/plain": [
              "<tf.Tensor: shape=(10, 1), dtype=float32, numpy=\n",
              "array([[38.28758 ],\n",
              "       [40.792786],\n",
              "       [43.29799 ],\n",
              "       [45.8032  ],\n",
              "       [48.308403],\n",
              "       [50.81361 ],\n",
              "       [53.318813],\n",
              "       [55.824024],\n",
              "       [58.329227],\n",
              "       [60.83443 ]], dtype=float32)>"
            ]
          },
          "metadata": {},
          "execution_count": 36
        }
      ]
    },
    {
      "cell_type": "code",
      "source": [
        "#now as we see y_pred and y_test have 2 shapes, let's remove extra dim\n",
        "\n",
        "tf.squeeze(y_pred)"
      ],
      "metadata": {
        "colab": {
          "base_uri": "https://localhost:8080/"
        },
        "id": "z9GMrWN0pKbt",
        "outputId": "73275d73-23b5-44b5-c2c1-b3e59e4da3db"
      },
      "execution_count": 37,
      "outputs": [
        {
          "output_type": "execute_result",
          "data": {
            "text/plain": [
              "<tf.Tensor: shape=(10,), dtype=float32, numpy=\n",
              "array([38.28758 , 40.792786, 43.29799 , 45.8032  , 48.308403, 50.81361 ,\n",
              "       53.318813, 55.824024, 58.329227, 60.83443 ], dtype=float32)>"
            ]
          },
          "metadata": {},
          "execution_count": 37
        }
      ]
    },
    {
      "cell_type": "code",
      "source": [
        "#now let'sa apply themetrics\n",
        "\n",
        "mae=tf.metrics.mean_absolute_error(y_true=y_test,y_pred=tf.squeeze(y_pred))\n",
        "mae"
      ],
      "metadata": {
        "colab": {
          "base_uri": "https://localhost:8080/"
        },
        "id": "uYzd9oMFp5U1",
        "outputId": "0a420612-6319-43a8-fce8-0a786529355e"
      },
      "execution_count": 38,
      "outputs": [
        {
          "output_type": "execute_result",
          "data": {
            "text/plain": [
              "<tf.Tensor: shape=(), dtype=float32, numpy=38.43899>"
            ]
          },
          "metadata": {},
          "execution_count": 38
        }
      ]
    },
    {
      "cell_type": "code",
      "source": [
        "mae == mae_1"
      ],
      "metadata": {
        "colab": {
          "base_uri": "https://localhost:8080/"
        },
        "id": "6JztPyu7qBu0",
        "outputId": "8e361c39-b7a1-4274-9482-bb61c3bf1ec6"
      },
      "execution_count": 39,
      "outputs": [
        {
          "output_type": "execute_result",
          "data": {
            "text/plain": [
              "<tf.Tensor: shape=(2,), dtype=bool, numpy=array([ True,  True])>"
            ]
          },
          "metadata": {},
          "execution_count": 39
        }
      ]
    },
    {
      "cell_type": "code",
      "source": [
        "mse=tf.metrics.mean_squared_error(y_true=y_test,y_pred=tf.squeeze(y_pred))"
      ],
      "metadata": {
        "id": "XPmm_KwTq7K0"
      },
      "execution_count": 40,
      "outputs": []
    },
    {
      "cell_type": "code",
      "source": [
        "#make functions to reuse MAE and MSE\n",
        "def mae(y_true,y_pred):\n",
        "  return tf.metrics.mean_absolute_error(y_true=y_test,y_pred=y_pred)\n",
        "\n",
        "\n",
        "def mse(y_true,y_pred):\n",
        "  return tf.metrics.mean_squared_error(y_true=y_test,y_pred=y_pred)"
      ],
      "metadata": {
        "id": "mWVvJTUTqg8M"
      },
      "execution_count": 41,
      "outputs": []
    },
    {
      "cell_type": "markdown",
      "source": [
        "#Running experiments to improve the model"
      ],
      "metadata": {
        "id": "k7_YyuCfM0Xk"
      }
    },
    {
      "cell_type": "markdown",
      "source": [
        "1. get more data\n",
        "2. make the model larger(complex)\n",
        "3. train for longer\n"
      ],
      "metadata": {
        "id": "JUqqj8UnXQTv"
      }
    },
    {
      "cell_type": "code",
      "source": [
        "X_train, y_train"
      ],
      "metadata": {
        "colab": {
          "base_uri": "https://localhost:8080/"
        },
        "id": "DRVA03JiW4Me",
        "outputId": "809f3a1a-3ac2-4dd6-82e5-5f19ed71b274"
      },
      "execution_count": 42,
      "outputs": [
        {
          "output_type": "execute_result",
          "data": {
            "text/plain": [
              "(<tf.Tensor: shape=(40,), dtype=int32, numpy=\n",
              " array([-100,  -96,  -92,  -88,  -84,  -80,  -76,  -72,  -68,  -64,  -60,\n",
              "         -56,  -52,  -48,  -44,  -40,  -36,  -32,  -28,  -24,  -20,  -16,\n",
              "         -12,   -8,   -4,    0,    4,    8,   12,   16,   20,   24,   28,\n",
              "          32,   36,   40,   44,   48,   52,   56], dtype=int32)>,\n",
              " <tf.Tensor: shape=(40,), dtype=int32, numpy=\n",
              " array([-90, -86, -82, -78, -74, -70, -66, -62, -58, -54, -50, -46, -42,\n",
              "        -38, -34, -30, -26, -22, -18, -14, -10,  -6,  -2,   2,   6,  10,\n",
              "         14,  18,  22,  26,  30,  34,  38,  42,  46,  50,  54,  58,  62,\n",
              "         66], dtype=int32)>)"
            ]
          },
          "metadata": {},
          "execution_count": 42
        }
      ]
    },
    {
      "cell_type": "markdown",
      "source": [
        "1. `model_1` - same as the original model,1layer,trained for 100 epochs\n",
        "2. `model_2` - 2 layers, trained for 100 epochs\n",
        "3. `model_3` - 2 layers,trained for 500 epochs"
      ],
      "metadata": {
        "id": "wGMRu8l_bK3c"
      }
    },
    {
      "cell_type": "markdown",
      "source": [
        "\n",
        "**Build**\n",
        "\n",
        "\n",
        ">model_1\n",
        "\n",
        "\n",
        "\n",
        "\n",
        "\n"
      ],
      "metadata": {
        "id": "5AdWi-fP2_Xv"
      }
    },
    {
      "cell_type": "code",
      "source": [
        "\n",
        "\n",
        "tf.random.set_seed(42)\n",
        "model_1 = tf.keras.Sequential([\n",
        "    tf.keras.layers.Dense(1)\n",
        "])\n",
        "\n",
        "model_1.compile(loss= tf.keras.losses.mae,\n",
        "                optimizer= tf.keras.optimizers.SGD(),\n",
        "                metrics=[\"mae\"])\n",
        "\n",
        "model_1.fit(tf.expand_dims(X,axis=-1),y,epochs=100)"
      ],
      "metadata": {
        "colab": {
          "base_uri": "https://localhost:8080/"
        },
        "id": "E-CLAyp8bKlp",
        "outputId": "d7a58236-4b88-4412-e46b-cfad09b55769"
      },
      "execution_count": 43,
      "outputs": [
        {
          "output_type": "stream",
          "name": "stdout",
          "text": [
            "Epoch 1/100\n",
            "2/2 [==============================] - 1s 13ms/step - loss: 22.2584 - mae: 22.2584\n",
            "Epoch 2/100\n",
            "2/2 [==============================] - 0s 7ms/step - loss: 10.7102 - mae: 10.7102\n",
            "Epoch 3/100\n",
            "2/2 [==============================] - 0s 7ms/step - loss: 12.8490 - mae: 12.8490\n",
            "Epoch 4/100\n",
            "2/2 [==============================] - 0s 7ms/step - loss: 10.0629 - mae: 10.0629\n",
            "Epoch 5/100\n",
            "2/2 [==============================] - 0s 7ms/step - loss: 15.7063 - mae: 15.7063\n",
            "Epoch 6/100\n",
            "2/2 [==============================] - 0s 7ms/step - loss: 12.4435 - mae: 12.4435\n",
            "Epoch 7/100\n",
            "2/2 [==============================] - 0s 7ms/step - loss: 9.3965 - mae: 9.3965\n",
            "Epoch 8/100\n",
            "2/2 [==============================] - 0s 6ms/step - loss: 11.3233 - mae: 11.3233\n",
            "Epoch 9/100\n",
            "2/2 [==============================] - 0s 7ms/step - loss: 12.6815 - mae: 12.6815\n",
            "Epoch 10/100\n",
            "2/2 [==============================] - 0s 7ms/step - loss: 9.9910 - mae: 9.9910\n",
            "Epoch 11/100\n",
            "2/2 [==============================] - 0s 7ms/step - loss: 9.9629 - mae: 9.9629\n",
            "Epoch 12/100\n",
            "2/2 [==============================] - 0s 7ms/step - loss: 9.9041 - mae: 9.9041\n",
            "Epoch 13/100\n",
            "2/2 [==============================] - 0s 7ms/step - loss: 9.7423 - mae: 9.7423\n",
            "Epoch 14/100\n",
            "2/2 [==============================] - 0s 7ms/step - loss: 10.5429 - mae: 10.5429\n",
            "Epoch 15/100\n",
            "2/2 [==============================] - 0s 13ms/step - loss: 13.7829 - mae: 13.7829\n",
            "Epoch 16/100\n",
            "2/2 [==============================] - 0s 8ms/step - loss: 12.4125 - mae: 12.4125\n",
            "Epoch 17/100\n",
            "2/2 [==============================] - 0s 7ms/step - loss: 10.1668 - mae: 10.1668\n",
            "Epoch 18/100\n",
            "2/2 [==============================] - 0s 7ms/step - loss: 10.6688 - mae: 10.6688\n",
            "Epoch 19/100\n",
            "2/2 [==============================] - 0s 7ms/step - loss: 10.0604 - mae: 10.0604\n",
            "Epoch 20/100\n",
            "2/2 [==============================] - 0s 9ms/step - loss: 10.8549 - mae: 10.8549\n",
            "Epoch 21/100\n",
            "2/2 [==============================] - 0s 13ms/step - loss: 12.1245 - mae: 12.1245\n",
            "Epoch 22/100\n",
            "2/2 [==============================] - 0s 13ms/step - loss: 9.5677 - mae: 9.5677\n",
            "Epoch 23/100\n",
            "2/2 [==============================] - 0s 11ms/step - loss: 9.3173 - mae: 9.3173\n",
            "Epoch 24/100\n",
            "2/2 [==============================] - 0s 15ms/step - loss: 9.7068 - mae: 9.7068\n",
            "Epoch 25/100\n",
            "2/2 [==============================] - 0s 10ms/step - loss: 9.6033 - mae: 9.6033\n",
            "Epoch 26/100\n",
            "2/2 [==============================] - 0s 17ms/step - loss: 10.0163 - mae: 10.0163\n",
            "Epoch 27/100\n",
            "2/2 [==============================] - 0s 8ms/step - loss: 10.3548 - mae: 10.3548\n",
            "Epoch 28/100\n",
            "2/2 [==============================] - 0s 15ms/step - loss: 9.7500 - mae: 9.7500\n",
            "Epoch 29/100\n",
            "2/2 [==============================] - 0s 11ms/step - loss: 9.6364 - mae: 9.6364\n",
            "Epoch 30/100\n",
            "2/2 [==============================] - 0s 8ms/step - loss: 9.7608 - mae: 9.7608\n",
            "Epoch 31/100\n",
            "2/2 [==============================] - 0s 32ms/step - loss: 10.6549 - mae: 10.6549\n",
            "Epoch 32/100\n",
            "2/2 [==============================] - 0s 15ms/step - loss: 9.6694 - mae: 9.6694\n",
            "Epoch 33/100\n",
            "2/2 [==============================] - 0s 20ms/step - loss: 9.4770 - mae: 9.4770\n",
            "Epoch 34/100\n",
            "2/2 [==============================] - 0s 15ms/step - loss: 9.8025 - mae: 9.8025\n",
            "Epoch 35/100\n",
            "2/2 [==============================] - 0s 10ms/step - loss: 11.0129 - mae: 11.0129\n",
            "Epoch 36/100\n",
            "2/2 [==============================] - 0s 11ms/step - loss: 10.6555 - mae: 10.6555\n",
            "Epoch 37/100\n",
            "2/2 [==============================] - 0s 15ms/step - loss: 9.3688 - mae: 9.3688\n",
            "Epoch 38/100\n",
            "2/2 [==============================] - 0s 27ms/step - loss: 9.3803 - mae: 9.3803\n",
            "Epoch 39/100\n",
            "2/2 [==============================] - 0s 8ms/step - loss: 10.2090 - mae: 10.2090\n",
            "Epoch 40/100\n",
            "2/2 [==============================] - 0s 8ms/step - loss: 11.8171 - mae: 11.8171\n",
            "Epoch 41/100\n",
            "2/2 [==============================] - 0s 10ms/step - loss: 10.4127 - mae: 10.4127\n",
            "Epoch 42/100\n",
            "2/2 [==============================] - 0s 8ms/step - loss: 10.3661 - mae: 10.3661\n",
            "Epoch 43/100\n",
            "2/2 [==============================] - 0s 17ms/step - loss: 12.9424 - mae: 12.9424\n",
            "Epoch 44/100\n",
            "2/2 [==============================] - 0s 21ms/step - loss: 10.1628 - mae: 10.1628\n",
            "Epoch 45/100\n",
            "2/2 [==============================] - 0s 12ms/step - loss: 9.5051 - mae: 9.5051\n",
            "Epoch 46/100\n",
            "2/2 [==============================] - 0s 6ms/step - loss: 9.3811 - mae: 9.3811\n",
            "Epoch 47/100\n",
            "2/2 [==============================] - 0s 10ms/step - loss: 9.3565 - mae: 9.3565\n",
            "Epoch 48/100\n",
            "2/2 [==============================] - 0s 12ms/step - loss: 9.6004 - mae: 9.6004\n",
            "Epoch 49/100\n",
            "2/2 [==============================] - 0s 10ms/step - loss: 10.2551 - mae: 10.2551\n",
            "Epoch 50/100\n",
            "2/2 [==============================] - 0s 14ms/step - loss: 9.5689 - mae: 9.5689\n",
            "Epoch 51/100\n",
            "2/2 [==============================] - 0s 12ms/step - loss: 9.0086 - mae: 9.0086\n",
            "Epoch 52/100\n",
            "2/2 [==============================] - 0s 8ms/step - loss: 9.2844 - mae: 9.2844\n",
            "Epoch 53/100\n",
            "2/2 [==============================] - 0s 8ms/step - loss: 9.3935 - mae: 9.3935\n",
            "Epoch 54/100\n",
            "2/2 [==============================] - 0s 8ms/step - loss: 9.2705 - mae: 9.2705\n",
            "Epoch 55/100\n",
            "2/2 [==============================] - 0s 7ms/step - loss: 9.4266 - mae: 9.4266\n",
            "Epoch 56/100\n",
            "2/2 [==============================] - 0s 13ms/step - loss: 9.1233 - mae: 9.1233\n",
            "Epoch 57/100\n",
            "2/2 [==============================] - 0s 9ms/step - loss: 8.7128 - mae: 8.7128\n",
            "Epoch 58/100\n",
            "2/2 [==============================] - 0s 7ms/step - loss: 9.1931 - mae: 9.1931\n",
            "Epoch 59/100\n",
            "2/2 [==============================] - 0s 6ms/step - loss: 9.0134 - mae: 9.0134\n",
            "Epoch 60/100\n",
            "2/2 [==============================] - 0s 17ms/step - loss: 10.1519 - mae: 10.1519\n",
            "Epoch 61/100\n",
            "2/2 [==============================] - 0s 12ms/step - loss: 8.9995 - mae: 8.9995\n",
            "Epoch 62/100\n",
            "2/2 [==============================] - 0s 12ms/step - loss: 9.9967 - mae: 9.9967\n",
            "Epoch 63/100\n",
            "2/2 [==============================] - 0s 9ms/step - loss: 12.7699 - mae: 12.7699\n",
            "Epoch 64/100\n",
            "2/2 [==============================] - 0s 11ms/step - loss: 9.4467 - mae: 9.4467\n",
            "Epoch 65/100\n",
            "2/2 [==============================] - 0s 8ms/step - loss: 8.9208 - mae: 8.9208\n",
            "Epoch 66/100\n",
            "2/2 [==============================] - 0s 29ms/step - loss: 8.9148 - mae: 8.9148\n",
            "Epoch 67/100\n",
            "2/2 [==============================] - 0s 14ms/step - loss: 9.0301 - mae: 9.0301\n",
            "Epoch 68/100\n",
            "2/2 [==============================] - 0s 9ms/step - loss: 9.1420 - mae: 9.1420\n",
            "Epoch 69/100\n",
            "2/2 [==============================] - 0s 8ms/step - loss: 9.1372 - mae: 9.1372\n",
            "Epoch 70/100\n",
            "2/2 [==============================] - 0s 10ms/step - loss: 9.3971 - mae: 9.3971\n",
            "Epoch 71/100\n",
            "2/2 [==============================] - 0s 7ms/step - loss: 8.8424 - mae: 8.8424\n",
            "Epoch 72/100\n",
            "2/2 [==============================] - 0s 8ms/step - loss: 9.9578 - mae: 9.9578\n",
            "Epoch 73/100\n",
            "2/2 [==============================] - 0s 16ms/step - loss: 11.9159 - mae: 11.9159\n",
            "Epoch 74/100\n",
            "2/2 [==============================] - 0s 9ms/step - loss: 8.5220 - mae: 8.5220\n",
            "Epoch 75/100\n",
            "2/2 [==============================] - 0s 9ms/step - loss: 8.7057 - mae: 8.7057\n",
            "Epoch 76/100\n",
            "2/2 [==============================] - 0s 12ms/step - loss: 8.7514 - mae: 8.7514\n",
            "Epoch 77/100\n",
            "2/2 [==============================] - 0s 12ms/step - loss: 8.1410 - mae: 8.1410\n",
            "Epoch 78/100\n",
            "2/2 [==============================] - 0s 11ms/step - loss: 11.1819 - mae: 11.1819\n",
            "Epoch 79/100\n",
            "2/2 [==============================] - 0s 10ms/step - loss: 9.5018 - mae: 9.5018\n",
            "Epoch 80/100\n",
            "2/2 [==============================] - 0s 11ms/step - loss: 13.1514 - mae: 13.1514\n",
            "Epoch 81/100\n",
            "2/2 [==============================] - 0s 11ms/step - loss: 14.2904 - mae: 14.2904\n",
            "Epoch 82/100\n",
            "2/2 [==============================] - 0s 10ms/step - loss: 16.4379 - mae: 16.4379\n",
            "Epoch 83/100\n",
            "2/2 [==============================] - 0s 9ms/step - loss: 10.6301 - mae: 10.6301\n",
            "Epoch 84/100\n",
            "2/2 [==============================] - 0s 9ms/step - loss: 10.3174 - mae: 10.3174\n",
            "Epoch 85/100\n",
            "2/2 [==============================] - 0s 8ms/step - loss: 11.8220 - mae: 11.8220\n",
            "Epoch 86/100\n",
            "2/2 [==============================] - 0s 8ms/step - loss: 11.6399 - mae: 11.6399\n",
            "Epoch 87/100\n",
            "2/2 [==============================] - 0s 9ms/step - loss: 10.4485 - mae: 10.4485\n",
            "Epoch 88/100\n",
            "2/2 [==============================] - 0s 15ms/step - loss: 10.7535 - mae: 10.7535\n",
            "Epoch 89/100\n",
            "2/2 [==============================] - 0s 10ms/step - loss: 8.9987 - mae: 8.9987\n",
            "Epoch 90/100\n",
            "2/2 [==============================] - 0s 11ms/step - loss: 15.3781 - mae: 15.3781\n",
            "Epoch 91/100\n",
            "2/2 [==============================] - 0s 11ms/step - loss: 10.6626 - mae: 10.6626\n",
            "Epoch 92/100\n",
            "2/2 [==============================] - 0s 10ms/step - loss: 10.8862 - mae: 10.8862\n",
            "Epoch 93/100\n",
            "2/2 [==============================] - 0s 18ms/step - loss: 14.2631 - mae: 14.2631\n",
            "Epoch 94/100\n",
            "2/2 [==============================] - 0s 42ms/step - loss: 12.8962 - mae: 12.8962\n",
            "Epoch 95/100\n",
            "2/2 [==============================] - 0s 13ms/step - loss: 13.4157 - mae: 13.4157\n",
            "Epoch 96/100\n",
            "2/2 [==============================] - 0s 9ms/step - loss: 8.8304 - mae: 8.8304\n",
            "Epoch 97/100\n",
            "2/2 [==============================] - 0s 9ms/step - loss: 8.7736 - mae: 8.7736\n",
            "Epoch 98/100\n",
            "2/2 [==============================] - 0s 15ms/step - loss: 8.7296 - mae: 8.7296\n",
            "Epoch 99/100\n",
            "2/2 [==============================] - 0s 11ms/step - loss: 8.2993 - mae: 8.2993\n",
            "Epoch 100/100\n",
            "2/2 [==============================] - 0s 8ms/step - loss: 8.6226 - mae: 8.6226\n"
          ]
        },
        {
          "output_type": "execute_result",
          "data": {
            "text/plain": [
              "<keras.callbacks.History at 0x7faeab7e87c0>"
            ]
          },
          "metadata": {},
          "execution_count": 43
        }
      ]
    },
    {
      "cell_type": "code",
      "source": [
        "y_preds_1 = model_1.predict(X_test)\n",
        "plot_predictions(predictions=y_preds_1)"
      ],
      "metadata": {
        "colab": {
          "base_uri": "https://localhost:8080/",
          "height": 486
        },
        "id": "pcqBfG7fbhvw",
        "outputId": "eeb16e61-da56-41da-9be6-0d1ad21f5453"
      },
      "execution_count": 44,
      "outputs": [
        {
          "output_type": "stream",
          "name": "stderr",
          "text": [
            "WARNING:tensorflow:5 out of the last 5 calls to <function Model.make_predict_function.<locals>.predict_function at 0x7faeab634940> triggered tf.function retracing. Tracing is expensive and the excessive number of tracings could be due to (1) creating @tf.function repeatedly in a loop, (2) passing tensors with different shapes, (3) passing Python objects instead of tensors. For (1), please define your @tf.function outside of the loop. For (2), @tf.function has reduce_retracing=True option that can avoid unnecessary retracing. For (3), please refer to https://www.tensorflow.org/guide/function#controlling_retracing and https://www.tensorflow.org/api_docs/python/tf/function for  more details.\n"
          ]
        },
        {
          "output_type": "stream",
          "name": "stdout",
          "text": [
            "1/1 [==============================] - 0s 90ms/step\n"
          ]
        },
        {
          "output_type": "display_data",
          "data": {
            "text/plain": [
              "<Figure size 640x480 with 1 Axes>"
            ],
            "image/png": "[encoded data removed]"
          },
          "metadata": {}
        }
      ]
    },
    {
      "cell_type": "code",
      "source": [
        "y_test"
      ],
      "metadata": {
        "colab": {
          "base_uri": "https://localhost:8080/"
        },
        "id": "sPhDkOKhzc0d",
        "outputId": "2884b580-2534-42fb-cce7-9fbb441a16e4"
      },
      "execution_count": 45,
      "outputs": [
        {
          "output_type": "execute_result",
          "data": {
            "text/plain": [
              "<tf.Tensor: shape=(10,), dtype=int32, numpy=array([ 70,  74,  78,  82,  86,  90,  94,  98, 102, 106], dtype=int32)>"
            ]
          },
          "metadata": {},
          "execution_count": 45
        }
      ]
    },
    {
      "cell_type": "code",
      "source": [
        "tf.constant(y_preds_1),tf.squeeze(y_preds_1)\n",
        "\n"
      ],
      "metadata": {
        "colab": {
          "base_uri": "https://localhost:8080/"
        },
        "id": "67IJs_NuXoj6",
        "outputId": "8e57d729-77fc-4e93-d6ec-5c46d3996b50"
      },
      "execution_count": 46,
      "outputs": [
        {
          "output_type": "execute_result",
          "data": {
            "text/plain": [
              "(<tf.Tensor: shape=(10, 1), dtype=float32, numpy=\n",
              " array([[60.77966 ],\n",
              "        [64.72635 ],\n",
              "        [68.67305 ],\n",
              "        [72.619736],\n",
              "        [76.56644 ],\n",
              "        [80.51314 ],\n",
              "        [84.45982 ],\n",
              "        [88.406525],\n",
              "        [92.35321 ],\n",
              "        [96.29991 ]], dtype=float32)>,\n",
              " <tf.Tensor: shape=(10,), dtype=float32, numpy=\n",
              " array([60.77966 , 64.72635 , 68.67305 , 72.619736, 76.56644 , 80.51314 ,\n",
              "        84.45982 , 88.406525, 92.35321 , 96.29991 ], dtype=float32)>)"
            ]
          },
          "metadata": {},
          "execution_count": 46
        }
      ]
    },
    {
      "cell_type": "code",
      "source": [
        "mae_1 = mae(y_test,tf.squeeze(y_preds_1))\n",
        "mse_1 = mse(y_test,tf.squeeze(y_preds_1))\n",
        "mae_1,mse_1"
      ],
      "metadata": {
        "id": "NadGVzMp4-Fi",
        "colab": {
          "base_uri": "https://localhost:8080/"
        },
        "outputId": "aa643433-009a-4600-a9a9-b1da227abc90"
      },
      "execution_count": 47,
      "outputs": [
        {
          "output_type": "execute_result",
          "data": {
            "text/plain": [
              "(<tf.Tensor: shape=(), dtype=float32, numpy=9.460216>,\n",
              " <tf.Tensor: shape=(), dtype=float32, numpy=89.519135>)"
            ]
          },
          "metadata": {},
          "execution_count": 47
        }
      ]
    },
    {
      "cell_type": "code",
      "source": [],
      "metadata": {
        "id": "CnY2FILRz6-F"
      },
      "execution_count": 47,
      "outputs": []
    },
    {
      "cell_type": "markdown",
      "source": [
        "**Build**\n",
        "\n",
        "> model_2*(2 dense, 100 epochs)\n",
        "\n"
      ],
      "metadata": {
        "id": "BOHopoQe3Oce"
      }
    },
    {
      "cell_type": "code",
      "source": [
        "tf.random.set_seed(42)\n",
        "\n",
        "model_2 = tf.keras.Sequential([\n",
        "    tf.keras.layers.Dense(10),\n",
        "    tf.keras.layers.Dense(1)\n",
        "])\n",
        "\n",
        "model_2.compile(loss= tf.keras.losses.mae,\n",
        "                optimizer= tf.keras.optimizers.SGD(),\n",
        "                metrics=[\"mse\"])\n",
        "\n",
        "model_2.fit(tf.expand_dims(X,axis=-1),y,epochs=100)"
      ],
      "metadata": {
        "colab": {
          "base_uri": "https://localhost:8080/"
        },
        "id": "2hWF0j7c3dNv",
        "outputId": "010ba79a-61c2-4ff9-8eb4-3cfffbe820db"
      },
      "execution_count": 48,
      "outputs": [
        {
          "output_type": "stream",
          "name": "stdout",
          "text": [
            "Epoch 1/100\n",
            "2/2 [==============================] - 2s 36ms/step - loss: 55.5376 - mse: 4130.7002\n",
            "Epoch 2/100\n",
            "2/2 [==============================] - 0s 16ms/step - loss: 31.9179 - mse: 1561.2933\n",
            "Epoch 3/100\n",
            "2/2 [==============================] - 0s 14ms/step - loss: 50.5851 - mse: 3944.3145\n",
            "Epoch 4/100\n",
            "2/2 [==============================] - 0s 13ms/step - loss: 11.8086 - mse: 203.8310\n",
            "Epoch 5/100\n",
            "2/2 [==============================] - 0s 11ms/step - loss: 24.5824 - mse: 949.2572\n",
            "Epoch 6/100\n",
            "2/2 [==============================] - 0s 18ms/step - loss: 20.1972 - mse: 582.6251\n",
            "Epoch 7/100\n",
            "2/2 [==============================] - 0s 13ms/step - loss: 20.1940 - mse: 620.7507\n",
            "Epoch 8/100\n",
            "2/2 [==============================] - 0s 20ms/step - loss: 20.9096 - mse: 665.2300\n",
            "Epoch 9/100\n",
            "2/2 [==============================] - 0s 9ms/step - loss: 10.0107 - mse: 127.7601\n",
            "Epoch 10/100\n",
            "2/2 [==============================] - 0s 11ms/step - loss: 10.1522 - mse: 119.4551\n",
            "Epoch 11/100\n",
            "2/2 [==============================] - 0s 18ms/step - loss: 23.3188 - mse: 789.0137\n",
            "Epoch 12/100\n",
            "2/2 [==============================] - 0s 14ms/step - loss: 14.9949 - mse: 351.6733\n",
            "Epoch 13/100\n",
            "2/2 [==============================] - 0s 9ms/step - loss: 23.6829 - mse: 886.0198\n",
            "Epoch 14/100\n",
            "2/2 [==============================] - 0s 9ms/step - loss: 25.4146 - mse: 897.1417\n",
            "Epoch 15/100\n",
            "2/2 [==============================] - 0s 9ms/step - loss: 19.7405 - mse: 606.8889\n",
            "Epoch 16/100\n",
            "2/2 [==============================] - 0s 21ms/step - loss: 23.4041 - mse: 889.4153\n",
            "Epoch 17/100\n",
            "2/2 [==============================] - 0s 14ms/step - loss: 11.4488 - mse: 219.4427\n",
            "Epoch 18/100\n",
            "2/2 [==============================] - 0s 17ms/step - loss: 29.1791 - mse: 1156.6366\n",
            "Epoch 19/100\n",
            "2/2 [==============================] - 0s 12ms/step - loss: 18.3751 - mse: 575.9127\n",
            "Epoch 20/100\n",
            "2/2 [==============================] - 0s 9ms/step - loss: 18.8008 - mse: 534.8371\n",
            "Epoch 21/100\n",
            "2/2 [==============================] - 0s 13ms/step - loss: 19.4694 - mse: 528.2776\n",
            "Epoch 22/100\n",
            "2/2 [==============================] - 0s 9ms/step - loss: 20.6545 - mse: 640.0677\n",
            "Epoch 23/100\n",
            "2/2 [==============================] - 0s 12ms/step - loss: 19.8792 - mse: 550.9167\n",
            "Epoch 24/100\n",
            "2/2 [==============================] - 0s 12ms/step - loss: 18.6757 - mse: 541.4758\n",
            "Epoch 25/100\n",
            "2/2 [==============================] - 0s 16ms/step - loss: 21.9614 - mse: 723.8192\n",
            "Epoch 26/100\n",
            "2/2 [==============================] - 0s 11ms/step - loss: 10.7905 - mse: 178.7635\n",
            "Epoch 27/100\n",
            "2/2 [==============================] - 0s 9ms/step - loss: 30.2183 - mse: 1297.6843\n",
            "Epoch 28/100\n",
            "2/2 [==============================] - 0s 23ms/step - loss: 17.4855 - mse: 492.8079\n",
            "Epoch 29/100\n",
            "2/2 [==============================] - 0s 9ms/step - loss: 32.6112 - mse: 1498.0428\n",
            "Epoch 30/100\n",
            "2/2 [==============================] - 0s 14ms/step - loss: 21.5212 - mse: 744.4863\n",
            "Epoch 31/100\n",
            "2/2 [==============================] - 0s 12ms/step - loss: 14.4782 - mse: 325.3004\n",
            "Epoch 32/100\n",
            "2/2 [==============================] - 0s 11ms/step - loss: 20.6436 - mse: 586.5610\n",
            "Epoch 33/100\n",
            "2/2 [==============================] - 0s 9ms/step - loss: 20.9948 - mse: 694.4953\n",
            "Epoch 34/100\n",
            "2/2 [==============================] - 0s 11ms/step - loss: 10.3516 - mse: 123.3169\n",
            "Epoch 35/100\n",
            "2/2 [==============================] - 0s 10ms/step - loss: 19.2967 - mse: 563.1218\n",
            "Epoch 36/100\n",
            "2/2 [==============================] - 0s 10ms/step - loss: 21.4573 - mse: 768.5854\n",
            "Epoch 37/100\n",
            "2/2 [==============================] - 0s 11ms/step - loss: 19.3552 - mse: 587.6905\n",
            "Epoch 38/100\n",
            "2/2 [==============================] - 0s 13ms/step - loss: 20.0486 - mse: 645.8843\n",
            "Epoch 39/100\n",
            "2/2 [==============================] - 0s 13ms/step - loss: 20.0169 - mse: 621.5184\n",
            "Epoch 40/100\n",
            "2/2 [==============================] - 0s 8ms/step - loss: 20.4927 - mse: 687.9579\n",
            "Epoch 41/100\n",
            "2/2 [==============================] - 0s 11ms/step - loss: 18.4038 - mse: 556.0880\n",
            "Epoch 42/100\n",
            "2/2 [==============================] - 0s 8ms/step - loss: 17.1606 - mse: 515.2855\n",
            "Epoch 43/100\n",
            "2/2 [==============================] - 0s 9ms/step - loss: 22.9100 - mse: 850.9316\n",
            "Epoch 44/100\n",
            "2/2 [==============================] - 0s 8ms/step - loss: 9.7077 - mse: 110.9407\n",
            "Epoch 45/100\n",
            "2/2 [==============================] - 0s 8ms/step - loss: 23.0311 - mse: 758.6180\n",
            "Epoch 46/100\n",
            "2/2 [==============================] - 0s 7ms/step - loss: 9.2176 - mse: 110.1424\n",
            "Epoch 47/100\n",
            "2/2 [==============================] - 0s 14ms/step - loss: 20.1222 - mse: 642.3047\n",
            "Epoch 48/100\n",
            "2/2 [==============================] - 0s 7ms/step - loss: 9.4657 - mse: 147.1978\n",
            "Epoch 49/100\n",
            "2/2 [==============================] - 0s 7ms/step - loss: 23.4827 - mse: 797.3362\n",
            "Epoch 50/100\n",
            "2/2 [==============================] - 0s 7ms/step - loss: 34.4682 - mse: 1617.1742\n",
            "Epoch 51/100\n",
            "2/2 [==============================] - 0s 7ms/step - loss: 14.5965 - mse: 307.0639\n",
            "Epoch 52/100\n",
            "2/2 [==============================] - 0s 7ms/step - loss: 34.4474 - mse: 1674.8994\n",
            "Epoch 53/100\n",
            "2/2 [==============================] - 0s 10ms/step - loss: 9.7432 - mse: 115.6151\n",
            "Epoch 54/100\n",
            "2/2 [==============================] - 0s 9ms/step - loss: 9.4821 - mse: 109.1412\n",
            "Epoch 55/100\n",
            "2/2 [==============================] - 0s 10ms/step - loss: 10.8131 - mse: 164.8921\n",
            "Epoch 56/100\n",
            "2/2 [==============================] - 0s 11ms/step - loss: 27.2173 - mse: 1060.7761\n",
            "Epoch 57/100\n",
            "2/2 [==============================] - 0s 18ms/step - loss: 24.1422 - mse: 854.0262\n",
            "Epoch 58/100\n",
            "2/2 [==============================] - 0s 12ms/step - loss: 14.6012 - mse: 329.6577\n",
            "Epoch 59/100\n",
            "2/2 [==============================] - 0s 8ms/step - loss: 25.8840 - mse: 1020.2352\n",
            "Epoch 60/100\n",
            "2/2 [==============================] - 0s 12ms/step - loss: 27.7128 - mse: 1055.5269\n",
            "Epoch 61/100\n",
            "2/2 [==============================] - 0s 16ms/step - loss: 9.6666 - mse: 137.4825\n",
            "Epoch 62/100\n",
            "2/2 [==============================] - 0s 19ms/step - loss: 15.1709 - mse: 381.9803\n",
            "Epoch 63/100\n",
            "2/2 [==============================] - 0s 14ms/step - loss: 23.2087 - mse: 795.5753\n",
            "Epoch 64/100\n",
            "2/2 [==============================] - 0s 11ms/step - loss: 17.9178 - mse: 462.5653\n",
            "Epoch 65/100\n",
            "2/2 [==============================] - 0s 9ms/step - loss: 29.0849 - mse: 1276.9435\n",
            "Epoch 66/100\n",
            "2/2 [==============================] - 0s 21ms/step - loss: 18.6619 - mse: 637.5748\n",
            "Epoch 67/100\n",
            "2/2 [==============================] - 0s 7ms/step - loss: 19.0598 - mse: 649.2799\n",
            "Epoch 68/100\n",
            "2/2 [==============================] - 0s 8ms/step - loss: 16.4001 - mse: 406.7789\n",
            "Epoch 69/100\n",
            "2/2 [==============================] - 0s 17ms/step - loss: 26.8949 - mse: 1115.5278\n",
            "Epoch 70/100\n",
            "2/2 [==============================] - 0s 9ms/step - loss: 22.0071 - mse: 693.0894\n",
            "Epoch 71/100\n",
            "2/2 [==============================] - 0s 17ms/step - loss: 19.5351 - mse: 580.0515\n",
            "Epoch 72/100\n",
            "2/2 [==============================] - 0s 11ms/step - loss: 17.7117 - mse: 511.0424\n",
            "Epoch 73/100\n",
            "2/2 [==============================] - 0s 10ms/step - loss: 9.3130 - mse: 99.1021\n",
            "Epoch 74/100\n",
            "2/2 [==============================] - 0s 16ms/step - loss: 25.0040 - mse: 879.7114\n",
            "Epoch 75/100\n",
            "2/2 [==============================] - 0s 9ms/step - loss: 14.8575 - mse: 375.5833\n",
            "Epoch 76/100\n",
            "2/2 [==============================] - 0s 15ms/step - loss: 21.5884 - mse: 715.5604\n",
            "Epoch 77/100\n",
            "2/2 [==============================] - 0s 9ms/step - loss: 17.1500 - mse: 544.6733\n",
            "Epoch 78/100\n",
            "2/2 [==============================] - 0s 19ms/step - loss: 23.0013 - mse: 827.7003\n",
            "Epoch 79/100\n",
            "2/2 [==============================] - 0s 18ms/step - loss: 9.1898 - mse: 100.0131\n",
            "Epoch 80/100\n",
            "2/2 [==============================] - 0s 10ms/step - loss: 18.5049 - mse: 532.9973\n",
            "Epoch 81/100\n",
            "2/2 [==============================] - 0s 11ms/step - loss: 23.1264 - mse: 904.4480\n",
            "Epoch 82/100\n",
            "2/2 [==============================] - 0s 22ms/step - loss: 26.7207 - mse: 998.1917\n",
            "Epoch 83/100\n",
            "2/2 [==============================] - 0s 17ms/step - loss: 20.4883 - mse: 597.1133\n",
            "Epoch 84/100\n",
            "2/2 [==============================] - 0s 12ms/step - loss: 22.4270 - mse: 807.2195\n",
            "Epoch 85/100\n",
            "2/2 [==============================] - 0s 9ms/step - loss: 17.0108 - mse: 493.7648\n",
            "Epoch 86/100\n",
            "2/2 [==============================] - 0s 9ms/step - loss: 17.6578 - mse: 539.5590\n",
            "Epoch 87/100\n",
            "2/2 [==============================] - 0s 9ms/step - loss: 10.3781 - mse: 152.9134\n",
            "Epoch 88/100\n",
            "2/2 [==============================] - 0s 15ms/step - loss: 28.5807 - mse: 1149.6859\n",
            "Epoch 89/100\n",
            "2/2 [==============================] - 0s 34ms/step - loss: 7.9799 - mse: 85.4958\n",
            "Epoch 90/100\n",
            "2/2 [==============================] - 0s 27ms/step - loss: 18.3672 - mse: 597.2643\n",
            "Epoch 91/100\n",
            "2/2 [==============================] - 0s 10ms/step - loss: 18.4094 - mse: 527.2484\n",
            "Epoch 92/100\n",
            "2/2 [==============================] - 0s 10ms/step - loss: 20.0815 - mse: 624.4944\n",
            "Epoch 93/100\n",
            "2/2 [==============================] - 0s 10ms/step - loss: 21.9755 - mse: 728.4514\n",
            "Epoch 94/100\n",
            "2/2 [==============================] - 0s 10ms/step - loss: 24.4081 - mse: 934.9118\n",
            "Epoch 95/100\n",
            "2/2 [==============================] - 0s 9ms/step - loss: 29.7805 - mse: 1154.3048\n",
            "Epoch 96/100\n",
            "2/2 [==============================] - 0s 9ms/step - loss: 20.6336 - mse: 764.7887\n",
            "Epoch 97/100\n",
            "2/2 [==============================] - 0s 10ms/step - loss: 21.3017 - mse: 733.4417\n",
            "Epoch 98/100\n",
            "2/2 [==============================] - 0s 10ms/step - loss: 12.9707 - mse: 297.3037\n",
            "Epoch 99/100\n",
            "2/2 [==============================] - 0s 8ms/step - loss: 17.1662 - mse: 517.1242\n",
            "Epoch 100/100\n",
            "2/2 [==============================] - 0s 19ms/step - loss: 16.4226 - mse: 492.9745\n"
          ]
        },
        {
          "output_type": "execute_result",
          "data": {
            "text/plain": [
              "<keras.callbacks.History at 0x7faeab5cb0a0>"
            ]
          },
          "metadata": {},
          "execution_count": 48
        }
      ]
    },
    {
      "cell_type": "code",
      "source": [
        "#make and plot predictions of model_2\n",
        "\n",
        "y_pred_2 = model_2.predict(X_test)\n",
        "plot_predictions(predictions=y_pred_2)"
      ],
      "metadata": {
        "colab": {
          "base_uri": "https://localhost:8080/",
          "height": 486
        },
        "id": "LQfLfpxp4JJM",
        "outputId": "7124a9b0-4cd4-4524-ca58-bc0df525c295"
      },
      "execution_count": 49,
      "outputs": [
        {
          "output_type": "stream",
          "name": "stderr",
          "text": [
            "WARNING:tensorflow:6 out of the last 6 calls to <function Model.make_predict_function.<locals>.predict_function at 0x7faeab68b490> triggered tf.function retracing. Tracing is expensive and the excessive number of tracings could be due to (1) creating @tf.function repeatedly in a loop, (2) passing tensors with different shapes, (3) passing Python objects instead of tensors. For (1), please define your @tf.function outside of the loop. For (2), @tf.function has reduce_retracing=True option that can avoid unnecessary retracing. For (3), please refer to https://www.tensorflow.org/guide/function#controlling_retracing and https://www.tensorflow.org/api_docs/python/tf/function for  more details.\n"
          ]
        },
        {
          "output_type": "stream",
          "name": "stdout",
          "text": [
            "1/1 [==============================] - 0s 114ms/step\n"
          ]
        },
        {
          "output_type": "display_data",
          "data": {
            "text/plain": [
              "<Figure size 640x480 with 1 Axes>"
            ],
            "image/png": "[encoded data removed]"
          },
          "metadata": {}
        }
      ]
    },
    {
      "cell_type": "code",
      "source": [
        "#calculate model_2 evaluation maetrics\n",
        "\n",
        "mae_2 = mae(y_test,tf.squeeze(y_pred_2))\n",
        "mse_2 = mse(y_test,tf.squeeze(y_pred_2))\n",
        "mae_2,mse_2"
      ],
      "metadata": {
        "colab": {
          "base_uri": "https://localhost:8080/"
        },
        "id": "_wgckqVU4I9V",
        "outputId": "a5621a45-0b89-41d6-9964-bdf974396a61"
      },
      "execution_count": 50,
      "outputs": [
        {
          "output_type": "execute_result",
          "data": {
            "text/plain": [
              "(<tf.Tensor: shape=(), dtype=float32, numpy=18.791386>,\n",
              " <tf.Tensor: shape=(), dtype=float32, numpy=355.45294>)"
            ]
          },
          "metadata": {},
          "execution_count": 50
        }
      ]
    },
    {
      "cell_type": "markdown",
      "source": [
        "**Build**\n",
        "\n",
        "> model_3(2 dense,500epochs)\n"
      ],
      "metadata": {
        "id": "XgvM1oLC3Txt"
      }
    },
    {
      "cell_type": "code",
      "source": [
        "tf.random.set_seed(42)\n",
        "\n",
        "model_3 = tf.keras.Sequential([\n",
        "    tf.keras.layers.Dense(1)\n",
        "])\n",
        "\n",
        "model_3.compile(loss= tf.keras.losses.mae,\n",
        "                optimizer= tf.keras.optimizers.SGD(),\n",
        "                metrics=[\"mse\"])\n",
        "\n",
        "model_3.fit(tf.expand_dims(X,axis=-1),y,epochs=500)"
      ],
      "metadata": {
        "colab": {
          "base_uri": "https://localhost:8080/"
        },
        "id": "1zR39nAK0LNE",
        "outputId": "5309a696-bcb4-4d72-fd63-348ce6b1f97c"
      },
      "execution_count": 51,
      "outputs": [
        {
          "output_type": "stream",
          "name": "stdout",
          "text": [
            "Epoch 1/500\n",
            "2/2 [==============================] - 1s 38ms/step - loss: 124.7407 - mse: 21117.9355\n",
            "Epoch 2/500\n",
            "2/2 [==============================] - 0s 17ms/step - loss: 74.7890 - mse: 7568.5112\n",
            "Epoch 3/500\n",
            "2/2 [==============================] - 0s 6ms/step - loss: 25.5974 - mse: 1095.8910\n",
            "Epoch 4/500\n",
            "2/2 [==============================] - 0s 10ms/step - loss: 10.8280 - mse: 148.9404\n",
            "Epoch 5/500\n",
            "2/2 [==============================] - 0s 24ms/step - loss: 10.5075 - mse: 130.2198\n",
            "Epoch 6/500\n",
            "2/2 [==============================] - 0s 12ms/step - loss: 11.9109 - mse: 225.2702\n",
            "Epoch 7/500\n",
            "2/2 [==============================] - 0s 10ms/step - loss: 9.2430 - mse: 122.3643\n",
            "Epoch 8/500\n",
            "2/2 [==============================] - 0s 21ms/step - loss: 13.6011 - mse: 265.0945\n",
            "Epoch 9/500\n",
            "2/2 [==============================] - 0s 10ms/step - loss: 13.8053 - mse: 270.8102\n",
            "Epoch 10/500\n",
            "2/2 [==============================] - 0s 9ms/step - loss: 10.0177 - mse: 108.3421\n",
            "Epoch 11/500\n",
            "2/2 [==============================] - 0s 10ms/step - loss: 9.9896 - mse: 109.0475\n",
            "Epoch 12/500\n",
            "2/2 [==============================] - 0s 12ms/step - loss: 9.9308 - mse: 108.8042\n",
            "Epoch 13/500\n",
            "2/2 [==============================] - 0s 11ms/step - loss: 9.7689 - mse: 99.8572\n",
            "Epoch 14/500\n",
            "2/2 [==============================] - 0s 11ms/step - loss: 10.5696 - mse: 127.8562\n",
            "Epoch 15/500\n",
            "2/2 [==============================] - 0s 10ms/step - loss: 14.2787 - mse: 272.9265\n",
            "Epoch 16/500\n",
            "2/2 [==============================] - 0s 12ms/step - loss: 13.6936 - mse: 314.6233\n",
            "Epoch 17/500\n",
            "2/2 [==============================] - 0s 9ms/step - loss: 10.2031 - mse: 108.0248\n",
            "Epoch 18/500\n",
            "2/2 [==============================] - 0s 11ms/step - loss: 10.6968 - mse: 160.6477\n",
            "Epoch 19/500\n",
            "2/2 [==============================] - 0s 9ms/step - loss: 10.0968 - mse: 106.4893\n",
            "Epoch 20/500\n",
            "2/2 [==============================] - 0s 12ms/step - loss: 10.8912 - mse: 133.7691\n",
            "Epoch 21/500\n",
            "2/2 [==============================] - 0s 8ms/step - loss: 12.1265 - mse: 219.1977\n",
            "Epoch 22/500\n",
            "2/2 [==============================] - 0s 8ms/step - loss: 9.6040 - mse: 104.9697\n",
            "Epoch 23/500\n",
            "2/2 [==============================] - 0s 8ms/step - loss: 9.3367 - mse: 130.3254\n",
            "Epoch 24/500\n",
            "2/2 [==============================] - 0s 11ms/step - loss: 9.7432 - mse: 101.7850\n",
            "Epoch 25/500\n",
            "2/2 [==============================] - 0s 12ms/step - loss: 9.6396 - mse: 94.7446\n",
            "Epoch 26/500\n",
            "2/2 [==============================] - 0s 12ms/step - loss: 10.0467 - mse: 148.3325\n",
            "Epoch 27/500\n",
            "2/2 [==============================] - 0s 9ms/step - loss: 10.3797 - mse: 166.4665\n",
            "Epoch 28/500\n",
            "2/2 [==============================] - 0s 10ms/step - loss: 9.7863 - mse: 124.2162\n",
            "Epoch 29/500\n",
            "2/2 [==============================] - 0s 11ms/step - loss: 9.6727 - mse: 100.1854\n",
            "Epoch 30/500\n",
            "2/2 [==============================] - 0s 12ms/step - loss: 9.7971 - mse: 101.5230\n",
            "Epoch 31/500\n",
            "2/2 [==============================] - 0s 10ms/step - loss: 10.6913 - mse: 130.2980\n",
            "Epoch 32/500\n",
            "2/2 [==============================] - 0s 9ms/step - loss: 9.6947 - mse: 138.7511\n",
            "Epoch 33/500\n",
            "2/2 [==============================] - 0s 16ms/step - loss: 9.5133 - mse: 90.5686\n",
            "Epoch 34/500\n",
            "2/2 [==============================] - 0s 23ms/step - loss: 9.8389 - mse: 105.7130\n",
            "Epoch 35/500\n",
            "2/2 [==============================] - 0s 23ms/step - loss: 11.0356 - mse: 184.2880\n",
            "Epoch 36/500\n",
            "2/2 [==============================] - 0s 14ms/step - loss: 10.6836 - mse: 160.4509\n",
            "Epoch 37/500\n",
            "2/2 [==============================] - 0s 15ms/step - loss: 9.4052 - mse: 92.7481\n",
            "Epoch 38/500\n",
            "2/2 [==============================] - 0s 22ms/step - loss: 9.4145 - mse: 104.8529\n",
            "Epoch 39/500\n",
            "2/2 [==============================] - 0s 18ms/step - loss: 10.2437 - mse: 128.8222\n",
            "Epoch 40/500\n",
            "2/2 [==============================] - 0s 23ms/step - loss: 11.8325 - mse: 218.2469\n",
            "Epoch 41/500\n",
            "2/2 [==============================] - 0s 8ms/step - loss: 10.4452 - mse: 139.5612\n",
            "Epoch 42/500\n",
            "2/2 [==============================] - 0s 14ms/step - loss: 10.3864 - mse: 164.1820\n",
            "Epoch 43/500\n",
            "2/2 [==============================] - 0s 13ms/step - loss: 12.9636 - mse: 234.9392\n",
            "Epoch 44/500\n",
            "2/2 [==============================] - 0s 20ms/step - loss: 10.1966 - mse: 144.7065\n",
            "Epoch 45/500\n",
            "2/2 [==============================] - 0s 10ms/step - loss: 9.5414 - mse: 93.7376\n",
            "Epoch 46/500\n",
            "2/2 [==============================] - 0s 9ms/step - loss: 9.4090 - mse: 121.6174\n",
            "Epoch 47/500\n",
            "2/2 [==============================] - 0s 16ms/step - loss: 9.3929 - mse: 99.3954\n",
            "Epoch 48/500\n",
            "2/2 [==============================] - 0s 11ms/step - loss: 9.6367 - mse: 99.3630\n",
            "Epoch 49/500\n",
            "2/2 [==============================] - 0s 7ms/step - loss: 10.2915 - mse: 122.7317\n",
            "Epoch 50/500\n",
            "2/2 [==============================] - 0s 7ms/step - loss: 9.6043 - mse: 131.3744\n",
            "Epoch 51/500\n",
            "2/2 [==============================] - 0s 7ms/step - loss: 9.0449 - mse: 100.1599\n",
            "Epoch 52/500\n",
            "2/2 [==============================] - 0s 10ms/step - loss: 9.3096 - mse: 129.6221\n",
            "Epoch 53/500\n",
            "2/2 [==============================] - 0s 16ms/step - loss: 9.4299 - mse: 95.0985\n",
            "Epoch 54/500\n",
            "2/2 [==============================] - 0s 11ms/step - loss: 9.3068 - mse: 89.3082\n",
            "Epoch 55/500\n",
            "2/2 [==============================] - 0s 8ms/step - loss: 9.4630 - mse: 96.5703\n",
            "Epoch 56/500\n",
            "2/2 [==============================] - 0s 8ms/step - loss: 9.1534 - mse: 115.1350\n",
            "Epoch 57/500\n",
            "2/2 [==============================] - 0s 8ms/step - loss: 8.7328 - mse: 131.4489\n",
            "Epoch 58/500\n",
            "2/2 [==============================] - 0s 17ms/step - loss: 9.2294 - mse: 88.3890\n",
            "Epoch 59/500\n",
            "2/2 [==============================] - 0s 9ms/step - loss: 9.0497 - mse: 91.8678\n",
            "Epoch 60/500\n",
            "2/2 [==============================] - 0s 8ms/step - loss: 10.1818 - mse: 137.6036\n",
            "Epoch 61/500\n",
            "2/2 [==============================] - 0s 11ms/step - loss: 9.0358 - mse: 100.5326\n",
            "Epoch 62/500\n",
            "2/2 [==============================] - 0s 9ms/step - loss: 10.0274 - mse: 143.1302\n",
            "Epoch 63/500\n",
            "2/2 [==============================] - 0s 8ms/step - loss: 12.7940 - mse: 229.2134\n",
            "Epoch 64/500\n",
            "2/2 [==============================] - 0s 8ms/step - loss: 9.4814 - mse: 117.2131\n",
            "Epoch 65/500\n",
            "2/2 [==============================] - 0s 13ms/step - loss: 8.9571 - mse: 80.3431\n",
            "Epoch 66/500\n",
            "2/2 [==============================] - 0s 11ms/step - loss: 8.9490 - mse: 103.5373\n",
            "Epoch 67/500\n",
            "2/2 [==============================] - 0s 8ms/step - loss: 9.0665 - mse: 84.7445\n",
            "Epoch 68/500\n",
            "2/2 [==============================] - 0s 8ms/step - loss: 9.1783 - mse: 90.5090\n",
            "Epoch 69/500\n",
            "2/2 [==============================] - 0s 9ms/step - loss: 9.1736 - mse: 88.6871\n",
            "Epoch 70/500\n",
            "2/2 [==============================] - 0s 8ms/step - loss: 9.4335 - mse: 99.2429\n",
            "Epoch 71/500\n",
            "2/2 [==============================] - 0s 8ms/step - loss: 8.8787 - mse: 95.3062\n",
            "Epoch 72/500\n",
            "2/2 [==============================] - 0s 7ms/step - loss: 9.9738 - mse: 149.4704\n",
            "Epoch 73/500\n",
            "2/2 [==============================] - 0s 14ms/step - loss: 11.9228 - mse: 227.9445\n",
            "Epoch 74/500\n",
            "2/2 [==============================] - 0s 11ms/step - loss: 8.5542 - mse: 98.8080\n",
            "Epoch 75/500\n",
            "2/2 [==============================] - 0s 10ms/step - loss: 8.7421 - mse: 77.6395\n",
            "Epoch 76/500\n",
            "2/2 [==============================] - 0s 17ms/step - loss: 8.7877 - mse: 83.1201\n",
            "Epoch 77/500\n",
            "2/2 [==============================] - 0s 8ms/step - loss: 8.1653 - mse: 104.2971\n",
            "Epoch 78/500\n",
            "2/2 [==============================] - 0s 8ms/step - loss: 11.2031 - mse: 185.5696\n",
            "Epoch 79/500\n",
            "2/2 [==============================] - 0s 6ms/step - loss: 9.5355 - mse: 130.6713\n",
            "Epoch 80/500\n",
            "2/2 [==============================] - 0s 7ms/step - loss: 13.1648 - mse: 256.2825\n",
            "Epoch 81/500\n",
            "2/2 [==============================] - 0s 9ms/step - loss: 14.3075 - mse: 273.4260\n",
            "Epoch 82/500\n",
            "2/2 [==============================] - 0s 8ms/step - loss: 16.2437 - mse: 366.9152\n",
            "Epoch 83/500\n",
            "2/2 [==============================] - 0s 9ms/step - loss: 9.5270 - mse: 125.0927\n",
            "Epoch 84/500\n",
            "2/2 [==============================] - 0s 7ms/step - loss: 8.6184 - mse: 86.8550\n",
            "Epoch 85/500\n",
            "2/2 [==============================] - 0s 9ms/step - loss: 8.7197 - mse: 82.4895\n",
            "Epoch 86/500\n",
            "2/2 [==============================] - 0s 9ms/step - loss: 8.9879 - mse: 87.8565\n",
            "Epoch 87/500\n",
            "2/2 [==============================] - 0s 8ms/step - loss: 9.1439 - mse: 91.4464\n",
            "Epoch 88/500\n",
            "2/2 [==============================] - 0s 7ms/step - loss: 8.6921 - mse: 83.4167\n",
            "Epoch 89/500\n",
            "2/2 [==============================] - 0s 7ms/step - loss: 8.8352 - mse: 83.1628\n",
            "Epoch 90/500\n",
            "2/2 [==============================] - 0s 7ms/step - loss: 8.6447 - mse: 77.6731\n",
            "Epoch 91/500\n",
            "2/2 [==============================] - 0s 7ms/step - loss: 8.6946 - mse: 78.8176\n",
            "Epoch 92/500\n",
            "2/2 [==============================] - 0s 7ms/step - loss: 8.5613 - mse: 75.0270\n",
            "Epoch 93/500\n",
            "2/2 [==============================] - 0s 12ms/step - loss: 9.1531 - mse: 91.9041\n",
            "Epoch 94/500\n",
            "2/2 [==============================] - 0s 7ms/step - loss: 9.8921 - mse: 140.9804\n",
            "Epoch 95/500\n",
            "2/2 [==============================] - 0s 7ms/step - loss: 12.8112 - mse: 253.3591\n",
            "Epoch 96/500\n",
            "2/2 [==============================] - 0s 7ms/step - loss: 9.1341 - mse: 118.7664\n",
            "Epoch 97/500\n",
            "2/2 [==============================] - 0s 8ms/step - loss: 10.5319 - mse: 155.5961\n",
            "Epoch 98/500\n",
            "2/2 [==============================] - 0s 17ms/step - loss: 14.7381 - mse: 301.8729\n",
            "Epoch 99/500\n",
            "2/2 [==============================] - 0s 7ms/step - loss: 10.8413 - mse: 164.3269\n",
            "Epoch 100/500\n",
            "2/2 [==============================] - 0s 7ms/step - loss: 14.8965 - mse: 321.0130\n",
            "Epoch 101/500\n",
            "2/2 [==============================] - 0s 7ms/step - loss: 8.9899 - mse: 112.0007\n",
            "Epoch 102/500\n",
            "2/2 [==============================] - 0s 11ms/step - loss: 8.5156 - mse: 74.0152\n",
            "Epoch 103/500\n",
            "2/2 [==============================] - 0s 8ms/step - loss: 8.5643 - mse: 105.7690\n",
            "Epoch 104/500\n",
            "2/2 [==============================] - 0s 10ms/step - loss: 8.5319 - mse: 83.4416\n",
            "Epoch 105/500\n",
            "2/2 [==============================] - 0s 7ms/step - loss: 8.6422 - mse: 77.5758\n",
            "Epoch 106/500\n",
            "2/2 [==============================] - 0s 8ms/step - loss: 7.2551 - mse: 85.9476\n",
            "Epoch 107/500\n",
            "2/2 [==============================] - 0s 7ms/step - loss: 8.1412 - mse: 79.9667\n",
            "Epoch 108/500\n",
            "2/2 [==============================] - 0s 7ms/step - loss: 7.7164 - mse: 80.5973\n",
            "Epoch 109/500\n",
            "2/2 [==============================] - 0s 6ms/step - loss: 10.6166 - mse: 182.7150\n",
            "Epoch 110/500\n",
            "2/2 [==============================] - 0s 6ms/step - loss: 9.4458 - mse: 114.5206\n",
            "Epoch 111/500\n",
            "2/2 [==============================] - 0s 6ms/step - loss: 9.3557 - mse: 102.8844\n",
            "Epoch 112/500\n",
            "2/2 [==============================] - 0s 6ms/step - loss: 9.8241 - mse: 135.6917\n",
            "Epoch 113/500\n",
            "2/2 [==============================] - 0s 18ms/step - loss: 13.1699 - mse: 275.2681\n",
            "Epoch 114/500\n",
            "2/2 [==============================] - 0s 11ms/step - loss: 8.4744 - mse: 88.0867\n",
            "Epoch 115/500\n",
            "2/2 [==============================] - 0s 21ms/step - loss: 11.1395 - mse: 175.8054\n",
            "Epoch 116/500\n",
            "2/2 [==============================] - 0s 9ms/step - loss: 14.6381 - mse: 293.4919\n",
            "Epoch 117/500\n",
            "2/2 [==============================] - 0s 16ms/step - loss: 8.6712 - mse: 101.9809\n",
            "Epoch 118/500\n",
            "2/2 [==============================] - 0s 9ms/step - loss: 12.7513 - mse: 228.2728\n",
            "Epoch 119/500\n",
            "2/2 [==============================] - 0s 10ms/step - loss: 10.4332 - mse: 157.5904\n",
            "Epoch 120/500\n",
            "2/2 [==============================] - 0s 8ms/step - loss: 14.5003 - mse: 278.6460\n",
            "Epoch 121/500\n",
            "2/2 [==============================] - 0s 7ms/step - loss: 9.2262 - mse: 128.2357\n",
            "Epoch 122/500\n",
            "2/2 [==============================] - 0s 9ms/step - loss: 14.0507 - mse: 292.9697\n",
            "Epoch 123/500\n",
            "2/2 [==============================] - 0s 6ms/step - loss: 9.8010 - mse: 150.4583\n",
            "Epoch 124/500\n",
            "2/2 [==============================] - 0s 9ms/step - loss: 9.9423 - mse: 148.5820\n",
            "Epoch 125/500\n",
            "2/2 [==============================] - 0s 7ms/step - loss: 11.8032 - mse: 199.5539\n",
            "Epoch 126/500\n",
            "2/2 [==============================] - 0s 8ms/step - loss: 10.8847 - mse: 197.1889\n",
            "Epoch 127/500\n",
            "2/2 [==============================] - 0s 11ms/step - loss: 9.1070 - mse: 120.2475\n",
            "Epoch 128/500\n",
            "2/2 [==============================] - 0s 7ms/step - loss: 12.3808 - mse: 224.9408\n",
            "Epoch 129/500\n",
            "2/2 [==============================] - 0s 9ms/step - loss: 16.7018 - mse: 413.7399\n",
            "Epoch 130/500\n",
            "2/2 [==============================] - 0s 9ms/step - loss: 11.4659 - mse: 194.5446\n",
            "Epoch 131/500\n",
            "2/2 [==============================] - 0s 11ms/step - loss: 7.9802 - mse: 80.9535\n",
            "Epoch 132/500\n",
            "2/2 [==============================] - 0s 13ms/step - loss: 8.1152 - mse: 93.7111\n",
            "Epoch 133/500\n",
            "2/2 [==============================] - 0s 9ms/step - loss: 12.8471 - mse: 229.1413\n",
            "Epoch 134/500\n",
            "2/2 [==============================] - 0s 7ms/step - loss: 14.1212 - mse: 296.9640\n",
            "Epoch 135/500\n",
            "2/2 [==============================] - 0s 7ms/step - loss: 9.3972 - mse: 130.1224\n",
            "Epoch 136/500\n",
            "2/2 [==============================] - 0s 7ms/step - loss: 11.6029 - mse: 196.1583\n",
            "Epoch 137/500\n",
            "2/2 [==============================] - 0s 9ms/step - loss: 12.1661 - mse: 232.6696\n",
            "Epoch 138/500\n",
            "2/2 [==============================] - 0s 8ms/step - loss: 12.2610 - mse: 218.2575\n",
            "Epoch 139/500\n",
            "2/2 [==============================] - 0s 7ms/step - loss: 11.9899 - mse: 215.0990\n",
            "Epoch 140/500\n",
            "2/2 [==============================] - 0s 9ms/step - loss: 7.9209 - mse: 88.3290\n",
            "Epoch 141/500\n",
            "2/2 [==============================] - 0s 7ms/step - loss: 8.3643 - mse: 101.1708\n",
            "Epoch 142/500\n",
            "2/2 [==============================] - 0s 9ms/step - loss: 11.1213 - mse: 178.4187\n",
            "Epoch 143/500\n",
            "2/2 [==============================] - 0s 10ms/step - loss: 12.8320 - mse: 243.6979\n",
            "Epoch 144/500\n",
            "2/2 [==============================] - 0s 9ms/step - loss: 8.1009 - mse: 105.3263\n",
            "Epoch 145/500\n",
            "2/2 [==============================] - 0s 9ms/step - loss: 11.4505 - mse: 188.2731\n",
            "Epoch 146/500\n",
            "2/2 [==============================] - 0s 8ms/step - loss: 12.0723 - mse: 239.8079\n",
            "Epoch 147/500\n",
            "2/2 [==============================] - 0s 13ms/step - loss: 11.7718 - mse: 210.6829\n",
            "Epoch 148/500\n",
            "2/2 [==============================] - 0s 9ms/step - loss: 8.8475 - mse: 114.3545\n",
            "Epoch 149/500\n",
            "2/2 [==============================] - 0s 9ms/step - loss: 12.0067 - mse: 223.6565\n",
            "Epoch 150/500\n",
            "2/2 [==============================] - 0s 10ms/step - loss: 11.9983 - mse: 221.0639\n",
            "Epoch 151/500\n",
            "2/2 [==============================] - 0s 8ms/step - loss: 12.4696 - mse: 245.7016\n",
            "Epoch 152/500\n",
            "2/2 [==============================] - 0s 7ms/step - loss: 10.7170 - mse: 174.5547\n",
            "Epoch 153/500\n",
            "2/2 [==============================] - 0s 7ms/step - loss: 9.7764 - mse: 139.0369\n",
            "Epoch 154/500\n",
            "2/2 [==============================] - 0s 8ms/step - loss: 13.9013 - mse: 282.6709\n",
            "Epoch 155/500\n",
            "2/2 [==============================] - 0s 11ms/step - loss: 8.8695 - mse: 109.3530\n",
            "Epoch 156/500\n",
            "2/2 [==============================] - 0s 10ms/step - loss: 15.8274 - mse: 344.8705\n",
            "Epoch 157/500\n",
            "2/2 [==============================] - 0s 10ms/step - loss: 7.8725 - mse: 75.0697\n",
            "Epoch 158/500\n",
            "2/2 [==============================] - 0s 8ms/step - loss: 7.7214 - mse: 63.3757\n",
            "Epoch 159/500\n",
            "2/2 [==============================] - 0s 16ms/step - loss: 7.6994 - mse: 63.1666\n",
            "Epoch 160/500\n",
            "2/2 [==============================] - 0s 20ms/step - loss: 10.1475 - mse: 145.2966\n",
            "Epoch 161/500\n",
            "2/2 [==============================] - 0s 16ms/step - loss: 12.9145 - mse: 244.9981\n",
            "Epoch 162/500\n",
            "2/2 [==============================] - 0s 14ms/step - loss: 13.5607 - mse: 283.8608\n",
            "Epoch 163/500\n",
            "2/2 [==============================] - 0s 12ms/step - loss: 11.4363 - mse: 195.4893\n",
            "Epoch 164/500\n",
            "2/2 [==============================] - 0s 9ms/step - loss: 11.3419 - mse: 197.5041\n",
            "Epoch 165/500\n",
            "2/2 [==============================] - 0s 17ms/step - loss: 10.4025 - mse: 159.4057\n",
            "Epoch 166/500\n",
            "2/2 [==============================] - 0s 12ms/step - loss: 12.0166 - mse: 226.3295\n",
            "Epoch 167/500\n",
            "2/2 [==============================] - 0s 12ms/step - loss: 9.8177 - mse: 143.0777\n",
            "Epoch 168/500\n",
            "2/2 [==============================] - 0s 15ms/step - loss: 13.2939 - mse: 255.0594\n",
            "Epoch 169/500\n",
            "2/2 [==============================] - 0s 17ms/step - loss: 14.0711 - mse: 293.7474\n",
            "Epoch 170/500\n",
            "2/2 [==============================] - 0s 10ms/step - loss: 12.3300 - mse: 218.3714\n",
            "Epoch 171/500\n",
            "2/2 [==============================] - 0s 11ms/step - loss: 13.2994 - mse: 270.7166\n",
            "Epoch 172/500\n",
            "2/2 [==============================] - 0s 11ms/step - loss: 12.3771 - mse: 209.5524\n",
            "Epoch 173/500\n",
            "2/2 [==============================] - 0s 9ms/step - loss: 8.0865 - mse: 100.5430\n",
            "Epoch 174/500\n",
            "2/2 [==============================] - 0s 10ms/step - loss: 7.8922 - mse: 102.5204\n",
            "Epoch 175/500\n",
            "2/2 [==============================] - 0s 10ms/step - loss: 8.9846 - mse: 124.0626\n",
            "Epoch 176/500\n",
            "2/2 [==============================] - 0s 8ms/step - loss: 13.3734 - mse: 243.0316\n",
            "Epoch 177/500\n",
            "2/2 [==============================] - 0s 7ms/step - loss: 13.5191 - mse: 257.3624\n",
            "Epoch 178/500\n",
            "2/2 [==============================] - 0s 7ms/step - loss: 7.6451 - mse: 68.1750\n",
            "Epoch 179/500\n",
            "2/2 [==============================] - 0s 7ms/step - loss: 7.4621 - mse: 58.5112\n",
            "Epoch 180/500\n",
            "2/2 [==============================] - 0s 7ms/step - loss: 8.1517 - mse: 96.1462\n",
            "Epoch 181/500\n",
            "2/2 [==============================] - 0s 10ms/step - loss: 14.5462 - mse: 321.1498\n",
            "Epoch 182/500\n",
            "2/2 [==============================] - 0s 13ms/step - loss: 12.8817 - mse: 232.1391\n",
            "Epoch 183/500\n",
            "2/2 [==============================] - 0s 10ms/step - loss: 13.8863 - mse: 303.3747\n",
            "Epoch 184/500\n",
            "2/2 [==============================] - 0s 9ms/step - loss: 10.5517 - mse: 165.4117\n",
            "Epoch 185/500\n",
            "2/2 [==============================] - 0s 16ms/step - loss: 11.6577 - mse: 191.9984\n",
            "Epoch 186/500\n",
            "2/2 [==============================] - 0s 11ms/step - loss: 11.6559 - mse: 192.8491\n",
            "Epoch 187/500\n",
            "2/2 [==============================] - 0s 11ms/step - loss: 10.9819 - mse: 188.1570\n",
            "Epoch 188/500\n",
            "2/2 [==============================] - 0s 8ms/step - loss: 11.4078 - mse: 194.1496\n",
            "Epoch 189/500\n",
            "2/2 [==============================] - 0s 10ms/step - loss: 14.3461 - mse: 277.4359\n",
            "Epoch 190/500\n",
            "2/2 [==============================] - 0s 9ms/step - loss: 15.0976 - mse: 326.8026\n",
            "Epoch 191/500\n",
            "2/2 [==============================] - 0s 18ms/step - loss: 9.0410 - mse: 129.1790\n",
            "Epoch 192/500\n",
            "2/2 [==============================] - 0s 14ms/step - loss: 12.9141 - mse: 235.5097\n",
            "Epoch 193/500\n",
            "2/2 [==============================] - 0s 10ms/step - loss: 8.2016 - mse: 81.5715\n",
            "Epoch 194/500\n",
            "2/2 [==============================] - 0s 9ms/step - loss: 10.1325 - mse: 146.4669\n",
            "Epoch 195/500\n",
            "2/2 [==============================] - 0s 7ms/step - loss: 13.3459 - mse: 287.4018\n",
            "Epoch 196/500\n",
            "2/2 [==============================] - 0s 9ms/step - loss: 12.9848 - mse: 245.8470\n",
            "Epoch 197/500\n",
            "2/2 [==============================] - 0s 8ms/step - loss: 8.1141 - mse: 99.1271\n",
            "Epoch 198/500\n",
            "2/2 [==============================] - 0s 14ms/step - loss: 10.7206 - mse: 168.3856\n",
            "Epoch 199/500\n",
            "2/2 [==============================] - 0s 11ms/step - loss: 12.7368 - mse: 230.6537\n",
            "Epoch 200/500\n",
            "2/2 [==============================] - 0s 13ms/step - loss: 10.5154 - mse: 160.1478\n",
            "Epoch 201/500\n",
            "2/2 [==============================] - 0s 6ms/step - loss: 12.9229 - mse: 233.5968\n",
            "Epoch 202/500\n",
            "2/2 [==============================] - 0s 10ms/step - loss: 11.4803 - mse: 191.5889\n",
            "Epoch 203/500\n",
            "2/2 [==============================] - 0s 19ms/step - loss: 14.1954 - mse: 283.7114\n",
            "Epoch 204/500\n",
            "2/2 [==============================] - 0s 11ms/step - loss: 9.4403 - mse: 151.4183\n",
            "Epoch 205/500\n",
            "2/2 [==============================] - 0s 13ms/step - loss: 11.3199 - mse: 183.4682\n",
            "Epoch 206/500\n",
            "2/2 [==============================] - 0s 12ms/step - loss: 7.9761 - mse: 100.6876\n",
            "Epoch 207/500\n",
            "2/2 [==============================] - 0s 11ms/step - loss: 8.4703 - mse: 103.7726\n",
            "Epoch 208/500\n",
            "2/2 [==============================] - 0s 31ms/step - loss: 13.3615 - mse: 269.3436\n",
            "Epoch 209/500\n",
            "2/2 [==============================] - 0s 13ms/step - loss: 12.9483 - mse: 234.6924\n",
            "Epoch 210/500\n",
            "2/2 [==============================] - 0s 17ms/step - loss: 11.1770 - mse: 196.2030\n",
            "Epoch 211/500\n",
            "2/2 [==============================] - 0s 10ms/step - loss: 11.3706 - mse: 180.6473\n",
            "Epoch 212/500\n",
            "2/2 [==============================] - 0s 19ms/step - loss: 14.0787 - mse: 284.8328\n",
            "Epoch 213/500\n",
            "2/2 [==============================] - 0s 11ms/step - loss: 7.3187 - mse: 88.5402\n",
            "Epoch 214/500\n",
            "2/2 [==============================] - 0s 28ms/step - loss: 13.9380 - mse: 278.4888\n",
            "Epoch 215/500\n",
            "2/2 [==============================] - 0s 14ms/step - loss: 14.6078 - mse: 315.7440\n",
            "Epoch 216/500\n",
            "2/2 [==============================] - 0s 28ms/step - loss: 10.5010 - mse: 153.5324\n",
            "Epoch 217/500\n",
            "2/2 [==============================] - 0s 11ms/step - loss: 15.8578 - mse: 414.6894\n",
            "Epoch 218/500\n",
            "2/2 [==============================] - 0s 15ms/step - loss: 7.2467 - mse: 55.3188\n",
            "Epoch 219/500\n",
            "2/2 [==============================] - 0s 20ms/step - loss: 8.2010 - mse: 83.6463\n",
            "Epoch 220/500\n",
            "2/2 [==============================] - 0s 21ms/step - loss: 14.2426 - mse: 337.4067\n",
            "Epoch 221/500\n",
            "2/2 [==============================] - 0s 14ms/step - loss: 10.4720 - mse: 164.9881\n",
            "Epoch 222/500\n",
            "2/2 [==============================] - 0s 12ms/step - loss: 8.2982 - mse: 106.7450\n",
            "Epoch 223/500\n",
            "2/2 [==============================] - 0s 23ms/step - loss: 12.1796 - mse: 241.9018\n",
            "Epoch 224/500\n",
            "2/2 [==============================] - 0s 20ms/step - loss: 10.4983 - mse: 149.2587\n",
            "Epoch 225/500\n",
            "2/2 [==============================] - 0s 12ms/step - loss: 14.7551 - mse: 307.9418\n",
            "Epoch 226/500\n",
            "2/2 [==============================] - 0s 14ms/step - loss: 7.1260 - mse: 51.6843\n",
            "Epoch 227/500\n",
            "2/2 [==============================] - 0s 15ms/step - loss: 7.0266 - mse: 52.0163\n",
            "Epoch 228/500\n",
            "2/2 [==============================] - 0s 14ms/step - loss: 6.9277 - mse: 63.7685\n",
            "Epoch 229/500\n",
            "2/2 [==============================] - 0s 24ms/step - loss: 10.8823 - mse: 176.6235\n",
            "Epoch 230/500\n",
            "2/2 [==============================] - 0s 22ms/step - loss: 7.1348 - mse: 62.6596\n",
            "Epoch 231/500\n",
            "2/2 [==============================] - 0s 24ms/step - loss: 10.8256 - mse: 173.5958\n",
            "Epoch 232/500\n",
            "2/2 [==============================] - 0s 21ms/step - loss: 14.4613 - mse: 296.0714\n",
            "Epoch 233/500\n",
            "2/2 [==============================] - 0s 22ms/step - loss: 13.4376 - mse: 242.4458\n",
            "Epoch 234/500\n",
            "2/2 [==============================] - 0s 15ms/step - loss: 12.0303 - mse: 212.9418\n",
            "Epoch 235/500\n",
            "2/2 [==============================] - 0s 9ms/step - loss: 11.3687 - mse: 184.5412\n",
            "Epoch 236/500\n",
            "2/2 [==============================] - 0s 12ms/step - loss: 12.9529 - mse: 228.8898\n",
            "Epoch 237/500\n",
            "2/2 [==============================] - 0s 11ms/step - loss: 10.0442 - mse: 162.5565\n",
            "Epoch 238/500\n",
            "2/2 [==============================] - 0s 17ms/step - loss: 12.9261 - mse: 235.0086\n",
            "Epoch 239/500\n",
            "2/2 [==============================] - 0s 20ms/step - loss: 13.2051 - mse: 274.8049\n",
            "Epoch 240/500\n",
            "2/2 [==============================] - 0s 25ms/step - loss: 12.7480 - mse: 240.2470\n",
            "Epoch 241/500\n",
            "2/2 [==============================] - 0s 19ms/step - loss: 11.7493 - mse: 213.5279\n",
            "Epoch 242/500\n",
            "2/2 [==============================] - 0s 6ms/step - loss: 15.1134 - mse: 314.0768\n",
            "Epoch 243/500\n",
            "2/2 [==============================] - 0s 14ms/step - loss: 10.7499 - mse: 174.4861\n",
            "Epoch 244/500\n",
            "2/2 [==============================] - 0s 10ms/step - loss: 7.8544 - mse: 91.8552\n",
            "Epoch 245/500\n",
            "2/2 [==============================] - 0s 7ms/step - loss: 10.4365 - mse: 172.9143\n",
            "Epoch 246/500\n",
            "2/2 [==============================] - 0s 14ms/step - loss: 10.3597 - mse: 166.4585\n",
            "Epoch 247/500\n",
            "2/2 [==============================] - 0s 9ms/step - loss: 9.1545 - mse: 137.8111\n",
            "Epoch 248/500\n",
            "2/2 [==============================] - 0s 23ms/step - loss: 7.1005 - mse: 56.4181\n",
            "Epoch 249/500\n",
            "2/2 [==============================] - 0s 10ms/step - loss: 9.1246 - mse: 118.8686\n",
            "Epoch 250/500\n",
            "2/2 [==============================] - 0s 6ms/step - loss: 12.3208 - mse: 232.4561\n",
            "Epoch 251/500\n",
            "2/2 [==============================] - 0s 11ms/step - loss: 12.0950 - mse: 196.4586\n",
            "Epoch 252/500\n",
            "2/2 [==============================] - 0s 7ms/step - loss: 10.4793 - mse: 163.7930\n",
            "Epoch 253/500\n",
            "2/2 [==============================] - 0s 9ms/step - loss: 10.4999 - mse: 160.2575\n",
            "Epoch 254/500\n",
            "2/2 [==============================] - 0s 10ms/step - loss: 15.0861 - mse: 299.3141\n",
            "Epoch 255/500\n",
            "2/2 [==============================] - 0s 11ms/step - loss: 11.2657 - mse: 186.0658\n",
            "Epoch 256/500\n",
            "2/2 [==============================] - 0s 12ms/step - loss: 6.8898 - mse: 63.3164\n",
            "Epoch 257/500\n",
            "2/2 [==============================] - 0s 9ms/step - loss: 6.8298 - mse: 59.2852\n",
            "Epoch 258/500\n",
            "2/2 [==============================] - 0s 7ms/step - loss: 7.4105 - mse: 65.8416\n",
            "Epoch 259/500\n",
            "2/2 [==============================] - 0s 12ms/step - loss: 12.6344 - mse: 239.2232\n",
            "Epoch 260/500\n",
            "2/2 [==============================] - 0s 10ms/step - loss: 10.2777 - mse: 163.9688\n",
            "Epoch 261/500\n",
            "2/2 [==============================] - 0s 6ms/step - loss: 6.8365 - mse: 48.3969\n",
            "Epoch 262/500\n",
            "2/2 [==============================] - 0s 18ms/step - loss: 6.8009 - mse: 46.8982\n",
            "Epoch 263/500\n",
            "2/2 [==============================] - 0s 6ms/step - loss: 6.5706 - mse: 59.2286\n",
            "Epoch 264/500\n",
            "2/2 [==============================] - 0s 9ms/step - loss: 8.5970 - mse: 109.8434\n",
            "Epoch 265/500\n",
            "2/2 [==============================] - 0s 6ms/step - loss: 12.5695 - mse: 262.5888\n",
            "Epoch 266/500\n",
            "2/2 [==============================] - 0s 14ms/step - loss: 6.7052 - mse: 45.7578\n",
            "Epoch 267/500\n",
            "2/2 [==============================] - 0s 29ms/step - loss: 6.6620 - mse: 47.9040\n",
            "Epoch 268/500\n",
            "2/2 [==============================] - 0s 7ms/step - loss: 8.2953 - mse: 111.6051\n",
            "Epoch 269/500\n",
            "2/2 [==============================] - 0s 7ms/step - loss: 11.7710 - mse: 196.8654\n",
            "Epoch 270/500\n",
            "2/2 [==============================] - 0s 7ms/step - loss: 15.3755 - mse: 341.1760\n",
            "Epoch 271/500\n",
            "2/2 [==============================] - 0s 8ms/step - loss: 14.8998 - mse: 291.0058\n",
            "Epoch 272/500\n",
            "2/2 [==============================] - 0s 10ms/step - loss: 14.9529 - mse: 305.9498\n",
            "Epoch 273/500\n",
            "2/2 [==============================] - 0s 10ms/step - loss: 11.8864 - mse: 194.9324\n",
            "Epoch 274/500\n",
            "2/2 [==============================] - 0s 11ms/step - loss: 9.7346 - mse: 156.2829\n",
            "Epoch 275/500\n",
            "2/2 [==============================] - 0s 9ms/step - loss: 13.1936 - mse: 256.7634\n",
            "Epoch 276/500\n",
            "2/2 [==============================] - 0s 11ms/step - loss: 13.9495 - mse: 292.0555\n",
            "Epoch 277/500\n",
            "2/2 [==============================] - 0s 10ms/step - loss: 12.8693 - mse: 260.9825\n",
            "Epoch 278/500\n",
            "2/2 [==============================] - 0s 13ms/step - loss: 14.0870 - mse: 272.4921\n",
            "Epoch 279/500\n",
            "2/2 [==============================] - 0s 9ms/step - loss: 10.9213 - mse: 177.7194\n",
            "Epoch 280/500\n",
            "2/2 [==============================] - 0s 13ms/step - loss: 9.5522 - mse: 140.9185\n",
            "Epoch 281/500\n",
            "2/2 [==============================] - 0s 25ms/step - loss: 11.7798 - mse: 203.2569\n",
            "Epoch 282/500\n",
            "2/2 [==============================] - 0s 10ms/step - loss: 12.9424 - mse: 223.8527\n",
            "Epoch 283/500\n",
            "2/2 [==============================] - 0s 22ms/step - loss: 11.4406 - mse: 199.8255\n",
            "Epoch 284/500\n",
            "2/2 [==============================] - 0s 9ms/step - loss: 11.8182 - mse: 194.3013\n",
            "Epoch 285/500\n",
            "2/2 [==============================] - 0s 12ms/step - loss: 11.3940 - mse: 194.4618\n",
            "Epoch 286/500\n",
            "2/2 [==============================] - 0s 10ms/step - loss: 13.1785 - mse: 239.2493\n",
            "Epoch 287/500\n",
            "2/2 [==============================] - 0s 6ms/step - loss: 13.1296 - mse: 230.5171\n",
            "Epoch 288/500\n",
            "2/2 [==============================] - 0s 13ms/step - loss: 13.7960 - mse: 271.9688\n",
            "Epoch 289/500\n",
            "2/2 [==============================] - 0s 9ms/step - loss: 10.2006 - mse: 147.4584\n",
            "Epoch 290/500\n",
            "2/2 [==============================] - 0s 9ms/step - loss: 11.9325 - mse: 202.0355\n",
            "Epoch 291/500\n",
            "2/2 [==============================] - 0s 6ms/step - loss: 15.2667 - mse: 299.0762\n",
            "Epoch 292/500\n",
            "2/2 [==============================] - 0s 14ms/step - loss: 10.2903 - mse: 150.9016\n",
            "Epoch 293/500\n",
            "2/2 [==============================] - 0s 21ms/step - loss: 11.8339 - mse: 214.9283\n",
            "Epoch 294/500\n",
            "2/2 [==============================] - 0s 10ms/step - loss: 10.9870 - mse: 182.2921\n",
            "Epoch 295/500\n",
            "2/2 [==============================] - 0s 8ms/step - loss: 15.1453 - mse: 284.7430\n",
            "Epoch 296/500\n",
            "2/2 [==============================] - 0s 14ms/step - loss: 9.3409 - mse: 134.4359\n",
            "Epoch 297/500\n",
            "2/2 [==============================] - 0s 31ms/step - loss: 7.5119 - mse: 88.9795\n",
            "Epoch 298/500\n",
            "2/2 [==============================] - 0s 11ms/step - loss: 11.8415 - mse: 211.0053\n",
            "Epoch 299/500\n",
            "2/2 [==============================] - 0s 16ms/step - loss: 11.2601 - mse: 180.6777\n",
            "Epoch 300/500\n",
            "2/2 [==============================] - 0s 16ms/step - loss: 13.3577 - mse: 250.0160\n",
            "Epoch 301/500\n",
            "2/2 [==============================] - 0s 10ms/step - loss: 10.6739 - mse: 173.5077\n",
            "Epoch 302/500\n",
            "2/2 [==============================] - 0s 10ms/step - loss: 11.3459 - mse: 187.4535\n",
            "Epoch 303/500\n",
            "2/2 [==============================] - 0s 13ms/step - loss: 11.8872 - mse: 219.8033\n",
            "Epoch 304/500\n",
            "2/2 [==============================] - 0s 11ms/step - loss: 14.2988 - mse: 280.0300\n",
            "Epoch 305/500\n",
            "2/2 [==============================] - 0s 15ms/step - loss: 6.4625 - mse: 55.5405\n",
            "Epoch 306/500\n",
            "2/2 [==============================] - 0s 17ms/step - loss: 12.4257 - mse: 220.9665\n",
            "Epoch 307/500\n",
            "2/2 [==============================] - 0s 17ms/step - loss: 12.3438 - mse: 199.1109\n",
            "Epoch 308/500\n",
            "2/2 [==============================] - 0s 9ms/step - loss: 11.4340 - mse: 186.7902\n",
            "Epoch 309/500\n",
            "2/2 [==============================] - 0s 6ms/step - loss: 10.3242 - mse: 173.8425\n",
            "Epoch 310/500\n",
            "2/2 [==============================] - 0s 9ms/step - loss: 11.5532 - mse: 200.3692\n",
            "Epoch 311/500\n",
            "2/2 [==============================] - 0s 8ms/step - loss: 12.8438 - mse: 229.5048\n",
            "Epoch 312/500\n",
            "2/2 [==============================] - 0s 8ms/step - loss: 13.3989 - mse: 298.5973\n",
            "Epoch 313/500\n",
            "2/2 [==============================] - 0s 13ms/step - loss: 11.3411 - mse: 179.0886\n",
            "Epoch 314/500\n",
            "2/2 [==============================] - 0s 11ms/step - loss: 15.6730 - mse: 414.5938\n",
            "Epoch 315/500\n",
            "2/2 [==============================] - 0s 6ms/step - loss: 6.4967 - mse: 48.6847\n",
            "Epoch 316/500\n",
            "2/2 [==============================] - 0s 10ms/step - loss: 11.6101 - mse: 195.9327\n",
            "Epoch 317/500\n",
            "2/2 [==============================] - 0s 9ms/step - loss: 13.6816 - mse: 256.4952\n",
            "Epoch 318/500\n",
            "2/2 [==============================] - 0s 11ms/step - loss: 10.8211 - mse: 179.2678\n",
            "Epoch 319/500\n",
            "2/2 [==============================] - 0s 11ms/step - loss: 11.5487 - mse: 191.1755\n",
            "Epoch 320/500\n",
            "2/2 [==============================] - 0s 9ms/step - loss: 13.4589 - mse: 245.9134\n",
            "Epoch 321/500\n",
            "2/2 [==============================] - 0s 17ms/step - loss: 10.8799 - mse: 165.9687\n",
            "Epoch 322/500\n",
            "2/2 [==============================] - 0s 15ms/step - loss: 12.4269 - mse: 231.0176\n",
            "Epoch 323/500\n",
            "2/2 [==============================] - 0s 13ms/step - loss: 8.7173 - mse: 107.5191\n",
            "Epoch 324/500\n",
            "2/2 [==============================] - 0s 9ms/step - loss: 11.8247 - mse: 208.9173\n",
            "Epoch 325/500\n",
            "2/2 [==============================] - 0s 11ms/step - loss: 14.7863 - mse: 314.8671\n",
            "Epoch 326/500\n",
            "2/2 [==============================] - 0s 7ms/step - loss: 12.2434 - mse: 218.2719\n",
            "Epoch 327/500\n",
            "2/2 [==============================] - 0s 10ms/step - loss: 14.6832 - mse: 320.7250\n",
            "Epoch 328/500\n",
            "2/2 [==============================] - 0s 7ms/step - loss: 12.9729 - mse: 238.7554\n",
            "Epoch 329/500\n",
            "2/2 [==============================] - 0s 6ms/step - loss: 11.5179 - mse: 198.1623\n",
            "Epoch 330/500\n",
            "2/2 [==============================] - 0s 6ms/step - loss: 14.7786 - mse: 316.7046\n",
            "Epoch 331/500\n",
            "2/2 [==============================] - 0s 8ms/step - loss: 12.2128 - mse: 223.9777\n",
            "Epoch 332/500\n",
            "2/2 [==============================] - 0s 39ms/step - loss: 14.0614 - mse: 255.4047\n",
            "Epoch 333/500\n",
            "2/2 [==============================] - 0s 10ms/step - loss: 14.5185 - mse: 300.1332\n",
            "Epoch 334/500\n",
            "2/2 [==============================] - 0s 14ms/step - loss: 10.9202 - mse: 191.6932\n",
            "Epoch 335/500\n",
            "2/2 [==============================] - 0s 7ms/step - loss: 11.2080 - mse: 192.5555\n",
            "Epoch 336/500\n",
            "2/2 [==============================] - 0s 7ms/step - loss: 13.4474 - mse: 242.8691\n",
            "Epoch 337/500\n",
            "2/2 [==============================] - 0s 9ms/step - loss: 9.1947 - mse: 132.3374\n",
            "Epoch 338/500\n",
            "2/2 [==============================] - 0s 12ms/step - loss: 14.6586 - mse: 319.5792\n",
            "Epoch 339/500\n",
            "2/2 [==============================] - 0s 11ms/step - loss: 13.2585 - mse: 256.5867\n",
            "Epoch 340/500\n",
            "2/2 [==============================] - 0s 10ms/step - loss: 14.5454 - mse: 278.7314\n",
            "Epoch 341/500\n",
            "2/2 [==============================] - 0s 13ms/step - loss: 9.4062 - mse: 139.6875\n",
            "Epoch 342/500\n",
            "2/2 [==============================] - 0s 10ms/step - loss: 6.1897 - mse: 39.2612\n",
            "Epoch 343/500\n",
            "2/2 [==============================] - 0s 12ms/step - loss: 6.7332 - mse: 55.9969\n",
            "Epoch 344/500\n",
            "2/2 [==============================] - 0s 8ms/step - loss: 18.3645 - mse: 504.7080\n",
            "Epoch 345/500\n",
            "2/2 [==============================] - 0s 11ms/step - loss: 9.1759 - mse: 132.0343\n",
            "Epoch 346/500\n",
            "2/2 [==============================] - 0s 12ms/step - loss: 13.1388 - mse: 236.1763\n",
            "Epoch 347/500\n",
            "2/2 [==============================] - 0s 37ms/step - loss: 13.0246 - mse: 234.6943\n",
            "Epoch 348/500\n",
            "2/2 [==============================] - 0s 9ms/step - loss: 12.8615 - mse: 255.6880\n",
            "Epoch 349/500\n",
            "2/2 [==============================] - 0s 8ms/step - loss: 15.2917 - mse: 306.3329\n",
            "Epoch 350/500\n",
            "2/2 [==============================] - 0s 9ms/step - loss: 11.1830 - mse: 193.7381\n",
            "Epoch 351/500\n",
            "2/2 [==============================] - 0s 9ms/step - loss: 12.0164 - mse: 213.1290\n",
            "Epoch 352/500\n",
            "2/2 [==============================] - 0s 12ms/step - loss: 10.0017 - mse: 151.7815\n",
            "Epoch 353/500\n",
            "2/2 [==============================] - 0s 11ms/step - loss: 12.2286 - mse: 217.6174\n",
            "Epoch 354/500\n",
            "2/2 [==============================] - 0s 17ms/step - loss: 12.3959 - mse: 221.6584\n",
            "Epoch 355/500\n",
            "2/2 [==============================] - 0s 12ms/step - loss: 12.8137 - mse: 219.9755\n",
            "Epoch 356/500\n",
            "2/2 [==============================] - 0s 20ms/step - loss: 12.6526 - mse: 226.1012\n",
            "Epoch 357/500\n",
            "2/2 [==============================] - 0s 13ms/step - loss: 15.9373 - mse: 394.2314\n",
            "Epoch 358/500\n",
            "2/2 [==============================] - 0s 7ms/step - loss: 11.0992 - mse: 183.0415\n",
            "Epoch 359/500\n",
            "2/2 [==============================] - 0s 9ms/step - loss: 6.6475 - mse: 70.8432\n",
            "Epoch 360/500\n",
            "2/2 [==============================] - 0s 18ms/step - loss: 12.5227 - mse: 227.4325\n",
            "Epoch 361/500\n",
            "2/2 [==============================] - 0s 7ms/step - loss: 12.1254 - mse: 206.2104\n",
            "Epoch 362/500\n",
            "2/2 [==============================] - 0s 19ms/step - loss: 15.3613 - mse: 367.1964\n",
            "Epoch 363/500\n",
            "2/2 [==============================] - 0s 25ms/step - loss: 13.2184 - mse: 233.1018\n",
            "Epoch 364/500\n",
            "2/2 [==============================] - 0s 12ms/step - loss: 12.6774 - mse: 235.6590\n",
            "Epoch 365/500\n",
            "2/2 [==============================] - 0s 17ms/step - loss: 14.4764 - mse: 299.0104\n",
            "Epoch 366/500\n",
            "2/2 [==============================] - 0s 19ms/step - loss: 14.2629 - mse: 276.4906\n",
            "Epoch 367/500\n",
            "2/2 [==============================] - 0s 14ms/step - loss: 10.0620 - mse: 149.8599\n",
            "Epoch 368/500\n",
            "2/2 [==============================] - 0s 10ms/step - loss: 10.7120 - mse: 162.7584\n",
            "Epoch 369/500\n",
            "2/2 [==============================] - 0s 15ms/step - loss: 15.2692 - mse: 381.6052\n",
            "Epoch 370/500\n",
            "2/2 [==============================] - 0s 9ms/step - loss: 6.1041 - mse: 41.8320\n",
            "Epoch 371/500\n",
            "2/2 [==============================] - 0s 21ms/step - loss: 10.5135 - mse: 172.4620\n",
            "Epoch 372/500\n",
            "2/2 [==============================] - 0s 9ms/step - loss: 10.8383 - mse: 175.4005\n",
            "Epoch 373/500\n",
            "2/2 [==============================] - 0s 7ms/step - loss: 8.9523 - mse: 127.5545\n",
            "Epoch 374/500\n",
            "2/2 [==============================] - 0s 10ms/step - loss: 15.3607 - mse: 390.6776\n",
            "Epoch 375/500\n",
            "2/2 [==============================] - 0s 16ms/step - loss: 11.4991 - mse: 180.0216\n",
            "Epoch 376/500\n",
            "2/2 [==============================] - 0s 7ms/step - loss: 12.6977 - mse: 215.7034\n",
            "Epoch 377/500\n",
            "2/2 [==============================] - 0s 6ms/step - loss: 14.4647 - mse: 287.6659\n",
            "Epoch 378/500\n",
            "2/2 [==============================] - 0s 10ms/step - loss: 10.1890 - mse: 172.3556\n",
            "Epoch 379/500\n",
            "2/2 [==============================] - 0s 8ms/step - loss: 10.4514 - mse: 161.2766\n",
            "Epoch 380/500\n",
            "2/2 [==============================] - 0s 12ms/step - loss: 10.9619 - mse: 182.8111\n",
            "Epoch 381/500\n",
            "2/2 [==============================] - 0s 12ms/step - loss: 11.4545 - mse: 197.5902\n",
            "Epoch 382/500\n",
            "2/2 [==============================] - 0s 10ms/step - loss: 10.9545 - mse: 190.8597\n",
            "Epoch 383/500\n",
            "2/2 [==============================] - 0s 11ms/step - loss: 11.6237 - mse: 205.1657\n",
            "Epoch 384/500\n",
            "2/2 [==============================] - 0s 6ms/step - loss: 12.0620 - mse: 199.6076\n",
            "Epoch 385/500\n",
            "2/2 [==============================] - 0s 16ms/step - loss: 13.6318 - mse: 306.9445\n",
            "Epoch 386/500\n",
            "2/2 [==============================] - 0s 18ms/step - loss: 13.0222 - mse: 235.6755\n",
            "Epoch 387/500\n",
            "2/2 [==============================] - 0s 11ms/step - loss: 13.9655 - mse: 275.7171\n",
            "Epoch 388/500\n",
            "2/2 [==============================] - 0s 11ms/step - loss: 12.4907 - mse: 243.2394\n",
            "Epoch 389/500\n",
            "2/2 [==============================] - 0s 9ms/step - loss: 15.0356 - mse: 307.1642\n",
            "Epoch 390/500\n",
            "2/2 [==============================] - 0s 11ms/step - loss: 14.0592 - mse: 288.0717\n",
            "Epoch 391/500\n",
            "2/2 [==============================] - 0s 10ms/step - loss: 14.3679 - mse: 323.0289\n",
            "Epoch 392/500\n",
            "2/2 [==============================] - 0s 13ms/step - loss: 11.3709 - mse: 176.0637\n",
            "Epoch 393/500\n",
            "2/2 [==============================] - 0s 14ms/step - loss: 13.8973 - mse: 335.2957\n",
            "Epoch 394/500\n",
            "2/2 [==============================] - 0s 12ms/step - loss: 12.4441 - mse: 216.5762\n",
            "Epoch 395/500\n",
            "2/2 [==============================] - 0s 15ms/step - loss: 11.8572 - mse: 198.2882\n",
            "Epoch 396/500\n",
            "2/2 [==============================] - 0s 19ms/step - loss: 16.8824 - mse: 422.5414\n",
            "Epoch 397/500\n",
            "2/2 [==============================] - 0s 14ms/step - loss: 10.1897 - mse: 166.3946\n",
            "Epoch 398/500\n",
            "2/2 [==============================] - 0s 14ms/step - loss: 5.3459 - mse: 45.6400\n",
            "Epoch 399/500\n",
            "2/2 [==============================] - 0s 19ms/step - loss: 13.5233 - mse: 255.6733\n",
            "Epoch 400/500\n",
            "2/2 [==============================] - 0s 14ms/step - loss: 12.6875 - mse: 227.8313\n",
            "Epoch 401/500\n",
            "2/2 [==============================] - 0s 21ms/step - loss: 11.7305 - mse: 204.2284\n",
            "Epoch 402/500\n",
            "2/2 [==============================] - 0s 21ms/step - loss: 13.5537 - mse: 251.3606\n",
            "Epoch 403/500\n",
            "2/2 [==============================] - 0s 12ms/step - loss: 11.4577 - mse: 196.7218\n",
            "Epoch 404/500\n",
            "2/2 [==============================] - 0s 14ms/step - loss: 7.8399 - mse: 103.3827\n",
            "Epoch 405/500\n",
            "2/2 [==============================] - 0s 15ms/step - loss: 12.4164 - mse: 211.3720\n",
            "Epoch 406/500\n",
            "2/2 [==============================] - 0s 9ms/step - loss: 13.7032 - mse: 245.3004\n",
            "Epoch 407/500\n",
            "2/2 [==============================] - 0s 10ms/step - loss: 13.1586 - mse: 240.3424\n",
            "Epoch 408/500\n",
            "2/2 [==============================] - 0s 11ms/step - loss: 10.7056 - mse: 150.5134\n",
            "Epoch 409/500\n",
            "2/2 [==============================] - 0s 15ms/step - loss: 11.3910 - mse: 184.1054\n",
            "Epoch 410/500\n",
            "2/2 [==============================] - 0s 11ms/step - loss: 11.6701 - mse: 201.7514\n",
            "Epoch 411/500\n",
            "2/2 [==============================] - 0s 8ms/step - loss: 14.3849 - mse: 303.7676\n",
            "Epoch 412/500\n",
            "2/2 [==============================] - 0s 9ms/step - loss: 10.3780 - mse: 158.1519\n",
            "Epoch 413/500\n",
            "2/2 [==============================] - 0s 12ms/step - loss: 15.1656 - mse: 320.7196\n",
            "Epoch 414/500\n",
            "2/2 [==============================] - 0s 12ms/step - loss: 8.7002 - mse: 115.1945\n",
            "Epoch 415/500\n",
            "2/2 [==============================] - 0s 6ms/step - loss: 12.0802 - mse: 223.1381\n",
            "Epoch 416/500\n",
            "2/2 [==============================] - 0s 13ms/step - loss: 13.2241 - mse: 264.8729\n",
            "Epoch 417/500\n",
            "2/2 [==============================] - 0s 12ms/step - loss: 14.1639 - mse: 300.5149\n",
            "Epoch 418/500\n",
            "2/2 [==============================] - 0s 12ms/step - loss: 12.6824 - mse: 224.7146\n",
            "Epoch 419/500\n",
            "2/2 [==============================] - 0s 9ms/step - loss: 13.2210 - mse: 255.2786\n",
            "Epoch 420/500\n",
            "2/2 [==============================] - 0s 12ms/step - loss: 13.2421 - mse: 261.5088\n",
            "Epoch 421/500\n",
            "2/2 [==============================] - 0s 11ms/step - loss: 13.4287 - mse: 262.9640\n",
            "Epoch 422/500\n",
            "2/2 [==============================] - 0s 13ms/step - loss: 11.9568 - mse: 214.9396\n",
            "Epoch 423/500\n",
            "2/2 [==============================] - 0s 8ms/step - loss: 11.2688 - mse: 219.2323\n",
            "Epoch 424/500\n",
            "2/2 [==============================] - 0s 7ms/step - loss: 5.6341 - mse: 33.5306\n",
            "Epoch 425/500\n",
            "2/2 [==============================] - 0s 10ms/step - loss: 5.8064 - mse: 39.5925\n",
            "Epoch 426/500\n",
            "2/2 [==============================] - 0s 12ms/step - loss: 13.6761 - mse: 268.7682\n",
            "Epoch 427/500\n",
            "2/2 [==============================] - 0s 11ms/step - loss: 11.4346 - mse: 192.7908\n",
            "Epoch 428/500\n",
            "2/2 [==============================] - 0s 7ms/step - loss: 6.3860 - mse: 51.8130\n",
            "Epoch 429/500\n",
            "2/2 [==============================] - 0s 13ms/step - loss: 12.3298 - mse: 213.9530\n",
            "Epoch 430/500\n",
            "2/2 [==============================] - 0s 7ms/step - loss: 10.2279 - mse: 144.5587\n",
            "Epoch 431/500\n",
            "2/2 [==============================] - 0s 6ms/step - loss: 14.1095 - mse: 333.1994\n",
            "Epoch 432/500\n",
            "2/2 [==============================] - 0s 7ms/step - loss: 9.4324 - mse: 128.1297\n",
            "Epoch 433/500\n",
            "2/2 [==============================] - 0s 12ms/step - loss: 14.5114 - mse: 323.2437\n",
            "Epoch 434/500\n",
            "2/2 [==============================] - 0s 10ms/step - loss: 13.6551 - mse: 280.4767\n",
            "Epoch 435/500\n",
            "2/2 [==============================] - 0s 27ms/step - loss: 15.5126 - mse: 351.4071\n",
            "Epoch 436/500\n",
            "2/2 [==============================] - 0s 9ms/step - loss: 13.1817 - mse: 232.7875\n",
            "Epoch 437/500\n",
            "2/2 [==============================] - 0s 9ms/step - loss: 5.5452 - mse: 34.9594\n",
            "Epoch 438/500\n",
            "2/2 [==============================] - 0s 10ms/step - loss: 5.4323 - mse: 30.8725\n",
            "Epoch 439/500\n",
            "2/2 [==============================] - 0s 10ms/step - loss: 5.6629 - mse: 36.9731\n",
            "Epoch 440/500\n",
            "2/2 [==============================] - 0s 8ms/step - loss: 9.1940 - mse: 130.7060\n",
            "Epoch 441/500\n",
            "2/2 [==============================] - 0s 11ms/step - loss: 11.1627 - mse: 183.7512\n",
            "Epoch 442/500\n",
            "2/2 [==============================] - 0s 8ms/step - loss: 14.8337 - mse: 340.9682\n",
            "Epoch 443/500\n",
            "2/2 [==============================] - 0s 8ms/step - loss: 14.6743 - mse: 295.3073\n",
            "Epoch 444/500\n",
            "2/2 [==============================] - 0s 9ms/step - loss: 11.8867 - mse: 218.6763\n",
            "Epoch 445/500\n",
            "2/2 [==============================] - 0s 8ms/step - loss: 8.3466 - mse: 112.6380\n",
            "Epoch 446/500\n",
            "2/2 [==============================] - 0s 44ms/step - loss: 14.2941 - mse: 283.9286\n",
            "Epoch 447/500\n",
            "2/2 [==============================] - 0s 19ms/step - loss: 10.9658 - mse: 163.3844\n",
            "Epoch 448/500\n",
            "2/2 [==============================] - 0s 25ms/step - loss: 11.9048 - mse: 208.6677\n",
            "Epoch 449/500\n",
            "2/2 [==============================] - 0s 13ms/step - loss: 10.3366 - mse: 166.4958\n",
            "Epoch 450/500\n",
            "2/2 [==============================] - 0s 14ms/step - loss: 10.8526 - mse: 172.3497\n",
            "Epoch 451/500\n",
            "2/2 [==============================] - 0s 15ms/step - loss: 13.3374 - mse: 298.9152\n",
            "Epoch 452/500\n",
            "2/2 [==============================] - 0s 11ms/step - loss: 12.3924 - mse: 234.3965\n",
            "Epoch 453/500\n",
            "2/2 [==============================] - 0s 12ms/step - loss: 10.2026 - mse: 161.0504\n",
            "Epoch 454/500\n",
            "2/2 [==============================] - 0s 9ms/step - loss: 10.4423 - mse: 162.2923\n",
            "Epoch 455/500\n",
            "2/2 [==============================] - 0s 10ms/step - loss: 12.0510 - mse: 199.1852\n",
            "Epoch 456/500\n",
            "2/2 [==============================] - 0s 21ms/step - loss: 10.0853 - mse: 156.4441\n",
            "Epoch 457/500\n",
            "2/2 [==============================] - 0s 12ms/step - loss: 12.4249 - mse: 218.0369\n",
            "Epoch 458/500\n",
            "2/2 [==============================] - 0s 8ms/step - loss: 13.3127 - mse: 260.7116\n",
            "Epoch 459/500\n",
            "2/2 [==============================] - 0s 13ms/step - loss: 13.3148 - mse: 275.8535\n",
            "Epoch 460/500\n",
            "2/2 [==============================] - 0s 33ms/step - loss: 15.4503 - mse: 336.9594\n",
            "Epoch 461/500\n",
            "2/2 [==============================] - 0s 10ms/step - loss: 12.1672 - mse: 202.6090\n",
            "Epoch 462/500\n",
            "2/2 [==============================] - 0s 10ms/step - loss: 12.4818 - mse: 214.2057\n",
            "Epoch 463/500\n",
            "2/2 [==============================] - 0s 14ms/step - loss: 13.8709 - mse: 293.7797\n",
            "Epoch 464/500\n",
            "2/2 [==============================] - 0s 13ms/step - loss: 13.9936 - mse: 256.2118\n",
            "Epoch 465/500\n",
            "2/2 [==============================] - 0s 8ms/step - loss: 11.6672 - mse: 193.0186\n",
            "Epoch 466/500\n",
            "2/2 [==============================] - 0s 13ms/step - loss: 12.8732 - mse: 263.4930\n",
            "Epoch 467/500\n",
            "2/2 [==============================] - 0s 12ms/step - loss: 13.2174 - mse: 266.6717\n",
            "Epoch 468/500\n",
            "2/2 [==============================] - 0s 8ms/step - loss: 13.0766 - mse: 239.9669\n",
            "Epoch 469/500\n",
            "2/2 [==============================] - 0s 9ms/step - loss: 12.4542 - mse: 218.5786\n",
            "Epoch 470/500\n",
            "2/2 [==============================] - 0s 9ms/step - loss: 13.4404 - mse: 253.7052\n",
            "Epoch 471/500\n",
            "2/2 [==============================] - 0s 11ms/step - loss: 10.3392 - mse: 167.6887\n",
            "Epoch 472/500\n",
            "2/2 [==============================] - 0s 8ms/step - loss: 11.4315 - mse: 191.2953\n",
            "Epoch 473/500\n",
            "2/2 [==============================] - 0s 9ms/step - loss: 13.3936 - mse: 255.9874\n",
            "Epoch 474/500\n",
            "2/2 [==============================] - 0s 15ms/step - loss: 13.2879 - mse: 241.3982\n",
            "Epoch 475/500\n",
            "2/2 [==============================] - 0s 7ms/step - loss: 11.9942 - mse: 198.4330\n",
            "Epoch 476/500\n",
            "2/2 [==============================] - 0s 8ms/step - loss: 8.2582 - mse: 110.1986\n",
            "Epoch 477/500\n",
            "2/2 [==============================] - 0s 6ms/step - loss: 14.0292 - mse: 298.5489\n",
            "Epoch 478/500\n",
            "2/2 [==============================] - 0s 12ms/step - loss: 11.0323 - mse: 179.8959\n",
            "Epoch 479/500\n",
            "2/2 [==============================] - 0s 8ms/step - loss: 15.1818 - mse: 346.6998\n",
            "Epoch 480/500\n",
            "2/2 [==============================] - 0s 13ms/step - loss: 12.5583 - mse: 215.9653\n",
            "Epoch 481/500\n",
            "2/2 [==============================] - 0s 9ms/step - loss: 10.9317 - mse: 189.3126\n",
            "Epoch 482/500\n",
            "2/2 [==============================] - 0s 13ms/step - loss: 8.7597 - mse: 125.1470\n",
            "Epoch 483/500\n",
            "2/2 [==============================] - 0s 9ms/step - loss: 10.5018 - mse: 157.7165\n",
            "Epoch 484/500\n",
            "2/2 [==============================] - 0s 8ms/step - loss: 15.2210 - mse: 346.0748\n",
            "Epoch 485/500\n",
            "2/2 [==============================] - 0s 11ms/step - loss: 14.2117 - mse: 277.5318\n",
            "Epoch 486/500\n",
            "2/2 [==============================] - 0s 8ms/step - loss: 11.8774 - mse: 201.9819\n",
            "Epoch 487/500\n",
            "2/2 [==============================] - 0s 7ms/step - loss: 12.1164 - mse: 211.1081\n",
            "Epoch 488/500\n",
            "2/2 [==============================] - 0s 8ms/step - loss: 10.3804 - mse: 166.5318\n",
            "Epoch 489/500\n",
            "2/2 [==============================] - 0s 11ms/step - loss: 13.2308 - mse: 234.4378\n",
            "Epoch 490/500\n",
            "2/2 [==============================] - 0s 11ms/step - loss: 12.3140 - mse: 213.2619\n",
            "Epoch 491/500\n",
            "2/2 [==============================] - 0s 15ms/step - loss: 14.4408 - mse: 294.3606\n",
            "Epoch 492/500\n",
            "2/2 [==============================] - 0s 14ms/step - loss: 9.0805 - mse: 138.6144\n",
            "Epoch 493/500\n",
            "2/2 [==============================] - 0s 11ms/step - loss: 10.1309 - mse: 146.6426\n",
            "Epoch 494/500\n",
            "2/2 [==============================] - 0s 13ms/step - loss: 16.1384 - mse: 393.0860\n",
            "Epoch 495/500\n",
            "2/2 [==============================] - 0s 9ms/step - loss: 8.5934 - mse: 128.6857\n",
            "Epoch 496/500\n",
            "2/2 [==============================] - 0s 21ms/step - loss: 5.9810 - mse: 51.6882\n",
            "Epoch 497/500\n",
            "2/2 [==============================] - 0s 20ms/step - loss: 14.1987 - mse: 295.2707\n",
            "Epoch 498/500\n",
            "2/2 [==============================] - 0s 8ms/step - loss: 12.1045 - mse: 226.0730\n",
            "Epoch 499/500\n",
            "2/2 [==============================] - 0s 10ms/step - loss: 14.1102 - mse: 297.7761\n",
            "Epoch 500/500\n",
            "2/2 [==============================] - 0s 15ms/step - loss: 11.4086 - mse: 200.6407\n"
          ]
        },
        {
          "output_type": "execute_result",
          "data": {
            "text/plain": [
              "<keras.callbacks.History at 0x7faeab4fb8b0>"
            ]
          },
          "metadata": {},
          "execution_count": 51
        }
      ]
    },
    {
      "cell_type": "code",
      "source": [
        "#make and plot predictions of model_2\n",
        "\n",
        "y_pred_3 = model_3.predict(X_test)\n",
        "plot_predictions(predictions=y_pred_3)"
      ],
      "metadata": {
        "colab": {
          "base_uri": "https://localhost:8080/",
          "height": 448
        },
        "id": "_-aa7aIg553m",
        "outputId": "6152ff2c-4af6-47ca-cf37-d7d6f356717a"
      },
      "execution_count": 52,
      "outputs": [
        {
          "output_type": "stream",
          "name": "stdout",
          "text": [
            "1/1 [==============================] - 0s 111ms/step\n"
          ]
        },
        {
          "output_type": "display_data",
          "data": {
            "text/plain": [
              "<Figure size 640x480 with 1 Axes>"
            ],
            "image/png": "[encoded data removed]"
          },
          "metadata": {}
        }
      ]
    },
    {
      "cell_type": "code",
      "source": [
        "mae_3 = mae(y_test,tf.squeeze(y_pred_3))\n",
        "mse_3 = mse(y_test,tf.squeeze(y_pred_3))\n",
        "mae_3,mse_3"
      ],
      "metadata": {
        "colab": {
          "base_uri": "https://localhost:8080/"
        },
        "id": "W5DDwkqG6FJG",
        "outputId": "ec94060b-ce7f-4a3a-f662-8080ec88bd66"
      },
      "execution_count": 53,
      "outputs": [
        {
          "output_type": "execute_result",
          "data": {
            "text/plain": [
              "(<tf.Tensor: shape=(), dtype=float32, numpy=30.97768>,\n",
              " <tf.Tensor: shape=(), dtype=float32, numpy=974.1447>)"
            ]
          },
          "metadata": {},
          "execution_count": 53
        }
      ]
    },
    {
      "cell_type": "markdown",
      "source": [
        "#Compare the results of experiments"
      ],
      "metadata": {
        "id": "2VOlr2_N6U_2"
      }
    },
    {
      "cell_type": "code",
      "source": [
        "#compare models using pandas DataFrame\n",
        "\n",
        "import pandas as pd\n",
        "model_results = [[\"model_1\",mae_1.numpy(),mse_1.numpy()],\n",
        "                 [\"model_2\",mae_2.numpy(),mse_2.numpy()],\n",
        "                [\"model_3\",mae_3.numpy(),mse_3.numpy()]]\n",
        "\n",
        "all_results = pd.DataFrame(model_results, columns=[\"model\",\"mae\",\"mse\"])\n",
        "all_results"
      ],
      "metadata": {
        "colab": {
          "base_uri": "https://localhost:8080/",
          "height": 143
        },
        "id": "t0M36r-f6mU1",
        "outputId": "0263d364-a266-422f-e069-c5195afd88b4"
      },
      "execution_count": 54,
      "outputs": [
        {
          "output_type": "execute_result",
          "data": {
            "text/plain": [
              "     model        mae         mse\n",
              "0  model_1   9.460216   89.519135\n",
              "1  model_2  18.791386  355.452942\n",
              "2  model_3  30.977680  974.144714"
            ],
            "text/html": [
              "\n",
              "  <div id=\"df-02195a96-eb9d-49e1-ae12-eeb72767d38d\">\n",
              "    <div class=\"colab-df-container\">\n",
              "      <div>\n",
              "<style scoped>\n",
              "    .dataframe tbody tr th:only-of-type {\n",
              "        vertical-align: middle;\n",
              "    }\n",
              "\n",
              "    .dataframe tbody tr th {\n",
              "        vertical-align: top;\n",
              "    }\n",
              "\n",
              "    .dataframe thead th {\n",
              "        text-align: right;\n",
              "    }\n",
              "</style>\n",
              "<table border=\"1\" class=\"dataframe\">\n",
              "  <thead>\n",
              "    <tr style=\"text-align: right;\">\n",
              "      <th></th>\n",
              "      <th>model</th>\n",
              "      <th>mae</th>\n",
              "      <th>mse</th>\n",
              "    </tr>\n",
              "  </thead>\n",
              "  <tbody>\n",
              "    <tr>\n",
              "      <th>0</th>\n",
              "      <td>model_1</td>\n",
              "      <td>9.460216</td>\n",
              "      <td>89.519135</td>\n",
              "    </tr>\n",
              "    <tr>\n",
              "      <th>1</th>\n",
              "      <td>model_2</td>\n",
              "      <td>18.791386</td>\n",
              "      <td>355.452942</td>\n",
              "    </tr>\n",
              "    <tr>\n",
              "      <th>2</th>\n",
              "      <td>model_3</td>\n",
              "      <td>30.977680</td>\n",
              "      <td>974.144714</td>\n",
              "    </tr>\n",
              "  </tbody>\n",
              "</table>\n",
              "</div>\n",
              "      <button class=\"colab-df-convert\" onclick=\"convertToInteractive('df-02195a96-eb9d-49e1-ae12-eeb72767d38d')\"\n",
              "              title=\"Convert this dataframe to an interactive table.\"\n",
              "              style=\"display:none;\">\n",
              "        \n",
              "  <svg xmlns=\"http://www.w3.org/2000/svg\" height=\"24px\"viewBox=\"0 0 24 24\"\n",
              "       width=\"24px\">\n",
              "    <path d=\"M0 0h24v24H0V0z\" fill=\"none\"/>\n",
              "    <path d=\"M18.56 5.44l.94 2.06.94-2.06 2.06-.94-2.06-.94-.94-2.06-.94 2.06-2.06.94zm-11 1L8.5 8.5l.94-2.06 2.06-.94-2.06-.94L8.5 2.5l-.94 2.06-2.06.94zm10 10l.94 2.06.94-2.06 2.06-.94-2.06-.94-.94-2.06-.94 2.06-2.06.94z\"/><path d=\"M17.41 7.96l-1.37-1.37c-.4-.4-.92-.59-1.43-.59-.52 0-1.04.2-1.43.59L10.3 9.45l-7.72 7.72c-.78.78-.78 2.05 0 2.83L4 21.41c.39.39.9.59 1.41.59.51 0 1.02-.2 1.41-.59l7.78-7.78 2.81-2.81c.8-.78.8-2.07 0-2.86zM5.41 20L4 18.59l7.72-7.72 1.47 1.35L5.41 20z\"/>\n",
              "  </svg>\n",
              "      </button>\n",
              "      \n",
              "  <style>\n",
              "    .colab-df-container {\n",
              "      display:flex;\n",
              "      flex-wrap:wrap;\n",
              "      gap: 12px;\n",
              "    }\n",
              "\n",
              "    .colab-df-convert {\n",
              "      background-color: #E8F0FE;\n",
              "      border: none;\n",
              "      border-radius: 50%;\n",
              "      cursor: pointer;\n",
              "      display: none;\n",
              "      fill: #1967D2;\n",
              "      height: 32px;\n",
              "      padding: 0 0 0 0;\n",
              "      width: 32px;\n",
              "    }\n",
              "\n",
              "    .colab-df-convert:hover {\n",
              "      background-color: #E2EBFA;\n",
              "      box-shadow: 0px 1px 2px rgba(60, 64, 67, 0.3), 0px 1px 3px 1px rgba(60, 64, 67, 0.15);\n",
              "      fill: #174EA6;\n",
              "    }\n",
              "\n",
              "    [theme=dark] .colab-df-convert {\n",
              "      background-color: #3B4455;\n",
              "      fill: #D2E3FC;\n",
              "    }\n",
              "\n",
              "    [theme=dark] .colab-df-convert:hover {\n",
              "      background-color: #434B5C;\n",
              "      box-shadow: 0px 1px 3px 1px rgba(0, 0, 0, 0.15);\n",
              "      filter: drop-shadow(0px 1px 2px rgba(0, 0, 0, 0.3));\n",
              "      fill: #FFFFFF;\n",
              "    }\n",
              "  </style>\n",
              "\n",
              "      <script>\n",
              "        const buttonEl =\n",
              "          document.querySelector('#df-02195a96-eb9d-49e1-ae12-eeb72767d38d button.colab-df-convert');\n",
              "        buttonEl.style.display =\n",
              "          google.colab.kernel.accessAllowed ? 'block' : 'none';\n",
              "\n",
              "        async function convertToInteractive(key) {\n",
              "          const element = document.querySelector('#df-02195a96-eb9d-49e1-ae12-eeb72767d38d');\n",
              "          const dataTable =\n",
              "            await google.colab.kernel.invokeFunction('convertToInteractive',\n",
              "                                                     [key], {});\n",
              "          if (!dataTable) return;\n",
              "\n",
              "          const docLinkHtml = 'Like what you see? Visit the ' +\n",
              "            '<a target=\"_blank\" href=https://colab.research.google.com/notebooks/data_table.ipynb>data table notebook</a>'\n",
              "            + ' to learn more about interactive tables.';\n",
              "          element.innerHTML = '';\n",
              "          dataTable['output_type'] = 'display_data';\n",
              "          await google.colab.output.renderOutput(dataTable, element);\n",
              "          const docLink = document.createElement('div');\n",
              "          docLink.innerHTML = docLinkHtml;\n",
              "          element.appendChild(docLink);\n",
              "        }\n",
              "      </script>\n",
              "    </div>\n",
              "  </div>\n",
              "  "
            ]
          },
          "metadata": {},
          "execution_count": 54
        }
      ]
    },
    {
      "cell_type": "code",
      "source": [
        "#best model is model_1\n",
        "model_2.summary()"
      ],
      "metadata": {
        "colab": {
          "base_uri": "https://localhost:8080/"
        },
        "id": "jasC5iqNNL4n",
        "outputId": "3e173126-a8cc-4429-d7c2-6305a0030500"
      },
      "execution_count": 55,
      "outputs": [
        {
          "output_type": "stream",
          "name": "stdout",
          "text": [
            "Model: \"sequential_5\"\n",
            "_________________________________________________________________\n",
            " Layer (type)                Output Shape              Param #   \n",
            "=================================================================\n",
            " dense_5 (Dense)             (None, 10)                20        \n",
            "                                                                 \n",
            " dense_6 (Dense)             (None, 1)                 11        \n",
            "                                                                 \n",
            "=================================================================\n",
            "Total params: 31\n",
            "Trainable params: 31\n",
            "Non-trainable params: 0\n",
            "_________________________________________________________________\n"
          ]
        }
      ]
    },
    {
      "cell_type": "markdown",
      "source": [
        "#Save a model"
      ],
      "metadata": {
        "id": "6_4osQHPS5hO"
      }
    },
    {
      "cell_type": "markdown",
      "source": [
        "There are two methods to save a model\n",
        "\n",
        "\n",
        "\n",
        "1.   The SavedModel format\n",
        "2.   The HDF5 format\n",
        "\n",
        "\n",
        "\n",
        "\n",
        "\n",
        "\n"
      ],
      "metadata": {
        "id": "sk_W__XSUBx1"
      }
    },
    {
      "cell_type": "markdown",
      "source": [
        "### 1.The SavedModel format"
      ],
      "metadata": {
        "id": "FVlfX1SBTtuw"
      }
    },
    {
      "cell_type": "code",
      "source": [
        "model_1.save(\"Best_model_savedModel_format\")"
      ],
      "metadata": {
        "colab": {
          "base_uri": "https://localhost:8080/"
        },
        "id": "w-0UcmHMUZKW",
        "outputId": "13db7851-9034-4b01-c801-ac1bd46e4bba"
      },
      "execution_count": 56,
      "outputs": [
        {
          "output_type": "stream",
          "name": "stderr",
          "text": [
            "WARNING:absl:Found untraced functions such as _update_step_xla while saving (showing 1 of 1). These functions will not be directly callable after loading.\n"
          ]
        }
      ]
    },
    {
      "cell_type": "markdown",
      "source": [
        "### 2.The HDF5 format"
      ],
      "metadata": {
        "id": "MgBvpbbfUlZA"
      }
    },
    {
      "cell_type": "code",
      "source": [
        "model_1.save(\"Best_model_HDF5_format.h5\")"
      ],
      "metadata": {
        "id": "pHM5aytsVavd"
      },
      "execution_count": 57,
      "outputs": []
    },
    {
      "cell_type": "markdown",
      "source": [
        "#Loading in a saved model"
      ],
      "metadata": {
        "id": "AMpFaEw1VuDe"
      }
    },
    {
      "cell_type": "code",
      "source": [
        "#Load in the savedModel format\n",
        "loaded_savedModel_format = tf.keras.models.load_model(\"Best_model_savedModel_format\")"
      ],
      "metadata": {
        "id": "RlmfBN75WQH1"
      },
      "execution_count": 58,
      "outputs": []
    },
    {
      "cell_type": "code",
      "source": [
        "loaded_savedModel_format.summary()"
      ],
      "metadata": {
        "colab": {
          "base_uri": "https://localhost:8080/"
        },
        "id": "hgmcWK0HW3mW",
        "outputId": "ea268a48-e97d-4bde-c2b6-be01adee16ed"
      },
      "execution_count": 59,
      "outputs": [
        {
          "output_type": "stream",
          "name": "stdout",
          "text": [
            "Model: \"sequential_4\"\n",
            "_________________________________________________________________\n",
            " Layer (type)                Output Shape              Param #   \n",
            "=================================================================\n",
            " dense_4 (Dense)             (None, 1)                 2         \n",
            "                                                                 \n",
            "=================================================================\n",
            "Total params: 2\n",
            "Trainable params: 2\n",
            "Non-trainable params: 0\n",
            "_________________________________________________________________\n"
          ]
        }
      ]
    },
    {
      "cell_type": "code",
      "source": [
        "model_1.summary()"
      ],
      "metadata": {
        "colab": {
          "base_uri": "https://localhost:8080/"
        },
        "id": "nsU0NY-YW7z1",
        "outputId": "0e9f1125-90ea-4bd1-f200-e7a492fcf217"
      },
      "execution_count": 60,
      "outputs": [
        {
          "output_type": "stream",
          "name": "stdout",
          "text": [
            "Model: \"sequential_4\"\n",
            "_________________________________________________________________\n",
            " Layer (type)                Output Shape              Param #   \n",
            "=================================================================\n",
            " dense_4 (Dense)             (None, 1)                 2         \n",
            "                                                                 \n",
            "=================================================================\n",
            "Total params: 2\n",
            "Trainable params: 2\n",
            "Non-trainable params: 0\n",
            "_________________________________________________________________\n"
          ]
        }
      ]
    },
    {
      "cell_type": "code",
      "source": [
        "#test savedModel format predictions with the model_2 predicts\n",
        "model_2_preds = model_2.predict(X_test)\n",
        "loaded_savedModel_format_preds = loaded_savedModel_format.predict(X_test)\n",
        "model_2_preds==loaded_savedModel_format_preds"
      ],
      "metadata": {
        "colab": {
          "base_uri": "https://localhost:8080/"
        },
        "id": "3_nGFX3MW_Gl",
        "outputId": "6e0c0292-db72-431e-c5b3-fcfc374331e4"
      },
      "execution_count": 61,
      "outputs": [
        {
          "output_type": "stream",
          "name": "stdout",
          "text": [
            "1/1 [==============================] - 0s 47ms/step\n",
            "1/1 [==============================] - 0s 155ms/step\n"
          ]
        },
        {
          "output_type": "execute_result",
          "data": {
            "text/plain": [
              "array([[False],\n",
              "       [False],\n",
              "       [False],\n",
              "       [False],\n",
              "       [False],\n",
              "       [False],\n",
              "       [False],\n",
              "       [False],\n",
              "       [False],\n",
              "       [False]])"
            ]
          },
          "metadata": {},
          "execution_count": 61
        }
      ]
    },
    {
      "cell_type": "code",
      "source": [
        "#Load in the HDF5 format\n",
        "loaded_h5_model = tf.keras.models.load_model(\"Best_model_HDF5_format.h5\")\n",
        "loaded_h5_model.summary()"
      ],
      "metadata": {
        "colab": {
          "base_uri": "https://localhost:8080/"
        },
        "id": "E1q3W4oNTuRJ",
        "outputId": "049155a8-dd9b-459d-868b-0d4573512e59"
      },
      "execution_count": 62,
      "outputs": [
        {
          "output_type": "stream",
          "name": "stdout",
          "text": [
            "Model: \"sequential_4\"\n",
            "_________________________________________________________________\n",
            " Layer (type)                Output Shape              Param #   \n",
            "=================================================================\n",
            " dense_4 (Dense)             (None, 1)                 2         \n",
            "                                                                 \n",
            "=================================================================\n",
            "Total params: 2\n",
            "Trainable params: 2\n",
            "Non-trainable params: 0\n",
            "_________________________________________________________________\n"
          ]
        }
      ]
    },
    {
      "cell_type": "code",
      "source": [
        "#test savedModel format predictions with the model_2 predicts\n",
        "model_2_preds = model_2.predict(X_test)\n",
        "loaded_h5_format_preds = loaded_h5_model.predict(X_test)\n",
        "model_2_preds == loaded_h5_format_preds"
      ],
      "metadata": {
        "colab": {
          "base_uri": "https://localhost:8080/"
        },
        "id": "HRxH-MpeUMQJ",
        "outputId": "a431b6f6-99b6-4828-eb5f-52654d8cd070"
      },
      "execution_count": 63,
      "outputs": [
        {
          "output_type": "stream",
          "name": "stdout",
          "text": [
            "1/1 [==============================] - 0s 40ms/step\n",
            "1/1 [==============================] - 0s 73ms/step\n"
          ]
        },
        {
          "output_type": "execute_result",
          "data": {
            "text/plain": [
              "array([[False],\n",
              "       [False],\n",
              "       [False],\n",
              "       [False],\n",
              "       [False],\n",
              "       [False],\n",
              "       [False],\n",
              "       [False],\n",
              "       [False],\n",
              "       [False]])"
            ]
          },
          "metadata": {},
          "execution_count": 63
        }
      ]
    },
    {
      "cell_type": "markdown",
      "source": [
        "#download a model from google colab"
      ],
      "metadata": {
        "id": "SR0n7QvjW1cT"
      }
    },
    {
      "cell_type": "code",
      "source": [
        "from google.colab import files\n",
        "files.download(\"Best_model_HDF5_format.h5\")"
      ],
      "metadata": {
        "colab": {
          "base_uri": "https://localhost:8080/",
          "height": 17
        },
        "id": "Pi4_L83uXWk5",
        "outputId": "d326b5f0-62c2-421e-b664-8cb97e0e6033"
      },
      "execution_count": 64,
      "outputs": [
        {
          "output_type": "display_data",
          "data": {
            "text/plain": [
              "<IPython.core.display.Javascript object>"
            ],
            "application/javascript": [
              "\n",
              "    async function download(id, filename, size) {\n",
              "      if (!google.colab.kernel.accessAllowed) {\n",
              "        return;\n",
              "      }\n",
              "      const div = document.createElement('div');\n",
              "      const label = document.createElement('label');\n",
              "      label.textContent = `Downloading \"${filename}\": `;\n",
              "      div.appendChild(label);\n",
              "      const progress = document.createElement('progress');\n",
              "      progress.max = size;\n",
              "      div.appendChild(progress);\n",
              "      document.body.appendChild(div);\n",
              "\n",
              "      const buffers = [];\n",
              "      let downloaded = 0;\n",
              "\n",
              "      const channel = await google.colab.kernel.comms.open(id);\n",
              "      // Send a message to notify the kernel that we're ready.\n",
              "      channel.send({})\n",
              "\n",
              "      for await (const message of channel.messages) {\n",
              "        // Send a message to notify the kernel that we're ready.\n",
              "        channel.send({})\n",
              "        if (message.buffers) {\n",
              "          for (const buffer of message.buffers) {\n",
              "            buffers.push(buffer);\n",
              "            downloaded += buffer.byteLength;\n",
              "            progress.value = downloaded;\n",
              "          }\n",
              "        }\n",
              "      }\n",
              "      const blob = new Blob(buffers, {type: 'application/binary'});\n",
              "      const a = document.createElement('a');\n",
              "      a.href = window.URL.createObjectURL(blob);\n",
              "      a.download = filename;\n",
              "      div.appendChild(a);\n",
              "      a.click();\n",
              "      div.remove();\n",
              "    }\n",
              "  "
            ]
          },
          "metadata": {}
        },
        {
          "output_type": "display_data",
          "data": {
            "text/plain": [
              "<IPython.core.display.Javascript object>"
            ],
            "application/javascript": [
              "download(\"download_c38e4aa7-5b85-4b90-ba99-e0e53218a23f\", \"Best_model_HDF5_format.h5\", 17600)"
            ]
          },
          "metadata": {}
        }
      ]
    },
    {
      "cell_type": "markdown",
      "source": [
        "#A larger example"
      ],
      "metadata": {
        "id": "AjYvTOsIXxsq"
      }
    },
    {
      "cell_type": "code",
      "source": [
        "import tensorflow as tf\n",
        "import pandas as pd\n",
        "import matplotlib.pyplot as plt\n"
      ],
      "metadata": {
        "id": "SDcBsRSVc4gI"
      },
      "execution_count": 65,
      "outputs": []
    },
    {
      "cell_type": "code",
      "source": [
        "insuarance = pd.read_csv(\"https://raw.githubusercontent.com/stedy/Machine-Learning-with-R-datasets/master/insurance.csv\")"
      ],
      "metadata": {
        "id": "m66893ONf7_S"
      },
      "execution_count": 66,
      "outputs": []
    },
    {
      "cell_type": "code",
      "source": [
        "insuarance"
      ],
      "metadata": {
        "colab": {
          "base_uri": "https://localhost:8080/",
          "height": 423
        },
        "id": "eOR4tiKrgAKJ",
        "outputId": "700d6ae3-2841-4388-a66a-7c5fd225d135"
      },
      "execution_count": 67,
      "outputs": [
        {
          "output_type": "execute_result",
          "data": {
            "text/plain": [
              "      age     sex     bmi  children smoker     region      charges\n",
              "0      19  female  27.900         0    yes  southwest  16884.92400\n",
              "1      18    male  33.770         1     no  southeast   1725.55230\n",
              "2      28    male  33.000         3     no  southeast   4449.46200\n",
              "3      33    male  22.705         0     no  northwest  21984.47061\n",
              "4      32    male  28.880         0     no  northwest   3866.85520\n",
              "...   ...     ...     ...       ...    ...        ...          ...\n",
              "1333   50    male  30.970         3     no  northwest  10600.54830\n",
              "1334   18  female  31.920         0     no  northeast   2205.98080\n",
              "1335   18  female  36.850         0     no  southeast   1629.83350\n",
              "1336   21  female  25.800         0     no  southwest   2007.94500\n",
              "1337   61  female  29.070         0    yes  northwest  29141.36030\n",
              "\n",
              "[1338 rows x 7 columns]"
            ],
            "text/html": [
              "\n",
              "  <div id=\"df-66dfbbed-538b-4be3-9f24-b77124ba3671\">\n",
              "    <div class=\"colab-df-container\">\n",
              "      <div>\n",
              "<style scoped>\n",
              "    .dataframe tbody tr th:only-of-type {\n",
              "        vertical-align: middle;\n",
              "    }\n",
              "\n",
              "    .dataframe tbody tr th {\n",
              "        vertical-align: top;\n",
              "    }\n",
              "\n",
              "    .dataframe thead th {\n",
              "        text-align: right;\n",
              "    }\n",
              "</style>\n",
              "<table border=\"1\" class=\"dataframe\">\n",
              "  <thead>\n",
              "    <tr style=\"text-align: right;\">\n",
              "      <th></th>\n",
              "      <th>age</th>\n",
              "      <th>sex</th>\n",
              "      <th>bmi</th>\n",
              "      <th>children</th>\n",
              "      <th>smoker</th>\n",
              "      <th>region</th>\n",
              "      <th>charges</th>\n",
              "    </tr>\n",
              "  </thead>\n",
              "  <tbody>\n",
              "    <tr>\n",
              "      <th>0</th>\n",
              "      <td>19</td>\n",
              "      <td>female</td>\n",
              "      <td>27.900</td>\n",
              "      <td>0</td>\n",
              "      <td>yes</td>\n",
              "      <td>southwest</td>\n",
              "      <td>16884.92400</td>\n",
              "    </tr>\n",
              "    <tr>\n",
              "      <th>1</th>\n",
              "      <td>18</td>\n",
              "      <td>male</td>\n",
              "      <td>33.770</td>\n",
              "      <td>1</td>\n",
              "      <td>no</td>\n",
              "      <td>southeast</td>\n",
              "      <td>1725.55230</td>\n",
              "    </tr>\n",
              "    <tr>\n",
              "      <th>2</th>\n",
              "      <td>28</td>\n",
              "      <td>male</td>\n",
              "      <td>33.000</td>\n",
              "      <td>3</td>\n",
              "      <td>no</td>\n",
              "      <td>southeast</td>\n",
              "      <td>4449.46200</td>\n",
              "    </tr>\n",
              "    <tr>\n",
              "      <th>3</th>\n",
              "      <td>33</td>\n",
              "      <td>male</td>\n",
              "      <td>22.705</td>\n",
              "      <td>0</td>\n",
              "      <td>no</td>\n",
              "      <td>northwest</td>\n",
              "      <td>21984.47061</td>\n",
              "    </tr>\n",
              "    <tr>\n",
              "      <th>4</th>\n",
              "      <td>32</td>\n",
              "      <td>male</td>\n",
              "      <td>28.880</td>\n",
              "      <td>0</td>\n",
              "      <td>no</td>\n",
              "      <td>northwest</td>\n",
              "      <td>3866.85520</td>\n",
              "    </tr>\n",
              "    <tr>\n",
              "      <th>...</th>\n",
              "      <td>...</td>\n",
              "      <td>...</td>\n",
              "      <td>...</td>\n",
              "      <td>...</td>\n",
              "      <td>...</td>\n",
              "      <td>...</td>\n",
              "      <td>...</td>\n",
              "    </tr>\n",
              "    <tr>\n",
              "      <th>1333</th>\n",
              "      <td>50</td>\n",
              "      <td>male</td>\n",
              "      <td>30.970</td>\n",
              "      <td>3</td>\n",
              "      <td>no</td>\n",
              "      <td>northwest</td>\n",
              "      <td>10600.54830</td>\n",
              "    </tr>\n",
              "    <tr>\n",
              "      <th>1334</th>\n",
              "      <td>18</td>\n",
              "      <td>female</td>\n",
              "      <td>31.920</td>\n",
              "      <td>0</td>\n",
              "      <td>no</td>\n",
              "      <td>northeast</td>\n",
              "      <td>2205.98080</td>\n",
              "    </tr>\n",
              "    <tr>\n",
              "      <th>1335</th>\n",
              "      <td>18</td>\n",
              "      <td>female</td>\n",
              "      <td>36.850</td>\n",
              "      <td>0</td>\n",
              "      <td>no</td>\n",
              "      <td>southeast</td>\n",
              "      <td>1629.83350</td>\n",
              "    </tr>\n",
              "    <tr>\n",
              "      <th>1336</th>\n",
              "      <td>21</td>\n",
              "      <td>female</td>\n",
              "      <td>25.800</td>\n",
              "      <td>0</td>\n",
              "      <td>no</td>\n",
              "      <td>southwest</td>\n",
              "      <td>2007.94500</td>\n",
              "    </tr>\n",
              "    <tr>\n",
              "      <th>1337</th>\n",
              "      <td>61</td>\n",
              "      <td>female</td>\n",
              "      <td>29.070</td>\n",
              "      <td>0</td>\n",
              "      <td>yes</td>\n",
              "      <td>northwest</td>\n",
              "      <td>29141.36030</td>\n",
              "    </tr>\n",
              "  </tbody>\n",
              "</table>\n",
              "<p>1338 rows × 7 columns</p>\n",
              "</div>\n",
              "      <button class=\"colab-df-convert\" onclick=\"convertToInteractive('df-66dfbbed-538b-4be3-9f24-b77124ba3671')\"\n",
              "              title=\"Convert this dataframe to an interactive table.\"\n",
              "              style=\"display:none;\">\n",
              "        \n",
              "  <svg xmlns=\"http://www.w3.org/2000/svg\" height=\"24px\"viewBox=\"0 0 24 24\"\n",
              "       width=\"24px\">\n",
              "    <path d=\"M0 0h24v24H0V0z\" fill=\"none\"/>\n",
              "    <path d=\"M18.56 5.44l.94 2.06.94-2.06 2.06-.94-2.06-.94-.94-2.06-.94 2.06-2.06.94zm-11 1L8.5 8.5l.94-2.06 2.06-.94-2.06-.94L8.5 2.5l-.94 2.06-2.06.94zm10 10l.94 2.06.94-2.06 2.06-.94-2.06-.94-.94-2.06-.94 2.06-2.06.94z\"/><path d=\"M17.41 7.96l-1.37-1.37c-.4-.4-.92-.59-1.43-.59-.52 0-1.04.2-1.43.59L10.3 9.45l-7.72 7.72c-.78.78-.78 2.05 0 2.83L4 21.41c.39.39.9.59 1.41.59.51 0 1.02-.2 1.41-.59l7.78-7.78 2.81-2.81c.8-.78.8-2.07 0-2.86zM5.41 20L4 18.59l7.72-7.72 1.47 1.35L5.41 20z\"/>\n",
              "  </svg>\n",
              "      </button>\n",
              "      \n",
              "  <style>\n",
              "    .colab-df-container {\n",
              "      display:flex;\n",
              "      flex-wrap:wrap;\n",
              "      gap: 12px;\n",
              "    }\n",
              "\n",
              "    .colab-df-convert {\n",
              "      background-color: #E8F0FE;\n",
              "      border: none;\n",
              "      border-radius: 50%;\n",
              "      cursor: pointer;\n",
              "      display: none;\n",
              "      fill: #1967D2;\n",
              "      height: 32px;\n",
              "      padding: 0 0 0 0;\n",
              "      width: 32px;\n",
              "    }\n",
              "\n",
              "    .colab-df-convert:hover {\n",
              "      background-color: #E2EBFA;\n",
              "      box-shadow: 0px 1px 2px rgba(60, 64, 67, 0.3), 0px 1px 3px 1px rgba(60, 64, 67, 0.15);\n",
              "      fill: #174EA6;\n",
              "    }\n",
              "\n",
              "    [theme=dark] .colab-df-convert {\n",
              "      background-color: #3B4455;\n",
              "      fill: #D2E3FC;\n",
              "    }\n",
              "\n",
              "    [theme=dark] .colab-df-convert:hover {\n",
              "      background-color: #434B5C;\n",
              "      box-shadow: 0px 1px 3px 1px rgba(0, 0, 0, 0.15);\n",
              "      filter: drop-shadow(0px 1px 2px rgba(0, 0, 0, 0.3));\n",
              "      fill: #FFFFFF;\n",
              "    }\n",
              "  </style>\n",
              "\n",
              "      <script>\n",
              "        const buttonEl =\n",
              "          document.querySelector('#df-66dfbbed-538b-4be3-9f24-b77124ba3671 button.colab-df-convert');\n",
              "        buttonEl.style.display =\n",
              "          google.colab.kernel.accessAllowed ? 'block' : 'none';\n",
              "\n",
              "        async function convertToInteractive(key) {\n",
              "          const element = document.querySelector('#df-66dfbbed-538b-4be3-9f24-b77124ba3671');\n",
              "          const dataTable =\n",
              "            await google.colab.kernel.invokeFunction('convertToInteractive',\n",
              "                                                     [key], {});\n",
              "          if (!dataTable) return;\n",
              "\n",
              "          const docLinkHtml = 'Like what you see? Visit the ' +\n",
              "            '<a target=\"_blank\" href=https://colab.research.google.com/notebooks/data_table.ipynb>data table notebook</a>'\n",
              "            + ' to learn more about interactive tables.';\n",
              "          element.innerHTML = '';\n",
              "          dataTable['output_type'] = 'display_data';\n",
              "          await google.colab.output.renderOutput(dataTable, element);\n",
              "          const docLink = document.createElement('div');\n",
              "          docLink.innerHTML = docLinkHtml;\n",
              "          element.appendChild(docLink);\n",
              "        }\n",
              "      </script>\n",
              "    </div>\n",
              "  </div>\n",
              "  "
            ]
          },
          "metadata": {},
          "execution_count": 67
        }
      ]
    },
    {
      "cell_type": "code",
      "source": [
        "#Let's try one hot encoding cause all the attributes arent in the numerial form\n",
        "insuarance_one_hot = pd.get_dummies(insuarance)\n",
        "insuarance_one_hot"
      ],
      "metadata": {
        "colab": {
          "base_uri": "https://localhost:8080/",
          "height": 487
        },
        "id": "Cjw9VNtqgC6p",
        "outputId": "1b339f84-a276-4d4a-9ec3-15fcab947b4a"
      },
      "execution_count": 68,
      "outputs": [
        {
          "output_type": "execute_result",
          "data": {
            "text/plain": [
              "      age     bmi  children      charges  sex_female  sex_male  smoker_no  \\\n",
              "0      19  27.900         0  16884.92400           1         0          0   \n",
              "1      18  33.770         1   1725.55230           0         1          1   \n",
              "2      28  33.000         3   4449.46200           0         1          1   \n",
              "3      33  22.705         0  21984.47061           0         1          1   \n",
              "4      32  28.880         0   3866.85520           0         1          1   \n",
              "...   ...     ...       ...          ...         ...       ...        ...   \n",
              "1333   50  30.970         3  10600.54830           0         1          1   \n",
              "1334   18  31.920         0   2205.98080           1         0          1   \n",
              "1335   18  36.850         0   1629.83350           1         0          1   \n",
              "1336   21  25.800         0   2007.94500           1         0          1   \n",
              "1337   61  29.070         0  29141.36030           1         0          0   \n",
              "\n",
              "      smoker_yes  region_northeast  region_northwest  region_southeast  \\\n",
              "0              1                 0                 0                 0   \n",
              "1              0                 0                 0                 1   \n",
              "2              0                 0                 0                 1   \n",
              "3              0                 0                 1                 0   \n",
              "4              0                 0                 1                 0   \n",
              "...          ...               ...               ...               ...   \n",
              "1333           0                 0                 1                 0   \n",
              "1334           0                 1                 0                 0   \n",
              "1335           0                 0                 0                 1   \n",
              "1336           0                 0                 0                 0   \n",
              "1337           1                 0                 1                 0   \n",
              "\n",
              "      region_southwest  \n",
              "0                    1  \n",
              "1                    0  \n",
              "2                    0  \n",
              "3                    0  \n",
              "4                    0  \n",
              "...                ...  \n",
              "1333                 0  \n",
              "1334                 0  \n",
              "1335                 0  \n",
              "1336                 1  \n",
              "1337                 0  \n",
              "\n",
              "[1338 rows x 12 columns]"
            ],
            "text/html": [
              "\n",
              "  <div id=\"df-8ecaefba-532f-4129-8f85-b096e8c96097\">\n",
              "    <div class=\"colab-df-container\">\n",
              "      <div>\n",
              "<style scoped>\n",
              "    .dataframe tbody tr th:only-of-type {\n",
              "        vertical-align: middle;\n",
              "    }\n",
              "\n",
              "    .dataframe tbody tr th {\n",
              "        vertical-align: top;\n",
              "    }\n",
              "\n",
              "    .dataframe thead th {\n",
              "        text-align: right;\n",
              "    }\n",
              "</style>\n",
              "<table border=\"1\" class=\"dataframe\">\n",
              "  <thead>\n",
              "    <tr style=\"text-align: right;\">\n",
              "      <th></th>\n",
              "      <th>age</th>\n",
              "      <th>bmi</th>\n",
              "      <th>children</th>\n",
              "      <th>charges</th>\n",
              "      <th>sex_female</th>\n",
              "      <th>sex_male</th>\n",
              "      <th>smoker_no</th>\n",
              "      <th>smoker_yes</th>\n",
              "      <th>region_northeast</th>\n",
              "      <th>region_northwest</th>\n",
              "      <th>region_southeast</th>\n",
              "      <th>region_southwest</th>\n",
              "    </tr>\n",
              "  </thead>\n",
              "  <tbody>\n",
              "    <tr>\n",
              "      <th>0</th>\n",
              "      <td>19</td>\n",
              "      <td>27.900</td>\n",
              "      <td>0</td>\n",
              "      <td>16884.92400</td>\n",
              "      <td>1</td>\n",
              "      <td>0</td>\n",
              "      <td>0</td>\n",
              "      <td>1</td>\n",
              "      <td>0</td>\n",
              "      <td>0</td>\n",
              "      <td>0</td>\n",
              "      <td>1</td>\n",
              "    </tr>\n",
              "    <tr>\n",
              "      <th>1</th>\n",
              "      <td>18</td>\n",
              "      <td>33.770</td>\n",
              "      <td>1</td>\n",
              "      <td>1725.55230</td>\n",
              "      <td>0</td>\n",
              "      <td>1</td>\n",
              "      <td>1</td>\n",
              "      <td>0</td>\n",
              "      <td>0</td>\n",
              "      <td>0</td>\n",
              "      <td>1</td>\n",
              "      <td>0</td>\n",
              "    </tr>\n",
              "    <tr>\n",
              "      <th>2</th>\n",
              "      <td>28</td>\n",
              "      <td>33.000</td>\n",
              "      <td>3</td>\n",
              "      <td>4449.46200</td>\n",
              "      <td>0</td>\n",
              "      <td>1</td>\n",
              "      <td>1</td>\n",
              "      <td>0</td>\n",
              "      <td>0</td>\n",
              "      <td>0</td>\n",
              "      <td>1</td>\n",
              "      <td>0</td>\n",
              "    </tr>\n",
              "    <tr>\n",
              "      <th>3</th>\n",
              "      <td>33</td>\n",
              "      <td>22.705</td>\n",
              "      <td>0</td>\n",
              "      <td>21984.47061</td>\n",
              "      <td>0</td>\n",
              "      <td>1</td>\n",
              "      <td>1</td>\n",
              "      <td>0</td>\n",
              "      <td>0</td>\n",
              "      <td>1</td>\n",
              "      <td>0</td>\n",
              "      <td>0</td>\n",
              "    </tr>\n",
              "    <tr>\n",
              "      <th>4</th>\n",
              "      <td>32</td>\n",
              "      <td>28.880</td>\n",
              "      <td>0</td>\n",
              "      <td>3866.85520</td>\n",
              "      <td>0</td>\n",
              "      <td>1</td>\n",
              "      <td>1</td>\n",
              "      <td>0</td>\n",
              "      <td>0</td>\n",
              "      <td>1</td>\n",
              "      <td>0</td>\n",
              "      <td>0</td>\n",
              "    </tr>\n",
              "    <tr>\n",
              "      <th>...</th>\n",
              "      <td>...</td>\n",
              "      <td>...</td>\n",
              "      <td>...</td>\n",
              "      <td>...</td>\n",
              "      <td>...</td>\n",
              "      <td>...</td>\n",
              "      <td>...</td>\n",
              "      <td>...</td>\n",
              "      <td>...</td>\n",
              "      <td>...</td>\n",
              "      <td>...</td>\n",
              "      <td>...</td>\n",
              "    </tr>\n",
              "    <tr>\n",
              "      <th>1333</th>\n",
              "      <td>50</td>\n",
              "      <td>30.970</td>\n",
              "      <td>3</td>\n",
              "      <td>10600.54830</td>\n",
              "      <td>0</td>\n",
              "      <td>1</td>\n",
              "      <td>1</td>\n",
              "      <td>0</td>\n",
              "      <td>0</td>\n",
              "      <td>1</td>\n",
              "      <td>0</td>\n",
              "      <td>0</td>\n",
              "    </tr>\n",
              "    <tr>\n",
              "      <th>1334</th>\n",
              "      <td>18</td>\n",
              "      <td>31.920</td>\n",
              "      <td>0</td>\n",
              "      <td>2205.98080</td>\n",
              "      <td>1</td>\n",
              "      <td>0</td>\n",
              "      <td>1</td>\n",
              "      <td>0</td>\n",
              "      <td>1</td>\n",
              "      <td>0</td>\n",
              "      <td>0</td>\n",
              "      <td>0</td>\n",
              "    </tr>\n",
              "    <tr>\n",
              "      <th>1335</th>\n",
              "      <td>18</td>\n",
              "      <td>36.850</td>\n",
              "      <td>0</td>\n",
              "      <td>1629.83350</td>\n",
              "      <td>1</td>\n",
              "      <td>0</td>\n",
              "      <td>1</td>\n",
              "      <td>0</td>\n",
              "      <td>0</td>\n",
              "      <td>0</td>\n",
              "      <td>1</td>\n",
              "      <td>0</td>\n",
              "    </tr>\n",
              "    <tr>\n",
              "      <th>1336</th>\n",
              "      <td>21</td>\n",
              "      <td>25.800</td>\n",
              "      <td>0</td>\n",
              "      <td>2007.94500</td>\n",
              "      <td>1</td>\n",
              "      <td>0</td>\n",
              "      <td>1</td>\n",
              "      <td>0</td>\n",
              "      <td>0</td>\n",
              "      <td>0</td>\n",
              "      <td>0</td>\n",
              "      <td>1</td>\n",
              "    </tr>\n",
              "    <tr>\n",
              "      <th>1337</th>\n",
              "      <td>61</td>\n",
              "      <td>29.070</td>\n",
              "      <td>0</td>\n",
              "      <td>29141.36030</td>\n",
              "      <td>1</td>\n",
              "      <td>0</td>\n",
              "      <td>0</td>\n",
              "      <td>1</td>\n",
              "      <td>0</td>\n",
              "      <td>1</td>\n",
              "      <td>0</td>\n",
              "      <td>0</td>\n",
              "    </tr>\n",
              "  </tbody>\n",
              "</table>\n",
              "<p>1338 rows × 12 columns</p>\n",
              "</div>\n",
              "      <button class=\"colab-df-convert\" onclick=\"convertToInteractive('df-8ecaefba-532f-4129-8f85-b096e8c96097')\"\n",
              "              title=\"Convert this dataframe to an interactive table.\"\n",
              "              style=\"display:none;\">\n",
              "        \n",
              "  <svg xmlns=\"http://www.w3.org/2000/svg\" height=\"24px\"viewBox=\"0 0 24 24\"\n",
              "       width=\"24px\">\n",
              "    <path d=\"M0 0h24v24H0V0z\" fill=\"none\"/>\n",
              "    <path d=\"M18.56 5.44l.94 2.06.94-2.06 2.06-.94-2.06-.94-.94-2.06-.94 2.06-2.06.94zm-11 1L8.5 8.5l.94-2.06 2.06-.94-2.06-.94L8.5 2.5l-.94 2.06-2.06.94zm10 10l.94 2.06.94-2.06 2.06-.94-2.06-.94-.94-2.06-.94 2.06-2.06.94z\"/><path d=\"M17.41 7.96l-1.37-1.37c-.4-.4-.92-.59-1.43-.59-.52 0-1.04.2-1.43.59L10.3 9.45l-7.72 7.72c-.78.78-.78 2.05 0 2.83L4 21.41c.39.39.9.59 1.41.59.51 0 1.02-.2 1.41-.59l7.78-7.78 2.81-2.81c.8-.78.8-2.07 0-2.86zM5.41 20L4 18.59l7.72-7.72 1.47 1.35L5.41 20z\"/>\n",
              "  </svg>\n",
              "      </button>\n",
              "      \n",
              "  <style>\n",
              "    .colab-df-container {\n",
              "      display:flex;\n",
              "      flex-wrap:wrap;\n",
              "      gap: 12px;\n",
              "    }\n",
              "\n",
              "    .colab-df-convert {\n",
              "      background-color: #E8F0FE;\n",
              "      border: none;\n",
              "      border-radius: 50%;\n",
              "      cursor: pointer;\n",
              "      display: none;\n",
              "      fill: #1967D2;\n",
              "      height: 32px;\n",
              "      padding: 0 0 0 0;\n",
              "      width: 32px;\n",
              "    }\n",
              "\n",
              "    .colab-df-convert:hover {\n",
              "      background-color: #E2EBFA;\n",
              "      box-shadow: 0px 1px 2px rgba(60, 64, 67, 0.3), 0px 1px 3px 1px rgba(60, 64, 67, 0.15);\n",
              "      fill: #174EA6;\n",
              "    }\n",
              "\n",
              "    [theme=dark] .colab-df-convert {\n",
              "      background-color: #3B4455;\n",
              "      fill: #D2E3FC;\n",
              "    }\n",
              "\n",
              "    [theme=dark] .colab-df-convert:hover {\n",
              "      background-color: #434B5C;\n",
              "      box-shadow: 0px 1px 3px 1px rgba(0, 0, 0, 0.15);\n",
              "      filter: drop-shadow(0px 1px 2px rgba(0, 0, 0, 0.3));\n",
              "      fill: #FFFFFF;\n",
              "    }\n",
              "  </style>\n",
              "\n",
              "      <script>\n",
              "        const buttonEl =\n",
              "          document.querySelector('#df-8ecaefba-532f-4129-8f85-b096e8c96097 button.colab-df-convert');\n",
              "        buttonEl.style.display =\n",
              "          google.colab.kernel.accessAllowed ? 'block' : 'none';\n",
              "\n",
              "        async function convertToInteractive(key) {\n",
              "          const element = document.querySelector('#df-8ecaefba-532f-4129-8f85-b096e8c96097');\n",
              "          const dataTable =\n",
              "            await google.colab.kernel.invokeFunction('convertToInteractive',\n",
              "                                                     [key], {});\n",
              "          if (!dataTable) return;\n",
              "\n",
              "          const docLinkHtml = 'Like what you see? Visit the ' +\n",
              "            '<a target=\"_blank\" href=https://colab.research.google.com/notebooks/data_table.ipynb>data table notebook</a>'\n",
              "            + ' to learn more about interactive tables.';\n",
              "          element.innerHTML = '';\n",
              "          dataTable['output_type'] = 'display_data';\n",
              "          await google.colab.output.renderOutput(dataTable, element);\n",
              "          const docLink = document.createElement('div');\n",
              "          docLink.innerHTML = docLinkHtml;\n",
              "          element.appendChild(docLink);\n",
              "        }\n",
              "      </script>\n",
              "    </div>\n",
              "  </div>\n",
              "  "
            ]
          },
          "metadata": {},
          "execution_count": 68
        }
      ]
    },
    {
      "cell_type": "code",
      "source": [
        "#create X and y (features and labels)\n",
        "\n",
        "#x-drop charge column\n",
        "X = insuarance_one_hot.drop(\"charges\",axis=1)\n",
        "y = insuarance_one_hot[\"charges\"]\n",
        "#view x\n",
        "X.head()"
      ],
      "metadata": {
        "id": "OWmVOBt_287K",
        "outputId": "fcd0393a-9c94-4e26-8551-ac2c4a56e4a2",
        "colab": {
          "base_uri": "https://localhost:8080/",
          "height": 270
        }
      },
      "execution_count": 69,
      "outputs": [
        {
          "output_type": "execute_result",
          "data": {
            "text/plain": [
              "   age     bmi  children  sex_female  sex_male  smoker_no  smoker_yes  \\\n",
              "0   19  27.900         0           1         0          0           1   \n",
              "1   18  33.770         1           0         1          1           0   \n",
              "2   28  33.000         3           0         1          1           0   \n",
              "3   33  22.705         0           0         1          1           0   \n",
              "4   32  28.880         0           0         1          1           0   \n",
              "\n",
              "   region_northeast  region_northwest  region_southeast  region_southwest  \n",
              "0                 0                 0                 0                 1  \n",
              "1                 0                 0                 1                 0  \n",
              "2                 0                 0                 1                 0  \n",
              "3                 0                 1                 0                 0  \n",
              "4                 0                 1                 0                 0  "
            ],
            "text/html": [
              "\n",
              "  <div id=\"df-da5f2f27-c618-4941-bdc7-0e5b92d7b41b\">\n",
              "    <div class=\"colab-df-container\">\n",
              "      <div>\n",
              "<style scoped>\n",
              "    .dataframe tbody tr th:only-of-type {\n",
              "        vertical-align: middle;\n",
              "    }\n",
              "\n",
              "    .dataframe tbody tr th {\n",
              "        vertical-align: top;\n",
              "    }\n",
              "\n",
              "    .dataframe thead th {\n",
              "        text-align: right;\n",
              "    }\n",
              "</style>\n",
              "<table border=\"1\" class=\"dataframe\">\n",
              "  <thead>\n",
              "    <tr style=\"text-align: right;\">\n",
              "      <th></th>\n",
              "      <th>age</th>\n",
              "      <th>bmi</th>\n",
              "      <th>children</th>\n",
              "      <th>sex_female</th>\n",
              "      <th>sex_male</th>\n",
              "      <th>smoker_no</th>\n",
              "      <th>smoker_yes</th>\n",
              "      <th>region_northeast</th>\n",
              "      <th>region_northwest</th>\n",
              "      <th>region_southeast</th>\n",
              "      <th>region_southwest</th>\n",
              "    </tr>\n",
              "  </thead>\n",
              "  <tbody>\n",
              "    <tr>\n",
              "      <th>0</th>\n",
              "      <td>19</td>\n",
              "      <td>27.900</td>\n",
              "      <td>0</td>\n",
              "      <td>1</td>\n",
              "      <td>0</td>\n",
              "      <td>0</td>\n",
              "      <td>1</td>\n",
              "      <td>0</td>\n",
              "      <td>0</td>\n",
              "      <td>0</td>\n",
              "      <td>1</td>\n",
              "    </tr>\n",
              "    <tr>\n",
              "      <th>1</th>\n",
              "      <td>18</td>\n",
              "      <td>33.770</td>\n",
              "      <td>1</td>\n",
              "      <td>0</td>\n",
              "      <td>1</td>\n",
              "      <td>1</td>\n",
              "      <td>0</td>\n",
              "      <td>0</td>\n",
              "      <td>0</td>\n",
              "      <td>1</td>\n",
              "      <td>0</td>\n",
              "    </tr>\n",
              "    <tr>\n",
              "      <th>2</th>\n",
              "      <td>28</td>\n",
              "      <td>33.000</td>\n",
              "      <td>3</td>\n",
              "      <td>0</td>\n",
              "      <td>1</td>\n",
              "      <td>1</td>\n",
              "      <td>0</td>\n",
              "      <td>0</td>\n",
              "      <td>0</td>\n",
              "      <td>1</td>\n",
              "      <td>0</td>\n",
              "    </tr>\n",
              "    <tr>\n",
              "      <th>3</th>\n",
              "      <td>33</td>\n",
              "      <td>22.705</td>\n",
              "      <td>0</td>\n",
              "      <td>0</td>\n",
              "      <td>1</td>\n",
              "      <td>1</td>\n",
              "      <td>0</td>\n",
              "      <td>0</td>\n",
              "      <td>1</td>\n",
              "      <td>0</td>\n",
              "      <td>0</td>\n",
              "    </tr>\n",
              "    <tr>\n",
              "      <th>4</th>\n",
              "      <td>32</td>\n",
              "      <td>28.880</td>\n",
              "      <td>0</td>\n",
              "      <td>0</td>\n",
              "      <td>1</td>\n",
              "      <td>1</td>\n",
              "      <td>0</td>\n",
              "      <td>0</td>\n",
              "      <td>1</td>\n",
              "      <td>0</td>\n",
              "      <td>0</td>\n",
              "    </tr>\n",
              "  </tbody>\n",
              "</table>\n",
              "</div>\n",
              "      <button class=\"colab-df-convert\" onclick=\"convertToInteractive('df-da5f2f27-c618-4941-bdc7-0e5b92d7b41b')\"\n",
              "              title=\"Convert this dataframe to an interactive table.\"\n",
              "              style=\"display:none;\">\n",
              "        \n",
              "  <svg xmlns=\"http://www.w3.org/2000/svg\" height=\"24px\"viewBox=\"0 0 24 24\"\n",
              "       width=\"24px\">\n",
              "    <path d=\"M0 0h24v24H0V0z\" fill=\"none\"/>\n",
              "    <path d=\"M18.56 5.44l.94 2.06.94-2.06 2.06-.94-2.06-.94-.94-2.06-.94 2.06-2.06.94zm-11 1L8.5 8.5l.94-2.06 2.06-.94-2.06-.94L8.5 2.5l-.94 2.06-2.06.94zm10 10l.94 2.06.94-2.06 2.06-.94-2.06-.94-.94-2.06-.94 2.06-2.06.94z\"/><path d=\"M17.41 7.96l-1.37-1.37c-.4-.4-.92-.59-1.43-.59-.52 0-1.04.2-1.43.59L10.3 9.45l-7.72 7.72c-.78.78-.78 2.05 0 2.83L4 21.41c.39.39.9.59 1.41.59.51 0 1.02-.2 1.41-.59l7.78-7.78 2.81-2.81c.8-.78.8-2.07 0-2.86zM5.41 20L4 18.59l7.72-7.72 1.47 1.35L5.41 20z\"/>\n",
              "  </svg>\n",
              "      </button>\n",
              "      \n",
              "  <style>\n",
              "    .colab-df-container {\n",
              "      display:flex;\n",
              "      flex-wrap:wrap;\n",
              "      gap: 12px;\n",
              "    }\n",
              "\n",
              "    .colab-df-convert {\n",
              "      background-color: #E8F0FE;\n",
              "      border: none;\n",
              "      border-radius: 50%;\n",
              "      cursor: pointer;\n",
              "      display: none;\n",
              "      fill: #1967D2;\n",
              "      height: 32px;\n",
              "      padding: 0 0 0 0;\n",
              "      width: 32px;\n",
              "    }\n",
              "\n",
              "    .colab-df-convert:hover {\n",
              "      background-color: #E2EBFA;\n",
              "      box-shadow: 0px 1px 2px rgba(60, 64, 67, 0.3), 0px 1px 3px 1px rgba(60, 64, 67, 0.15);\n",
              "      fill: #174EA6;\n",
              "    }\n",
              "\n",
              "    [theme=dark] .colab-df-convert {\n",
              "      background-color: #3B4455;\n",
              "      fill: #D2E3FC;\n",
              "    }\n",
              "\n",
              "    [theme=dark] .colab-df-convert:hover {\n",
              "      background-color: #434B5C;\n",
              "      box-shadow: 0px 1px 3px 1px rgba(0, 0, 0, 0.15);\n",
              "      filter: drop-shadow(0px 1px 2px rgba(0, 0, 0, 0.3));\n",
              "      fill: #FFFFFF;\n",
              "    }\n",
              "  </style>\n",
              "\n",
              "      <script>\n",
              "        const buttonEl =\n",
              "          document.querySelector('#df-da5f2f27-c618-4941-bdc7-0e5b92d7b41b button.colab-df-convert');\n",
              "        buttonEl.style.display =\n",
              "          google.colab.kernel.accessAllowed ? 'block' : 'none';\n",
              "\n",
              "        async function convertToInteractive(key) {\n",
              "          const element = document.querySelector('#df-da5f2f27-c618-4941-bdc7-0e5b92d7b41b');\n",
              "          const dataTable =\n",
              "            await google.colab.kernel.invokeFunction('convertToInteractive',\n",
              "                                                     [key], {});\n",
              "          if (!dataTable) return;\n",
              "\n",
              "          const docLinkHtml = 'Like what you see? Visit the ' +\n",
              "            '<a target=\"_blank\" href=https://colab.research.google.com/notebooks/data_table.ipynb>data table notebook</a>'\n",
              "            + ' to learn more about interactive tables.';\n",
              "          element.innerHTML = '';\n",
              "          dataTable['output_type'] = 'display_data';\n",
              "          await google.colab.output.renderOutput(dataTable, element);\n",
              "          const docLink = document.createElement('div');\n",
              "          docLink.innerHTML = docLinkHtml;\n",
              "          element.appendChild(docLink);\n",
              "        }\n",
              "      </script>\n",
              "    </div>\n",
              "  </div>\n",
              "  "
            ]
          },
          "metadata": {},
          "execution_count": 69
        }
      ]
    },
    {
      "cell_type": "code",
      "source": [
        "\n",
        "#create traing and testing sets\n",
        "from sklearn.model_selection import train_test_split\n",
        "X_train,X_test,y_train,y_test = train_test_split(X,y,train_size=0.8,random_state=42)\n",
        "len(X),len(X_train),len(X_test)\n"
      ],
      "metadata": {
        "id": "3MRQPfOg5I3N",
        "outputId": "ce19f319-b106-44a7-f41c-1b759c0725ba",
        "colab": {
          "base_uri": "https://localhost:8080/"
        }
      },
      "execution_count": 70,
      "outputs": [
        {
          "output_type": "execute_result",
          "data": {
            "text/plain": [
              "(1338, 1070, 268)"
            ]
          },
          "metadata": {},
          "execution_count": 70
        }
      ]
    },
    {
      "cell_type": "code",
      "source": [
        "#build a NN\n",
        "\n",
        "tf.random.set_seed(42)\n",
        "insuarance_model=tf.keras.Sequential([\n",
        "    tf.keras.layers.Dense(10),\n",
        "     tf.keras.layers.Dense(1),\n",
        "\n",
        "])\n",
        "insuarance_model.compile(loss=tf.keras.losses.mae,\n",
        "                         optimizer=tf.keras.optimizers.SGD(),\n",
        "                         metrics=[\"mae\"])\n",
        "insuarance_model.fit(X_train,y_train,epochs=100)"
      ],
      "metadata": {
        "id": "fhBEflli9oLb",
        "outputId": "a8b4384f-225c-42b6-9c70-6c646aff03f9",
        "colab": {
          "base_uri": "https://localhost:8080/"
        }
      },
      "execution_count": 71,
      "outputs": [
        {
          "output_type": "stream",
          "name": "stdout",
          "text": [
            "Epoch 1/100\n",
            "34/34 [==============================] - 0s 2ms/step - loss: 8630.9570 - mae: 8630.9570\n",
            "Epoch 2/100\n",
            "34/34 [==============================] - 0s 1ms/step - loss: 7815.1880 - mae: 7815.1880\n",
            "Epoch 3/100\n",
            "34/34 [==============================] - 0s 1ms/step - loss: 7621.8892 - mae: 7621.8892\n",
            "Epoch 4/100\n",
            "34/34 [==============================] - 0s 2ms/step - loss: 7733.6558 - mae: 7733.6558\n",
            "Epoch 5/100\n",
            "34/34 [==============================] - 0s 2ms/step - loss: 7725.0000 - mae: 7725.0000\n",
            "Epoch 6/100\n",
            "34/34 [==============================] - 0s 1ms/step - loss: 7608.3291 - mae: 7608.3291\n",
            "Epoch 7/100\n",
            "34/34 [==============================] - 0s 2ms/step - loss: 7542.8540 - mae: 7542.8540\n",
            "Epoch 8/100\n",
            "34/34 [==============================] - 0s 2ms/step - loss: 7788.7456 - mae: 7788.7456\n",
            "Epoch 9/100\n",
            "34/34 [==============================] - 0s 1ms/step - loss: 7604.8008 - mae: 7604.8008\n",
            "Epoch 10/100\n",
            "34/34 [==============================] - 0s 2ms/step - loss: 7659.6333 - mae: 7659.6333\n",
            "Epoch 11/100\n",
            "34/34 [==============================] - 0s 2ms/step - loss: 7593.2080 - mae: 7593.2080\n",
            "Epoch 12/100\n",
            "34/34 [==============================] - 0s 2ms/step - loss: 7669.8042 - mae: 7669.8042\n",
            "Epoch 13/100\n",
            "34/34 [==============================] - 0s 2ms/step - loss: 7729.0508 - mae: 7729.0508\n",
            "Epoch 14/100\n",
            "34/34 [==============================] - 0s 1ms/step - loss: 7685.4087 - mae: 7685.4087\n",
            "Epoch 15/100\n",
            "34/34 [==============================] - 0s 1ms/step - loss: 7670.2285 - mae: 7670.2285\n",
            "Epoch 16/100\n",
            "34/34 [==============================] - 0s 1ms/step - loss: 7678.4995 - mae: 7678.4995\n",
            "Epoch 17/100\n",
            "34/34 [==============================] - 0s 1ms/step - loss: 7542.3979 - mae: 7542.3979\n",
            "Epoch 18/100\n",
            "34/34 [==============================] - 0s 1ms/step - loss: 7691.8970 - mae: 7691.8970\n",
            "Epoch 19/100\n",
            "34/34 [==============================] - 0s 1ms/step - loss: 7697.9150 - mae: 7697.9150\n",
            "Epoch 20/100\n",
            "34/34 [==============================] - 0s 1ms/step - loss: 7929.5298 - mae: 7929.5298\n",
            "Epoch 21/100\n",
            "34/34 [==============================] - 0s 2ms/step - loss: 7480.4336 - mae: 7480.4336\n",
            "Epoch 22/100\n",
            "34/34 [==============================] - 0s 1ms/step - loss: 7844.4263 - mae: 7844.4263\n",
            "Epoch 23/100\n",
            "34/34 [==============================] - 0s 1ms/step - loss: 7626.8799 - mae: 7626.8799\n",
            "Epoch 24/100\n",
            "34/34 [==============================] - 0s 1ms/step - loss: 7582.0923 - mae: 7582.0923\n",
            "Epoch 25/100\n",
            "34/34 [==============================] - 0s 2ms/step - loss: 7804.6133 - mae: 7804.6133\n",
            "Epoch 26/100\n",
            "34/34 [==============================] - 0s 2ms/step - loss: 7729.8213 - mae: 7729.8213\n",
            "Epoch 27/100\n",
            "34/34 [==============================] - 0s 2ms/step - loss: 7708.1064 - mae: 7708.1064\n",
            "Epoch 28/100\n",
            "34/34 [==============================] - 0s 2ms/step - loss: 7492.2246 - mae: 7492.2246\n",
            "Epoch 29/100\n",
            "34/34 [==============================] - 0s 2ms/step - loss: 7555.4116 - mae: 7555.4116\n",
            "Epoch 30/100\n",
            "34/34 [==============================] - 0s 3ms/step - loss: 7557.0757 - mae: 7557.0757\n",
            "Epoch 31/100\n",
            "34/34 [==============================] - 0s 2ms/step - loss: 7689.2700 - mae: 7689.2700\n",
            "Epoch 32/100\n",
            "34/34 [==============================] - 0s 2ms/step - loss: 7382.9673 - mae: 7382.9673\n",
            "Epoch 33/100\n",
            "34/34 [==============================] - 0s 2ms/step - loss: 7444.7002 - mae: 7444.7002\n",
            "Epoch 34/100\n",
            "34/34 [==============================] - 0s 2ms/step - loss: 7454.0532 - mae: 7454.0532\n",
            "Epoch 35/100\n",
            "34/34 [==============================] - 0s 2ms/step - loss: 7607.6313 - mae: 7607.6313\n",
            "Epoch 36/100\n",
            "34/34 [==============================] - 0s 2ms/step - loss: 7596.7363 - mae: 7596.7363\n",
            "Epoch 37/100\n",
            "34/34 [==============================] - 0s 3ms/step - loss: 7555.2739 - mae: 7555.2739\n",
            "Epoch 38/100\n",
            "34/34 [==============================] - 0s 2ms/step - loss: 7367.3823 - mae: 7367.3823\n",
            "Epoch 39/100\n",
            "34/34 [==============================] - 0s 2ms/step - loss: 7400.7510 - mae: 7400.7510\n",
            "Epoch 40/100\n",
            "34/34 [==============================] - 0s 2ms/step - loss: 7370.1772 - mae: 7370.1772\n",
            "Epoch 41/100\n",
            "34/34 [==============================] - 0s 2ms/step - loss: 7626.7983 - mae: 7626.7983\n",
            "Epoch 42/100\n",
            "34/34 [==============================] - 0s 2ms/step - loss: 7534.9434 - mae: 7534.9434\n",
            "Epoch 43/100\n",
            "34/34 [==============================] - 0s 2ms/step - loss: 7785.0088 - mae: 7785.0088\n",
            "Epoch 44/100\n",
            "34/34 [==============================] - 0s 2ms/step - loss: 7506.7300 - mae: 7506.7300\n",
            "Epoch 45/100\n",
            "34/34 [==============================] - 0s 2ms/step - loss: 7508.2544 - mae: 7508.2544\n",
            "Epoch 46/100\n",
            "34/34 [==============================] - 0s 2ms/step - loss: 7384.2085 - mae: 7384.2085\n",
            "Epoch 47/100\n",
            "34/34 [==============================] - 0s 2ms/step - loss: 7261.0454 - mae: 7261.0454\n",
            "Epoch 48/100\n",
            "34/34 [==============================] - 0s 2ms/step - loss: 7533.0474 - mae: 7533.0474\n",
            "Epoch 49/100\n",
            "34/34 [==============================] - 0s 3ms/step - loss: 7513.0596 - mae: 7513.0596\n",
            "Epoch 50/100\n",
            "34/34 [==============================] - 0s 2ms/step - loss: 7490.9385 - mae: 7490.9385\n",
            "Epoch 51/100\n",
            "34/34 [==============================] - 0s 2ms/step - loss: 7420.6235 - mae: 7420.6235\n",
            "Epoch 52/100\n",
            "34/34 [==============================] - 0s 3ms/step - loss: 7379.0908 - mae: 7379.0908\n",
            "Epoch 53/100\n",
            "34/34 [==============================] - 0s 2ms/step - loss: 7489.1782 - mae: 7489.1782\n",
            "Epoch 54/100\n",
            "34/34 [==============================] - 0s 2ms/step - loss: 7233.2075 - mae: 7233.2075\n",
            "Epoch 55/100\n",
            "34/34 [==============================] - 0s 2ms/step - loss: 7282.9688 - mae: 7282.9688\n",
            "Epoch 56/100\n",
            "34/34 [==============================] - 0s 2ms/step - loss: 7407.0293 - mae: 7407.0293\n",
            "Epoch 57/100\n",
            "34/34 [==============================] - 0s 3ms/step - loss: 7532.1309 - mae: 7532.1309\n",
            "Epoch 58/100\n",
            "34/34 [==============================] - 0s 3ms/step - loss: 7489.1514 - mae: 7489.1514\n",
            "Epoch 59/100\n",
            "34/34 [==============================] - 0s 2ms/step - loss: 7670.8647 - mae: 7670.8647\n",
            "Epoch 60/100\n",
            "34/34 [==============================] - 0s 2ms/step - loss: 7475.4966 - mae: 7475.4966\n",
            "Epoch 61/100\n",
            "34/34 [==============================] - 0s 2ms/step - loss: 7584.5703 - mae: 7584.5703\n",
            "Epoch 62/100\n",
            "34/34 [==============================] - 0s 2ms/step - loss: 7416.9878 - mae: 7416.9878\n",
            "Epoch 63/100\n",
            "34/34 [==============================] - 0s 2ms/step - loss: 7372.2891 - mae: 7372.2891\n",
            "Epoch 64/100\n",
            "34/34 [==============================] - 0s 2ms/step - loss: 7400.1353 - mae: 7400.1353\n",
            "Epoch 65/100\n",
            "34/34 [==============================] - 0s 2ms/step - loss: 7444.9492 - mae: 7444.9492\n",
            "Epoch 66/100\n",
            "34/34 [==============================] - 0s 2ms/step - loss: 7246.7812 - mae: 7246.7812\n",
            "Epoch 67/100\n",
            "34/34 [==============================] - 0s 1ms/step - loss: 7481.2607 - mae: 7481.2607\n",
            "Epoch 68/100\n",
            "34/34 [==============================] - 0s 1ms/step - loss: 7489.1050 - mae: 7489.1050\n",
            "Epoch 69/100\n",
            "34/34 [==============================] - 0s 1ms/step - loss: 7646.2085 - mae: 7646.2085\n",
            "Epoch 70/100\n",
            "34/34 [==============================] - 0s 1ms/step - loss: 7537.1460 - mae: 7537.1460\n",
            "Epoch 71/100\n",
            "34/34 [==============================] - 0s 1ms/step - loss: 7179.6865 - mae: 7179.6865\n",
            "Epoch 72/100\n",
            "34/34 [==============================] - 0s 1ms/step - loss: 7309.7344 - mae: 7309.7344\n",
            "Epoch 73/100\n",
            "34/34 [==============================] - 0s 2ms/step - loss: 7317.9238 - mae: 7317.9238\n",
            "Epoch 74/100\n",
            "34/34 [==============================] - 0s 1ms/step - loss: 7354.3716 - mae: 7354.3716\n",
            "Epoch 75/100\n",
            "34/34 [==============================] - 0s 1ms/step - loss: 7338.4219 - mae: 7338.4219\n",
            "Epoch 76/100\n",
            "34/34 [==============================] - 0s 2ms/step - loss: 7183.7739 - mae: 7183.7739\n",
            "Epoch 77/100\n",
            "34/34 [==============================] - 0s 2ms/step - loss: 7492.5015 - mae: 7492.5015\n",
            "Epoch 78/100\n",
            "34/34 [==============================] - 0s 1ms/step - loss: 7139.3442 - mae: 7139.3442\n",
            "Epoch 79/100\n",
            "34/34 [==============================] - 0s 1ms/step - loss: 7516.3999 - mae: 7516.3999\n",
            "Epoch 80/100\n",
            "34/34 [==============================] - 0s 2ms/step - loss: 7320.2632 - mae: 7320.2632\n",
            "Epoch 81/100\n",
            "34/34 [==============================] - 0s 1ms/step - loss: 7294.1660 - mae: 7294.1660\n",
            "Epoch 82/100\n",
            "34/34 [==============================] - 0s 2ms/step - loss: 7157.8804 - mae: 7157.8804\n",
            "Epoch 83/100\n",
            "34/34 [==============================] - 0s 1ms/step - loss: 7405.1665 - mae: 7405.1665\n",
            "Epoch 84/100\n",
            "34/34 [==============================] - 0s 1ms/step - loss: 7181.8384 - mae: 7181.8384\n",
            "Epoch 85/100\n",
            "34/34 [==============================] - 0s 1ms/step - loss: 7429.9175 - mae: 7429.9175\n",
            "Epoch 86/100\n",
            "34/34 [==============================] - 0s 2ms/step - loss: 7402.7988 - mae: 7402.7988\n",
            "Epoch 87/100\n",
            "34/34 [==============================] - 0s 1ms/step - loss: 7288.8076 - mae: 7288.8076\n",
            "Epoch 88/100\n",
            "34/34 [==============================] - 0s 2ms/step - loss: 7271.3979 - mae: 7271.3979\n",
            "Epoch 89/100\n",
            "34/34 [==============================] - 0s 1ms/step - loss: 7341.8750 - mae: 7341.8750\n",
            "Epoch 90/100\n",
            "34/34 [==============================] - 0s 1ms/step - loss: 7157.3823 - mae: 7157.3823\n",
            "Epoch 91/100\n",
            "34/34 [==============================] - 0s 2ms/step - loss: 7108.0176 - mae: 7108.0176\n",
            "Epoch 92/100\n",
            "34/34 [==============================] - 0s 1ms/step - loss: 7242.1938 - mae: 7242.1938\n",
            "Epoch 93/100\n",
            "34/34 [==============================] - 0s 1ms/step - loss: 7510.2158 - mae: 7510.2158\n",
            "Epoch 94/100\n",
            "34/34 [==============================] - 0s 1ms/step - loss: 7267.8887 - mae: 7267.8887\n",
            "Epoch 95/100\n",
            "34/34 [==============================] - 0s 2ms/step - loss: 7322.1743 - mae: 7322.1743\n",
            "Epoch 96/100\n",
            "34/34 [==============================] - 0s 2ms/step - loss: 7358.6167 - mae: 7358.6167\n",
            "Epoch 97/100\n",
            "34/34 [==============================] - 0s 1ms/step - loss: 7239.1670 - mae: 7239.1670\n",
            "Epoch 98/100\n",
            "34/34 [==============================] - 0s 1ms/step - loss: 7345.5845 - mae: 7345.5845\n",
            "Epoch 99/100\n",
            "34/34 [==============================] - 0s 1ms/step - loss: 7314.4551 - mae: 7314.4551\n",
            "Epoch 100/100\n",
            "34/34 [==============================] - 0s 1ms/step - loss: 7420.2847 - mae: 7420.2847\n"
          ]
        },
        {
          "output_type": "execute_result",
          "data": {
            "text/plain": [
              "<keras.callbacks.History at 0x7faea3cf0c40>"
            ]
          },
          "metadata": {},
          "execution_count": 71
        }
      ]
    },
    {
      "cell_type": "code",
      "source": [
        "#let's check data\n",
        "insuarance_model.evaluate(X_test,y_test)"
      ],
      "metadata": {
        "id": "7rZZpt3mDT42",
        "outputId": "01b75b88-9d5a-4792-dead-e69026ce6ed8",
        "colab": {
          "base_uri": "https://localhost:8080/"
        }
      },
      "execution_count": 72,
      "outputs": [
        {
          "output_type": "stream",
          "name": "stdout",
          "text": [
            "9/9 [==============================] - 0s 2ms/step - loss: 9067.5840 - mae: 9067.5840\n"
          ]
        },
        {
          "output_type": "execute_result",
          "data": {
            "text/plain": [
              "[9067.583984375, 9067.583984375]"
            ]
          },
          "metadata": {},
          "execution_count": 72
        }
      ]
    },
    {
      "cell_type": "markdown",
      "source": [
        "Improve the model\n",
        "\n",
        "1.   Add an extra layer with more hidden units\n",
        "2.   Train for longer\n",
        "\n"
      ],
      "metadata": {
        "id": "jBnDxkpNT6Ew"
      }
    },
    {
      "cell_type": "markdown",
      "source": [
        "1.Add an extra layer with more hidden units"
      ],
      "metadata": {
        "id": "ALyDD-maDu1r"
      }
    },
    {
      "cell_type": "code",
      "source": [
        "\n",
        "tf.random.set_seed(42)\n",
        "insuarance_model_2=tf.keras.Sequential([\n",
        "    tf.keras.layers.Dense(100),\n",
        "    tf.keras.layers.Dense(10),\n",
        "     tf.keras.layers.Dense(1),\n",
        "\n",
        "])\n",
        "insuarance_model_2.compile(loss=tf.keras.losses.mae,\n",
        "                         optimizer=tf.keras.optimizers.SGD(),\n",
        "                         metrics=[\"mae\"])\n",
        "insuarance_model_2.fit(X_train,y_train,epochs=100,verbose=1)"
      ],
      "metadata": {
        "id": "nEuywH6jUI1r",
        "outputId": "4f0d7d41-4428-4478-be46-16e1041ccfbf",
        "colab": {
          "base_uri": "https://localhost:8080/"
        }
      },
      "execution_count": 73,
      "outputs": [
        {
          "output_type": "stream",
          "name": "stdout",
          "text": [
            "Epoch 1/100\n",
            "34/34 [==============================] - 1s 2ms/step - loss: nan - mae: nan           \n",
            "Epoch 2/100\n",
            "34/34 [==============================] - 0s 2ms/step - loss: nan - mae: nan\n",
            "Epoch 3/100\n",
            "34/34 [==============================] - 0s 1ms/step - loss: nan - mae: nan\n",
            "Epoch 4/100\n",
            "34/34 [==============================] - 0s 1ms/step - loss: nan - mae: nan\n",
            "Epoch 5/100\n",
            "34/34 [==============================] - 0s 2ms/step - loss: nan - mae: nan\n",
            "Epoch 6/100\n",
            "34/34 [==============================] - 0s 1ms/step - loss: nan - mae: nan\n",
            "Epoch 7/100\n",
            "34/34 [==============================] - 0s 1ms/step - loss: nan - mae: nan\n",
            "Epoch 8/100\n",
            "34/34 [==============================] - 0s 1ms/step - loss: nan - mae: nan\n",
            "Epoch 9/100\n",
            "34/34 [==============================] - 0s 1ms/step - loss: nan - mae: nan\n",
            "Epoch 10/100\n",
            "34/34 [==============================] - 0s 2ms/step - loss: nan - mae: nan\n",
            "Epoch 11/100\n",
            "34/34 [==============================] - 0s 1ms/step - loss: nan - mae: nan\n",
            "Epoch 12/100\n",
            "34/34 [==============================] - 0s 1ms/step - loss: nan - mae: nan\n",
            "Epoch 13/100\n",
            "34/34 [==============================] - 0s 2ms/step - loss: nan - mae: nan\n",
            "Epoch 14/100\n",
            "34/34 [==============================] - 0s 2ms/step - loss: nan - mae: nan\n",
            "Epoch 15/100\n",
            "34/34 [==============================] - 0s 1ms/step - loss: nan - mae: nan\n",
            "Epoch 16/100\n",
            "34/34 [==============================] - 0s 1ms/step - loss: nan - mae: nan\n",
            "Epoch 17/100\n",
            "34/34 [==============================] - 0s 2ms/step - loss: nan - mae: nan\n",
            "Epoch 18/100\n",
            "34/34 [==============================] - 0s 2ms/step - loss: nan - mae: nan\n",
            "Epoch 19/100\n",
            "34/34 [==============================] - 0s 2ms/step - loss: nan - mae: nan\n",
            "Epoch 20/100\n",
            "34/34 [==============================] - 0s 2ms/step - loss: nan - mae: nan\n",
            "Epoch 21/100\n",
            "34/34 [==============================] - 0s 2ms/step - loss: nan - mae: nan\n",
            "Epoch 22/100\n",
            "34/34 [==============================] - 0s 2ms/step - loss: nan - mae: nan\n",
            "Epoch 23/100\n",
            "34/34 [==============================] - 0s 1ms/step - loss: nan - mae: nan\n",
            "Epoch 24/100\n",
            "34/34 [==============================] - 0s 1ms/step - loss: nan - mae: nan\n",
            "Epoch 25/100\n",
            "34/34 [==============================] - 0s 1ms/step - loss: nan - mae: nan\n",
            "Epoch 26/100\n",
            "34/34 [==============================] - 0s 2ms/step - loss: nan - mae: nan\n",
            "Epoch 27/100\n",
            "34/34 [==============================] - 0s 1ms/step - loss: nan - mae: nan\n",
            "Epoch 28/100\n",
            "34/34 [==============================] - 0s 1ms/step - loss: nan - mae: nan\n",
            "Epoch 29/100\n",
            "34/34 [==============================] - 0s 2ms/step - loss: nan - mae: nan\n",
            "Epoch 30/100\n",
            "34/34 [==============================] - 0s 1ms/step - loss: nan - mae: nan\n",
            "Epoch 31/100\n",
            "34/34 [==============================] - 0s 2ms/step - loss: nan - mae: nan\n",
            "Epoch 32/100\n",
            "34/34 [==============================] - 0s 2ms/step - loss: nan - mae: nan\n",
            "Epoch 33/100\n",
            "34/34 [==============================] - 0s 1ms/step - loss: nan - mae: nan\n",
            "Epoch 34/100\n",
            "34/34 [==============================] - 0s 2ms/step - loss: nan - mae: nan\n",
            "Epoch 35/100\n",
            "34/34 [==============================] - 0s 2ms/step - loss: nan - mae: nan\n",
            "Epoch 36/100\n",
            "34/34 [==============================] - 0s 2ms/step - loss: nan - mae: nan\n",
            "Epoch 37/100\n",
            "34/34 [==============================] - 0s 2ms/step - loss: nan - mae: nan\n",
            "Epoch 38/100\n",
            "34/34 [==============================] - 0s 1ms/step - loss: nan - mae: nan\n",
            "Epoch 39/100\n",
            "34/34 [==============================] - 0s 2ms/step - loss: nan - mae: nan\n",
            "Epoch 40/100\n",
            "34/34 [==============================] - 0s 2ms/step - loss: nan - mae: nan\n",
            "Epoch 41/100\n",
            "34/34 [==============================] - 0s 1ms/step - loss: nan - mae: nan\n",
            "Epoch 42/100\n",
            "34/34 [==============================] - 0s 1ms/step - loss: nan - mae: nan\n",
            "Epoch 43/100\n",
            "34/34 [==============================] - 0s 2ms/step - loss: nan - mae: nan\n",
            "Epoch 44/100\n",
            "34/34 [==============================] - 0s 1ms/step - loss: nan - mae: nan\n",
            "Epoch 45/100\n",
            "34/34 [==============================] - 0s 1ms/step - loss: nan - mae: nan\n",
            "Epoch 46/100\n",
            "34/34 [==============================] - 0s 2ms/step - loss: nan - mae: nan\n",
            "Epoch 47/100\n",
            "34/34 [==============================] - 0s 2ms/step - loss: nan - mae: nan\n",
            "Epoch 48/100\n",
            "34/34 [==============================] - 0s 2ms/step - loss: nan - mae: nan\n",
            "Epoch 49/100\n",
            "34/34 [==============================] - 0s 2ms/step - loss: nan - mae: nan\n",
            "Epoch 50/100\n",
            "34/34 [==============================] - 0s 1ms/step - loss: nan - mae: nan\n",
            "Epoch 51/100\n",
            "34/34 [==============================] - 0s 1ms/step - loss: nan - mae: nan\n",
            "Epoch 52/100\n",
            "34/34 [==============================] - 0s 1ms/step - loss: nan - mae: nan\n",
            "Epoch 53/100\n",
            "34/34 [==============================] - 0s 1ms/step - loss: nan - mae: nan\n",
            "Epoch 54/100\n",
            "34/34 [==============================] - 0s 2ms/step - loss: nan - mae: nan\n",
            "Epoch 55/100\n",
            "34/34 [==============================] - 0s 1ms/step - loss: nan - mae: nan\n",
            "Epoch 56/100\n",
            "34/34 [==============================] - 0s 1ms/step - loss: nan - mae: nan\n",
            "Epoch 57/100\n",
            "34/34 [==============================] - 0s 1ms/step - loss: nan - mae: nan\n",
            "Epoch 58/100\n",
            "34/34 [==============================] - 0s 3ms/step - loss: nan - mae: nan\n",
            "Epoch 59/100\n",
            "34/34 [==============================] - 0s 2ms/step - loss: nan - mae: nan\n",
            "Epoch 60/100\n",
            "34/34 [==============================] - 0s 2ms/step - loss: nan - mae: nan\n",
            "Epoch 61/100\n",
            "34/34 [==============================] - 0s 3ms/step - loss: nan - mae: nan\n",
            "Epoch 62/100\n",
            "34/34 [==============================] - 0s 2ms/step - loss: nan - mae: nan\n",
            "Epoch 63/100\n",
            "34/34 [==============================] - 0s 2ms/step - loss: nan - mae: nan\n",
            "Epoch 64/100\n",
            "34/34 [==============================] - 0s 2ms/step - loss: nan - mae: nan\n",
            "Epoch 65/100\n",
            "34/34 [==============================] - 0s 2ms/step - loss: nan - mae: nan\n",
            "Epoch 66/100\n",
            "34/34 [==============================] - 0s 2ms/step - loss: nan - mae: nan\n",
            "Epoch 67/100\n",
            "34/34 [==============================] - 0s 2ms/step - loss: nan - mae: nan\n",
            "Epoch 68/100\n",
            "34/34 [==============================] - 0s 2ms/step - loss: nan - mae: nan\n",
            "Epoch 69/100\n",
            "34/34 [==============================] - 0s 2ms/step - loss: nan - mae: nan\n",
            "Epoch 70/100\n",
            "34/34 [==============================] - 0s 2ms/step - loss: nan - mae: nan\n",
            "Epoch 71/100\n",
            "34/34 [==============================] - 0s 2ms/step - loss: nan - mae: nan\n",
            "Epoch 72/100\n",
            "34/34 [==============================] - 0s 2ms/step - loss: nan - mae: nan\n",
            "Epoch 73/100\n",
            "34/34 [==============================] - 0s 3ms/step - loss: nan - mae: nan\n",
            "Epoch 74/100\n",
            "34/34 [==============================] - 0s 3ms/step - loss: nan - mae: nan\n",
            "Epoch 75/100\n",
            "34/34 [==============================] - 0s 3ms/step - loss: nan - mae: nan\n",
            "Epoch 76/100\n",
            "34/34 [==============================] - 0s 2ms/step - loss: nan - mae: nan\n",
            "Epoch 77/100\n",
            "34/34 [==============================] - 0s 2ms/step - loss: nan - mae: nan\n",
            "Epoch 78/100\n",
            "34/34 [==============================] - 0s 2ms/step - loss: nan - mae: nan\n",
            "Epoch 79/100\n",
            "34/34 [==============================] - 0s 2ms/step - loss: nan - mae: nan\n",
            "Epoch 80/100\n",
            "34/34 [==============================] - 0s 2ms/step - loss: nan - mae: nan\n",
            "Epoch 81/100\n",
            "34/34 [==============================] - 0s 2ms/step - loss: nan - mae: nan\n",
            "Epoch 82/100\n",
            "34/34 [==============================] - 0s 2ms/step - loss: nan - mae: nan\n",
            "Epoch 83/100\n",
            "34/34 [==============================] - 0s 2ms/step - loss: nan - mae: nan\n",
            "Epoch 84/100\n",
            "34/34 [==============================] - 0s 2ms/step - loss: nan - mae: nan\n",
            "Epoch 85/100\n",
            "34/34 [==============================] - 0s 2ms/step - loss: nan - mae: nan\n",
            "Epoch 86/100\n",
            "34/34 [==============================] - 0s 2ms/step - loss: nan - mae: nan\n",
            "Epoch 87/100\n",
            "34/34 [==============================] - 0s 2ms/step - loss: nan - mae: nan\n",
            "Epoch 88/100\n",
            "34/34 [==============================] - 0s 2ms/step - loss: nan - mae: nan\n",
            "Epoch 89/100\n",
            "34/34 [==============================] - 0s 2ms/step - loss: nan - mae: nan\n",
            "Epoch 90/100\n",
            "34/34 [==============================] - 0s 2ms/step - loss: nan - mae: nan\n",
            "Epoch 91/100\n",
            "34/34 [==============================] - 0s 2ms/step - loss: nan - mae: nan\n",
            "Epoch 92/100\n",
            "34/34 [==============================] - 0s 2ms/step - loss: nan - mae: nan\n",
            "Epoch 93/100\n",
            "34/34 [==============================] - 0s 2ms/step - loss: nan - mae: nan\n",
            "Epoch 94/100\n",
            "34/34 [==============================] - 0s 2ms/step - loss: nan - mae: nan\n",
            "Epoch 95/100\n",
            "34/34 [==============================] - 0s 1ms/step - loss: nan - mae: nan\n",
            "Epoch 96/100\n",
            "34/34 [==============================] - 0s 2ms/step - loss: nan - mae: nan\n",
            "Epoch 97/100\n",
            "34/34 [==============================] - 0s 2ms/step - loss: nan - mae: nan\n",
            "Epoch 98/100\n",
            "34/34 [==============================] - 0s 2ms/step - loss: nan - mae: nan\n",
            "Epoch 99/100\n",
            "34/34 [==============================] - 0s 2ms/step - loss: nan - mae: nan\n",
            "Epoch 100/100\n",
            "34/34 [==============================] - 0s 1ms/step - loss: nan - mae: nan\n"
          ]
        },
        {
          "output_type": "execute_result",
          "data": {
            "text/plain": [
              "<keras.callbacks.History at 0x7faea8e8a770>"
            ]
          },
          "metadata": {},
          "execution_count": 73
        }
      ]
    },
    {
      "cell_type": "code",
      "source": [
        "insuarance_model_2.evaluate(X_test,y_test)"
      ],
      "metadata": {
        "id": "41sXEElgUb-M",
        "outputId": "de6daee6-b568-458f-854f-d9753dca9666",
        "colab": {
          "base_uri": "https://localhost:8080/"
        }
      },
      "execution_count": 74,
      "outputs": [
        {
          "output_type": "stream",
          "name": "stdout",
          "text": [
            "9/9 [==============================] - 0s 2ms/step - loss: nan - mae: nan\n"
          ]
        },
        {
          "output_type": "execute_result",
          "data": {
            "text/plain": [
              "[nan, nan]"
            ]
          },
          "metadata": {},
          "execution_count": 74
        }
      ]
    },
    {
      "cell_type": "code",
      "source": [
        "# seems like it is not learning anything(model maybe complecated which meand dataset isnt larger enough to teach it)"
      ],
      "metadata": {
        "id": "e0fwoiDYUvOs"
      },
      "execution_count": 75,
      "outputs": []
    },
    {
      "cell_type": "markdown",
      "source": [
        "let's replace optimizer with a lr"
      ],
      "metadata": {
        "id": "PtG1sAU6VPQu"
      }
    },
    {
      "cell_type": "code",
      "source": [
        "\n",
        "tf.random.set_seed(42)\n",
        "insuarance_model_2=tf.keras.Sequential([\n",
        "    tf.keras.layers.Dense(100),\n",
        "    tf.keras.layers.Dense(10),\n",
        "     tf.keras.layers.Dense(1),\n",
        "\n",
        "])\n",
        "insuarance_model_2.compile(loss=tf.keras.losses.mae,\n",
        "                         optimizer=tf.keras.optimizers.Adam(),\n",
        "                         metrics=[\"mae\"])\n",
        "insuarance_model_2.fit(X_train,y_train,epochs=100,verbose=1)"
      ],
      "metadata": {
        "id": "K-fAjgoDVq5t",
        "outputId": "f84f5392-1a2d-41ff-e51f-2c3c223df1f2",
        "colab": {
          "base_uri": "https://localhost:8080/"
        }
      },
      "execution_count": 76,
      "outputs": [
        {
          "output_type": "stream",
          "name": "stdout",
          "text": [
            "Epoch 1/100\n",
            "34/34 [==============================] - 1s 2ms/step - loss: 13306.0898 - mae: 13306.0898\n",
            "Epoch 2/100\n",
            "34/34 [==============================] - 0s 2ms/step - loss: 13156.4824 - mae: 13156.4824\n",
            "Epoch 3/100\n",
            "34/34 [==============================] - 0s 2ms/step - loss: 12837.7236 - mae: 12837.7236\n",
            "Epoch 4/100\n",
            "34/34 [==============================] - 0s 2ms/step - loss: 12194.6055 - mae: 12194.6055\n",
            "Epoch 5/100\n",
            "34/34 [==============================] - 0s 2ms/step - loss: 11089.7754 - mae: 11089.7754\n",
            "Epoch 6/100\n",
            "34/34 [==============================] - 0s 2ms/step - loss: 9635.4531 - mae: 9635.4531\n",
            "Epoch 7/100\n",
            "34/34 [==============================] - 0s 2ms/step - loss: 8273.9395 - mae: 8273.9395\n",
            "Epoch 8/100\n",
            "34/34 [==============================] - 0s 2ms/step - loss: 7570.3022 - mae: 7570.3022\n",
            "Epoch 9/100\n",
            "34/34 [==============================] - 0s 2ms/step - loss: 7442.9902 - mae: 7442.9902\n",
            "Epoch 10/100\n",
            "34/34 [==============================] - 0s 2ms/step - loss: 7422.3701 - mae: 7422.3701\n",
            "Epoch 11/100\n",
            "34/34 [==============================] - 0s 2ms/step - loss: 7403.9004 - mae: 7403.9004\n",
            "Epoch 12/100\n",
            "34/34 [==============================] - 0s 2ms/step - loss: 7382.1509 - mae: 7382.1509\n",
            "Epoch 13/100\n",
            "34/34 [==============================] - 0s 2ms/step - loss: 7362.4170 - mae: 7362.4170\n",
            "Epoch 14/100\n",
            "34/34 [==============================] - 0s 2ms/step - loss: 7340.3394 - mae: 7340.3394\n",
            "Epoch 15/100\n",
            "34/34 [==============================] - 0s 2ms/step - loss: 7321.5776 - mae: 7321.5776\n",
            "Epoch 16/100\n",
            "34/34 [==============================] - 0s 2ms/step - loss: 7299.6353 - mae: 7299.6353\n",
            "Epoch 17/100\n",
            "34/34 [==============================] - 0s 2ms/step - loss: 7279.9258 - mae: 7279.9258\n",
            "Epoch 18/100\n",
            "34/34 [==============================] - 0s 2ms/step - loss: 7257.0688 - mae: 7257.0688\n",
            "Epoch 19/100\n",
            "34/34 [==============================] - 0s 1ms/step - loss: 7235.1782 - mae: 7235.1782\n",
            "Epoch 20/100\n",
            "34/34 [==============================] - 0s 2ms/step - loss: 7212.6084 - mae: 7212.6084\n",
            "Epoch 21/100\n",
            "34/34 [==============================] - 0s 2ms/step - loss: 7193.6162 - mae: 7193.6162\n",
            "Epoch 22/100\n",
            "34/34 [==============================] - 0s 2ms/step - loss: 7167.5605 - mae: 7167.5605\n",
            "Epoch 23/100\n",
            "34/34 [==============================] - 0s 2ms/step - loss: 7143.1455 - mae: 7143.1455\n",
            "Epoch 24/100\n",
            "34/34 [==============================] - 0s 2ms/step - loss: 7119.1313 - mae: 7119.1313\n",
            "Epoch 25/100\n",
            "34/34 [==============================] - 0s 2ms/step - loss: 7101.4575 - mae: 7101.4575\n",
            "Epoch 26/100\n",
            "34/34 [==============================] - 0s 2ms/step - loss: 7070.7954 - mae: 7070.7954\n",
            "Epoch 27/100\n",
            "34/34 [==============================] - 0s 2ms/step - loss: 7042.6582 - mae: 7042.6582\n",
            "Epoch 28/100\n",
            "34/34 [==============================] - 0s 2ms/step - loss: 7015.1484 - mae: 7015.1484\n",
            "Epoch 29/100\n",
            "34/34 [==============================] - 0s 2ms/step - loss: 6988.2832 - mae: 6988.2832\n",
            "Epoch 30/100\n",
            "34/34 [==============================] - 0s 2ms/step - loss: 6960.7471 - mae: 6960.7471\n",
            "Epoch 31/100\n",
            "34/34 [==============================] - 0s 2ms/step - loss: 6930.1245 - mae: 6930.1245\n",
            "Epoch 32/100\n",
            "34/34 [==============================] - 0s 2ms/step - loss: 6902.6421 - mae: 6902.6421\n",
            "Epoch 33/100\n",
            "34/34 [==============================] - 0s 2ms/step - loss: 6871.3726 - mae: 6871.3726\n",
            "Epoch 34/100\n",
            "34/34 [==============================] - 0s 2ms/step - loss: 6838.8848 - mae: 6838.8848\n",
            "Epoch 35/100\n",
            "34/34 [==============================] - 0s 2ms/step - loss: 6805.6035 - mae: 6805.6035\n",
            "Epoch 36/100\n",
            "34/34 [==============================] - 0s 2ms/step - loss: 6771.1758 - mae: 6771.1758\n",
            "Epoch 37/100\n",
            "34/34 [==============================] - 0s 2ms/step - loss: 6734.7388 - mae: 6734.7388\n",
            "Epoch 38/100\n",
            "34/34 [==============================] - 0s 2ms/step - loss: 6701.3306 - mae: 6701.3306\n",
            "Epoch 39/100\n",
            "34/34 [==============================] - 0s 2ms/step - loss: 6662.2959 - mae: 6662.2959\n",
            "Epoch 40/100\n",
            "34/34 [==============================] - 0s 2ms/step - loss: 6625.7510 - mae: 6625.7510\n",
            "Epoch 41/100\n",
            "34/34 [==============================] - 0s 2ms/step - loss: 6590.1748 - mae: 6590.1748\n",
            "Epoch 42/100\n",
            "34/34 [==============================] - 0s 2ms/step - loss: 6561.2285 - mae: 6561.2285\n",
            "Epoch 43/100\n",
            "34/34 [==============================] - 0s 2ms/step - loss: 6531.1553 - mae: 6531.1553\n",
            "Epoch 44/100\n",
            "34/34 [==============================] - 0s 2ms/step - loss: 6505.9375 - mae: 6505.9375\n",
            "Epoch 45/100\n",
            "34/34 [==============================] - 0s 2ms/step - loss: 6489.7866 - mae: 6489.7866\n",
            "Epoch 46/100\n",
            "34/34 [==============================] - 0s 2ms/step - loss: 6473.0122 - mae: 6473.0122\n",
            "Epoch 47/100\n",
            "34/34 [==============================] - 0s 2ms/step - loss: 6455.2993 - mae: 6455.2993\n",
            "Epoch 48/100\n",
            "34/34 [==============================] - 0s 2ms/step - loss: 6440.5034 - mae: 6440.5034\n",
            "Epoch 49/100\n",
            "34/34 [==============================] - 0s 2ms/step - loss: 6427.0420 - mae: 6427.0420\n",
            "Epoch 50/100\n",
            "34/34 [==============================] - 0s 2ms/step - loss: 6412.3252 - mae: 6412.3252\n",
            "Epoch 51/100\n",
            "34/34 [==============================] - 0s 2ms/step - loss: 6398.3848 - mae: 6398.3848\n",
            "Epoch 52/100\n",
            "34/34 [==============================] - 0s 2ms/step - loss: 6386.8716 - mae: 6386.8716\n",
            "Epoch 53/100\n",
            "34/34 [==============================] - 0s 2ms/step - loss: 6373.0200 - mae: 6373.0200\n",
            "Epoch 54/100\n",
            "34/34 [==============================] - 0s 2ms/step - loss: 6359.2153 - mae: 6359.2153\n",
            "Epoch 55/100\n",
            "34/34 [==============================] - 0s 2ms/step - loss: 6345.3262 - mae: 6345.3262\n",
            "Epoch 56/100\n",
            "34/34 [==============================] - 0s 2ms/step - loss: 6330.9355 - mae: 6330.9355\n",
            "Epoch 57/100\n",
            "34/34 [==============================] - 0s 2ms/step - loss: 6318.0137 - mae: 6318.0137\n",
            "Epoch 58/100\n",
            "34/34 [==============================] - 0s 2ms/step - loss: 6304.7236 - mae: 6304.7236\n",
            "Epoch 59/100\n",
            "34/34 [==============================] - 0s 2ms/step - loss: 6288.7505 - mae: 6288.7505\n",
            "Epoch 60/100\n",
            "34/34 [==============================] - 0s 2ms/step - loss: 6278.0273 - mae: 6278.0273\n",
            "Epoch 61/100\n",
            "34/34 [==============================] - 0s 2ms/step - loss: 6258.8633 - mae: 6258.8633\n",
            "Epoch 62/100\n",
            "34/34 [==============================] - 0s 2ms/step - loss: 6246.1343 - mae: 6246.1343\n",
            "Epoch 63/100\n",
            "34/34 [==============================] - 0s 2ms/step - loss: 6227.4023 - mae: 6227.4023\n",
            "Epoch 64/100\n",
            "34/34 [==============================] - 0s 2ms/step - loss: 6210.6948 - mae: 6210.6948\n",
            "Epoch 65/100\n",
            "34/34 [==============================] - 0s 2ms/step - loss: 6193.7080 - mae: 6193.7080\n",
            "Epoch 66/100\n",
            "34/34 [==============================] - 0s 2ms/step - loss: 6176.3228 - mae: 6176.3228\n",
            "Epoch 67/100\n",
            "34/34 [==============================] - 0s 2ms/step - loss: 6163.9453 - mae: 6163.9453\n",
            "Epoch 68/100\n",
            "34/34 [==============================] - 0s 2ms/step - loss: 6140.7549 - mae: 6140.7549\n",
            "Epoch 69/100\n",
            "34/34 [==============================] - 0s 2ms/step - loss: 6125.1387 - mae: 6125.1387\n",
            "Epoch 70/100\n",
            "34/34 [==============================] - 0s 2ms/step - loss: 6104.9995 - mae: 6104.9995\n",
            "Epoch 71/100\n",
            "34/34 [==============================] - 0s 2ms/step - loss: 6085.3042 - mae: 6085.3042\n",
            "Epoch 72/100\n",
            "34/34 [==============================] - 0s 2ms/step - loss: 6067.1973 - mae: 6067.1973\n",
            "Epoch 73/100\n",
            "34/34 [==============================] - 0s 2ms/step - loss: 6051.1357 - mae: 6051.1357\n",
            "Epoch 74/100\n",
            "34/34 [==============================] - 0s 2ms/step - loss: 6023.9766 - mae: 6023.9766\n",
            "Epoch 75/100\n",
            "34/34 [==============================] - 0s 2ms/step - loss: 6002.4419 - mae: 6002.4419\n",
            "Epoch 76/100\n",
            "34/34 [==============================] - 0s 2ms/step - loss: 5988.2544 - mae: 5988.2544\n",
            "Epoch 77/100\n",
            "34/34 [==============================] - 0s 2ms/step - loss: 5956.2368 - mae: 5956.2368\n",
            "Epoch 78/100\n",
            "34/34 [==============================] - 0s 2ms/step - loss: 5933.2021 - mae: 5933.2021\n",
            "Epoch 79/100\n",
            "34/34 [==============================] - 0s 2ms/step - loss: 5908.6460 - mae: 5908.6460\n",
            "Epoch 80/100\n",
            "34/34 [==============================] - 0s 2ms/step - loss: 5881.8833 - mae: 5881.8833\n",
            "Epoch 81/100\n",
            "34/34 [==============================] - 0s 2ms/step - loss: 5856.2202 - mae: 5856.2202\n",
            "Epoch 82/100\n",
            "34/34 [==============================] - 0s 2ms/step - loss: 5828.0947 - mae: 5828.0947\n",
            "Epoch 83/100\n",
            "34/34 [==============================] - 0s 3ms/step - loss: 5800.5117 - mae: 5800.5117\n",
            "Epoch 84/100\n",
            "34/34 [==============================] - 0s 2ms/step - loss: 5767.8833 - mae: 5767.8833\n",
            "Epoch 85/100\n",
            "34/34 [==============================] - 0s 2ms/step - loss: 5742.6255 - mae: 5742.6255\n",
            "Epoch 86/100\n",
            "34/34 [==============================] - 0s 2ms/step - loss: 5709.3384 - mae: 5709.3384\n",
            "Epoch 87/100\n",
            "34/34 [==============================] - 0s 3ms/step - loss: 5671.4863 - mae: 5671.4863\n",
            "Epoch 88/100\n",
            "34/34 [==============================] - 0s 2ms/step - loss: 5637.1431 - mae: 5637.1431\n",
            "Epoch 89/100\n",
            "34/34 [==============================] - 0s 2ms/step - loss: 5599.2280 - mae: 5599.2280\n",
            "Epoch 90/100\n",
            "34/34 [==============================] - 0s 2ms/step - loss: 5558.7036 - mae: 5558.7036\n",
            "Epoch 91/100\n",
            "34/34 [==============================] - 0s 2ms/step - loss: 5524.7446 - mae: 5524.7446\n",
            "Epoch 92/100\n",
            "34/34 [==============================] - 0s 2ms/step - loss: 5475.6714 - mae: 5475.6714\n",
            "Epoch 93/100\n",
            "34/34 [==============================] - 0s 3ms/step - loss: 5433.6265 - mae: 5433.6265\n",
            "Epoch 94/100\n",
            "34/34 [==============================] - 0s 3ms/step - loss: 5388.4727 - mae: 5388.4727\n",
            "Epoch 95/100\n",
            "34/34 [==============================] - 0s 3ms/step - loss: 5338.7490 - mae: 5338.7490\n",
            "Epoch 96/100\n",
            "34/34 [==============================] - 0s 3ms/step - loss: 5296.1499 - mae: 5296.1499\n",
            "Epoch 97/100\n",
            "34/34 [==============================] - 0s 4ms/step - loss: 5241.8843 - mae: 5241.8843\n",
            "Epoch 98/100\n",
            "34/34 [==============================] - 0s 3ms/step - loss: 5182.0786 - mae: 5182.0786\n",
            "Epoch 99/100\n",
            "34/34 [==============================] - 0s 3ms/step - loss: 5125.3667 - mae: 5125.3667\n",
            "Epoch 100/100\n",
            "34/34 [==============================] - 0s 2ms/step - loss: 5069.1396 - mae: 5069.1396\n"
          ]
        },
        {
          "output_type": "execute_result",
          "data": {
            "text/plain": [
              "<keras.callbacks.History at 0x7faeaa6b4f10>"
            ]
          },
          "metadata": {},
          "execution_count": 76
        }
      ]
    },
    {
      "cell_type": "code",
      "source": [
        "insuarance_model_2.evaluate(X_test,y_test)"
      ],
      "metadata": {
        "id": "bLE1YjmaVxrd",
        "outputId": "fea17235-dac8-42c3-eae7-a80cc4c70bf4",
        "colab": {
          "base_uri": "https://localhost:8080/"
        }
      },
      "execution_count": 77,
      "outputs": [
        {
          "output_type": "stream",
          "name": "stdout",
          "text": [
            "9/9 [==============================] - 0s 3ms/step - loss: 4937.6602 - mae: 4937.6602\n"
          ]
        },
        {
          "output_type": "execute_result",
          "data": {
            "text/plain": [
              "[4937.66015625, 4937.66015625]"
            ]
          },
          "metadata": {},
          "execution_count": 77
        }
      ]
    },
    {
      "cell_type": "markdown",
      "source": [
        "2. Train for longer"
      ],
      "metadata": {
        "id": "rRlq4P9DWSPT"
      }
    },
    {
      "cell_type": "code",
      "source": [
        "\n",
        "tf.random.set_seed(42)\n",
        "insuarance_model_3=tf.keras.Sequential([\n",
        "    tf.keras.layers.Dense(100),\n",
        "    tf.keras.layers.Dense(10),\n",
        "     tf.keras.layers.Dense(1),\n",
        "\n",
        "])\n",
        "insuarance_model_3.compile(loss=tf.keras.losses.mae,\n",
        "                         optimizer=tf.keras.optimizers.Adam(),\n",
        "                         metrics=[\"mae\"])\n",
        "history=insuarance_model_3.fit(X_train,y_train,epochs=200,verbose=1)"
      ],
      "metadata": {
        "id": "9RV2elLLWCP-",
        "outputId": "d12ba5f7-d46c-4a45-b8cc-cb26857ea4a5",
        "colab": {
          "base_uri": "https://localhost:8080/"
        }
      },
      "execution_count": 78,
      "outputs": [
        {
          "output_type": "stream",
          "name": "stdout",
          "text": [
            "Epoch 1/200\n",
            "34/34 [==============================] - 1s 2ms/step - loss: 13292.9170 - mae: 13292.9170\n",
            "Epoch 2/200\n",
            "34/34 [==============================] - 0s 2ms/step - loss: 13123.0654 - mae: 13123.0654\n",
            "Epoch 3/200\n",
            "34/34 [==============================] - 0s 2ms/step - loss: 12771.1387 - mae: 12771.1387\n",
            "Epoch 4/200\n",
            "34/34 [==============================] - 0s 2ms/step - loss: 12081.4004 - mae: 12081.4004\n",
            "Epoch 5/200\n",
            "34/34 [==============================] - 0s 2ms/step - loss: 10925.8477 - mae: 10925.8477\n",
            "Epoch 6/200\n",
            "34/34 [==============================] - 0s 2ms/step - loss: 9453.9688 - mae: 9453.9688\n",
            "Epoch 7/200\n",
            "34/34 [==============================] - 0s 2ms/step - loss: 8122.9834 - mae: 8122.9834\n",
            "Epoch 8/200\n",
            "34/34 [==============================] - 0s 2ms/step - loss: 7509.7285 - mae: 7509.7285\n",
            "Epoch 9/200\n",
            "34/34 [==============================] - 0s 2ms/step - loss: 7416.4453 - mae: 7416.4453\n",
            "Epoch 10/200\n",
            "34/34 [==============================] - 0s 2ms/step - loss: 7396.6333 - mae: 7396.6333\n",
            "Epoch 11/200\n",
            "34/34 [==============================] - 0s 2ms/step - loss: 7377.8140 - mae: 7377.8140\n",
            "Epoch 12/200\n",
            "34/34 [==============================] - 0s 2ms/step - loss: 7355.4160 - mae: 7355.4160\n",
            "Epoch 13/200\n",
            "34/34 [==============================] - 0s 2ms/step - loss: 7334.6909 - mae: 7334.6909\n",
            "Epoch 14/200\n",
            "34/34 [==============================] - 0s 2ms/step - loss: 7311.9404 - mae: 7311.9404\n",
            "Epoch 15/200\n",
            "34/34 [==============================] - 0s 2ms/step - loss: 7292.8491 - mae: 7292.8491\n",
            "Epoch 16/200\n",
            "34/34 [==============================] - 0s 2ms/step - loss: 7270.3247 - mae: 7270.3247\n",
            "Epoch 17/200\n",
            "34/34 [==============================] - 0s 2ms/step - loss: 7248.8970 - mae: 7248.8970\n",
            "Epoch 18/200\n",
            "34/34 [==============================] - 0s 2ms/step - loss: 7225.5723 - mae: 7225.5723\n",
            "Epoch 19/200\n",
            "34/34 [==============================] - 0s 2ms/step - loss: 7202.3354 - mae: 7202.3354\n",
            "Epoch 20/200\n",
            "34/34 [==============================] - 0s 2ms/step - loss: 7178.1069 - mae: 7178.1069\n",
            "Epoch 21/200\n",
            "34/34 [==============================] - 0s 2ms/step - loss: 7158.7554 - mae: 7158.7554\n",
            "Epoch 22/200\n",
            "34/34 [==============================] - 0s 2ms/step - loss: 7130.3794 - mae: 7130.3794\n",
            "Epoch 23/200\n",
            "34/34 [==============================] - 0s 2ms/step - loss: 7104.0786 - mae: 7104.0786\n",
            "Epoch 24/200\n",
            "34/34 [==============================] - 0s 2ms/step - loss: 7078.1758 - mae: 7078.1758\n",
            "Epoch 25/200\n",
            "34/34 [==============================] - 0s 2ms/step - loss: 7058.7617 - mae: 7058.7617\n",
            "Epoch 26/200\n",
            "34/34 [==============================] - 0s 2ms/step - loss: 7026.3540 - mae: 7026.3540\n",
            "Epoch 27/200\n",
            "34/34 [==============================] - 0s 2ms/step - loss: 6996.9282 - mae: 6996.9282\n",
            "Epoch 28/200\n",
            "34/34 [==============================] - 0s 2ms/step - loss: 6967.6162 - mae: 6967.6162\n",
            "Epoch 29/200\n",
            "34/34 [==============================] - 0s 2ms/step - loss: 6937.8906 - mae: 6937.8906\n",
            "Epoch 30/200\n",
            "34/34 [==============================] - 0s 2ms/step - loss: 6910.4941 - mae: 6910.4941\n",
            "Epoch 31/200\n",
            "34/34 [==============================] - 0s 2ms/step - loss: 6878.3828 - mae: 6878.3828\n",
            "Epoch 32/200\n",
            "34/34 [==============================] - 0s 2ms/step - loss: 6848.5513 - mae: 6848.5513\n",
            "Epoch 33/200\n",
            "34/34 [==============================] - 0s 2ms/step - loss: 6815.5532 - mae: 6815.5532\n",
            "Epoch 34/200\n",
            "34/34 [==============================] - 0s 2ms/step - loss: 6784.3428 - mae: 6784.3428\n",
            "Epoch 35/200\n",
            "34/34 [==============================] - 0s 2ms/step - loss: 6747.8823 - mae: 6747.8823\n",
            "Epoch 36/200\n",
            "34/34 [==============================] - 0s 2ms/step - loss: 6712.8789 - mae: 6712.8789\n",
            "Epoch 37/200\n",
            "34/34 [==============================] - 0s 2ms/step - loss: 6675.5317 - mae: 6675.5317\n",
            "Epoch 38/200\n",
            "34/34 [==============================] - 0s 2ms/step - loss: 6645.8921 - mae: 6645.8921\n",
            "Epoch 39/200\n",
            "34/34 [==============================] - 0s 2ms/step - loss: 6606.8071 - mae: 6606.8071\n",
            "Epoch 40/200\n",
            "34/34 [==============================] - 0s 2ms/step - loss: 6574.0117 - mae: 6574.0117\n",
            "Epoch 41/200\n",
            "34/34 [==============================] - 0s 2ms/step - loss: 6547.0312 - mae: 6547.0312\n",
            "Epoch 42/200\n",
            "34/34 [==============================] - 0s 2ms/step - loss: 6523.9326 - mae: 6523.9326\n",
            "Epoch 43/200\n",
            "34/34 [==============================] - 0s 2ms/step - loss: 6501.1758 - mae: 6501.1758\n",
            "Epoch 44/200\n",
            "34/34 [==============================] - 0s 2ms/step - loss: 6480.4619 - mae: 6480.4619\n",
            "Epoch 45/200\n",
            "34/34 [==============================] - 0s 2ms/step - loss: 6472.8853 - mae: 6472.8853\n",
            "Epoch 46/200\n",
            "34/34 [==============================] - 0s 2ms/step - loss: 6455.0215 - mae: 6455.0215\n",
            "Epoch 47/200\n",
            "34/34 [==============================] - 0s 2ms/step - loss: 6438.8774 - mae: 6438.8774\n",
            "Epoch 48/200\n",
            "34/34 [==============================] - 0s 2ms/step - loss: 6424.5723 - mae: 6424.5723\n",
            "Epoch 49/200\n",
            "34/34 [==============================] - 0s 2ms/step - loss: 6412.2617 - mae: 6412.2617\n",
            "Epoch 50/200\n",
            "34/34 [==============================] - 0s 2ms/step - loss: 6398.4165 - mae: 6398.4165\n",
            "Epoch 51/200\n",
            "34/34 [==============================] - 0s 2ms/step - loss: 6385.2432 - mae: 6385.2432\n",
            "Epoch 52/200\n",
            "34/34 [==============================] - 0s 2ms/step - loss: 6372.8262 - mae: 6372.8262\n",
            "Epoch 53/200\n",
            "34/34 [==============================] - 0s 2ms/step - loss: 6358.3252 - mae: 6358.3252\n",
            "Epoch 54/200\n",
            "34/34 [==============================] - 0s 2ms/step - loss: 6343.9839 - mae: 6343.9839\n",
            "Epoch 55/200\n",
            "34/34 [==============================] - 0s 2ms/step - loss: 6330.2788 - mae: 6330.2788\n",
            "Epoch 56/200\n",
            "34/34 [==============================] - 0s 1ms/step - loss: 6315.9189 - mae: 6315.9189\n",
            "Epoch 57/200\n",
            "34/34 [==============================] - 0s 2ms/step - loss: 6302.4917 - mae: 6302.4917\n",
            "Epoch 58/200\n",
            "34/34 [==============================] - 0s 2ms/step - loss: 6288.4663 - mae: 6288.4663\n",
            "Epoch 59/200\n",
            "34/34 [==============================] - 0s 2ms/step - loss: 6271.8257 - mae: 6271.8257\n",
            "Epoch 60/200\n",
            "34/34 [==============================] - 0s 2ms/step - loss: 6260.6382 - mae: 6260.6382\n",
            "Epoch 61/200\n",
            "34/34 [==============================] - 0s 2ms/step - loss: 6240.2363 - mae: 6240.2363\n",
            "Epoch 62/200\n",
            "34/34 [==============================] - 0s 2ms/step - loss: 6227.8916 - mae: 6227.8916\n",
            "Epoch 63/200\n",
            "34/34 [==============================] - 0s 2ms/step - loss: 6209.2827 - mae: 6209.2827\n",
            "Epoch 64/200\n",
            "34/34 [==============================] - 0s 2ms/step - loss: 6191.3594 - mae: 6191.3594\n",
            "Epoch 65/200\n",
            "34/34 [==============================] - 0s 2ms/step - loss: 6173.1899 - mae: 6173.1899\n",
            "Epoch 66/200\n",
            "34/34 [==============================] - 0s 2ms/step - loss: 6155.0688 - mae: 6155.0688\n",
            "Epoch 67/200\n",
            "34/34 [==============================] - 0s 2ms/step - loss: 6142.1675 - mae: 6142.1675\n",
            "Epoch 68/200\n",
            "34/34 [==============================] - 0s 2ms/step - loss: 6119.3223 - mae: 6119.3223\n",
            "Epoch 69/200\n",
            "34/34 [==============================] - 0s 2ms/step - loss: 6100.8184 - mae: 6100.8184\n",
            "Epoch 70/200\n",
            "34/34 [==============================] - 0s 2ms/step - loss: 6079.7012 - mae: 6079.7012\n",
            "Epoch 71/200\n",
            "34/34 [==============================] - 0s 2ms/step - loss: 6059.5815 - mae: 6059.5815\n",
            "Epoch 72/200\n",
            "34/34 [==============================] - 0s 2ms/step - loss: 6037.9146 - mae: 6037.9146\n",
            "Epoch 73/200\n",
            "34/34 [==============================] - 0s 2ms/step - loss: 6023.4863 - mae: 6023.4863\n",
            "Epoch 74/200\n",
            "34/34 [==============================] - 0s 2ms/step - loss: 5993.1245 - mae: 5993.1245\n",
            "Epoch 75/200\n",
            "34/34 [==============================] - 0s 2ms/step - loss: 5970.8687 - mae: 5970.8687\n",
            "Epoch 76/200\n",
            "34/34 [==============================] - 0s 2ms/step - loss: 5953.7451 - mae: 5953.7451\n",
            "Epoch 77/200\n",
            "34/34 [==============================] - 0s 2ms/step - loss: 5921.3003 - mae: 5921.3003\n",
            "Epoch 78/200\n",
            "34/34 [==============================] - 0s 2ms/step - loss: 5896.0845 - mae: 5896.0845\n",
            "Epoch 79/200\n",
            "34/34 [==============================] - 0s 2ms/step - loss: 5869.7061 - mae: 5869.7061\n",
            "Epoch 80/200\n",
            "34/34 [==============================] - 0s 2ms/step - loss: 5839.5850 - mae: 5839.5850\n",
            "Epoch 81/200\n",
            "34/34 [==============================] - 0s 2ms/step - loss: 5813.5659 - mae: 5813.5659\n",
            "Epoch 82/200\n",
            "34/34 [==============================] - 0s 2ms/step - loss: 5782.1782 - mae: 5782.1782\n",
            "Epoch 83/200\n",
            "34/34 [==============================] - 0s 2ms/step - loss: 5751.5806 - mae: 5751.5806\n",
            "Epoch 84/200\n",
            "34/34 [==============================] - 0s 2ms/step - loss: 5715.8931 - mae: 5715.8931\n",
            "Epoch 85/200\n",
            "34/34 [==============================] - 0s 2ms/step - loss: 5685.5127 - mae: 5685.5127\n",
            "Epoch 86/200\n",
            "34/34 [==============================] - 0s 2ms/step - loss: 5650.4546 - mae: 5650.4546\n",
            "Epoch 87/200\n",
            "34/34 [==============================] - 0s 2ms/step - loss: 5611.0767 - mae: 5611.0767\n",
            "Epoch 88/200\n",
            "34/34 [==============================] - 0s 2ms/step - loss: 5572.9487 - mae: 5572.9487\n",
            "Epoch 89/200\n",
            "34/34 [==============================] - 0s 2ms/step - loss: 5530.8062 - mae: 5530.8062\n",
            "Epoch 90/200\n",
            "34/34 [==============================] - 0s 2ms/step - loss: 5485.8198 - mae: 5485.8198\n",
            "Epoch 91/200\n",
            "34/34 [==============================] - 0s 2ms/step - loss: 5444.5952 - mae: 5444.5952\n",
            "Epoch 92/200\n",
            "34/34 [==============================] - 0s 2ms/step - loss: 5393.9585 - mae: 5393.9585\n",
            "Epoch 93/200\n",
            "34/34 [==============================] - 0s 2ms/step - loss: 5347.7188 - mae: 5347.7188\n",
            "Epoch 94/200\n",
            "34/34 [==============================] - 0s 2ms/step - loss: 5296.3740 - mae: 5296.3740\n",
            "Epoch 95/200\n",
            "34/34 [==============================] - 0s 2ms/step - loss: 5240.7500 - mae: 5240.7500\n",
            "Epoch 96/200\n",
            "34/34 [==============================] - 0s 2ms/step - loss: 5191.5601 - mae: 5191.5601\n",
            "Epoch 97/200\n",
            "34/34 [==============================] - 0s 2ms/step - loss: 5134.1030 - mae: 5134.1030\n",
            "Epoch 98/200\n",
            "34/34 [==============================] - 0s 2ms/step - loss: 5066.0591 - mae: 5066.0591\n",
            "Epoch 99/200\n",
            "34/34 [==============================] - 0s 2ms/step - loss: 5002.7148 - mae: 5002.7148\n",
            "Epoch 100/200\n",
            "34/34 [==============================] - 0s 2ms/step - loss: 4944.0703 - mae: 4944.0703\n",
            "Epoch 101/200\n",
            "34/34 [==============================] - 0s 2ms/step - loss: 4865.8188 - mae: 4865.8188\n",
            "Epoch 102/200\n",
            "34/34 [==============================] - 0s 2ms/step - loss: 4787.9136 - mae: 4787.9136\n",
            "Epoch 103/200\n",
            "34/34 [==============================] - 0s 2ms/step - loss: 4714.4277 - mae: 4714.4277\n",
            "Epoch 104/200\n",
            "34/34 [==============================] - 0s 2ms/step - loss: 4629.9292 - mae: 4629.9292\n",
            "Epoch 105/200\n",
            "34/34 [==============================] - 0s 2ms/step - loss: 4537.9277 - mae: 4537.9277\n",
            "Epoch 106/200\n",
            "34/34 [==============================] - 0s 2ms/step - loss: 4453.5239 - mae: 4453.5239\n",
            "Epoch 107/200\n",
            "34/34 [==============================] - 0s 2ms/step - loss: 4371.0068 - mae: 4371.0068\n",
            "Epoch 108/200\n",
            "34/34 [==============================] - 0s 2ms/step - loss: 4284.4521 - mae: 4284.4521\n",
            "Epoch 109/200\n",
            "34/34 [==============================] - 0s 2ms/step - loss: 4201.6309 - mae: 4201.6309\n",
            "Epoch 110/200\n",
            "34/34 [==============================] - 0s 2ms/step - loss: 4125.8940 - mae: 4125.8940\n",
            "Epoch 111/200\n",
            "34/34 [==============================] - 0s 2ms/step - loss: 4057.4009 - mae: 4057.4009\n",
            "Epoch 112/200\n",
            "34/34 [==============================] - 0s 2ms/step - loss: 4001.1379 - mae: 4001.1379\n",
            "Epoch 113/200\n",
            "34/34 [==============================] - 0s 2ms/step - loss: 3954.5552 - mae: 3954.5552\n",
            "Epoch 114/200\n",
            "34/34 [==============================] - 0s 2ms/step - loss: 3934.5132 - mae: 3934.5132\n",
            "Epoch 115/200\n",
            "34/34 [==============================] - 0s 2ms/step - loss: 3893.0251 - mae: 3893.0251\n",
            "Epoch 116/200\n",
            "34/34 [==============================] - 0s 2ms/step - loss: 3884.0957 - mae: 3884.0957\n",
            "Epoch 117/200\n",
            "34/34 [==============================] - 0s 2ms/step - loss: 3866.2114 - mae: 3866.2114\n",
            "Epoch 118/200\n",
            "34/34 [==============================] - 0s 2ms/step - loss: 3850.1655 - mae: 3850.1655\n",
            "Epoch 119/200\n",
            "34/34 [==============================] - 0s 2ms/step - loss: 3833.6636 - mae: 3833.6636\n",
            "Epoch 120/200\n",
            "34/34 [==============================] - 0s 2ms/step - loss: 3820.8083 - mae: 3820.8083\n",
            "Epoch 121/200\n",
            "34/34 [==============================] - 0s 2ms/step - loss: 3814.2034 - mae: 3814.2034\n",
            "Epoch 122/200\n",
            "34/34 [==============================] - 0s 2ms/step - loss: 3811.6687 - mae: 3811.6687\n",
            "Epoch 123/200\n",
            "34/34 [==============================] - 0s 2ms/step - loss: 3803.3831 - mae: 3803.3831\n",
            "Epoch 124/200\n",
            "34/34 [==============================] - 0s 2ms/step - loss: 3798.8171 - mae: 3798.8171\n",
            "Epoch 125/200\n",
            "34/34 [==============================] - 0s 2ms/step - loss: 3789.6726 - mae: 3789.6726\n",
            "Epoch 126/200\n",
            "34/34 [==============================] - 0s 2ms/step - loss: 3798.9910 - mae: 3798.9910\n",
            "Epoch 127/200\n",
            "34/34 [==============================] - 0s 2ms/step - loss: 3792.2385 - mae: 3792.2385\n",
            "Epoch 128/200\n",
            "34/34 [==============================] - 0s 2ms/step - loss: 3787.4839 - mae: 3787.4839\n",
            "Epoch 129/200\n",
            "34/34 [==============================] - 0s 2ms/step - loss: 3795.8064 - mae: 3795.8064\n",
            "Epoch 130/200\n",
            "34/34 [==============================] - 0s 2ms/step - loss: 3787.6138 - mae: 3787.6138\n",
            "Epoch 131/200\n",
            "34/34 [==============================] - 0s 2ms/step - loss: 3778.4377 - mae: 3778.4377\n",
            "Epoch 132/200\n",
            "34/34 [==============================] - 0s 2ms/step - loss: 3772.2402 - mae: 3772.2402\n",
            "Epoch 133/200\n",
            "34/34 [==============================] - 0s 2ms/step - loss: 3768.3660 - mae: 3768.3660\n",
            "Epoch 134/200\n",
            "34/34 [==============================] - 0s 2ms/step - loss: 3767.2512 - mae: 3767.2512\n",
            "Epoch 135/200\n",
            "34/34 [==============================] - 0s 2ms/step - loss: 3764.6816 - mae: 3764.6816\n",
            "Epoch 136/200\n",
            "34/34 [==============================] - 0s 2ms/step - loss: 3764.5049 - mae: 3764.5049\n",
            "Epoch 137/200\n",
            "34/34 [==============================] - 0s 2ms/step - loss: 3769.4160 - mae: 3769.4160\n",
            "Epoch 138/200\n",
            "34/34 [==============================] - 0s 2ms/step - loss: 3782.6819 - mae: 3782.6819\n",
            "Epoch 139/200\n",
            "34/34 [==============================] - 0s 2ms/step - loss: 3759.2478 - mae: 3759.2478\n",
            "Epoch 140/200\n",
            "34/34 [==============================] - 0s 2ms/step - loss: 3759.7273 - mae: 3759.7273\n",
            "Epoch 141/200\n",
            "34/34 [==============================] - 0s 3ms/step - loss: 3763.0779 - mae: 3763.0779\n",
            "Epoch 142/200\n",
            "34/34 [==============================] - 0s 3ms/step - loss: 3761.1870 - mae: 3761.1870\n",
            "Epoch 143/200\n",
            "34/34 [==============================] - 0s 3ms/step - loss: 3752.6887 - mae: 3752.6887\n",
            "Epoch 144/200\n",
            "34/34 [==============================] - 0s 2ms/step - loss: 3748.5930 - mae: 3748.5930\n",
            "Epoch 145/200\n",
            "34/34 [==============================] - 0s 3ms/step - loss: 3749.1147 - mae: 3749.1147\n",
            "Epoch 146/200\n",
            "34/34 [==============================] - 0s 2ms/step - loss: 3752.2285 - mae: 3752.2285\n",
            "Epoch 147/200\n",
            "34/34 [==============================] - 0s 3ms/step - loss: 3750.5237 - mae: 3750.5237\n",
            "Epoch 148/200\n",
            "34/34 [==============================] - 0s 2ms/step - loss: 3754.0249 - mae: 3754.0249\n",
            "Epoch 149/200\n",
            "34/34 [==============================] - 0s 2ms/step - loss: 3741.6970 - mae: 3741.6970\n",
            "Epoch 150/200\n",
            "34/34 [==============================] - 0s 2ms/step - loss: 3736.8625 - mae: 3736.8625\n",
            "Epoch 151/200\n",
            "34/34 [==============================] - 0s 2ms/step - loss: 3739.1401 - mae: 3739.1401\n",
            "Epoch 152/200\n",
            "34/34 [==============================] - 0s 2ms/step - loss: 3740.8523 - mae: 3740.8523\n",
            "Epoch 153/200\n",
            "34/34 [==============================] - 0s 2ms/step - loss: 3740.5732 - mae: 3740.5732\n",
            "Epoch 154/200\n",
            "34/34 [==============================] - 0s 2ms/step - loss: 3735.9287 - mae: 3735.9287\n",
            "Epoch 155/200\n",
            "34/34 [==============================] - 0s 3ms/step - loss: 3738.0474 - mae: 3738.0474\n",
            "Epoch 156/200\n",
            "34/34 [==============================] - 0s 2ms/step - loss: 3736.2900 - mae: 3736.2900\n",
            "Epoch 157/200\n",
            "34/34 [==============================] - 0s 2ms/step - loss: 3732.0842 - mae: 3732.0842\n",
            "Epoch 158/200\n",
            "34/34 [==============================] - 0s 2ms/step - loss: 3727.4802 - mae: 3727.4802\n",
            "Epoch 159/200\n",
            "34/34 [==============================] - 0s 3ms/step - loss: 3724.7473 - mae: 3724.7473\n",
            "Epoch 160/200\n",
            "34/34 [==============================] - 0s 2ms/step - loss: 3731.9800 - mae: 3731.9800\n",
            "Epoch 161/200\n",
            "34/34 [==============================] - 0s 2ms/step - loss: 3726.4490 - mae: 3726.4490\n",
            "Epoch 162/200\n",
            "34/34 [==============================] - 0s 2ms/step - loss: 3723.0339 - mae: 3723.0339\n",
            "Epoch 163/200\n",
            "34/34 [==============================] - 0s 2ms/step - loss: 3720.6819 - mae: 3720.6819\n",
            "Epoch 164/200\n",
            "34/34 [==============================] - 0s 2ms/step - loss: 3725.7493 - mae: 3725.7493\n",
            "Epoch 165/200\n",
            "34/34 [==============================] - 0s 2ms/step - loss: 3716.3186 - mae: 3716.3186\n",
            "Epoch 166/200\n",
            "34/34 [==============================] - 0s 2ms/step - loss: 3718.8740 - mae: 3718.8740\n",
            "Epoch 167/200\n",
            "34/34 [==============================] - 0s 2ms/step - loss: 3719.1711 - mae: 3719.1711\n",
            "Epoch 168/200\n",
            "34/34 [==============================] - 0s 2ms/step - loss: 3716.7039 - mae: 3716.7039\n",
            "Epoch 169/200\n",
            "34/34 [==============================] - 0s 2ms/step - loss: 3714.1252 - mae: 3714.1252\n",
            "Epoch 170/200\n",
            "34/34 [==============================] - 0s 3ms/step - loss: 3706.5784 - mae: 3706.5784\n",
            "Epoch 171/200\n",
            "34/34 [==============================] - 0s 2ms/step - loss: 3706.1833 - mae: 3706.1833\n",
            "Epoch 172/200\n",
            "34/34 [==============================] - 0s 2ms/step - loss: 3707.5271 - mae: 3707.5271\n",
            "Epoch 173/200\n",
            "34/34 [==============================] - 0s 2ms/step - loss: 3703.7000 - mae: 3703.7000\n",
            "Epoch 174/200\n",
            "34/34 [==============================] - 0s 2ms/step - loss: 3707.8623 - mae: 3707.8623\n",
            "Epoch 175/200\n",
            "34/34 [==============================] - 0s 3ms/step - loss: 3709.6592 - mae: 3709.6592\n",
            "Epoch 176/200\n",
            "34/34 [==============================] - 0s 2ms/step - loss: 3704.4375 - mae: 3704.4375\n",
            "Epoch 177/200\n",
            "34/34 [==============================] - 0s 3ms/step - loss: 3697.3271 - mae: 3697.3271\n",
            "Epoch 178/200\n",
            "34/34 [==============================] - 0s 3ms/step - loss: 3693.4839 - mae: 3693.4839\n",
            "Epoch 179/200\n",
            "34/34 [==============================] - 0s 2ms/step - loss: 3703.7905 - mae: 3703.7905\n",
            "Epoch 180/200\n",
            "34/34 [==============================] - 0s 2ms/step - loss: 3707.8462 - mae: 3707.8462\n",
            "Epoch 181/200\n",
            "34/34 [==============================] - 0s 2ms/step - loss: 3693.9583 - mae: 3693.9583\n",
            "Epoch 182/200\n",
            "34/34 [==============================] - 0s 2ms/step - loss: 3691.8987 - mae: 3691.8987\n",
            "Epoch 183/200\n",
            "34/34 [==============================] - 0s 2ms/step - loss: 3690.3013 - mae: 3690.3013\n",
            "Epoch 184/200\n",
            "34/34 [==============================] - 0s 2ms/step - loss: 3698.2188 - mae: 3698.2188\n",
            "Epoch 185/200\n",
            "34/34 [==============================] - 0s 2ms/step - loss: 3691.2527 - mae: 3691.2527\n",
            "Epoch 186/200\n",
            "34/34 [==============================] - 0s 2ms/step - loss: 3695.1560 - mae: 3695.1560\n",
            "Epoch 187/200\n",
            "34/34 [==============================] - 0s 2ms/step - loss: 3687.2063 - mae: 3687.2063\n",
            "Epoch 188/200\n",
            "34/34 [==============================] - 0s 2ms/step - loss: 3692.1284 - mae: 3692.1284\n",
            "Epoch 189/200\n",
            "34/34 [==============================] - 0s 2ms/step - loss: 3681.8220 - mae: 3681.8220\n",
            "Epoch 190/200\n",
            "34/34 [==============================] - 0s 2ms/step - loss: 3682.9858 - mae: 3682.9858\n",
            "Epoch 191/200\n",
            "34/34 [==============================] - 0s 2ms/step - loss: 3695.8604 - mae: 3695.8604\n",
            "Epoch 192/200\n",
            "34/34 [==============================] - 0s 2ms/step - loss: 3681.7163 - mae: 3681.7163\n",
            "Epoch 193/200\n",
            "34/34 [==============================] - 0s 2ms/step - loss: 3674.7490 - mae: 3674.7490\n",
            "Epoch 194/200\n",
            "34/34 [==============================] - 0s 2ms/step - loss: 3674.7893 - mae: 3674.7893\n",
            "Epoch 195/200\n",
            "34/34 [==============================] - 0s 2ms/step - loss: 3671.7146 - mae: 3671.7146\n",
            "Epoch 196/200\n",
            "34/34 [==============================] - 0s 2ms/step - loss: 3680.6831 - mae: 3680.6831\n",
            "Epoch 197/200\n",
            "34/34 [==============================] - 0s 2ms/step - loss: 3665.4412 - mae: 3665.4412\n",
            "Epoch 198/200\n",
            "34/34 [==============================] - 0s 2ms/step - loss: 3670.7659 - mae: 3670.7659\n",
            "Epoch 199/200\n",
            "34/34 [==============================] - 0s 2ms/step - loss: 3680.0994 - mae: 3680.0994\n",
            "Epoch 200/200\n",
            "34/34 [==============================] - 0s 2ms/step - loss: 3666.7363 - mae: 3666.7363\n"
          ]
        }
      ]
    },
    {
      "cell_type": "code",
      "source": [
        "insuarance_model_3.evaluate(X_test,y_test)"
      ],
      "metadata": {
        "id": "cUPsOVVpWnDN",
        "outputId": "7ca06161-5757-4087-f625-7d2aaa8cfec5",
        "colab": {
          "base_uri": "https://localhost:8080/"
        }
      },
      "execution_count": 79,
      "outputs": [
        {
          "output_type": "stream",
          "name": "stdout",
          "text": [
            "9/9 [==============================] - 0s 2ms/step - loss: 3491.3533 - mae: 3491.3533\n"
          ]
        },
        {
          "output_type": "execute_result",
          "data": {
            "text/plain": [
              "[3491.353271484375, 3491.353271484375]"
            ]
          },
          "metadata": {},
          "execution_count": 79
        }
      ]
    },
    {
      "cell_type": "code",
      "source": [
        "insuarance_model.evaluate(X_test,y_test)"
      ],
      "metadata": {
        "id": "fCtndCq6W1L8",
        "outputId": "976d3b8d-7998-4eef-bb80-59a4af55a481",
        "colab": {
          "base_uri": "https://localhost:8080/"
        }
      },
      "execution_count": 80,
      "outputs": [
        {
          "output_type": "stream",
          "name": "stdout",
          "text": [
            "9/9 [==============================] - 0s 2ms/step - loss: 9067.5840 - mae: 9067.5840\n"
          ]
        },
        {
          "output_type": "execute_result",
          "data": {
            "text/plain": [
              "[9067.583984375, 9067.583984375]"
            ]
          },
          "metadata": {},
          "execution_count": 80
        }
      ]
    },
    {
      "cell_type": "markdown",
      "source": [
        "#Loss/Training curve"
      ],
      "metadata": {
        "id": "kD0QyaZxXA6L"
      }
    },
    {
      "cell_type": "code",
      "source": [
        "pd.DataFrame(history.history).plot()\n",
        "plt.ylabel(\"loss\")\n",
        "plt.xlabel(\"epochs\")"
      ],
      "metadata": {
        "id": "Od4ccP4TXeCc",
        "outputId": "d8934e60-866d-4d2a-f6f2-db41620f77a2",
        "colab": {
          "base_uri": "https://localhost:8080/",
          "height": 467
        }
      },
      "execution_count": 81,
      "outputs": [
        {
          "output_type": "execute_result",
          "data": {
            "text/plain": [
              "Text(0.5, 0, 'epochs')"
            ]
          },
          "metadata": {},
          "execution_count": 81
        },
        {
          "output_type": "display_data",
          "data": {
            "text/plain": [
              "<Figure size 640x480 with 1 Axes>"
            ],
            "image/png": "[encoded data removed]"
          },
          "metadata": {}
        }
      ]
    },
    {
      "cell_type": "markdown",
      "source": [
        "#Preprocessing data(normalizing and standardization)"
      ],
      "metadata": {
        "id": "WxYlFqb9XqU9"
      }
    },
    {
      "cell_type": "code",
      "source": [
        "import pandas as pd\n",
        "import matplotlib.pyplot as plt\n",
        "import tensorflow as tf\n",
        "\n",
        "insuarance = pd.read_csv(\"https://raw.githubusercontent.com/stedy/Machine-Learning-with-R-datasets/master/insurance.csv\")"
      ],
      "metadata": {
        "id": "OOhWctGVX-I-"
      },
      "execution_count": 82,
      "outputs": []
    },
    {
      "cell_type": "code",
      "source": [
        "insuarance"
      ],
      "metadata": {
        "id": "o1UYsELfZbVk",
        "outputId": "19d48f09-c07c-4e0c-c0f7-643ff8028e75",
        "colab": {
          "base_uri": "https://localhost:8080/",
          "height": 423
        }
      },
      "execution_count": 83,
      "outputs": [
        {
          "output_type": "execute_result",
          "data": {
            "text/plain": [
              "      age     sex     bmi  children smoker     region      charges\n",
              "0      19  female  27.900         0    yes  southwest  16884.92400\n",
              "1      18    male  33.770         1     no  southeast   1725.55230\n",
              "2      28    male  33.000         3     no  southeast   4449.46200\n",
              "3      33    male  22.705         0     no  northwest  21984.47061\n",
              "4      32    male  28.880         0     no  northwest   3866.85520\n",
              "...   ...     ...     ...       ...    ...        ...          ...\n",
              "1333   50    male  30.970         3     no  northwest  10600.54830\n",
              "1334   18  female  31.920         0     no  northeast   2205.98080\n",
              "1335   18  female  36.850         0     no  southeast   1629.83350\n",
              "1336   21  female  25.800         0     no  southwest   2007.94500\n",
              "1337   61  female  29.070         0    yes  northwest  29141.36030\n",
              "\n",
              "[1338 rows x 7 columns]"
            ],
            "text/html": [
              "\n",
              "  <div id=\"df-8afbb6e3-5fb6-41b5-8eb3-00182b53c830\">\n",
              "    <div class=\"colab-df-container\">\n",
              "      <div>\n",
              "<style scoped>\n",
              "    .dataframe tbody tr th:only-of-type {\n",
              "        vertical-align: middle;\n",
              "    }\n",
              "\n",
              "    .dataframe tbody tr th {\n",
              "        vertical-align: top;\n",
              "    }\n",
              "\n",
              "    .dataframe thead th {\n",
              "        text-align: right;\n",
              "    }\n",
              "</style>\n",
              "<table border=\"1\" class=\"dataframe\">\n",
              "  <thead>\n",
              "    <tr style=\"text-align: right;\">\n",
              "      <th></th>\n",
              "      <th>age</th>\n",
              "      <th>sex</th>\n",
              "      <th>bmi</th>\n",
              "      <th>children</th>\n",
              "      <th>smoker</th>\n",
              "      <th>region</th>\n",
              "      <th>charges</th>\n",
              "    </tr>\n",
              "  </thead>\n",
              "  <tbody>\n",
              "    <tr>\n",
              "      <th>0</th>\n",
              "      <td>19</td>\n",
              "      <td>female</td>\n",
              "      <td>27.900</td>\n",
              "      <td>0</td>\n",
              "      <td>yes</td>\n",
              "      <td>southwest</td>\n",
              "      <td>16884.92400</td>\n",
              "    </tr>\n",
              "    <tr>\n",
              "      <th>1</th>\n",
              "      <td>18</td>\n",
              "      <td>male</td>\n",
              "      <td>33.770</td>\n",
              "      <td>1</td>\n",
              "      <td>no</td>\n",
              "      <td>southeast</td>\n",
              "      <td>1725.55230</td>\n",
              "    </tr>\n",
              "    <tr>\n",
              "      <th>2</th>\n",
              "      <td>28</td>\n",
              "      <td>male</td>\n",
              "      <td>33.000</td>\n",
              "      <td>3</td>\n",
              "      <td>no</td>\n",
              "      <td>southeast</td>\n",
              "      <td>4449.46200</td>\n",
              "    </tr>\n",
              "    <tr>\n",
              "      <th>3</th>\n",
              "      <td>33</td>\n",
              "      <td>male</td>\n",
              "      <td>22.705</td>\n",
              "      <td>0</td>\n",
              "      <td>no</td>\n",
              "      <td>northwest</td>\n",
              "      <td>21984.47061</td>\n",
              "    </tr>\n",
              "    <tr>\n",
              "      <th>4</th>\n",
              "      <td>32</td>\n",
              "      <td>male</td>\n",
              "      <td>28.880</td>\n",
              "      <td>0</td>\n",
              "      <td>no</td>\n",
              "      <td>northwest</td>\n",
              "      <td>3866.85520</td>\n",
              "    </tr>\n",
              "    <tr>\n",
              "      <th>...</th>\n",
              "      <td>...</td>\n",
              "      <td>...</td>\n",
              "      <td>...</td>\n",
              "      <td>...</td>\n",
              "      <td>...</td>\n",
              "      <td>...</td>\n",
              "      <td>...</td>\n",
              "    </tr>\n",
              "    <tr>\n",
              "      <th>1333</th>\n",
              "      <td>50</td>\n",
              "      <td>male</td>\n",
              "      <td>30.970</td>\n",
              "      <td>3</td>\n",
              "      <td>no</td>\n",
              "      <td>northwest</td>\n",
              "      <td>10600.54830</td>\n",
              "    </tr>\n",
              "    <tr>\n",
              "      <th>1334</th>\n",
              "      <td>18</td>\n",
              "      <td>female</td>\n",
              "      <td>31.920</td>\n",
              "      <td>0</td>\n",
              "      <td>no</td>\n",
              "      <td>northeast</td>\n",
              "      <td>2205.98080</td>\n",
              "    </tr>\n",
              "    <tr>\n",
              "      <th>1335</th>\n",
              "      <td>18</td>\n",
              "      <td>female</td>\n",
              "      <td>36.850</td>\n",
              "      <td>0</td>\n",
              "      <td>no</td>\n",
              "      <td>southeast</td>\n",
              "      <td>1629.83350</td>\n",
              "    </tr>\n",
              "    <tr>\n",
              "      <th>1336</th>\n",
              "      <td>21</td>\n",
              "      <td>female</td>\n",
              "      <td>25.800</td>\n",
              "      <td>0</td>\n",
              "      <td>no</td>\n",
              "      <td>southwest</td>\n",
              "      <td>2007.94500</td>\n",
              "    </tr>\n",
              "    <tr>\n",
              "      <th>1337</th>\n",
              "      <td>61</td>\n",
              "      <td>female</td>\n",
              "      <td>29.070</td>\n",
              "      <td>0</td>\n",
              "      <td>yes</td>\n",
              "      <td>northwest</td>\n",
              "      <td>29141.36030</td>\n",
              "    </tr>\n",
              "  </tbody>\n",
              "</table>\n",
              "<p>1338 rows × 7 columns</p>\n",
              "</div>\n",
              "      <button class=\"colab-df-convert\" onclick=\"convertToInteractive('df-8afbb6e3-5fb6-41b5-8eb3-00182b53c830')\"\n",
              "              title=\"Convert this dataframe to an interactive table.\"\n",
              "              style=\"display:none;\">\n",
              "        \n",
              "  <svg xmlns=\"http://www.w3.org/2000/svg\" height=\"24px\"viewBox=\"0 0 24 24\"\n",
              "       width=\"24px\">\n",
              "    <path d=\"M0 0h24v24H0V0z\" fill=\"none\"/>\n",
              "    <path d=\"M18.56 5.44l.94 2.06.94-2.06 2.06-.94-2.06-.94-.94-2.06-.94 2.06-2.06.94zm-11 1L8.5 8.5l.94-2.06 2.06-.94-2.06-.94L8.5 2.5l-.94 2.06-2.06.94zm10 10l.94 2.06.94-2.06 2.06-.94-2.06-.94-.94-2.06-.94 2.06-2.06.94z\"/><path d=\"M17.41 7.96l-1.37-1.37c-.4-.4-.92-.59-1.43-.59-.52 0-1.04.2-1.43.59L10.3 9.45l-7.72 7.72c-.78.78-.78 2.05 0 2.83L4 21.41c.39.39.9.59 1.41.59.51 0 1.02-.2 1.41-.59l7.78-7.78 2.81-2.81c.8-.78.8-2.07 0-2.86zM5.41 20L4 18.59l7.72-7.72 1.47 1.35L5.41 20z\"/>\n",
              "  </svg>\n",
              "      </button>\n",
              "      \n",
              "  <style>\n",
              "    .colab-df-container {\n",
              "      display:flex;\n",
              "      flex-wrap:wrap;\n",
              "      gap: 12px;\n",
              "    }\n",
              "\n",
              "    .colab-df-convert {\n",
              "      background-color: #E8F0FE;\n",
              "      border: none;\n",
              "      border-radius: 50%;\n",
              "      cursor: pointer;\n",
              "      display: none;\n",
              "      fill: #1967D2;\n",
              "      height: 32px;\n",
              "      padding: 0 0 0 0;\n",
              "      width: 32px;\n",
              "    }\n",
              "\n",
              "    .colab-df-convert:hover {\n",
              "      background-color: #E2EBFA;\n",
              "      box-shadow: 0px 1px 2px rgba(60, 64, 67, 0.3), 0px 1px 3px 1px rgba(60, 64, 67, 0.15);\n",
              "      fill: #174EA6;\n",
              "    }\n",
              "\n",
              "    [theme=dark] .colab-df-convert {\n",
              "      background-color: #3B4455;\n",
              "      fill: #D2E3FC;\n",
              "    }\n",
              "\n",
              "    [theme=dark] .colab-df-convert:hover {\n",
              "      background-color: #434B5C;\n",
              "      box-shadow: 0px 1px 3px 1px rgba(0, 0, 0, 0.15);\n",
              "      filter: drop-shadow(0px 1px 2px rgba(0, 0, 0, 0.3));\n",
              "      fill: #FFFFFF;\n",
              "    }\n",
              "  </style>\n",
              "\n",
              "      <script>\n",
              "        const buttonEl =\n",
              "          document.querySelector('#df-8afbb6e3-5fb6-41b5-8eb3-00182b53c830 button.colab-df-convert');\n",
              "        buttonEl.style.display =\n",
              "          google.colab.kernel.accessAllowed ? 'block' : 'none';\n",
              "\n",
              "        async function convertToInteractive(key) {\n",
              "          const element = document.querySelector('#df-8afbb6e3-5fb6-41b5-8eb3-00182b53c830');\n",
              "          const dataTable =\n",
              "            await google.colab.kernel.invokeFunction('convertToInteractive',\n",
              "                                                     [key], {});\n",
              "          if (!dataTable) return;\n",
              "\n",
              "          const docLinkHtml = 'Like what you see? Visit the ' +\n",
              "            '<a target=\"_blank\" href=https://colab.research.google.com/notebooks/data_table.ipynb>data table notebook</a>'\n",
              "            + ' to learn more about interactive tables.';\n",
              "          element.innerHTML = '';\n",
              "          dataTable['output_type'] = 'display_data';\n",
              "          await google.colab.output.renderOutput(dataTable, element);\n",
              "          const docLink = document.createElement('div');\n",
              "          docLink.innerHTML = docLinkHtml;\n",
              "          element.appendChild(docLink);\n",
              "        }\n",
              "      </script>\n",
              "    </div>\n",
              "  </div>\n",
              "  "
            ]
          },
          "metadata": {},
          "execution_count": 83
        }
      ]
    },
    {
      "cell_type": "code",
      "source": [
        "#MinMaxScaler -Normalize data (Numericals to 0-1 range)\n",
        "#OneHotEncoder - not numerical data to 0/1\n",
        "\n",
        "from sklearn.compose import make_column_transformer\n",
        "from sklearn.preprocessing import MinMaxScaler,OneHotEncoder\n",
        "from sklearn.model_selection import train_test_split\n",
        "\n",
        "#create a column transformer\n",
        "ct=make_column_transformer(\n",
        "    (MinMaxScaler(),[\"age\",\"bmi\",\"children\"]), # to 0-1 range\n",
        "    (OneHotEncoder(handle_unknown = \"ignore\"),[\"sex\",\"smoker\",\"region\"])\n",
        ")\n",
        "\n",
        "#create X and y\n",
        "X=insuarance.drop(\"charges\",axis=1)\n",
        "y=insuarance[\"charges\"]\n",
        "\n",
        "#spilt data\n",
        "X_train,X_test,y_train,y_test = train_test_split(X,y, test_size=0.2,random_state=42)\n",
        "\n",
        "#fit the ct to our data\n",
        "ct.fit(X_train)\n",
        "\n",
        "#transform train and test data with normalization and onehotencoding\n",
        "X_train_normal = ct.transform(X_train)\n",
        "X_test_normal = ct.transform(X_test)\n",
        "\n"
      ],
      "metadata": {
        "id": "lyX0RLHYZg87"
      },
      "execution_count": 91,
      "outputs": []
    },
    {
      "cell_type": "code",
      "source": [
        "X_train"
      ],
      "metadata": {
        "id": "ZG4QGx5syj4r",
        "outputId": "222ab2ac-f9a1-4f35-c76b-010c122469c9",
        "colab": {
          "base_uri": "https://localhost:8080/",
          "height": 423
        }
      },
      "execution_count": 88,
      "outputs": [
        {
          "output_type": "execute_result",
          "data": {
            "text/plain": [
              "      age     sex     bmi  children smoker     region\n",
              "560    46  female  19.950         2     no  northwest\n",
              "1285   47  female  24.320         0     no  northeast\n",
              "1142   52  female  24.860         0     no  southeast\n",
              "969    39  female  34.320         5     no  southeast\n",
              "486    54  female  21.470         3     no  northwest\n",
              "...   ...     ...     ...       ...    ...        ...\n",
              "1095   18  female  31.350         4     no  northeast\n",
              "1130   39  female  23.870         5     no  southeast\n",
              "1294   58    male  25.175         0     no  northeast\n",
              "860    37  female  47.600         2    yes  southwest\n",
              "1126   55    male  29.900         0     no  southwest\n",
              "\n",
              "[1070 rows x 6 columns]"
            ],
            "text/html": [
              "\n",
              "  <div id=\"df-bb6c1276-0767-4b45-9393-3e1c3a02e96a\">\n",
              "    <div class=\"colab-df-container\">\n",
              "      <div>\n",
              "<style scoped>\n",
              "    .dataframe tbody tr th:only-of-type {\n",
              "        vertical-align: middle;\n",
              "    }\n",
              "\n",
              "    .dataframe tbody tr th {\n",
              "        vertical-align: top;\n",
              "    }\n",
              "\n",
              "    .dataframe thead th {\n",
              "        text-align: right;\n",
              "    }\n",
              "</style>\n",
              "<table border=\"1\" class=\"dataframe\">\n",
              "  <thead>\n",
              "    <tr style=\"text-align: right;\">\n",
              "      <th></th>\n",
              "      <th>age</th>\n",
              "      <th>sex</th>\n",
              "      <th>bmi</th>\n",
              "      <th>children</th>\n",
              "      <th>smoker</th>\n",
              "      <th>region</th>\n",
              "    </tr>\n",
              "  </thead>\n",
              "  <tbody>\n",
              "    <tr>\n",
              "      <th>560</th>\n",
              "      <td>46</td>\n",
              "      <td>female</td>\n",
              "      <td>19.950</td>\n",
              "      <td>2</td>\n",
              "      <td>no</td>\n",
              "      <td>northwest</td>\n",
              "    </tr>\n",
              "    <tr>\n",
              "      <th>1285</th>\n",
              "      <td>47</td>\n",
              "      <td>female</td>\n",
              "      <td>24.320</td>\n",
              "      <td>0</td>\n",
              "      <td>no</td>\n",
              "      <td>northeast</td>\n",
              "    </tr>\n",
              "    <tr>\n",
              "      <th>1142</th>\n",
              "      <td>52</td>\n",
              "      <td>female</td>\n",
              "      <td>24.860</td>\n",
              "      <td>0</td>\n",
              "      <td>no</td>\n",
              "      <td>southeast</td>\n",
              "    </tr>\n",
              "    <tr>\n",
              "      <th>969</th>\n",
              "      <td>39</td>\n",
              "      <td>female</td>\n",
              "      <td>34.320</td>\n",
              "      <td>5</td>\n",
              "      <td>no</td>\n",
              "      <td>southeast</td>\n",
              "    </tr>\n",
              "    <tr>\n",
              "      <th>486</th>\n",
              "      <td>54</td>\n",
              "      <td>female</td>\n",
              "      <td>21.470</td>\n",
              "      <td>3</td>\n",
              "      <td>no</td>\n",
              "      <td>northwest</td>\n",
              "    </tr>\n",
              "    <tr>\n",
              "      <th>...</th>\n",
              "      <td>...</td>\n",
              "      <td>...</td>\n",
              "      <td>...</td>\n",
              "      <td>...</td>\n",
              "      <td>...</td>\n",
              "      <td>...</td>\n",
              "    </tr>\n",
              "    <tr>\n",
              "      <th>1095</th>\n",
              "      <td>18</td>\n",
              "      <td>female</td>\n",
              "      <td>31.350</td>\n",
              "      <td>4</td>\n",
              "      <td>no</td>\n",
              "      <td>northeast</td>\n",
              "    </tr>\n",
              "    <tr>\n",
              "      <th>1130</th>\n",
              "      <td>39</td>\n",
              "      <td>female</td>\n",
              "      <td>23.870</td>\n",
              "      <td>5</td>\n",
              "      <td>no</td>\n",
              "      <td>southeast</td>\n",
              "    </tr>\n",
              "    <tr>\n",
              "      <th>1294</th>\n",
              "      <td>58</td>\n",
              "      <td>male</td>\n",
              "      <td>25.175</td>\n",
              "      <td>0</td>\n",
              "      <td>no</td>\n",
              "      <td>northeast</td>\n",
              "    </tr>\n",
              "    <tr>\n",
              "      <th>860</th>\n",
              "      <td>37</td>\n",
              "      <td>female</td>\n",
              "      <td>47.600</td>\n",
              "      <td>2</td>\n",
              "      <td>yes</td>\n",
              "      <td>southwest</td>\n",
              "    </tr>\n",
              "    <tr>\n",
              "      <th>1126</th>\n",
              "      <td>55</td>\n",
              "      <td>male</td>\n",
              "      <td>29.900</td>\n",
              "      <td>0</td>\n",
              "      <td>no</td>\n",
              "      <td>southwest</td>\n",
              "    </tr>\n",
              "  </tbody>\n",
              "</table>\n",
              "<p>1070 rows × 6 columns</p>\n",
              "</div>\n",
              "      <button class=\"colab-df-convert\" onclick=\"convertToInteractive('df-bb6c1276-0767-4b45-9393-3e1c3a02e96a')\"\n",
              "              title=\"Convert this dataframe to an interactive table.\"\n",
              "              style=\"display:none;\">\n",
              "        \n",
              "  <svg xmlns=\"http://www.w3.org/2000/svg\" height=\"24px\"viewBox=\"0 0 24 24\"\n",
              "       width=\"24px\">\n",
              "    <path d=\"M0 0h24v24H0V0z\" fill=\"none\"/>\n",
              "    <path d=\"M18.56 5.44l.94 2.06.94-2.06 2.06-.94-2.06-.94-.94-2.06-.94 2.06-2.06.94zm-11 1L8.5 8.5l.94-2.06 2.06-.94-2.06-.94L8.5 2.5l-.94 2.06-2.06.94zm10 10l.94 2.06.94-2.06 2.06-.94-2.06-.94-.94-2.06-.94 2.06-2.06.94z\"/><path d=\"M17.41 7.96l-1.37-1.37c-.4-.4-.92-.59-1.43-.59-.52 0-1.04.2-1.43.59L10.3 9.45l-7.72 7.72c-.78.78-.78 2.05 0 2.83L4 21.41c.39.39.9.59 1.41.59.51 0 1.02-.2 1.41-.59l7.78-7.78 2.81-2.81c.8-.78.8-2.07 0-2.86zM5.41 20L4 18.59l7.72-7.72 1.47 1.35L5.41 20z\"/>\n",
              "  </svg>\n",
              "      </button>\n",
              "      \n",
              "  <style>\n",
              "    .colab-df-container {\n",
              "      display:flex;\n",
              "      flex-wrap:wrap;\n",
              "      gap: 12px;\n",
              "    }\n",
              "\n",
              "    .colab-df-convert {\n",
              "      background-color: #E8F0FE;\n",
              "      border: none;\n",
              "      border-radius: 50%;\n",
              "      cursor: pointer;\n",
              "      display: none;\n",
              "      fill: #1967D2;\n",
              "      height: 32px;\n",
              "      padding: 0 0 0 0;\n",
              "      width: 32px;\n",
              "    }\n",
              "\n",
              "    .colab-df-convert:hover {\n",
              "      background-color: #E2EBFA;\n",
              "      box-shadow: 0px 1px 2px rgba(60, 64, 67, 0.3), 0px 1px 3px 1px rgba(60, 64, 67, 0.15);\n",
              "      fill: #174EA6;\n",
              "    }\n",
              "\n",
              "    [theme=dark] .colab-df-convert {\n",
              "      background-color: #3B4455;\n",
              "      fill: #D2E3FC;\n",
              "    }\n",
              "\n",
              "    [theme=dark] .colab-df-convert:hover {\n",
              "      background-color: #434B5C;\n",
              "      box-shadow: 0px 1px 3px 1px rgba(0, 0, 0, 0.15);\n",
              "      filter: drop-shadow(0px 1px 2px rgba(0, 0, 0, 0.3));\n",
              "      fill: #FFFFFF;\n",
              "    }\n",
              "  </style>\n",
              "\n",
              "      <script>\n",
              "        const buttonEl =\n",
              "          document.querySelector('#df-bb6c1276-0767-4b45-9393-3e1c3a02e96a button.colab-df-convert');\n",
              "        buttonEl.style.display =\n",
              "          google.colab.kernel.accessAllowed ? 'block' : 'none';\n",
              "\n",
              "        async function convertToInteractive(key) {\n",
              "          const element = document.querySelector('#df-bb6c1276-0767-4b45-9393-3e1c3a02e96a');\n",
              "          const dataTable =\n",
              "            await google.colab.kernel.invokeFunction('convertToInteractive',\n",
              "                                                     [key], {});\n",
              "          if (!dataTable) return;\n",
              "\n",
              "          const docLinkHtml = 'Like what you see? Visit the ' +\n",
              "            '<a target=\"_blank\" href=https://colab.research.google.com/notebooks/data_table.ipynb>data table notebook</a>'\n",
              "            + ' to learn more about interactive tables.';\n",
              "          element.innerHTML = '';\n",
              "          dataTable['output_type'] = 'display_data';\n",
              "          await google.colab.output.renderOutput(dataTable, element);\n",
              "          const docLink = document.createElement('div');\n",
              "          docLink.innerHTML = docLinkHtml;\n",
              "          element.appendChild(docLink);\n",
              "        }\n",
              "      </script>\n",
              "    </div>\n",
              "  </div>\n",
              "  "
            ]
          },
          "metadata": {},
          "execution_count": 88
        }
      ]
    },
    {
      "cell_type": "code",
      "source": [
        "X_train_normal"
      ],
      "metadata": {
        "id": "qtddnWsay6dp",
        "outputId": "615f02d9-1a5e-436f-8a21-582c039e24a4",
        "colab": {
          "base_uri": "https://localhost:8080/"
        }
      },
      "execution_count": 89,
      "outputs": [
        {
          "output_type": "execute_result",
          "data": {
            "text/plain": [
              "array([[0.60869565, 0.10734463, 0.4       , ..., 1.        , 0.        ,\n",
              "        0.        ],\n",
              "       [0.63043478, 0.22491256, 0.        , ..., 0.        , 0.        ,\n",
              "        0.        ],\n",
              "       [0.73913043, 0.23944041, 0.        , ..., 0.        , 1.        ,\n",
              "        0.        ],\n",
              "       ...,\n",
              "       [0.86956522, 0.24791499, 0.        , ..., 0.        , 0.        ,\n",
              "        0.        ],\n",
              "       [0.41304348, 0.85122411, 0.4       , ..., 0.        , 0.        ,\n",
              "        1.        ],\n",
              "       [0.80434783, 0.37503363, 0.        , ..., 0.        , 0.        ,\n",
              "        1.        ]])"
            ]
          },
          "metadata": {},
          "execution_count": 89
        }
      ]
    },
    {
      "cell_type": "markdown",
      "source": [
        "#Now data is normalized and one hot encoded. now let's build a NN"
      ],
      "metadata": {
        "id": "fB7OpNsly7qK"
      }
    },
    {
      "cell_type": "code",
      "source": [
        "tf.random.set_seed(42)\n",
        "insuarance_model_4=tf.keras.Sequential([\n",
        "    tf.keras.layers.Dense(100),\n",
        "    tf.keras.layers.Dense(10),\n",
        "     tf.keras.layers.Dense(1),\n",
        "\n",
        "])\n",
        "insuarance_model_4.compile(loss=tf.keras.losses.mae,\n",
        "                         optimizer=tf.keras.optimizers.Adam(),\n",
        "                         metrics=[\"mae\"])\n",
        "\n",
        "insuarance_model_4.fit(X_train_normal,y_train,epochs=100)"
      ],
      "metadata": {
        "id": "xV2OAGUIzAU5",
        "outputId": "0e6ce003-9321-4aab-fc51-00424e5f80b4",
        "colab": {
          "base_uri": "https://localhost:8080/"
        }
      },
      "execution_count": 93,
      "outputs": [
        {
          "output_type": "stream",
          "name": "stdout",
          "text": [
            "Epoch 1/100\n",
            "34/34 [==============================] - 1s 3ms/step - loss: 13342.6885 - mae: 13342.6885\n",
            "Epoch 2/100\n",
            "34/34 [==============================] - 0s 3ms/step - loss: 13331.1680 - mae: 13331.1680\n",
            "Epoch 3/100\n",
            "34/34 [==============================] - 0s 3ms/step - loss: 13304.1182 - mae: 13304.1182\n",
            "Epoch 4/100\n",
            "34/34 [==============================] - 0s 3ms/step - loss: 13250.6201 - mae: 13250.6201\n",
            "Epoch 5/100\n",
            "34/34 [==============================] - 0s 3ms/step - loss: 13159.8496 - mae: 13159.8496\n",
            "Epoch 6/100\n",
            "34/34 [==============================] - 0s 3ms/step - loss: 13020.8574 - mae: 13020.8574\n",
            "Epoch 7/100\n",
            "34/34 [==============================] - 0s 3ms/step - loss: 12823.0703 - mae: 12823.0703\n",
            "Epoch 8/100\n",
            "34/34 [==============================] - 0s 4ms/step - loss: 12556.5195 - mae: 12556.5195\n",
            "Epoch 9/100\n",
            "34/34 [==============================] - 0s 3ms/step - loss: 12211.3174 - mae: 12211.3174\n",
            "Epoch 10/100\n",
            "34/34 [==============================] - 0s 3ms/step - loss: 11787.6084 - mae: 11787.6084\n",
            "Epoch 11/100\n",
            "34/34 [==============================] - 0s 3ms/step - loss: 11300.9570 - mae: 11300.9570\n",
            "Epoch 12/100\n",
            "34/34 [==============================] - 0s 3ms/step - loss: 10797.1572 - mae: 10797.1572\n",
            "Epoch 13/100\n",
            "34/34 [==============================] - 0s 3ms/step - loss: 10300.5215 - mae: 10300.5215\n",
            "Epoch 14/100\n",
            "34/34 [==============================] - 0s 3ms/step - loss: 9814.6035 - mae: 9814.6035\n",
            "Epoch 15/100\n",
            "34/34 [==============================] - 0s 2ms/step - loss: 9362.6943 - mae: 9362.6943\n",
            "Epoch 16/100\n",
            "34/34 [==============================] - 0s 2ms/step - loss: 8967.0605 - mae: 8967.0605\n",
            "Epoch 17/100\n",
            "34/34 [==============================] - 0s 2ms/step - loss: 8643.9658 - mae: 8643.9658\n",
            "Epoch 18/100\n",
            "34/34 [==============================] - 0s 2ms/step - loss: 8383.1445 - mae: 8383.1445\n",
            "Epoch 19/100\n",
            "34/34 [==============================] - 0s 2ms/step - loss: 8192.2920 - mae: 8192.2920\n",
            "Epoch 20/100\n",
            "34/34 [==============================] - 0s 2ms/step - loss: 8059.2129 - mae: 8059.2129\n",
            "Epoch 21/100\n",
            "34/34 [==============================] - 0s 2ms/step - loss: 7960.9160 - mae: 7960.9160\n",
            "Epoch 22/100\n",
            "34/34 [==============================] - 0s 2ms/step - loss: 7892.4419 - mae: 7892.4419\n",
            "Epoch 23/100\n",
            "34/34 [==============================] - 0s 2ms/step - loss: 7836.6992 - mae: 7836.6992\n",
            "Epoch 24/100\n",
            "34/34 [==============================] - 0s 2ms/step - loss: 7786.0474 - mae: 7786.0474\n",
            "Epoch 25/100\n",
            "34/34 [==============================] - 0s 2ms/step - loss: 7747.2510 - mae: 7747.2510\n",
            "Epoch 26/100\n",
            "34/34 [==============================] - 0s 2ms/step - loss: 7696.4580 - mae: 7696.4580\n",
            "Epoch 27/100\n",
            "34/34 [==============================] - 0s 2ms/step - loss: 7654.1050 - mae: 7654.1050\n",
            "Epoch 28/100\n",
            "34/34 [==============================] - 0s 2ms/step - loss: 7610.8389 - mae: 7610.8389\n",
            "Epoch 29/100\n",
            "34/34 [==============================] - 0s 2ms/step - loss: 7567.3462 - mae: 7567.3462\n",
            "Epoch 30/100\n",
            "34/34 [==============================] - 0s 2ms/step - loss: 7523.0103 - mae: 7523.0103\n",
            "Epoch 31/100\n",
            "34/34 [==============================] - 0s 2ms/step - loss: 7478.1304 - mae: 7478.1304\n",
            "Epoch 32/100\n",
            "34/34 [==============================] - 0s 2ms/step - loss: 7432.9556 - mae: 7432.9556\n",
            "Epoch 33/100\n",
            "34/34 [==============================] - 0s 2ms/step - loss: 7387.5010 - mae: 7387.5010\n",
            "Epoch 34/100\n",
            "34/34 [==============================] - 0s 2ms/step - loss: 7337.9907 - mae: 7337.9907\n",
            "Epoch 35/100\n",
            "34/34 [==============================] - 0s 2ms/step - loss: 7289.8525 - mae: 7289.8525\n",
            "Epoch 36/100\n",
            "34/34 [==============================] - 0s 2ms/step - loss: 7238.3262 - mae: 7238.3262\n",
            "Epoch 37/100\n",
            "34/34 [==============================] - 0s 2ms/step - loss: 7186.4482 - mae: 7186.4482\n",
            "Epoch 38/100\n",
            "34/34 [==============================] - 0s 2ms/step - loss: 7133.8120 - mae: 7133.8120\n",
            "Epoch 39/100\n",
            "34/34 [==============================] - 0s 3ms/step - loss: 7077.4502 - mae: 7077.4502\n",
            "Epoch 40/100\n",
            "34/34 [==============================] - 0s 3ms/step - loss: 7020.2134 - mae: 7020.2134\n",
            "Epoch 41/100\n",
            "34/34 [==============================] - 0s 2ms/step - loss: 6961.8564 - mae: 6961.8564\n",
            "Epoch 42/100\n",
            "34/34 [==============================] - 0s 2ms/step - loss: 6901.0659 - mae: 6901.0659\n",
            "Epoch 43/100\n",
            "34/34 [==============================] - 0s 2ms/step - loss: 6836.0991 - mae: 6836.0991\n",
            "Epoch 44/100\n",
            "34/34 [==============================] - 0s 3ms/step - loss: 6767.4062 - mae: 6767.4062\n",
            "Epoch 45/100\n",
            "34/34 [==============================] - 0s 3ms/step - loss: 6697.7012 - mae: 6697.7012\n",
            "Epoch 46/100\n",
            "34/34 [==============================] - 0s 3ms/step - loss: 6625.8784 - mae: 6625.8784\n",
            "Epoch 47/100\n",
            "34/34 [==============================] - 0s 2ms/step - loss: 6551.5371 - mae: 6551.5371\n",
            "Epoch 48/100\n",
            "34/34 [==============================] - 0s 2ms/step - loss: 6469.5356 - mae: 6469.5356\n",
            "Epoch 49/100\n",
            "34/34 [==============================] - 0s 3ms/step - loss: 6386.9893 - mae: 6386.9893\n",
            "Epoch 50/100\n",
            "34/34 [==============================] - 0s 3ms/step - loss: 6297.4292 - mae: 6297.4292\n",
            "Epoch 51/100\n",
            "34/34 [==============================] - 0s 3ms/step - loss: 6208.9263 - mae: 6208.9263\n",
            "Epoch 52/100\n",
            "34/34 [==============================] - 0s 3ms/step - loss: 6111.7769 - mae: 6111.7769\n",
            "Epoch 53/100\n",
            "34/34 [==============================] - 0s 3ms/step - loss: 6011.2534 - mae: 6011.2534\n",
            "Epoch 54/100\n",
            "34/34 [==============================] - 0s 2ms/step - loss: 5907.5322 - mae: 5907.5322\n",
            "Epoch 55/100\n",
            "34/34 [==============================] - 0s 2ms/step - loss: 5794.6636 - mae: 5794.6636\n",
            "Epoch 56/100\n",
            "34/34 [==============================] - 0s 2ms/step - loss: 5681.1196 - mae: 5681.1196\n",
            "Epoch 57/100\n",
            "34/34 [==============================] - 0s 2ms/step - loss: 5560.1045 - mae: 5560.1045\n",
            "Epoch 58/100\n",
            "34/34 [==============================] - 0s 3ms/step - loss: 5438.8950 - mae: 5438.8950\n",
            "Epoch 59/100\n",
            "34/34 [==============================] - 0s 2ms/step - loss: 5314.2905 - mae: 5314.2905\n",
            "Epoch 60/100\n",
            "34/34 [==============================] - 0s 3ms/step - loss: 5186.0381 - mae: 5186.0381\n",
            "Epoch 61/100\n",
            "34/34 [==============================] - 0s 3ms/step - loss: 5056.1768 - mae: 5056.1768\n",
            "Epoch 62/100\n",
            "34/34 [==============================] - 0s 3ms/step - loss: 4919.9404 - mae: 4919.9404\n",
            "Epoch 63/100\n",
            "34/34 [==============================] - 0s 3ms/step - loss: 4788.0601 - mae: 4788.0601\n",
            "Epoch 64/100\n",
            "34/34 [==============================] - 0s 3ms/step - loss: 4653.3940 - mae: 4653.3940\n",
            "Epoch 65/100\n",
            "34/34 [==============================] - 0s 2ms/step - loss: 4526.7661 - mae: 4526.7661\n",
            "Epoch 66/100\n",
            "34/34 [==============================] - 0s 2ms/step - loss: 4407.5991 - mae: 4407.5991\n",
            "Epoch 67/100\n",
            "34/34 [==============================] - 0s 2ms/step - loss: 4300.1636 - mae: 4300.1636\n",
            "Epoch 68/100\n",
            "34/34 [==============================] - 0s 3ms/step - loss: 4194.4839 - mae: 4194.4839\n",
            "Epoch 69/100\n",
            "34/34 [==============================] - 0s 2ms/step - loss: 4098.2031 - mae: 4098.2031\n",
            "Epoch 70/100\n",
            "34/34 [==============================] - 0s 2ms/step - loss: 4011.2944 - mae: 4011.2944\n",
            "Epoch 71/100\n",
            "34/34 [==============================] - 0s 2ms/step - loss: 3934.1794 - mae: 3934.1794\n",
            "Epoch 72/100\n",
            "34/34 [==============================] - 0s 2ms/step - loss: 3870.3235 - mae: 3870.3235\n",
            "Epoch 73/100\n",
            "34/34 [==============================] - 0s 2ms/step - loss: 3818.9724 - mae: 3818.9724\n",
            "Epoch 74/100\n",
            "34/34 [==============================] - 0s 2ms/step - loss: 3775.4102 - mae: 3775.4102\n",
            "Epoch 75/100\n",
            "34/34 [==============================] - 0s 2ms/step - loss: 3745.4875 - mae: 3745.4875\n",
            "Epoch 76/100\n",
            "34/34 [==============================] - 0s 2ms/step - loss: 3723.9788 - mae: 3723.9788\n",
            "Epoch 77/100\n",
            "34/34 [==============================] - 0s 2ms/step - loss: 3705.6201 - mae: 3705.6201\n",
            "Epoch 78/100\n",
            "34/34 [==============================] - 0s 2ms/step - loss: 3694.5461 - mae: 3694.5461\n",
            "Epoch 79/100\n",
            "34/34 [==============================] - 0s 2ms/step - loss: 3685.8811 - mae: 3685.8811\n",
            "Epoch 80/100\n",
            "34/34 [==============================] - 0s 2ms/step - loss: 3678.6006 - mae: 3678.6006\n",
            "Epoch 81/100\n",
            "34/34 [==============================] - 0s 2ms/step - loss: 3674.2285 - mae: 3674.2285\n",
            "Epoch 82/100\n",
            "34/34 [==============================] - 0s 2ms/step - loss: 3671.8464 - mae: 3671.8464\n",
            "Epoch 83/100\n",
            "34/34 [==============================] - 0s 2ms/step - loss: 3666.8364 - mae: 3666.8364\n",
            "Epoch 84/100\n",
            "34/34 [==============================] - 0s 2ms/step - loss: 3664.3691 - mae: 3664.3691\n",
            "Epoch 85/100\n",
            "34/34 [==============================] - 0s 2ms/step - loss: 3661.6528 - mae: 3661.6528\n",
            "Epoch 86/100\n",
            "34/34 [==============================] - 0s 2ms/step - loss: 3660.1943 - mae: 3660.1943\n",
            "Epoch 87/100\n",
            "34/34 [==============================] - 0s 2ms/step - loss: 3657.4500 - mae: 3657.4500\n",
            "Epoch 88/100\n",
            "34/34 [==============================] - 0s 2ms/step - loss: 3655.3179 - mae: 3655.3179\n",
            "Epoch 89/100\n",
            "34/34 [==============================] - 0s 2ms/step - loss: 3654.3496 - mae: 3654.3496\n",
            "Epoch 90/100\n",
            "34/34 [==============================] - 0s 2ms/step - loss: 3652.2432 - mae: 3652.2432\n",
            "Epoch 91/100\n",
            "34/34 [==============================] - 0s 2ms/step - loss: 3649.1367 - mae: 3649.1367\n",
            "Epoch 92/100\n",
            "34/34 [==============================] - 0s 2ms/step - loss: 3648.5383 - mae: 3648.5383\n",
            "Epoch 93/100\n",
            "34/34 [==============================] - 0s 2ms/step - loss: 3646.2461 - mae: 3646.2461\n",
            "Epoch 94/100\n",
            "34/34 [==============================] - 0s 2ms/step - loss: 3644.5786 - mae: 3644.5786\n",
            "Epoch 95/100\n",
            "34/34 [==============================] - 0s 2ms/step - loss: 3645.5620 - mae: 3645.5620\n",
            "Epoch 96/100\n",
            "34/34 [==============================] - 0s 2ms/step - loss: 3642.6492 - mae: 3642.6492\n",
            "Epoch 97/100\n",
            "34/34 [==============================] - 0s 2ms/step - loss: 3640.0715 - mae: 3640.0715\n",
            "Epoch 98/100\n",
            "34/34 [==============================] - 0s 2ms/step - loss: 3638.0200 - mae: 3638.0200\n",
            "Epoch 99/100\n",
            "34/34 [==============================] - 0s 2ms/step - loss: 3637.4258 - mae: 3637.4258\n",
            "Epoch 100/100\n",
            "34/34 [==============================] - 0s 2ms/step - loss: 3636.0146 - mae: 3636.0146\n"
          ]
        },
        {
          "output_type": "execute_result",
          "data": {
            "text/plain": [
              "<keras.callbacks.History at 0x7faea8c81870>"
            ]
          },
          "metadata": {},
          "execution_count": 93
        }
      ]
    },
    {
      "cell_type": "code",
      "source": [
        "#Evaluate on normalized data\n",
        "\n",
        "insuarance_model_4.evaluate(X_test_normal,y_test)"
      ],
      "metadata": {
        "id": "z1S7MODXz-d6",
        "outputId": "c9b7efec-3d6a-43cf-d50f-54a7cebce2a4",
        "colab": {
          "base_uri": "https://localhost:8080/"
        }
      },
      "execution_count": 94,
      "outputs": [
        {
          "output_type": "stream",
          "name": "stdout",
          "text": [
            "9/9 [==============================] - 0s 3ms/step - loss: 3439.3838 - mae: 3439.3838\n"
          ]
        },
        {
          "output_type": "execute_result",
          "data": {
            "text/plain": [
              "[3439.3837890625, 3439.3837890625]"
            ]
          },
          "metadata": {},
          "execution_count": 94
        }
      ]
    },
    {
      "cell_type": "code",
      "source": [],
      "metadata": {
        "id": "6IXMMWB80J0d",
        "outputId": "a82746c4-620d-478c-eae6-d68ddaecd865",
        "colab": {
          "base_uri": "https://localhost:8080/",
          "height": 341
        }
      },
      "execution_count": 95,
      "outputs": [
        {
          "output_type": "error",
          "ename": "ValueError",
          "evalue": "ignored",
          "traceback": [
            "\u001b[0;31m---------------------------------------------------------------------------\u001b[0m",
            "\u001b[0;31mValueError\u001b[0m                                Traceback (most recent call last)",
            "\u001b[0;32m<ipython-input-95-c815aae87485>\u001b[0m in \u001b[0;36m<cell line: 1>\u001b[0;34m()\u001b[0m\n\u001b[0;32m----> 1\u001b[0;31m \u001b[0minsuarance_model\u001b[0m\u001b[0;34m.\u001b[0m\u001b[0mevaluate\u001b[0m\u001b[0;34m(\u001b[0m\u001b[0mX_test\u001b[0m\u001b[0;34m,\u001b[0m\u001b[0my_test\u001b[0m\u001b[0;34m)\u001b[0m\u001b[0;34m\u001b[0m\u001b[0;34m\u001b[0m\u001b[0m\n\u001b[0m",
            "\u001b[0;32m/usr/local/lib/python3.10/dist-packages/keras/utils/traceback_utils.py\u001b[0m in \u001b[0;36merror_handler\u001b[0;34m(*args, **kwargs)\u001b[0m\n\u001b[1;32m     68\u001b[0m             \u001b[0;31m# To get the full stack trace, call:\u001b[0m\u001b[0;34m\u001b[0m\u001b[0;34m\u001b[0m\u001b[0m\n\u001b[1;32m     69\u001b[0m             \u001b[0;31m# `tf.debugging.disable_traceback_filtering()`\u001b[0m\u001b[0;34m\u001b[0m\u001b[0;34m\u001b[0m\u001b[0m\n\u001b[0;32m---> 70\u001b[0;31m             \u001b[0;32mraise\u001b[0m \u001b[0me\u001b[0m\u001b[0;34m.\u001b[0m\u001b[0mwith_traceback\u001b[0m\u001b[0;34m(\u001b[0m\u001b[0mfiltered_tb\u001b[0m\u001b[0;34m)\u001b[0m \u001b[0;32mfrom\u001b[0m \u001b[0;32mNone\u001b[0m\u001b[0;34m\u001b[0m\u001b[0;34m\u001b[0m\u001b[0m\n\u001b[0m\u001b[1;32m     71\u001b[0m         \u001b[0;32mfinally\u001b[0m\u001b[0;34m:\u001b[0m\u001b[0;34m\u001b[0m\u001b[0;34m\u001b[0m\u001b[0m\n\u001b[1;32m     72\u001b[0m             \u001b[0;32mdel\u001b[0m \u001b[0mfiltered_tb\u001b[0m\u001b[0;34m\u001b[0m\u001b[0;34m\u001b[0m\u001b[0m\n",
            "\u001b[0;32m/usr/local/lib/python3.10/dist-packages/tensorflow/python/framework/constant_op.py\u001b[0m in \u001b[0;36mconvert_to_eager_tensor\u001b[0;34m(value, ctx, dtype)\u001b[0m\n\u001b[1;32m    101\u001b[0m       \u001b[0mdtype\u001b[0m \u001b[0;34m=\u001b[0m \u001b[0mdtypes\u001b[0m\u001b[0;34m.\u001b[0m\u001b[0mas_dtype\u001b[0m\u001b[0;34m(\u001b[0m\u001b[0mdtype\u001b[0m\u001b[0;34m)\u001b[0m\u001b[0;34m.\u001b[0m\u001b[0mas_datatype_enum\u001b[0m\u001b[0;34m\u001b[0m\u001b[0;34m\u001b[0m\u001b[0m\n\u001b[1;32m    102\u001b[0m   \u001b[0mctx\u001b[0m\u001b[0;34m.\u001b[0m\u001b[0mensure_initialized\u001b[0m\u001b[0;34m(\u001b[0m\u001b[0;34m)\u001b[0m\u001b[0;34m\u001b[0m\u001b[0;34m\u001b[0m\u001b[0m\n\u001b[0;32m--> 103\u001b[0;31m   \u001b[0;32mreturn\u001b[0m \u001b[0mops\u001b[0m\u001b[0;34m.\u001b[0m\u001b[0mEagerTensor\u001b[0m\u001b[0;34m(\u001b[0m\u001b[0mvalue\u001b[0m\u001b[0;34m,\u001b[0m \u001b[0mctx\u001b[0m\u001b[0;34m.\u001b[0m\u001b[0mdevice_name\u001b[0m\u001b[0;34m,\u001b[0m \u001b[0mdtype\u001b[0m\u001b[0;34m)\u001b[0m\u001b[0;34m\u001b[0m\u001b[0;34m\u001b[0m\u001b[0m\n\u001b[0m\u001b[1;32m    104\u001b[0m \u001b[0;34m\u001b[0m\u001b[0m\n\u001b[1;32m    105\u001b[0m \u001b[0;34m\u001b[0m\u001b[0m\n",
            "\u001b[0;31mValueError\u001b[0m: Failed to convert a NumPy array to a Tensor (Unsupported object type int)."
          ]
        }
      ]
    },
    {
      "cell_type": "code",
      "source": [],
      "metadata": {
        "id": "epY_dfGV0TUp"
      },
      "execution_count": null,
      "outputs": []
    }
  ]
}