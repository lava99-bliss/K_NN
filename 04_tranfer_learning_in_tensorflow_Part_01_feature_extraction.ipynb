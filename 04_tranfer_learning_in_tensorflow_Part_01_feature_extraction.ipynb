{
  "nbformat": 4,
  "nbformat_minor": 0,
  "metadata": {
    "colab": {
      "provenance": [],
      "gpuType": "T4",
      "authorship_tag": "ABX9TyOE2uSADy7gaha+Ast0Hp5x",
      "include_colab_link": true
    },
    "kernelspec": {
      "name": "python3",
      "display_name": "Python 3"
    },
    "language_info": {
      "name": "python"
    },
    "accelerator": "GPU"
  },
  "cells": [
    {
      "cell_type": "markdown",
      "metadata": {
        "id": "view-in-github",
        "colab_type": "text"
      },
      "source": [
        "<a href=\"https://colab.research.google.com/github/lava99-bliss/Tensorflow/blob/main/04_tranfer_learning_in_tensorflow_Part_01_feature_extraction.ipynb\" target=\"_parent\"><img src=\"https://colab.research.google.com/assets/colab-badge.svg\" alt=\"Open In Colab\"/></a>"
      ]
    },
    {
      "cell_type": "markdown",
      "source": [
        "**Transfer learning**\n",
        "\n",
        "taking the patterns (also called weights) another model has learned from another problem and using them for our own problem.\n",
        "\n",
        "There are two main benefits to using transfer learning:\n",
        "\n",
        "1.  Can leverage an existing neural network architecture proven to work on problems similar to our own.\n",
        "2.  Can leverage a working neural network architecture which has already learned patterns on similar data to our own. This often results in achieving great results with less custom data.\n",
        "\n",
        "\n",
        "\n",
        "Here, we only use 10% training data.(75)"
      ],
      "metadata": {
        "id": "HMNFBB8LH_C1"
      }
    },
    {
      "cell_type": "code",
      "execution_count": 23,
      "metadata": {
        "colab": {
          "base_uri": "https://localhost:8080/"
        },
        "id": "F8M3NJ-A3NU1",
        "outputId": "bd8f4b32-85b8-4975-c279-20638fd884f9"
      },
      "outputs": [
        {
          "output_type": "stream",
          "name": "stdout",
          "text": [
            "Fri Jul 14 13:37:00 2023       \n",
            "+-----------------------------------------------------------------------------+\n",
            "| NVIDIA-SMI 525.105.17   Driver Version: 525.105.17   CUDA Version: 12.0     |\n",
            "|-------------------------------+----------------------+----------------------+\n",
            "| GPU  Name        Persistence-M| Bus-Id        Disp.A | Volatile Uncorr. ECC |\n",
            "| Fan  Temp  Perf  Pwr:Usage/Cap|         Memory-Usage | GPU-Util  Compute M. |\n",
            "|                               |                      |               MIG M. |\n",
            "|===============================+======================+======================|\n",
            "|   0  Tesla T4            Off  | 00000000:00:04.0 Off |                    0 |\n",
            "| N/A   67C    P0    32W /  70W |   4931MiB / 15360MiB |      0%      Default |\n",
            "|                               |                      |                  N/A |\n",
            "+-------------------------------+----------------------+----------------------+\n",
            "                                                                               \n",
            "+-----------------------------------------------------------------------------+\n",
            "| Processes:                                                                  |\n",
            "|  GPU   GI   CI        PID   Type   Process name                  GPU Memory |\n",
            "|        ID   ID                                                   Usage      |\n",
            "|=============================================================================|\n",
            "+-----------------------------------------------------------------------------+\n"
          ]
        }
      ],
      "source": [
        "#Are we using a GPU\n",
        "!nvidia-smi\n",
        "#GPU -Tesla T4"
      ]
    },
    {
      "cell_type": "code",
      "source": [
        "#Get data\n",
        "import zipfile\n",
        "\n",
        "#download data\n",
        "!wget https://storage.googleapis.com/ztm_tf_course/food_vision/10_food_classes_10_percent.zip\n",
        "\n",
        "#unzip\n",
        "zip_ref=zipfile.ZipFile(\"10_food_classes_10_percent.zip\")\n",
        "zip_ref.extractall()\n",
        "zip_ref.close()"
      ],
      "metadata": {
        "colab": {
          "base_uri": "https://localhost:8080/"
        },
        "id": "i14o8DycH_O2",
        "outputId": "06df39f6-fd64-45fa-c9fc-f000f5a22f0b"
      },
      "execution_count": 24,
      "outputs": [
        {
          "output_type": "stream",
          "name": "stdout",
          "text": [
            "--2023-07-14 13:37:01--  https://storage.googleapis.com/ztm_tf_course/food_vision/10_food_classes_10_percent.zip\n",
            "Resolving storage.googleapis.com (storage.googleapis.com)... 173.194.195.128, 173.194.196.128, 173.194.197.128, ...\n",
            "Connecting to storage.googleapis.com (storage.googleapis.com)|173.194.195.128|:443... connected.\n",
            "HTTP request sent, awaiting response... 200 OK\n",
            "Length: 168546183 (161M) [application/zip]\n",
            "Saving to: ‘10_food_classes_10_percent.zip.1’\n",
            "\n",
            "10_food_classes_10_ 100%[===================>] 160.74M   116MB/s    in 1.4s    \n",
            "\n",
            "2023-07-14 13:37:02 (116 MB/s) - ‘10_food_classes_10_percent.zip.1’ saved [168546183/168546183]\n",
            "\n"
          ]
        }
      ]
    },
    {
      "cell_type": "code",
      "source": [
        "#how many images in each folder\n",
        "import os\n",
        "\n",
        "for dirpath,dirnames,filenames in os.walk(\"10_food_classes_10_percent\"):\n",
        "  print(f\"There are {len(dirnames)} diectories and {len(filenames)} images in '{dirpath}\")"
      ],
      "metadata": {
        "colab": {
          "base_uri": "https://localhost:8080/"
        },
        "id": "38VehD1RJWg_",
        "outputId": "d9059e95-4fbe-4986-ed53-376a8441adb2"
      },
      "execution_count": 25,
      "outputs": [
        {
          "output_type": "stream",
          "name": "stdout",
          "text": [
            "There are 2 diectories and 0 images in '10_food_classes_10_percent\n",
            "There are 10 diectories and 0 images in '10_food_classes_10_percent/test\n",
            "There are 0 diectories and 250 images in '10_food_classes_10_percent/test/ice_cream\n",
            "There are 0 diectories and 250 images in '10_food_classes_10_percent/test/chicken_curry\n",
            "There are 0 diectories and 250 images in '10_food_classes_10_percent/test/hamburger\n",
            "There are 0 diectories and 250 images in '10_food_classes_10_percent/test/pizza\n",
            "There are 0 diectories and 250 images in '10_food_classes_10_percent/test/ramen\n",
            "There are 0 diectories and 250 images in '10_food_classes_10_percent/test/sushi\n",
            "There are 0 diectories and 250 images in '10_food_classes_10_percent/test/fried_rice\n",
            "There are 0 diectories and 250 images in '10_food_classes_10_percent/test/chicken_wings\n",
            "There are 0 diectories and 250 images in '10_food_classes_10_percent/test/steak\n",
            "There are 0 diectories and 250 images in '10_food_classes_10_percent/test/grilled_salmon\n",
            "There are 10 diectories and 0 images in '10_food_classes_10_percent/train\n",
            "There are 0 diectories and 75 images in '10_food_classes_10_percent/train/ice_cream\n",
            "There are 0 diectories and 75 images in '10_food_classes_10_percent/train/chicken_curry\n",
            "There are 0 diectories and 75 images in '10_food_classes_10_percent/train/hamburger\n",
            "There are 0 diectories and 75 images in '10_food_classes_10_percent/train/pizza\n",
            "There are 0 diectories and 75 images in '10_food_classes_10_percent/train/ramen\n",
            "There are 0 diectories and 75 images in '10_food_classes_10_percent/train/sushi\n",
            "There are 0 diectories and 75 images in '10_food_classes_10_percent/train/fried_rice\n",
            "There are 0 diectories and 75 images in '10_food_classes_10_percent/train/chicken_wings\n",
            "There are 0 diectories and 75 images in '10_food_classes_10_percent/train/steak\n",
            "There are 0 diectories and 75 images in '10_food_classes_10_percent/train/grilled_salmon\n"
          ]
        }
      ]
    },
    {
      "cell_type": "markdown",
      "source": [
        "#Creting data loaders(preparing data)\n",
        "###we'll use ImageDataGenerator class to load in our imgs into batches\n",
        "\n"
      ],
      "metadata": {
        "id": "DT-JaI0UK-l_"
      }
    },
    {
      "cell_type": "code",
      "source": [
        "from tensorflow.keras.preprocessing.image import ImageDataGenerator\n",
        "\n",
        "IMAGE_SHAPE=(224,224)\n",
        "BATCH_SIZE=32\n",
        "\n",
        "train_dir='10_food_classes_10_percent/train/'\n",
        "test_dir='10_food_classes_10_percent/test/'\n",
        "\n",
        "train_datagen=ImageDataGenerator(rescale=1/225.)\n",
        "test_datagen=ImageDataGenerator(rescale=1/225.)\n",
        "\n",
        "#augmented data set\n",
        "print(\"Training images:\")\n",
        "train_data_10_percent= train_datagen.flow_from_directory(train_dir,\n",
        "                                                         target_size=IMAGE_SHAPE,\n",
        "                                                         batch_size=BATCH_SIZE,\n",
        "                                                         class_mode=\"categorical\")\n",
        "\n",
        "print(\"Testing images:\")\n",
        "test_data_10_percent= train_datagen.flow_from_directory(test_dir,\n",
        "                                                         target_size=IMAGE_SHAPE,\n",
        "                                                         batch_size=BATCH_SIZE,\n",
        "                                                         class_mode=\"categorical\")\n"
      ],
      "metadata": {
        "colab": {
          "base_uri": "https://localhost:8080/"
        },
        "id": "_YUQnrytMcNV",
        "outputId": "67d50607-98cd-4583-9bc1-0f4ad70de8da"
      },
      "execution_count": 26,
      "outputs": [
        {
          "output_type": "stream",
          "name": "stdout",
          "text": [
            "Training images:\n",
            "Found 750 images belonging to 10 classes.\n",
            "Testing images:\n",
            "Found 2500 images belonging to 10 classes.\n"
          ]
        }
      ]
    },
    {
      "cell_type": "markdown",
      "source": [
        "#setting up callbacks\n",
        "\n",
        "Callbacks are extra functionality you can add to your models to be performed during or after training. Some of the most popular callbacks include:\n",
        "\n",
        "Experiment tracking with,\n",
        "1.   TensorBoard - log the performance of multiple models and then view and compare these models in a visual way on TensorBoard (a dashboard for inspecting neural network parameters). Helpful to compare the results of different models on your data.\n",
        "2.   Model checkpointing - save your model as it trains so you can stop training if needed and come back to continue off where you left. Helpful if training takes a long time and can't be done in one sitting.\n",
        "3.   Early stopping - leave your model training for an arbitrary amount of time and have it stop training automatically when it ceases to improve. Helpful when you've got a large dataset and don't know how long training will take.\n",
        "We'll explore each of these overtime but for this notebook, we'll see how the TensorBoard callback can be used."
      ],
      "metadata": {
        "id": "JbkWq0Vgcq4n"
      }
    },
    {
      "cell_type": "code",
      "source": [
        "#create TensorBoard callback (functionalized becue we need to create a new one for each model)\\\n",
        "import datetime\n",
        "\n",
        "def create_tensorboard_callback(dir_name,experiment_name):\n",
        "  log_dir=dir_name+\"/\"+experiment_name+\"/\"+datetime.datetime.now().strftime(\"%Y%m%d-%H%M%S\")\n",
        "  tensorboard_callback=tf.keras.callbacks.TensorBoard(log_dir=log_dir)\n",
        "  print(f\"Saving tensorboard log files to :{log_dir}\")\n",
        "  return tensorboard_callback"
      ],
      "metadata": {
        "id": "ofLvIz_iN3dd"
      },
      "execution_count": 27,
      "outputs": []
    },
    {
      "cell_type": "markdown",
      "source": [
        "#Creating models using TensorFlow Hub\n",
        "\n",
        "In the past we've used TensorFlow to create our own models layer by layer from scratch.\n",
        "\n",
        "Now we're going to do a similar process, except the majority of our model's layers are going to come from TensorFlow Hub.\n",
        "\n",
        "In fact, we're going to use two models from TensorFlow Hub:"
      ],
      "metadata": {
        "id": "3R9-_F9EgoXm"
      }
    },
    {
      "cell_type": "markdown",
      "source": [
        "In fact, we're going to use two models from TensorFlow Hub:\n",
        "\n",
        "ResNetV2 - a state of the art computer vision model architecture from 2016.\n",
        "EfficientNet - a state of the art computer vision architecture from 2019.\n",
        "State of the art means that at some point, both of these models have achieved the lowest error rate on ImageNet (ILSVRC-2012-CLS), the gold standard of computer vision benchmarks.\n",
        "\n",
        "You might be wondering, how do you find these models on TensorFlow Hub?\n",
        "\n",
        "Here are the steps I took:\n",
        "\n",
        "Go to tfhub.dev.\n",
        "Choose your problem domain, e.g. \"Image\" (we're using food images).\n",
        "Select your TF version, which in our case is TF2.\n",
        "Remove all \"Problem domanin\" filters except for the problem you're working on.\n",
        "Note: \"Image feature vector\" can be used alongside almost any problem, we'll get to this soon.\n",
        "The models listed are all models which could potentially be used for your problem."
      ],
      "metadata": {
        "id": "vq4uf-VaY4SA"
      }
    },
    {
      "cell_type": "markdown",
      "source": [
        "#Let's compare two models"
      ],
      "metadata": {
        "id": "7_zFPfvgWFuw"
      }
    },
    {
      "cell_type": "code",
      "source": [
        "# Resnet 50 V2 feature vector\n",
        "resnet_url = \"https://tfhub.dev/google/imagenet/resnet_v2_50/feature_vector/4\"\n",
        "\n",
        "# Original: EfficientNetB0 feature vector (version 1)\n",
        "efficientnet_url = \"https://tfhub.dev/tensorflow/efficientnet/b0/feature-vector/1\"\n"
      ],
      "metadata": {
        "id": "e3ajiL3ogRoA"
      },
      "execution_count": 28,
      "outputs": []
    },
    {
      "cell_type": "code",
      "source": [
        "\n",
        "import tensorflow as tf\n",
        "import tensorflow_hub as hub\n",
        "from tensorflow.keras import layers"
      ],
      "metadata": {
        "id": "q0nk6N9SV0Uh"
      },
      "execution_count": 29,
      "outputs": []
    },
    {
      "cell_type": "code",
      "source": [
        "IMAGE_SHAPE + (3,)"
      ],
      "metadata": {
        "colab": {
          "base_uri": "https://localhost:8080/"
        },
        "id": "rXkQtuARavb4",
        "outputId": "e0da2d13-1fd2-4b00-d4ba-8d5d951266ad"
      },
      "execution_count": 30,
      "outputs": [
        {
          "output_type": "execute_result",
          "data": {
            "text/plain": [
              "(224, 224, 3)"
            ]
          },
          "metadata": {},
          "execution_count": 30
        }
      ]
    },
    {
      "cell_type": "code",
      "source": [
        "#create_model() to create a model from URL\n",
        "\n",
        "\"\"\"\n",
        "  takes Tensorflow_hub url and create a seq model.\n",
        "\n",
        "  Args:\n",
        "    model_url - tensoflow hub feature extrction url\n",
        "    num_classes - no of output neurons in utput layer\n",
        "\n",
        "  Returns:\n",
        "    An uncompiled keras seq model with model_url as feature extractor layer and dense output layer with num_classes output neurons\n",
        "\n",
        "\"\"\"\n",
        "\n",
        "def create_model(model_url,num_classes=10):\n",
        "\n",
        "#download pretrained model and save it as a keras layer\n",
        "  feature_extractor_layer = hub.KerasLayer(model_url,\n",
        "                                           trainable=False, # freeze the underlying patterns\n",
        "                                           name='feature_extraction_layer',\n",
        "                                           input_shape=IMAGE_SHAPE+(3,)) # define the input image shape\n",
        "\n",
        "  # Create our own model\n",
        "  model = tf.keras.Sequential([\n",
        "    feature_extractor_layer, # use the feature extraction layer as the base\n",
        "    layers.Dense(num_classes, activation='softmax', name='output_layer') # create our own output layer\n",
        "  ])\n",
        "\n",
        "  return model\n"
      ],
      "metadata": {
        "id": "MyuASKZpV9gv"
      },
      "execution_count": 31,
      "outputs": []
    },
    {
      "cell_type": "code",
      "source": [
        "\n",
        "#Create resnet_model model\n",
        "resnet_model = create_model(resnet_url, num_classes=train_data_10_percent.num_classes)\n"
      ],
      "metadata": {
        "id": "q-KgTVCCbXhM"
      },
      "execution_count": 32,
      "outputs": []
    },
    {
      "cell_type": "code",
      "source": [
        "resnet_model.summary()"
      ],
      "metadata": {
        "colab": {
          "base_uri": "https://localhost:8080/"
        },
        "id": "o9jYCYNacu4y",
        "outputId": "4b6ba82c-cec3-4c37-d8d8-2c2bb2a2aca0"
      },
      "execution_count": 33,
      "outputs": [
        {
          "output_type": "stream",
          "name": "stdout",
          "text": [
            "Model: \"sequential_2\"\n",
            "_________________________________________________________________\n",
            " Layer (type)                Output Shape              Param #   \n",
            "=================================================================\n",
            " feature_extraction_layer (K  (None, 2048)             23564800  \n",
            " erasLayer)                                                      \n",
            "                                                                 \n",
            " output_layer (Dense)        (None, 10)                20490     \n",
            "                                                                 \n",
            "=================================================================\n",
            "Total params: 23,585,290\n",
            "Trainable params: 20,490\n",
            "Non-trainable params: 23,564,800\n",
            "_________________________________________________________________\n"
          ]
        }
      ]
    },
    {
      "cell_type": "code",
      "source": [
        "#compile resnet_model\n",
        "resnet_model.compile(loss=\"categorical_crossentropy\",\n",
        "                     optimizer=tf.keras.optimizers.Adam(),\n",
        "                     metrics=[\"Accuracy\"])"
      ],
      "metadata": {
        "id": "In80hqLxeOVe"
      },
      "execution_count": 34,
      "outputs": []
    },
    {
      "cell_type": "code",
      "source": [
        "# Fit the model\n",
        "resnet_history = resnet_model.fit(train_data_10_percent,\n",
        "                                  epochs=5,\n",
        "                                  steps_per_epoch=len(train_data_10_percent),\n",
        "                                  validation_data=test_data_10_percent,\n",
        "                                  validation_steps=len(test_data_10_percent),\n",
        "                                  # Add TensorBoard callback to model (callbacks parameter takes a list)\n",
        "                                  callbacks=[create_tensorboard_callback(dir_name=\"tensorflow_hub\", # save experiment logs here\n",
        "                                                                         experiment_name=\"resnet50V2\")]) # name of log files\n"
      ],
      "metadata": {
        "colab": {
          "base_uri": "https://localhost:8080/"
        },
        "id": "pspYffq3eccd",
        "outputId": "15390b9e-3e85-4e85-8aba-de0e4c1e46b4"
      },
      "execution_count": 35,
      "outputs": [
        {
          "output_type": "stream",
          "name": "stdout",
          "text": [
            "Saving tensorboard log files to :tensorflow_hub/resnet50V2/20230714-133708\n",
            "Epoch 1/5\n",
            "24/24 [==============================] - 23s 786ms/step - loss: 2.0860 - Accuracy: 0.2987 - val_loss: 1.2673 - val_Accuracy: 0.6168\n",
            "Epoch 2/5\n",
            "24/24 [==============================] - 18s 776ms/step - loss: 0.9614 - Accuracy: 0.7187 - val_loss: 0.9112 - val_Accuracy: 0.7068\n",
            "Epoch 3/5\n",
            "24/24 [==============================] - 18s 761ms/step - loss: 0.6607 - Accuracy: 0.8133 - val_loss: 0.7893 - val_Accuracy: 0.7476\n",
            "Epoch 4/5\n",
            "24/24 [==============================] - 20s 853ms/step - loss: 0.5094 - Accuracy: 0.8733 - val_loss: 0.7255 - val_Accuracy: 0.7744\n",
            "Epoch 5/5\n",
            "24/24 [==============================] - 18s 754ms/step - loss: 0.3952 - Accuracy: 0.9093 - val_loss: 0.7022 - val_Accuracy: 0.7740\n"
          ]
        }
      ]
    },
    {
      "cell_type": "markdown",
      "source": [
        "Wow!\n",
        "\n",
        "It seems that after only 5 epochs, the ResNetV250 feature extraction model was able to blow any of the architectures we made out of the water, achieving around 90% accuracy on the training set and nearly 80% accuracy on the test set...**with only 10 percent of the training images!**\n",
        "\n",
        "That goes to show the power of transfer learning. And it's one of the main reasons whenever you're trying to model your own datasets, you should look into what pretrained models already exist.\n",
        "\n",
        "Let's check out our model's training curves using our plot_loss_curves function."
      ],
      "metadata": {
        "id": "tJHQRcOqnhVk"
      }
    },
    {
      "cell_type": "code",
      "source": [
        "# If you wanted to, you could really turn this into a helper function to load in with a helper.py script...\n",
        "import matplotlib.pyplot as plt\n",
        "\n",
        "# Plot the validation and training data separately\n",
        "def plot_loss_curves(history):\n",
        "  \"\"\"\n",
        "  Returns separate loss curves for training and validation metrics.\n",
        "  \"\"\"\n",
        "  loss = history.history['loss']\n",
        "  val_loss = history.history['val_loss']\n",
        "\n",
        "  accuracy = history.history['Accuracy']\n",
        "  val_accuracy = history.history['val_Accuracy']\n",
        "\n",
        "  epochs = range(len(history.history['loss']))\n",
        "\n",
        "  # Plot loss\n",
        "  plt.plot(epochs, loss, label='training_loss')\n",
        "  plt.plot(epochs, val_loss, label='val_loss')\n",
        "  plt.title('Loss')\n",
        "  plt.xlabel('Epochs')\n",
        "  plt.legend()\n",
        "\n",
        "  # Plot accuracy\n",
        "  plt.figure()\n",
        "  plt.plot(epochs, accuracy, label='training_accuracy')\n",
        "  plt.plot(epochs, val_accuracy, label='val_Accuracy')\n",
        "  plt.title('Accuracy')\n",
        "  plt.xlabel('Epochs')\n",
        "  plt.legend();"
      ],
      "metadata": {
        "id": "nTUsDzQofrXF"
      },
      "execution_count": 36,
      "outputs": []
    },
    {
      "cell_type": "code",
      "source": [
        "plot_loss_curves(resnet_history)"
      ],
      "metadata": {
        "colab": {
          "base_uri": "https://localhost:8080/",
          "height": 927
        },
        "id": "ZXHuPJZk2y45",
        "outputId": "84d2790e-0b22-4920-9482-019133d8f4b5"
      },
      "execution_count": 37,
      "outputs": [
        {
          "output_type": "display_data",
          "data": {
            "text/plain": [
              "<Figure size 640x480 with 1 Axes>"
            ],
            "image/png": "[encoded data removed]"
          },
          "metadata": {}
        },
        {
          "output_type": "display_data",
          "data": {
            "text/plain": [
              "<Figure size 640x480 with 1 Axes>"
            ],
            "image/png": "[encoded data removed]"
          },
          "metadata": {}
        }
      ]
    },
    {
      "cell_type": "code",
      "source": [
        "resnet_model.metrics_names\n"
      ],
      "metadata": {
        "id": "L-hj4o6Q25fM",
        "colab": {
          "base_uri": "https://localhost:8080/"
        },
        "outputId": "07d5aabb-332d-4700-d9e0-aece20e7c91d"
      },
      "execution_count": 38,
      "outputs": [
        {
          "output_type": "execute_result",
          "data": {
            "text/plain": [
              "['loss', 'Accuracy']"
            ]
          },
          "metadata": {},
          "execution_count": 38
        }
      ]
    },
    {
      "cell_type": "markdown",
      "source": [
        "##Creating and testing EfficientNetB0 Tensorflow Hub feature Extraction model"
      ],
      "metadata": {
        "id": "x-O-eMQWeHQ6"
      }
    },
    {
      "cell_type": "code",
      "source": [
        "\n",
        "#Create EfficientNetB0 model\n",
        "efficientnet_model = create_model(efficientnet_url, num_classes=train_data_10_percent.num_classes)\n",
        "\n",
        "#compile\n",
        "efficientnet_model.compile(loss=\"categorical_crossentropy\",\n",
        "                          optimizer=tf.keras.optimizers.Adam(),\n",
        "                          metrics=[\"Accuracy\"])\n",
        "\n",
        "# Fit the model\n",
        "efficientnet_history = efficientnet_model.fit(train_data_10_percent,\n",
        "                                  epochs=5,\n",
        "                                  steps_per_epoch=len(train_data_10_percent),\n",
        "                                  validation_data=test_data_10_percent,\n",
        "                                  validation_steps=len(test_data_10_percent),\n",
        "                                  # Add TensorBoard callback to model (callbacks parameter takes a list)\n",
        "                                  callbacks=[create_tensorboard_callback(dir_name=\"tensorflow_hub\", # save experiment logs here\n",
        "                                                                         experiment_name=\"efficientnetb0\")]) # name of log files\n"
      ],
      "metadata": {
        "colab": {
          "base_uri": "https://localhost:8080/"
        },
        "id": "i9kY0wbZenV5",
        "outputId": "dad6545f-10cf-48c2-f7b0-ed7b0cb464a4"
      },
      "execution_count": 41,
      "outputs": [
        {
          "output_type": "stream",
          "name": "stdout",
          "text": [
            "Saving tensorboard log files to :tensorflow_hub/efficientnetb0/20230714-134121\n",
            "Epoch 1/5\n",
            "24/24 [==============================] - 38s 1s/step - loss: 1.9184 - Accuracy: 0.3573 - val_loss: 1.3418 - val_Accuracy: 0.6944\n",
            "Epoch 2/5\n",
            "24/24 [==============================] - 24s 1s/step - loss: 1.1194 - Accuracy: 0.7507 - val_loss: 0.9116 - val_Accuracy: 0.7980\n",
            "Epoch 3/5\n",
            "24/24 [==============================] - 24s 1s/step - loss: 0.7999 - Accuracy: 0.8200 - val_loss: 0.7320 - val_Accuracy: 0.8312\n",
            "Epoch 4/5\n",
            "24/24 [==============================] - 17s 728ms/step - loss: 0.6385 - Accuracy: 0.8560 - val_loss: 0.6408 - val_Accuracy: 0.8464\n",
            "Epoch 5/5\n",
            "24/24 [==============================] - 17s 726ms/step - loss: 0.5375 - Accuracy: 0.8827 - val_loss: 0.5818 - val_Accuracy: 0.8544\n"
          ]
        }
      ]
    },
    {
      "cell_type": "code",
      "source": [
        "plot_loss_curves(efficientnet_history)"
      ],
      "metadata": {
        "colab": {
          "base_uri": "https://localhost:8080/",
          "height": 927
        },
        "id": "DMdJ3NsRfyIE",
        "outputId": "b423f16d-1d3d-4b6b-b813-1354686b8d23"
      },
      "execution_count": 42,
      "outputs": [
        {
          "output_type": "display_data",
          "data": {
            "text/plain": [
              "<Figure size 640x480 with 1 Axes>"
            ],
            "image/png": "[encoded data removed]"
          },
          "metadata": {}
        },
        {
          "output_type": "display_data",
          "data": {
            "text/plain": [
              "<Figure size 640x480 with 1 Axes>"
            ],
            "image/png": "[encoded data removed]"
          },
          "metadata": {}
        }
      ]
    },
    {
      "cell_type": "markdown",
      "source": [
        "Great observation. This is where the differnet types of transfer learning come into play, as is, feature extraction and fine-tuning.\n",
        "\n",
        "1. \"As is\" transfer learning is when you take a pretrained model as it is and apply it to your task without any changes.\n",
        "For example, many computer vision models are pretrained on the ImageNet dataset which contains 1000 different classes of images. This means passing a single image to this model will produce 1000 different prediction probability values (1 for each class).\n",
        "\n",
        "This is helpful if you have 1000 classes of image you'd like to classify and they're all the same as the ImageNet classes, however, it's not helpful if you want to classify only a small subset of classes (such as 10 different kinds of food). Model's with \"/classification\" in their name on TensorFlow Hub provide this kind of functionality.\n",
        "\n",
        "2. Feature extraction transfer learning is when you take the underlying patterns (also called weights) a pretrained model has learned and adjust its outputs to be more suited to your problem.\n",
        "For example, say the pretrained model you were using had 236 different layers (EfficientNetB0 has 236 layers), but the top layer outputs 1000 classes because it was pretrained on ImageNet. To adjust this to your own problem, you might remove the original activation layer and replace it with your own but with the right number of output classes. The important part here is that only the top few layers become trainable, the rest remain frozen.\n",
        "\n",
        "This way all the underlying patterns remain in the rest of the layers and you can utilise them for your own problem. This kind of transfer learning is very helpful when your data is similar to the data a model has been pretrained on.\n",
        "\n",
        "3. Fine-tuning transfer learning is when you take the underlying patterns (also called weights) of a pretrained model and adjust (fine-tune) them to your own problem.\n",
        "\n",
        "This usually means training some, many or all of the layers in the pretrained model. This is useful when you've got a large dataset (e.g. 100+ images per class) where your data is slightly different to the data the original model was trained on."
      ],
      "metadata": {
        "id": "B5J7_XGTrpI4"
      }
    },
    {
      "cell_type": "markdown",
      "source": [
        "#Compare models using TensorBoard"
      ],
      "metadata": {
        "id": "g8swgSvwnkcj"
      }
    },
    {
      "cell_type": "markdown",
      "source": [
        "To upload a series of TensorFlow logs to TensorBoard, we can use the following command:\n",
        "\n",
        "Upload TensorBoard dev records\n",
        "\n",
        "!tensorboard dev upload --logdir ./tensorflow_hub/ \\\n",
        "  --name \"EfficientNetB0 vs. ResNet50V2\" \\\n",
        "  --description \"Comparing two different TF Hub feature extraction models architectures using 10% of training images\" \\\n",
        "  --one_shot\n",
        "Where:\n",
        "\n",
        "--logdir is the target upload directory\n",
        "--name is the name of the experiment\n",
        "--description is a brief description of the experiment\n",
        "--one_shot exits the TensorBoard uploader once uploading is finished\n",
        "Running the tensorboard dev upload command will first ask you to authorize the upload to TensorBoard.dev. After you've authorized the upload, your log files will be uploaded."
      ],
      "metadata": {
        "id": "K7u2qPw5s6IY"
      }
    },
    {
      "cell_type": "code",
      "source": [
        "# Upload TensorBoard dev records\n",
        "!tensorboard dev upload --logdir ./tensorflow_hub/ \\\n",
        "  --name \"EfficientNetB0 vs. ResNet50V2\" \\\n",
        "  --description \"Comparing two different TF Hub feature extraction models architectures using 10% of training images\" \\\n",
        "  --one_shot"
      ],
      "metadata": {
        "colab": {
          "base_uri": "https://localhost:8080/"
        },
        "id": "4XDQG20isLEK",
        "outputId": "9fdfb32a-8bf0-49cf-f696-5e484603eb57"
      },
      "execution_count": 43,
      "outputs": [
        {
          "output_type": "stream",
          "name": "stdout",
          "text": [
            "2023-07-14 14:01:01.065944: W tensorflow/compiler/tf2tensorrt/utils/py_utils.cc:38] TF-TRT Warning: Could not find TensorRT\n",
            "\n",
            "***** TensorBoard Uploader *****\n",
            "\n",
            "This will upload your TensorBoard logs to https://tensorboard.dev/ from\n",
            "the following directory:\n",
            "\n",
            "./tensorflow_hub/\n",
            "\n",
            "This TensorBoard will be visible to everyone. Do not upload sensitive\n",
            "data.\n",
            "\n",
            "Your use of this service is subject to Google's Terms of Service\n",
            "<https://policies.google.com/terms> and Privacy Policy\n",
            "<https://policies.google.com/privacy>, and TensorBoard.dev's Terms of Service\n",
            "<https://tensorboard.dev/policy/terms/>.\n",
            "\n",
            "This notice will not be shown again while you are logged into the uploader.\n",
            "To log out, run `tensorboard dev auth revoke`.\n",
            "\n",
            "Continue? (yes/NO) yes\n",
            "\n",
            "To sign in with the TensorBoard uploader:\n",
            "\n",
            "1. On your computer or phone, visit:\n",
            "\n",
            "   https://www.google.com/device\n",
            "\n",
            "2. Sign in with your Google account, then enter:\n",
            "\n",
            "   LLQ-PQC-WXQ\n",
            "\n",
            "\n",
            "\n",
            "New experiment created. View your TensorBoard at: https://tensorboard.dev/experiment/8g73IbAFQgupLLuxvE4jVQ/\n",
            "\n",
            "\u001b[1m[2023-07-14T14:03:04]\u001b[0m Started scanning logdir.\n",
            "\u001b[1m[2023-07-14T14:03:09]\u001b[0m Total uploaded: 150 scalars, 0 tensors, 5 binary objects (11.0 MB)\n",
            "\u001b[1m[2023-07-14T14:03:09]\u001b[0m Done scanning logdir.\n",
            "\n",
            "\n",
            "Done. View your TensorBoard at https://tensorboard.dev/experiment/8g73IbAFQgupLLuxvE4jVQ/\n"
          ]
        }
      ]
    },
    {
      "cell_type": "markdown",
      "source": [
        "###Tensoboard chart link -  https://tensorboard.dev/experiment/8g73IbAFQgupLLuxvE4jVQ/"
      ],
      "metadata": {
        "id": "-PFMKbDvtGgf"
      }
    },
    {
      "cell_type": "code",
      "source": [
        "#check the details on tensorboard\n",
        "\n",
        "!tensorboard dev list"
      ],
      "metadata": {
        "colab": {
          "base_uri": "https://localhost:8080/"
        },
        "id": "OuYw-OkytNFv",
        "outputId": "0f008703-251c-4661-98f2-8ac8da9370bb"
      },
      "execution_count": 46,
      "outputs": [
        {
          "output_type": "stream",
          "name": "stdout",
          "text": [
            "2023-07-14 14:07:28.405954: W tensorflow/compiler/tf2tensorrt/utils/py_utils.cc:38] TF-TRT Warning: Could not find TensorRT\n",
            "https://tensorboard.dev/experiment/8g73IbAFQgupLLuxvE4jVQ/\n",
            "\tName                 EfficientNetB0 vs. ResNet50V2\n",
            "\tDescription          Comparing two different TF Hub feature extraction models architectures using 10% of training images\n",
            "\tId                   8g73IbAFQgupLLuxvE4jVQ\n",
            "\tCreated              2023-07-14 14:03:04 (4 minutes ago)\n",
            "\tUpdated              2023-07-14 14:03:09 (4 minutes ago)\n",
            "\tRuns                 10\n",
            "\tTags                 5\n",
            "\tScalars              150\n",
            "\tTensor bytes         0\n",
            "\tBinary object bytes  11490212\n",
            "Total: 1 experiment(s)\n"
          ]
        }
      ]
    },
    {
      "cell_type": "code",
      "source": [
        "#delete an experiment\n",
        "!tensorboard dev delete --experiment_id 8g73IbAFQgupLLuxvE4jVQ"
      ],
      "metadata": {
        "colab": {
          "base_uri": "https://localhost:8080/"
        },
        "id": "m3rrNFaTulXu",
        "outputId": "08bff45e-a129-4c21-8bd8-d78fc70e231e"
      },
      "execution_count": 47,
      "outputs": [
        {
          "output_type": "stream",
          "name": "stdout",
          "text": [
            "2023-07-14 14:08:37.437096: W tensorflow/compiler/tf2tensorrt/utils/py_utils.cc:38] TF-TRT Warning: Could not find TensorRT\n",
            "Deleted experiment 8g73IbAFQgupLLuxvE4jVQ.\n"
          ]
        }
      ]
    },
    {
      "cell_type": "code",
      "source": [
        "#confirm deletion\n",
        "!tensorboard dev list"
      ],
      "metadata": {
        "colab": {
          "base_uri": "https://localhost:8080/"
        },
        "id": "ub8fEfbFu2Oc",
        "outputId": "f8aea305-5c8b-46f2-96c3-7c151b8c1dda"
      },
      "execution_count": 48,
      "outputs": [
        {
          "output_type": "stream",
          "name": "stdout",
          "text": [
            "2023-07-14 14:08:59.881339: W tensorflow/compiler/tf2tensorrt/utils/py_utils.cc:38] TF-TRT Warning: Could not find TensorRT\n",
            "No experiments. Use `tensorboard dev upload` to get started.\n"
          ]
        }
      ]
    },
    {
      "cell_type": "code",
      "source": [],
      "metadata": {
        "id": "Pf9ogfOku7qM"
      },
      "execution_count": null,
      "outputs": []
    }
  ]
}